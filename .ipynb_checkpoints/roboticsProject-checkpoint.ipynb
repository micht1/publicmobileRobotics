{
 "cells": [
  {
   "cell_type": "markdown",
   "metadata": {
    "toc": true
   },
   "source": [
    "<h1>Table of Contents<span class=\"tocSkip\"></span></h1>\n",
<<<<<<< HEAD
    "<div class=\"toc\"><ul class=\"toc-item\"><li><span><a href=\"#Thymio-Project\" data-toc-modified-id=\"Thymio-Project-1\"><span class=\"toc-item-num\">1&nbsp;&nbsp;</span>Thymio Project</a></span></li><li><span><a href=\"#Complete-Program\" data-toc-modified-id=\"Complete-Program-2\"><span class=\"toc-item-num\">2&nbsp;&nbsp;</span>Complete Program</a></span><ul class=\"toc-item\"><li><span><a href=\"#Thymio-preparation\" data-toc-modified-id=\"Thymio-preparation-2.1\"><span class=\"toc-item-num\">2.1&nbsp;&nbsp;</span>Thymio preparation</a></span></li><li><span><a href=\"#Main-program-description\" data-toc-modified-id=\"Main-program-description-2.2\"><span class=\"toc-item-num\">2.2&nbsp;&nbsp;</span>Main program description</a></span><ul class=\"toc-item\"><li><span><a href=\"#Initialization-and-decision-making\" data-toc-modified-id=\"Initialization-and-decision-making-2.2.1\"><span class=\"toc-item-num\">2.2.1&nbsp;&nbsp;</span>Initialization and decision making</a></span></li><li><span><a href=\"#Data-acquisition\" data-toc-modified-id=\"Data-acquisition-2.2.2\"><span class=\"toc-item-num\">2.2.2&nbsp;&nbsp;</span>Data acquisition</a></span></li><li><span><a href=\"#Control\" data-toc-modified-id=\"Control-2.2.3\"><span class=\"toc-item-num\">2.2.3&nbsp;&nbsp;</span>Control</a></span></li></ul></li><li><span><a href=\"#Complete-program-execution\" data-toc-modified-id=\"Complete-program-execution-2.3\"><span class=\"toc-item-num\">2.3&nbsp;&nbsp;</span>Complete program execution</a></span><ul class=\"toc-item\"><li><span><a href=\"#Imports\" data-toc-modified-id=\"Imports-2.3.1\"><span class=\"toc-item-num\">2.3.1&nbsp;&nbsp;</span>Imports</a></span></li><li><span><a href=\"#Define-the-state-machine\" data-toc-modified-id=\"Define-the-state-machine-2.3.2\"><span class=\"toc-item-num\">2.3.2&nbsp;&nbsp;</span>Define the state machine</a></span><ul class=\"toc-item\"><li><span><a href=\"#Define-the-data-structures\" data-toc-modified-id=\"Define-the-data-structures-2.3.2.1\"><span class=\"toc-item-num\">2.3.2.1&nbsp;&nbsp;</span>Define the data structures</a></span></li><li><span><a href=\"#Define-the-state-functions-and-the-state-machine-itself\" data-toc-modified-id=\"Define-the-state-functions-and-the-state-machine-itself-2.3.2.2\"><span class=\"toc-item-num\">2.3.2.2&nbsp;&nbsp;</span>Define the state functions and the state machine itself</a></span></li></ul></li><li><span><a href=\"#Program-execution\" data-toc-modified-id=\"Program-execution-2.3.3\"><span class=\"toc-item-num\">2.3.3&nbsp;&nbsp;</span>Program execution</a></span><ul class=\"toc-item\"><li><span><a href=\"#Adjusting-camera-position\" data-toc-modified-id=\"Adjusting-camera-position-2.3.3.1\"><span class=\"toc-item-num\">2.3.3.1&nbsp;&nbsp;</span>Adjusting camera position</a></span></li><li><span><a href=\"#Execute-Program\" data-toc-modified-id=\"Execute-Program-2.3.3.2\"><span class=\"toc-item-num\">2.3.3.2&nbsp;&nbsp;</span>Execute Program</a></span></li></ul></li></ul></li></ul></li><li><span><a href=\"#........\" data-toc-modified-id=\"........-3\"><span class=\"toc-item-num\">3&nbsp;&nbsp;</span>........</a></span></li><li><span><a href=\"#Path-planning\" data-toc-modified-id=\"Path-planning-4\"><span class=\"toc-item-num\">4&nbsp;&nbsp;</span>Path planning</a></span><ul class=\"toc-item\"><li><span><a href=\"#Initialise-path-planner\" data-toc-modified-id=\"Initialise-path-planner-4.1\"><span class=\"toc-item-num\">4.1&nbsp;&nbsp;</span>Initialise path planner</a></span></li><li><span><a href=\"#Planning-phase\" data-toc-modified-id=\"Planning-phase-4.2\"><span class=\"toc-item-num\">4.2&nbsp;&nbsp;</span>Planning phase</a></span></li><li><span><a href=\"#Query-Phase\" data-toc-modified-id=\"Query-Phase-4.3\"><span class=\"toc-item-num\">4.3&nbsp;&nbsp;</span>Query Phase</a></span></li><li><span><a href=\"#Getting-the-path\" data-toc-modified-id=\"Getting-the-path-4.4\"><span class=\"toc-item-num\">4.4&nbsp;&nbsp;</span>Getting the path</a></span></li><li><span><a href=\"#complete-pathplanning-demonstration\" data-toc-modified-id=\"complete-pathplanning-demonstration-4.5\"><span class=\"toc-item-num\">4.5&nbsp;&nbsp;</span>complete pathplanning demonstration</a></span></li></ul></li></ul></div>"
=======
    "<div class=\"toc\"><ul class=\"toc-item\"><li><span><a href=\"#Thymio-Project\" data-toc-modified-id=\"Thymio-Project-1\"><span class=\"toc-item-num\">1&nbsp;&nbsp;</span>Thymio Project</a></span></li><li><span><a href=\"#Complete-Program\" data-toc-modified-id=\"Complete-Program-2\"><span class=\"toc-item-num\">2&nbsp;&nbsp;</span>Complete Program</a></span><ul class=\"toc-item\"><li><span><a href=\"#Imports\" data-toc-modified-id=\"Imports-2.1\"><span class=\"toc-item-num\">2.1&nbsp;&nbsp;</span>Imports</a></span></li><li><span><a href=\"#define-the-state-machine\" data-toc-modified-id=\"define-the-state-machine-2.2\"><span class=\"toc-item-num\">2.2&nbsp;&nbsp;</span>define the state machine</a></span><ul class=\"toc-item\"><li><span><a href=\"#define-the-Robot-object\" data-toc-modified-id=\"define-the-Robot-object-2.2.1\"><span class=\"toc-item-num\">2.2.1&nbsp;&nbsp;</span>define the Robot object</a></span></li><li><span><a href=\"#Define-the-statefunctions\" data-toc-modified-id=\"Define-the-statefunctions-2.2.2\"><span class=\"toc-item-num\">2.2.2&nbsp;&nbsp;</span>Define the statefunctions</a></span></li></ul></li><li><span><a href=\"#......\" data-toc-modified-id=\"......-2.3\"><span class=\"toc-item-num\">2.3&nbsp;&nbsp;</span>......</a></span></li><li><span><a href=\"#.........\" data-toc-modified-id=\".........-2.4\"><span class=\"toc-item-num\">2.4&nbsp;&nbsp;</span>.........</a></span></li></ul></li><li><span><a href=\"#........\" data-toc-modified-id=\"........-3\"><span class=\"toc-item-num\">3&nbsp;&nbsp;</span>........</a></span></li><li><span><a href=\"#Path-planning\" data-toc-modified-id=\"Path-planning-4\"><span class=\"toc-item-num\">4&nbsp;&nbsp;</span>Path planning</a></span><ul class=\"toc-item\"><li><span><a href=\"#Initialise-path-planner\" data-toc-modified-id=\"Initialise-path-planner-4.1\"><span class=\"toc-item-num\">4.1&nbsp;&nbsp;</span>Initialise path planner</a></span></li><li><span><a href=\"#Planning-phase\" data-toc-modified-id=\"Planning-phase-4.2\"><span class=\"toc-item-num\">4.2&nbsp;&nbsp;</span>Planning phase</a></span></li><li><span><a href=\"#Query-Phase\" data-toc-modified-id=\"Query-Phase-4.3\"><span class=\"toc-item-num\">4.3&nbsp;&nbsp;</span>Query Phase</a></span></li><li><span><a href=\"#Getting-the-path\" data-toc-modified-id=\"Getting-the-path-4.4\"><span class=\"toc-item-num\">4.4&nbsp;&nbsp;</span>Getting the path</a></span></li><li><span><a href=\"#complete-pathplanning-demonstration\" data-toc-modified-id=\"complete-pathplanning-demonstration-4.5\"><span class=\"toc-item-num\">4.5&nbsp;&nbsp;</span>complete pathplanning demonstration</a></span></li></ul></li></ul></div>"
>>>>>>> main
   ]
  },
  {
   "cell_type": "markdown",
   "metadata": {},
   "source": [
    "# Thymio Project\n",
    "\n",
    "\n",
    "\n",
    "\n",
    "\n"
   ]
  },
  {
   "cell_type": "code",
   "execution_count": 1,
   "metadata": {
    "ExecuteTime": {
     "end_time": "2020-08-29T12:34:35.886396Z",
     "start_time": "2020-08-29T12:34:34.933996Z"
    }
   },
   "outputs": [
    {
     "name": "stdout",
     "output_type": "stream",
     "text": [
      "Note: you may need to restart the kernel to use updated packages.\n"
     ]
    },
    {
     "name": "stderr",
     "output_type": "stream",
     "text": [
      "'d:\\program' n'est pas reconnu en tant que commande interne\n",
      "ou externe, un programme ex‚cutable ou un fichier de commandes.\n"
     ]
    }
   ],
   "source": [
    "pip install pyserial"
   ]
  },
  {
   "cell_type": "markdown",
   "metadata": {},
   "source": [
    "\n"
   ]
  },
  {
   "cell_type": "markdown",
   "metadata": {},
   "source": []
  },
  {
   "cell_type": "code",
   "execution_count": null,
   "metadata": {},
   "outputs": [],
   "source": []
  },
  {
   "cell_type": "code",
   "execution_count": null,
   "metadata": {},
   "outputs": [],
   "source": []
  },
  {
   "cell_type": "code",
   "execution_count": null,
   "metadata": {},
   "outputs": [],
   "source": []
  },
  {
   "cell_type": "markdown",
   "metadata": {},
   "source": [
    "# Complete Program\n"
   ]
  },
  {
   "cell_type": "markdown",
   "metadata": {},
   "source": [
<<<<<<< HEAD
    "In this section  the main execution of the program is presented and available to be executed with a thymio that is properly prepared. \n",
    "## Thymio preparation\n",
    "The thymio should have 2 blue dots on it. 1 big, where the wheels are and 1 smaller on the front part. Those dots should be on a light blocking paper which is then mounted on the thymio. Furthermore there are some lights that can't be turned off. These should also be covered as well as possible.\n",
    "\n",
    "\n",
    "<img src=\"documentation/ImagesForDocumentation/thymioTop.jpg\"\n",
    "     alt=\"Thymio Preparation 1\"\n",
    "     style=\"float: left; margin-right: 10px;width: 300px;\" />\n",
    "\n",
    "<img src=\"documentation/ImagesForDocumentation/thymioBottom.jpg\"\n",
    "     alt=\"Thymio Preparation 2\"\n",
    "     style=\"float: left; margin-right: 10px;width: 200px;\" />\n",
    "\n",
    "\n",
    "\n",
    "<img src=\"documentation/ImagesForDocumentation/thymioBehind.jpg\"\n",
    "     alt=\"Thymio Preparation 3\"\n",
    "     style=\"float: left; margin-right: 10px;width: 300px;\" />\n",
    "Left most Image shows the top and side cover points\n",
    "Middle Image shows the bottom spots to cover\n",
    "RIght most Image shows the behind spots to cover\n",
    "\n",
    "If all these spots are covered it wont confuse the vision system."
   ]
  },
  {
   "cell_type": "markdown",
   "metadata": {},
   "source": [
    "## Main program description\n",
    "The main program consists out of four parts. The first one is the initialization, in this part the different Connections are made, like the one to the camera and the thymio. It also generates the map and the path.The second Part Data acquisition takes data  from the different senors present. These are the camera, the horizontal facing infrared distance sensors and the internal speed measurement. These are then processed into the position and orientation of the robot and preprocessed to be able to make decisions in the second part. The second part is the state machine that takes the preprocessed data from the sensor part and decides whether it should follow a the path or if it should avoid path, and so on. The fourth part takes the decisions of the the second part and controls the robot with them and the data of the first part."
   ]
  },
  {
   "cell_type": "markdown",
   "metadata": {},
   "source": [
    "### Initialization and decision making\n",
    "<img src=\"documentation/stateEventRobotics.jpg\"\n",
    "     alt=\"Robotics statemachine\"\n",
    "     style=\"float: left; margin-right: 5px;width: 700px;\" />\n",
    "To initialize everything properly, first the connection to the camera is established, when this fails everything else will also not work and it is necessary to setup the camera correctly. To facilitate this at the beginning the images captured by the camera are shown at the beginning. Then the connection to the thymio is made, also a very important component. If the connection was successful too, then everything can proceed to generate the map. For that the camera is used to capture the map and generate an occupancy grid. Then the path is planned by the path planner from the current thymio location to the goal. After that the main loop begins which is divided into 3 parts. The decision making part is manly the implementation of the state machine shown to the left without the Initialization part.\n",
    "This means that the robot follows the path as long as it has not reached the goal or encounters a obstacle. If an obstacle is encountered the Obstacle avoidance is triggered and it is avoided until no obstacle is detected anymore. Then the robot proceeds to the same way point that he tried to steer to before. This happens until the goal is reached. If the thymio reaches the goal it stops."
   ]
  },
  {
   "cell_type": "markdown",
   "metadata": {},
   "source": [
    "### Data acquisition\n",
    "The data from the different sensors is first processed before it is send into the control and the decision making part.\n",
    "This means the position data from the camera is filtered with a kalman filter in combination with the odometry from the speed readings. This only happens when the position estimate from the camera is not unstable and jumping around. When this happens the data from the camera is ignored until it has stabilized. If the position estimate from the camera has stabilized again, it is then used again. This is necessary because sometimes the position reading from the camera jumps around. This in theory also enables the detection of kidnapping, but that is not implemented. Beside checking if the position given by the camera is stable, it is also check whether or not the thymio can be see by the camera. If this is not the case the robot relies on the odometry alone. Beside the data from the camera and the odometry the horizontal infrared distance sensors are also checks whether or not they see an obstacle. If they do, a flag is set to tell the state machine this fact."
   ]
  },
  {
   "cell_type": "markdown",
   "metadata": {},
   "source": [
    "### Control\n",
    "In the control section of the main loop the path follower follows the path generated by the path planner. This path consists out of way points the robot has to reach. For that the path follower compares the current position of the thymio with the next way point, not the closest but the next in the list, even though they are save in an array, and then drives the robot towards it. If the goal is reached the robot then stops. If the decision making state machine says to stop the robot also stops. One would think that the obstacle avoidance is also located here. That is not the case becuase of the way it is coded. The obstacle avoidance is a function that stays inside itself until the obstacle is avoided. This means the obstacle avoidance is performed inside the state machine."
   ]
  },
  {
   "cell_type": "markdown",
   "metadata": {},
   "source": [
    "## Complete program execution\n",
    "In this section one can execute the different cells one after the other to get the behavior described before. If they are not all executed in order then it wont work."
   ]
  },
  {
   "cell_type": "markdown",
   "metadata": {},
   "source": [
    "### Imports\n",
    "All the imports necessary to run the program. This includes user defined files and library files."
=======
    "## Imports\n",
    "Import all the libraries needed to run the main program"
>>>>>>> main
   ]
  },
  {
   "cell_type": "code",
   "execution_count": 2,
   "metadata": {
    "ExecuteTime": {
     "end_time": "2020-08-29T12:52:42.121860Z",
     "start_time": "2020-08-29T12:52:42.112779Z"
    }
   },
   "outputs": [],
   "source": [
    "#import standart libraries\n",
    "import os\n",
    "import sys\n",
    "import time\n",
    "import serial\n",
    "import numpy as np\n",
    "from numpy import linalg as LNG \n",
    "import math\n",
    "import cv2\n",
    "import matplotlib.pyplot as plt\n",
    "from matplotlib import colors\n",
    "from PIL import Image\n",
    "from skimage import exposure\n",
<<<<<<< HEAD
    "from timeit import default_timer as timer\n",
=======
    "\n",
    "%matplotlib inline\n",
>>>>>>> main
    "\n",
    "# Adding the src folder in the current directory as it contains the script\n",
    "# with the Thymio class and all the files with the group generated functions and classes\n",
    "sys.path.insert(0, os.path.join(os.getcwd(), 'src'))\n",
    "from Thymio import Thymio\n",
    "#import functions made by group\n",
    "from pathPlanning import pathPlaning\n",
    "#import vision\n",
    "import ANN\n",
    "import robot_control\n",
    "import test_vision_v4\n",
    "import sys\n",
<<<<<<< HEAD
    "\n",
    "from kalman_filter import kalman_filt"
=======
    "from timeit import default_timer as timer"
>>>>>>> main
   ]
  },
  {
   "cell_type": "markdown",
   "metadata": {},
   "source": [
    "### Define the state machine\n",
    "In this section the state machine shown earlier is realized in code. To achieve that, 2 data structures are needed, one that holds the names of the states and one that holds all the data needed to make the decisions and afterwards the state functions are defined."
   ]
  },
  {
   "cell_type": "markdown",
   "metadata": {},
   "source": [
    "#### Define the data structures\n",
    "The first data structure holds the state names used in the state machine. This is basically what in other languages is an enumeration or static variables. The second class is used to store data from the sensors and then only needing to hand over the object of this class, containing all the data needed to make decisions."
   ]
  },
  {
   "cell_type": "code",
   "execution_count": 3,
   "metadata": {},
   "outputs": [],
   "source": [
    "#class used to store the names of the states to be able to retrive the state functions from the dictionary \n",
    "#that serves as state machine\n",
    "class stateNames_t:\n",
    "    def __init__(self):\n",
    "        self.goalKnown='goalKnown'\n",
    "        self.planning='planning'\n",
    "        self.planAcquired='planAcquired'\n",
    "        self.newPath='newpath'\n",
    "        self.checkingPath='checkingPath'\n",
    "        self.underWay='underWay'\n",
    "        self.obstacleAvoidance='obstalceAvoidance'\n",
    "        self.goalReached='goalReached'\n",
    "#this class is used as data transfer between the data acqusition part, the decision making part and the control part.\n",
    "class FSMHelper:\n",
    "    def __init__(self,thymio,equalTolerance,wayPointDistance,pathplanner):\n",
    "        self.wasKidnapped=False\n",
    "        self.tolerance=equalTolerance\n",
    "        self.currentPosition=np.zeros((2,1))\n",
    "        self.pathPlanner=pathplanner\n",
    "        self.newPositionEstimate=0    \n",
    "        self.thymio=thymio      \n",
    "        self.obstacleDetected=False\n",
    "        self.doStop=False\n",
    "        self.goalReached=False\n",
    "        self.goal=np.zeros((2,1))\n",
    "        self.pathToFollow=np.array([[0],[0]])\n",
    "        self.FSMStates=stateNames_t()\n",
    "        self.straightenedImage=0\n",
    "        self.wayPointReachedDistance=wayPointDistance\n",
    "\n",
    "        "
   ]
  },
  {
   "cell_type": "markdown",
   "metadata": {},
   "source": [
    "#### Define the state functions and the state machine itself\n",
    "In this sections all the state functions are defined. Each function is called when the state it represents is entered. Each state function then returns the name of the next state, that should be entered. This makes it possible that the state machine is a dictionary with the state names as keys and the state functions as items. To make the state machine to its job, the item with the current state name has to be retrieved, the state function, and executed. The name given by the executed state function is then the next state and the same can be done again."
   ]
  },
  {
   "cell_type": "code",
   "execution_count": 4,
   "metadata": {},
   "outputs": [],
   "source": [
<<<<<<< HEAD
    "def planAcquired(robot):     #starting state, the map is generated and preprocessed to enable path generation\n",
    "    return robot.FSMStates.checkingPath      #go to check if a new path needs to be generated\n",
    "    \n",
    "def newPath(robot):#\n",
=======
    "def goalKnown(robot):\n",
    "    if(LNG.norm(np.subtract(robot.currentGoal,robot.newGoal))>robot.tolerance):\n",
    "        robot.doStop=True\n",
    "        robot.currentGoal=robot.newGoal.copy()     \n",
    "        return robot.FSMStates.planning\n",
    "    else:\n",
    "        return robot.FSMStates.planAccuired\n",
    "def planning(robot):\n",
    "    robot.pathPlanner.setGoal(robot.currentGoal)\n",
    "    return robot.FSMStates.planAccuired\n",
    "def planAcquired(robot):\n",
    "    if(robot.wasKidnapped==True):\n",
    "        robot.pathPlanner.setStart(robot.currentPosition[0:2])\n",
    "        return robot.FSMStates.newPath\n",
    "    else:\n",
    "        return robot.FSMStates.checkingPath\n",
    "def newPath(robot):#pathPlanner,pathToFollow\n",
>>>>>>> main
    "    robot.pathToFollow=robot.pathPlanner.getOptimizedPath()\n",
    "    print(\"path after Planner\",robot.pathToFollow)\n",
    "    return robot.FSMStates.checkingPath\n",
    "    \n",
    "def checkingPath(robot):\n",
<<<<<<< HEAD
    "    if(np.size(robot.pathToFollow)!=0):\n",
    "        robot.followPath=True\n",
=======
    "    if(len(robot.pathToFollow)):\n",
    "        print(\"path:\",robot.pathToFollow)\n",
    "        _,robot.pathToFollow=robot_control.path_following(robot.currentPosition,robot.pathToFollow)\n",
>>>>>>> main
    "        return robot.FSMStates.underWay\n",
    "    else:  \n",
    "        robot.doStop=True\n",
    "        return robot.FSMStates.goalReached\n",
    "    \n",
    "def underWay(robot):\n",
    "    if(robot.obstacleDetected==True):\n",
    "        return robot.FSMStates.obstacleAvoidance\n",
    "    else:\n",
    "        return robot.FSMStates.planAcquired\n",
    "    \n",
    "def avoidObstacle(robot):     \n",
    "    #ANN.run_ann_without_memory(robot.thymio)\n",
    "    return robot.FSMStates.checkingPath \n",
    "\n",
    "def goalReached(robot):\n",
    "    robot.goalReached=True\n",
    "    \n",
    "    \n",
    "#define the concrete stateName object to make the dictionary for the actual state machine\n",
    "stateName=stateNames_t()\n",
    "switch = {\n",
    "    stateName.goalKnown        : goalKnown,\n",
    "    stateName.planning         : planning,\n",
    "    stateName.planAcquired     : planAcquired,\n",
    "    stateName.newPath          : newPath,\n",
    "    stateName.checkingPath     : checkingPath,\n",
    "    stateName.underWay         : underWay,\n",
    "    stateName.obstacleAvoidance: avoidObstacle,\n",
    "    stateName.goalReached      : goalReached,\n",
    "}\n",
    "currentState=stateName.planAcquired\n",
    "futureState=stateName.planAcquired"
   ]
  },
  {
   "cell_type": "code",
   "execution_count": null,
   "metadata": {},
   "outputs": [],
   "source": [
<<<<<<< HEAD
    "### Program execution"
=======
    "\n"
>>>>>>> main
   ]
  },
  {
   "cell_type": "markdown",
   "metadata": {},
   "source": [
    "Now that the data structures needed to run the state machine and the state machine itself is defined in code, the program can be executed."
   ]
  },
  {
<<<<<<< HEAD
   "cell_type": "markdown",
   "metadata": {},
   "source": [
    "#### Adjusting camera position\n",
    "<img src=\"documentation/\"\n",
    "     alt=\"Example Picture of camera view\"\n",
    "     style=\"float: left; margin-right: 5px;width: 700px;\" />\n",
    "The camera should see an image similar to the one shown here. All 4 red corner markers should be visible, the map should also fill out most of the image of the camera. It is also necessary that the colors are well visible and that the picture is not too bright. To help with this adjustment execute the code in the next cell"
=======
   "cell_type": "code",
   "execution_count": 5,
   "metadata": {},
   "outputs": [
    {
     "ename": "Exception",
     "evalue": "could not connect to camera",
     "output_type": "error",
     "traceback": [
      "\u001b[1;31m---------------------------------------------------------------------------\u001b[0m",
      "\u001b[1;31mException\u001b[0m                                 Traceback (most recent call last)",
      "\u001b[1;32m<ipython-input-5-ea7f0b7c081c>\u001b[0m in \u001b[0;36m<module>\u001b[1;34m\u001b[0m\n\u001b[0;32m      9\u001b[0m \u001b[0mvideoCapture\u001b[0m\u001b[1;33m.\u001b[0m\u001b[0mset\u001b[0m\u001b[1;33m(\u001b[0m\u001b[0mcv2\u001b[0m\u001b[1;33m.\u001b[0m\u001b[0mCAP_PROP_SATURATION\u001b[0m \u001b[1;33m,\u001b[0m\u001b[1;36m10\u001b[0m\u001b[1;33m)\u001b[0m\u001b[1;33m\u001b[0m\u001b[1;33m\u001b[0m\u001b[0m\n\u001b[0;32m     10\u001b[0m \u001b[1;32mif\u001b[0m \u001b[1;32mnot\u001b[0m\u001b[1;33m(\u001b[0m\u001b[0mvideoCapture\u001b[0m\u001b[1;33m.\u001b[0m\u001b[0misOpened\u001b[0m\u001b[1;33m(\u001b[0m\u001b[1;33m)\u001b[0m\u001b[1;33m)\u001b[0m\u001b[1;33m:\u001b[0m\u001b[1;33m\u001b[0m\u001b[1;33m\u001b[0m\u001b[0m\n\u001b[1;32m---> 11\u001b[1;33m     \u001b[1;32mraise\u001b[0m \u001b[0mException\u001b[0m\u001b[1;33m(\u001b[0m\u001b[1;34m'could not connect to camera'\u001b[0m\u001b[1;33m)\u001b[0m\u001b[1;33m\u001b[0m\u001b[1;33m\u001b[0m\u001b[0m\n\u001b[0m\u001b[0;32m     12\u001b[0m \u001b[1;33m\u001b[0m\u001b[0m\n\u001b[0;32m     13\u001b[0m \u001b[1;32mif\u001b[0m \u001b[0mvideoCapture\u001b[0m\u001b[1;33m.\u001b[0m\u001b[0misOpened\u001b[0m\u001b[1;33m(\u001b[0m\u001b[1;33m)\u001b[0m\u001b[1;33m:\u001b[0m \u001b[1;31m# try to get the first frame\u001b[0m\u001b[1;33m\u001b[0m\u001b[1;33m\u001b[0m\u001b[0m\n",
      "\u001b[1;31mException\u001b[0m: could not connect to camera"
     ]
    }
   ],
   "source": [
    "\n",
    "\n",
    "import cv2\n",
    "\n",
    "cv2.namedWindow(\"preview\")\n",
    "cameraIndex=1             #TODO: change it to the correct camera. currently uses webcam\n",
    "sat=10\n",
    "exp=-6\n",
    "videoCapture = cv2.VideoCapture(cameraIndex)\n",
    "videoCapture.set(cv2.CAP_PROP_EXPOSURE,-6)\n",
    "videoCapture.set(cv2.CAP_PROP_SATURATION ,10)\n",
    "if not(videoCapture.isOpened()):\n",
    "    raise Exception('could not connect to camera')\n",
    "\n",
    "if videoCapture.isOpened(): # try to get the first frame\n",
    "    rval, frame = videoCapture.read()\n",
    "else:\n",
    "    rval = False\n",
    "    print(\"no image\")\n",
    "\n",
    "while rval:\n",
    "    cv2.imshow(\"preview\", frame)\n",
    "    rval, frame = videoCapture.read()\n",
    "    key = cv2.waitKey(20)\n",
    "    if key == 27: # exit on ESC\n",
    "        break\n",
    "    elif(key== ord('w')):\n",
    "        exp=exp+0.1\n",
    "        print (videoCapture.set(cv2.CAP_PROP_EXPOSURE,exp),exp)\n",
    "    elif(key== ord('s')):    \n",
    "        exp=exp-0.1\n",
    "        print (videoCapture.set(cv2.CAP_PROP_EXPOSURE,exp),exp)\n",
    "cv2.destroyWindow(\"preview\")\n",
    "cv2.destroyAllWindows() \n",
    "cv2.VideoCapture(cameraIndex).release()"
   ]
  },
  {
   "cell_type": "markdown",
   "metadata": {},
   "source": [
    "## .........\n",
    "In this section the vision part is used to generate a map and then define a pathfinding object for that map. These section represents the 3 first states, since that division can be done in a Notebook"
   ]
  },
  {
   "cell_type": "code",
   "execution_count": 6,
   "metadata": {},
   "outputs": [],
   "source": [
    "th=Thymio.serial(port=\"COM6\", refreshing_rate=0.1)"
>>>>>>> main
   ]
  },
  {
   "cell_type": "code",
<<<<<<< HEAD
   "execution_count": null,
   "metadata": {},
   "outputs": [],
   "source": [
=======
   "execution_count": 7,
   "metadata": {},
   "outputs": [],
   "source": [
    "\n",
    "th.set_var_array(\"leds.top\", [0, 0, 0])\n",
    "th.set_var_array(\"leds.bottom.right\", [0, 0, 0])\n",
    "th.set_var_array(\"leds.bottom.left\", [0, 0, 0])\n"
   ]
  },
  {
   "cell_type": "code",
   "execution_count": 8,
   "metadata": {},
   "outputs": [
    {
     "ename": "Exception",
     "evalue": "could not connect to camera",
     "output_type": "error",
     "traceback": [
      "\u001b[1;31m---------------------------------------------------------------------------\u001b[0m",
      "\u001b[1;31mException\u001b[0m                                 Traceback (most recent call last)",
      "\u001b[1;32m<ipython-input-8-0538a97e80b1>\u001b[0m in \u001b[0;36m<module>\u001b[1;34m\u001b[0m\n\u001b[0;32m      3\u001b[0m \u001b[0mvideoCapture\u001b[0m \u001b[1;33m=\u001b[0m \u001b[0mcv2\u001b[0m\u001b[1;33m.\u001b[0m\u001b[0mVideoCapture\u001b[0m\u001b[1;33m(\u001b[0m\u001b[0mcameraIndex\u001b[0m\u001b[1;33m)\u001b[0m\u001b[1;33m\u001b[0m\u001b[1;33m\u001b[0m\u001b[0m\n\u001b[0;32m      4\u001b[0m \u001b[1;32mif\u001b[0m \u001b[1;32mnot\u001b[0m\u001b[1;33m(\u001b[0m\u001b[0mvideoCapture\u001b[0m\u001b[1;33m.\u001b[0m\u001b[0misOpened\u001b[0m\u001b[1;33m(\u001b[0m\u001b[1;33m)\u001b[0m\u001b[1;33m)\u001b[0m\u001b[1;33m:\u001b[0m\u001b[1;33m\u001b[0m\u001b[1;33m\u001b[0m\u001b[0m\n\u001b[1;32m----> 5\u001b[1;33m     \u001b[1;32mraise\u001b[0m \u001b[0mException\u001b[0m\u001b[1;33m(\u001b[0m\u001b[1;34m'could not connect to camera'\u001b[0m\u001b[1;33m)\u001b[0m\u001b[1;33m\u001b[0m\u001b[1;33m\u001b[0m\u001b[0m\n\u001b[0m\u001b[0;32m      6\u001b[0m \u001b[0mvideoCapture\u001b[0m \u001b[1;33m=\u001b[0m \u001b[0mcv2\u001b[0m\u001b[1;33m.\u001b[0m\u001b[0mVideoCapture\u001b[0m\u001b[1;33m(\u001b[0m\u001b[0mcameraIndex\u001b[0m\u001b[1;33m)\u001b[0m\u001b[1;33m\u001b[0m\u001b[1;33m\u001b[0m\u001b[0m\n\u001b[0;32m      7\u001b[0m \u001b[0mexposureOfCamera\u001b[0m\u001b[1;33m=\u001b[0m\u001b[1;33m-\u001b[0m\u001b[1;36m2.1\u001b[0m          \u001b[1;31m#initial exposure\u001b[0m\u001b[1;33m\u001b[0m\u001b[1;33m\u001b[0m\u001b[0m\n",
      "\u001b[1;31mException\u001b[0m: could not connect to camera"
     ]
    }
   ],
   "source": [
>>>>>>> main
    "cameraIndex=1             #index 1 is the index of the specific machine used. it is highly likly that it is on other machines aswell\n",
    "cv2.namedWindow(\"preview\")\n",
    "videoCapture = cv2.VideoCapture(cameraIndex)\n",
    "if not(videoCapture.isOpened()):\n",
    "    raise Exception('could not connect to camera')\n",
    "videoCapture = cv2.VideoCapture(cameraIndex)\n",
    "exposureOfCamera=-2.1          #initial exposure\n",
    "videoCapture.set(cv2.CAP_PROP_EXPOSURE,exposureOfCamera)\n",
    "videoCapture.set(cv2.CAP_PROP_SATURATION ,120)\n",
    "\n",
    "if not(videoCapture.isOpened()):\n",
    "    raise Exception('could not connect to camera')\n",
    "\n",
    "if videoCapture.isOpened(): # try to get the first frame\n",
    "    rval, frame = videoCapture.read()\n",
    "else:\n",
    "    rval = False\n",
    "    raise Exception('could not connect to camera')\n",
    "while rval:\n",
    "    cv2.imshow(\"preview\", frame)\n",
    "    rval, frame = videoCapture.read()\n",
    "    key = cv2.waitKey(20)\n",
    "    if key == 27: # exit on ESC\n",
    "        break\n",
    "    elif(key== ord('w')):\n",
    "        exposureOfCamera=exposureOfCamera+0.1\n",
    "        print (videoCapture.set(cv2.CAP_PROP_EXPOSURE,exposureOfCamera),exposureOfCamera)\n",
    "    elif(key== ord('s')):    \n",
    "        exposureOfCamera=exposureOfCamera-0.1\n",
    "        print (videoCapture.set(cv2.CAP_PROP_EXPOSURE,exposureOfCamera),exposureOfCamera)\n",
    "cv2.destroyWindow(\"preview\")\n",
    "cv2.destroyAllWindows()\n",
    "cv2.VideoCapture(cameraIndex).release()"
   ]
  },
  {
   "cell_type": "code",
<<<<<<< HEAD
   "execution_count": 4,
=======
   "execution_count": 9,
>>>>>>> main
   "metadata": {
    "scrolled": false
   },
   "outputs": [
    {
<<<<<<< HEAD
     "ename": "SyntaxError",
     "evalue": "invalid syntax (<ipython-input-4-aee9d1ee6312>, line 1)",
     "output_type": "error",
     "traceback": [
      "\u001b[1;36m  File \u001b[1;32m\"<ipython-input-4-aee9d1ee6312>\"\u001b[1;36m, line \u001b[1;32m1\u001b[0m\n\u001b[1;33m    ToDO: integrate kalman filter properly!_> keep giving it information even when the camera is not properlyviding any.\u001b[0m\n\u001b[1;37m                    ^\u001b[0m\n\u001b[1;31mSyntaxError\u001b[0m\u001b[1;31m:\u001b[0m invalid syntax\n"
     ]
    }
   ],
   "source": [
    "ToDO: \n",
    "    wirte a separate chapter about the outlier elimination.\n",
    "    "
   ]
  },
  {
   "cell_type": "markdown",
   "metadata": {},
   "source": [
    "#### Execute Program\n",
    "In this section the main control loop and the initialization can be executed. Connecting to the thymio should only be executed once."
   ]
  },
  {
   "cell_type": "code",
   "execution_count": null,
   "metadata": {},
   "outputs": [],
   "source": [
    "th=Thymio.serial(port=\"COM6\", refreshing_rate=0.1)"
   ]
  },
  {
   "cell_type": "markdown",
   "metadata": {},
   "source": [
    "If the next cell is executed the thymio will begin moving after a certain amount of time. This waiting time is because of the map generation"
   ]
  },
  {
   "cell_type": "code",
   "execution_count": 30,
   "metadata": {},
   "outputs": [
    {
     "ename": "SerialException",
     "evalue": "WriteFile failed (PermissionError(13, 'Das Gerät erkennt den Befehl nicht.', None, 22))",
     "output_type": "error",
     "traceback": [
      "\u001b[1;31m---------------------------------------------------------------------------\u001b[0m",
      "\u001b[1;31mSerialException\u001b[0m                           Traceback (most recent call last)",
      "\u001b[1;32m<ipython-input-30-20377951f743>\u001b[0m in \u001b[0;36m<module>\u001b[1;34m\u001b[0m\n\u001b[1;32m----> 1\u001b[1;33m \u001b[0mth\u001b[0m\u001b[1;33m.\u001b[0m\u001b[0mset_var_array\u001b[0m\u001b[1;33m(\u001b[0m\u001b[1;34m\"leds.top\"\u001b[0m\u001b[1;33m,\u001b[0m \u001b[1;33m[\u001b[0m\u001b[1;36m0\u001b[0m\u001b[1;33m,\u001b[0m \u001b[1;36m0\u001b[0m\u001b[1;33m,\u001b[0m \u001b[1;36m0\u001b[0m\u001b[1;33m]\u001b[0m\u001b[1;33m)\u001b[0m\u001b[1;33m\u001b[0m\u001b[1;33m\u001b[0m\u001b[0m\n\u001b[0m\u001b[0;32m      2\u001b[0m \u001b[0mth\u001b[0m\u001b[1;33m.\u001b[0m\u001b[0mset_var_array\u001b[0m\u001b[1;33m(\u001b[0m\u001b[1;34m\"leds.bottom.right\"\u001b[0m\u001b[1;33m,\u001b[0m \u001b[1;33m[\u001b[0m\u001b[1;36m0\u001b[0m\u001b[1;33m,\u001b[0m \u001b[1;36m0\u001b[0m\u001b[1;33m,\u001b[0m \u001b[1;36m0\u001b[0m\u001b[1;33m]\u001b[0m\u001b[1;33m)\u001b[0m\u001b[1;33m\u001b[0m\u001b[1;33m\u001b[0m\u001b[0m\n\u001b[0;32m      3\u001b[0m \u001b[0mth\u001b[0m\u001b[1;33m.\u001b[0m\u001b[0mset_var_array\u001b[0m\u001b[1;33m(\u001b[0m\u001b[1;34m\"leds.bottom.left\"\u001b[0m\u001b[1;33m,\u001b[0m \u001b[1;33m[\u001b[0m\u001b[1;36m0\u001b[0m\u001b[1;33m,\u001b[0m \u001b[1;36m0\u001b[0m\u001b[1;33m,\u001b[0m \u001b[1;36m0\u001b[0m\u001b[1;33m]\u001b[0m\u001b[1;33m)\u001b[0m\u001b[1;33m\u001b[0m\u001b[1;33m\u001b[0m\u001b[0m\n",
      "\u001b[1;32m~\\Documents\\EPFL_Documents\\Mobile_Robotics_Master\\Mobile_Robotics\\Robotic_Project\\GithubRepo\\Mondadaa\\src\\Thymio.py\u001b[0m in \u001b[0;36mset_var_array\u001b[1;34m(self, name, val)\u001b[0m\n\u001b[0;32m    546\u001b[0m         \u001b[1;32mwith\u001b[0m \u001b[0mself\u001b[0m\u001b[1;33m.\u001b[0m\u001b[0minput_lock\u001b[0m\u001b[1;33m:\u001b[0m\u001b[1;33m\u001b[0m\u001b[1;33m\u001b[0m\u001b[0m\n\u001b[0;32m    547\u001b[0m             \u001b[0mself\u001b[0m\u001b[1;33m.\u001b[0m\u001b[0mremote_node\u001b[0m\u001b[1;33m.\u001b[0m\u001b[0mset_var_array\u001b[0m\u001b[1;33m(\u001b[0m\u001b[0mname\u001b[0m\u001b[1;33m,\u001b[0m \u001b[0mval\u001b[0m\u001b[1;33m)\u001b[0m\u001b[1;33m\u001b[0m\u001b[1;33m\u001b[0m\u001b[0m\n\u001b[1;32m--> 548\u001b[1;33m         \u001b[0mself\u001b[0m\u001b[1;33m.\u001b[0m\u001b[0mset_variables\u001b[0m\u001b[1;33m(\u001b[0m\u001b[0mself\u001b[0m\u001b[1;33m.\u001b[0m\u001b[0mremote_node\u001b[0m\u001b[1;33m.\u001b[0m\u001b[0mvar_offset\u001b[0m\u001b[1;33m[\u001b[0m\u001b[0mname\u001b[0m\u001b[1;33m]\u001b[0m\u001b[1;33m,\u001b[0m \u001b[0mval\u001b[0m\u001b[1;33m)\u001b[0m\u001b[1;33m\u001b[0m\u001b[1;33m\u001b[0m\u001b[0m\n\u001b[0m\u001b[0;32m    549\u001b[0m \u001b[1;33m\u001b[0m\u001b[0m\n\u001b[0;32m    550\u001b[0m     \u001b[1;32mdef\u001b[0m \u001b[0m__getitem__\u001b[0m\u001b[1;33m(\u001b[0m\u001b[0mself\u001b[0m\u001b[1;33m,\u001b[0m \u001b[0mkey\u001b[0m\u001b[1;33m)\u001b[0m\u001b[1;33m:\u001b[0m\u001b[1;33m\u001b[0m\u001b[1;33m\u001b[0m\u001b[0m\n",
      "\u001b[1;32m~\\Documents\\EPFL_Documents\\Mobile_Robotics_Master\\Mobile_Robotics\\Robotic_Project\\GithubRepo\\Mondadaa\\src\\Thymio.py\u001b[0m in \u001b[0;36mset_variables\u001b[1;34m(self, chunk_offset, chunk, target_node_id)\u001b[0m\n\u001b[0;32m    507\u001b[0m         ] + chunk)\n\u001b[0;32m    508\u001b[0m         \u001b[0mmsg\u001b[0m \u001b[1;33m=\u001b[0m \u001b[0mMessage\u001b[0m\u001b[1;33m(\u001b[0m\u001b[0mMessage\u001b[0m\u001b[1;33m.\u001b[0m\u001b[0mID_SET_VARIABLES\u001b[0m\u001b[1;33m,\u001b[0m \u001b[0mself\u001b[0m\u001b[1;33m.\u001b[0m\u001b[0mnode_id\u001b[0m\u001b[1;33m,\u001b[0m \u001b[0mpayload\u001b[0m\u001b[1;33m)\u001b[0m\u001b[1;33m\u001b[0m\u001b[1;33m\u001b[0m\u001b[0m\n\u001b[1;32m--> 509\u001b[1;33m         \u001b[0mself\u001b[0m\u001b[1;33m.\u001b[0m\u001b[0msend\u001b[0m\u001b[1;33m(\u001b[0m\u001b[0mmsg\u001b[0m\u001b[1;33m)\u001b[0m\u001b[1;33m\u001b[0m\u001b[1;33m\u001b[0m\u001b[0m\n\u001b[0m\u001b[0;32m    510\u001b[0m \u001b[1;33m\u001b[0m\u001b[0m\n\u001b[0;32m    511\u001b[0m     \u001b[1;32mdef\u001b[0m \u001b[0mvariable_description\u001b[0m\u001b[1;33m(\u001b[0m\u001b[0mself\u001b[0m\u001b[1;33m)\u001b[0m\u001b[1;33m:\u001b[0m\u001b[1;33m\u001b[0m\u001b[1;33m\u001b[0m\u001b[0m\n",
      "\u001b[1;32m~\\Documents\\EPFL_Documents\\Mobile_Robotics_Master\\Mobile_Robotics\\Robotic_Project\\GithubRepo\\Mondadaa\\src\\Thymio.py\u001b[0m in \u001b[0;36msend\u001b[1;34m(self, msg)\u001b[0m\n\u001b[0;32m    454\u001b[0m         \"\"\"\n\u001b[0;32m    455\u001b[0m         \u001b[1;32mwith\u001b[0m \u001b[0mself\u001b[0m\u001b[1;33m.\u001b[0m\u001b[0moutput_lock\u001b[0m\u001b[1;33m:\u001b[0m\u001b[1;33m\u001b[0m\u001b[1;33m\u001b[0m\u001b[0m\n\u001b[1;32m--> 456\u001b[1;33m             \u001b[0mself\u001b[0m\u001b[1;33m.\u001b[0m\u001b[0mio\u001b[0m\u001b[1;33m.\u001b[0m\u001b[0mwrite\u001b[0m\u001b[1;33m(\u001b[0m\u001b[0mmsg\u001b[0m\u001b[1;33m.\u001b[0m\u001b[0mserialize\u001b[0m\u001b[1;33m(\u001b[0m\u001b[1;33m)\u001b[0m\u001b[1;33m)\u001b[0m\u001b[1;33m\u001b[0m\u001b[1;33m\u001b[0m\u001b[0m\n\u001b[0m\u001b[0;32m    457\u001b[0m \u001b[1;33m\u001b[0m\u001b[0m\n\u001b[0;32m    458\u001b[0m     \u001b[1;32mdef\u001b[0m \u001b[0mget_target_node_id\u001b[0m\u001b[1;33m(\u001b[0m\u001b[0mself\u001b[0m\u001b[1;33m)\u001b[0m\u001b[1;33m:\u001b[0m\u001b[1;33m\u001b[0m\u001b[1;33m\u001b[0m\u001b[0m\n",
      "\u001b[1;32mC:\\ProgramData\\Anaconda3\\lib\\site-packages\\serial\\serialwin32.py\u001b[0m in \u001b[0;36mwrite\u001b[1;34m(self, data)\u001b[0m\n\u001b[0;32m    313\u001b[0m             \u001b[1;32mif\u001b[0m \u001b[0mself\u001b[0m\u001b[1;33m.\u001b[0m\u001b[0m_write_timeout\u001b[0m \u001b[1;33m!=\u001b[0m \u001b[1;36m0\u001b[0m\u001b[1;33m:\u001b[0m  \u001b[1;31m# if blocking (None) or w/ write timeout (>0)\u001b[0m\u001b[1;33m\u001b[0m\u001b[1;33m\u001b[0m\u001b[0m\n\u001b[0;32m    314\u001b[0m                 \u001b[1;32mif\u001b[0m \u001b[1;32mnot\u001b[0m \u001b[0msuccess\u001b[0m \u001b[1;32mand\u001b[0m \u001b[0mwin32\u001b[0m\u001b[1;33m.\u001b[0m\u001b[0mGetLastError\u001b[0m\u001b[1;33m(\u001b[0m\u001b[1;33m)\u001b[0m \u001b[1;32mnot\u001b[0m \u001b[1;32min\u001b[0m \u001b[1;33m(\u001b[0m\u001b[0mwin32\u001b[0m\u001b[1;33m.\u001b[0m\u001b[0mERROR_SUCCESS\u001b[0m\u001b[1;33m,\u001b[0m \u001b[0mwin32\u001b[0m\u001b[1;33m.\u001b[0m\u001b[0mERROR_IO_PENDING\u001b[0m\u001b[1;33m)\u001b[0m\u001b[1;33m:\u001b[0m\u001b[1;33m\u001b[0m\u001b[1;33m\u001b[0m\u001b[0m\n\u001b[1;32m--> 315\u001b[1;33m                     \u001b[1;32mraise\u001b[0m \u001b[0mSerialException\u001b[0m\u001b[1;33m(\u001b[0m\u001b[1;34m\"WriteFile failed ({!r})\"\u001b[0m\u001b[1;33m.\u001b[0m\u001b[0mformat\u001b[0m\u001b[1;33m(\u001b[0m\u001b[0mctypes\u001b[0m\u001b[1;33m.\u001b[0m\u001b[0mWinError\u001b[0m\u001b[1;33m(\u001b[0m\u001b[1;33m)\u001b[0m\u001b[1;33m)\u001b[0m\u001b[1;33m)\u001b[0m\u001b[1;33m\u001b[0m\u001b[1;33m\u001b[0m\u001b[0m\n\u001b[0m\u001b[0;32m    316\u001b[0m \u001b[1;33m\u001b[0m\u001b[0m\n\u001b[0;32m    317\u001b[0m                 \u001b[1;31m# Wait for the write to complete.\u001b[0m\u001b[1;33m\u001b[0m\u001b[1;33m\u001b[0m\u001b[1;33m\u001b[0m\u001b[0m\n",
      "\u001b[1;31mSerialException\u001b[0m: WriteFile failed (PermissionError(13, 'Das Gerät erkennt den Befehl nicht.', None, 22))"
=======
     "ename": "Exception",
     "evalue": "could not read image!",
     "output_type": "error",
     "traceback": [
      "\u001b[1;31m---------------------------------------------------------------------------\u001b[0m",
      "\u001b[1;31mException\u001b[0m                                 Traceback (most recent call last)",
      "\u001b[1;32m<ipython-input-9-4c32e3268a6a>\u001b[0m in \u001b[0;36m<module>\u001b[1;34m\u001b[0m\n\u001b[0;32m      5\u001b[0m \u001b[1;32melse\u001b[0m\u001b[1;33m:\u001b[0m\u001b[1;33m\u001b[0m\u001b[1;33m\u001b[0m\u001b[0m\n\u001b[0;32m      6\u001b[0m     \u001b[0mrval\u001b[0m \u001b[1;33m=\u001b[0m \u001b[1;32mFalse\u001b[0m\u001b[1;33m\u001b[0m\u001b[1;33m\u001b[0m\u001b[0m\n\u001b[1;32m----> 7\u001b[1;33m     \u001b[1;32mraise\u001b[0m \u001b[0mException\u001b[0m\u001b[1;33m(\u001b[0m\u001b[1;34m'could not read image!'\u001b[0m\u001b[1;33m)\u001b[0m\u001b[1;33m\u001b[0m\u001b[1;33m\u001b[0m\u001b[0m\n\u001b[0m\u001b[0;32m      8\u001b[0m \u001b[1;31m#read corner mask\u001b[0m\u001b[1;33m\u001b[0m\u001b[1;33m\u001b[0m\u001b[1;33m\u001b[0m\u001b[0m\n\u001b[0;32m      9\u001b[0m \u001b[0mmask\u001b[0m\u001b[1;33m=\u001b[0m \u001b[0mcv2\u001b[0m\u001b[1;33m.\u001b[0m\u001b[0mimread\u001b[0m\u001b[1;33m(\u001b[0m\u001b[1;34m'Images/Mondamask.JPG'\u001b[0m\u001b[1;33m)\u001b[0m\u001b[1;33m\u001b[0m\u001b[1;33m\u001b[0m\u001b[0m\n",
      "\u001b[1;31mException\u001b[0m: could not read image!"
>>>>>>> main
     ]
    }
   ],
   "source": [
<<<<<<< HEAD
    "#------- turn off all leds that can be controlled\n",
    "th.set_var_array(\"leds.top\", [0, 0, 0])\n",
    "th.set_var_array(\"leds.bottom.right\", [0, 0, 0])\n",
    "th.set_var_array(\"leds.bottom.left\", [0, 0, 0])\n",
    "\n",
    "#------ start camera\n",
    "cameraIndex=1             #index 1 is the index of the specific machine used. it is highly likly that it is on other machines aswell\n",
    "videoCapture = cv2.VideoCapture(cameraIndex)\n",
    "#-------set exposure to have a bright enough picture\n",
=======
    "#cv2.namedWindow(\"preview\")\n",
>>>>>>> main
    "videoCapture.set(cv2.CAP_PROP_EXPOSURE,-2.1)\n",
    "if videoCapture.isOpened(): # try to get the first frame\n",
    "    rval, frame = videoCapture.read()\n",
    "else:\n",
    "    rval = False\n",
    "    raise Exception('could not read image!')\n",
    "\n",
    "mask= cv2.imread('Images/Mondamask.JPG')           #read corner mask\n",
    "if mask.size==0:\n",
    "    raise Exception('Could not open Mask')\n",
    "    \n",
    "dimension_paper = [118.9,84.1] #cm A0\n",
    "dim = (int(dimension_paper[1]*2),int(dimension_paper[0]*2))\n",
    "# Switching red and blue channels\n",
    "frame[:, :, [0, 2]] = frame[:, :, [2, 0]]\n",
    "mask[:, :, [0, 2]] = mask[:, :, [2, 0]]\n",
<<<<<<< HEAD
    "\n",
=======
    "plt.imshow(frame)\n",
    "\n",
    "plt.show()\n",
    "plt.imsave('maptest.jpg',frame)\n",
>>>>>>> main
    "#preprocess image data to facilitate map generation and thymio position accusition\n",
    "p2_1, p98_1 = np.percentile(frame, (2, 98))\n",
    "img_res1 = exposure.rescale_intensity(frame, in_range=(p2_1,p98_1))\n",
    "img1_gray = cv2.cvtColor(img_res1, cv2.COLOR_BGR2GRAY)\n",
<<<<<<< HEAD
    "threshold_bg=130\n",
    "#------generate map from camera\n",
    "percent = 0.9\n",
    "while True:\n",
    "        output = Vision.bg_clustering(img1_gray, (50,50),threshold_bg)\n",
    "        corner_location = Vision.corner_detection(output,mask) # Get the location of the 4 corners\n",
    "        img_straighten, M = Vision.four_point_transform(frame, corner_location) # Get the transformation matrix and the straighten img\n",
    "        if(img_straighten.shape[0] > output.shape[0]*percent and img_straighten.shape[1] > output.shape[1]*percent):\n",
    "            break\n",
    "        else:\n",
    "            rval, frame = videoCapture.read()\n",
    "            frame[:, :, [0, 2]] = frame[:, :, [2, 0]]\n",
    "            \n",
    "\n",
    "im_dim = img_straighten.shape\n",
    "obstacles = Vision.get_obstacles(img_straighten) \n",
    "thymio_coord = Vision.get_thymio_info(frame,M,dim,im_dim) \n",
    "endpoint_coord = Vision.get_endpoint_info(frame,M,dim,im_dim)\n",
=======
    "output = test_vision_v4.region_growing(img1_gray, (50,50))\n",
    "corner_location = test_vision_v4.corner_detection(output,mask)\n",
    "img_straighten, M = test_vision_v4.four_point_transform(frame, corner_location)\n",
    "im_dim = img_straighten.shape\n",
    "# output = np.invert(output)\n",
    "obstacles = test_vision_v4.get_obstacles(img_straighten) # OFFLINE\n",
    "thymio_coord = test_vision_v4.get_thymio_info(frame,M,dim,im_dim) # Do these online, and feed info to kalman filter\n",
    "endpoint_coord = test_vision_v4.get_endpoint_info(frame,M,dim,im_dim)\n",
>>>>>>> main
    "low_res_img = cv2.resize(img_straighten, dsize=((dim[1], dim[0])))\n",
    "plt.imshow(low_res_img)\n",
    "plt.scatter(thymio_coord[0][0],thymio_coord[0][1])\n",
    "plt.show()"
   ]
  },
  {
   "cell_type": "code",
   "execution_count": 10,
   "metadata": {
    "scrolled": false
   },
   "outputs": [
    {
     "ename": "NameError",
     "evalue": "name 'thymio_coord' is not defined",
     "output_type": "error",
     "traceback": [
      "\u001b[1;31m---------------------------------------------------------------------------\u001b[0m",
      "\u001b[1;31mNameError\u001b[0m                                 Traceback (most recent call last)",
      "\u001b[1;32m<ipython-input-10-fc2e2b122f74>\u001b[0m in \u001b[0;36m<module>\u001b[1;34m\u001b[0m\n\u001b[1;32m----> 1\u001b[1;33m \u001b[0mestimatedRobotPose\u001b[0m\u001b[1;33m=\u001b[0m\u001b[0mthymio_coord\u001b[0m\u001b[1;33m\u001b[0m\u001b[1;33m\u001b[0m\u001b[0m\n\u001b[0m\u001b[0;32m      2\u001b[0m \u001b[0moccupancyGrid\u001b[0m\u001b[1;33m=\u001b[0m\u001b[0mcv2\u001b[0m\u001b[1;33m.\u001b[0m\u001b[0mresize\u001b[0m\u001b[1;33m(\u001b[0m\u001b[0mobstacles\u001b[0m\u001b[1;33m,\u001b[0m \u001b[0mdsize\u001b[0m\u001b[1;33m=\u001b[0m\u001b[1;33m(\u001b[0m\u001b[0mint\u001b[0m\u001b[1;33m(\u001b[0m\u001b[0mdim\u001b[0m\u001b[1;33m[\u001b[0m\u001b[1;36m1\u001b[0m\u001b[1;33m]\u001b[0m\u001b[1;33m/\u001b[0m\u001b[1;36m2\u001b[0m\u001b[1;33m)\u001b[0m\u001b[1;33m,\u001b[0m \u001b[0mint\u001b[0m\u001b[1;33m(\u001b[0m\u001b[0mdim\u001b[0m\u001b[1;33m[\u001b[0m\u001b[1;36m0\u001b[0m\u001b[1;33m]\u001b[0m\u001b[1;33m/\u001b[0m\u001b[1;36m2\u001b[0m\u001b[1;33m)\u001b[0m\u001b[1;33m)\u001b[0m\u001b[1;33m)\u001b[0m\u001b[1;33m\u001b[0m\u001b[1;33m\u001b[0m\u001b[0m\n\u001b[0;32m      3\u001b[0m \u001b[0moccupancyGrid\u001b[0m\u001b[1;33m=\u001b[0m\u001b[0moccupancyGrid\u001b[0m\u001b[1;33m>\u001b[0m\u001b[1;36m200\u001b[0m\u001b[1;33m\u001b[0m\u001b[1;33m\u001b[0m\u001b[0m\n\u001b[0;32m      4\u001b[0m \u001b[0moccupancyGrid\u001b[0m\u001b[1;33m=\u001b[0m\u001b[0moccupancyGrid\u001b[0m\u001b[1;33m.\u001b[0m\u001b[0mastype\u001b[0m\u001b[1;33m(\u001b[0m\u001b[0mint\u001b[0m\u001b[1;33m)\u001b[0m\u001b[1;33m\u001b[0m\u001b[1;33m\u001b[0m\u001b[0m\n\u001b[0;32m      5\u001b[0m \u001b[0mplt\u001b[0m\u001b[1;33m.\u001b[0m\u001b[0mimshow\u001b[0m\u001b[1;33m(\u001b[0m\u001b[0moccupancyGrid\u001b[0m\u001b[1;33m)\u001b[0m\u001b[1;33m\u001b[0m\u001b[1;33m\u001b[0m\u001b[0m\n",
      "\u001b[1;31mNameError\u001b[0m: name 'thymio_coord' is not defined"
     ]
    }
   ],
   "source": [
    "\n",
<<<<<<< HEAD
    "#---------make occupancy grid from map\n",
    "occupancyGrid=occupancyGrid>200\n",
    "occupancyGrid=occupancyGrid.astype(float)\n",
    "kernel2 = np.ones((7,7), np.uint8)\n",
    "occupancyGrid = cv2.dilate(occupancyGrid, kernel2, iterations=2)\n",
    "\n",
=======
    "estimatedRobotPose=thymio_coord\n",
    "occupancyGrid=cv2.resize(obstacles, dsize=(int(dim[1]/2), int(dim[0]/2)))\n",
    "occupancyGrid=occupancyGrid>200\n",
    "occupancyGrid=occupancyGrid.astype(int)\n",
    "plt.imshow(occupancyGrid)\n",
>>>>>>> main
    "pathPlanner=pathPlaning(occupancyGrid.copy(),1,1)\n",
    "\n",
    "#give over the thymio connection and the tolerance for equality to 1e-6, the distance when it is considered way point reached\n",
    "#and the path planner to use\n",
    "robotStatus=FSMHelper(th,1e-6,0.5,pathPlanner)\n",
<<<<<<< HEAD
    "robot_control.th=th      #give pathfollower the connection to the thymio\n",
    "#---------start planning\n",
    "robotStatus.pathPlanner.setGoal(np.asarray(endpoint_coord))\n",
    "robotStatus.currentPosition=np.array([(thymio_coord[0][0]),(thymio_coord[0][1]),(thymio_coord[1])/180*np.pi])\n",
    "robotStatus.pathPlanner.setStart(robotStatus.currentPosition[0:2])\n",
    "robotStatus.pathToFollow=robotStatus.pathPlanner.getOptimizedPath()\n",
    "estimatedRobotPose=robotStatus.currentPosition\n",
    "\n",
    "#show path on image\n",
    "originalPath=robotStatus.pathToFollow.copy() \n",
    "plt.imshow(low_res_img)\n",
    "plt.scatter(thymio_coord[0][0],thymio_coord[0][1])\n",
    "plt.plot(originalPath[0],originalPath[1])\n",
    "plt.show()\n",
    "#-------------path planning and map generation complete\n",
    "%matplotlib qt\n",
    "\n",
    "#constant kalman matrixes\n",
    "A = np.array([[1,0,0],[0,1,0],[0,0,1]])\n",
    "C = np.array([[1,0,0],[0,1,0],[0,0,1]])\n",
    "Q = np.array([[0.1, 0, 0],[0, 0.1, 0],[0,0,0.1]]) # Dependent on the error (can be linked to stated as velocity, but velocity is not taken as state. )\n",
    "R = np.array([[0.1, 0, 0],[0, 0.1, 0],[0,0,0.1]])\n",
    "Q_ini = Q\n",
    "X = np.array([[estimatedRobotPose[0]],[estimatedRobotPose[1]],[estimatedRobotPose[2]]], dtype = \"float32\")\n",
    "L = []\n",
    "\n",
    "timeElapsed=np.array([0,0], dtype = 'float64')\n",
    "\n",
    "robotPositionUncertainty=np.zeros((3,3))         #variable to store the accuracy estimate from odmotry\n",
    "\n",
    "currentState=stateName.planAcquired              #initialize state event\n",
    "futureState=stateName.planAcquired\n",
    "originalPath=robotStatus.pathToFollow.copy()    #store path before loop, loop removes waypoint from non original path\n",
    "doPlotCounter=0                               #variable used to show the image taken of the camera after 10 loop executions\n",
    "deltaT=0.0                                   # variable used to store the time needed to execute the loop once\n",
    "tbefore=time.time()                          #deltaT helpers\n",
    "tnow=0                                       #deltaT helpers\n",
    "\n",
    "#lists to record data to be able to plot that later on\n",
    "unfilteredCameraCoordinates=list()\n",
    "unfilteredOdometrieCoordinates=list()\n",
    "afterKalmanCoordinates=list()\n",
    "\n",
    "cutOfDistance=5                 #distance in where successive camera measurments have to be to the last one to be considered stable\n",
    "cameraDataStableCounter=0       #counter to count how many camera measurments where stable in a row\n",
    "cameraEstimate=robotStatus.currentPosition    #used to store current camera position estimate\n",
    "newPositionEstimate=robotStatus.currentPosition\n",
    "cameraData=True             #flag used to store whether the camera can see the position of the thymio\n",
    "numberOfStableMeasurments=10    # minimum of measurments after one measument was unstable to be considered stable again\n",
=======
    "robot_control.th=th\n",
    "print(np.asarray(endpoint_coord)/2)\n",
    "robotStatus.pathPlanner.setGoal(np.asarray(endpoint_coord)/2)\n",
    "print(np.asarray(thymio_coord[0])/2)\n",
    "robotStatus.currentPosition=np.array([(thymio_coord[0][0])/2,(thymio_coord[0][1])/2,(thymio_coord[1])/180*np.pi])\n",
    "print(robotStatus.currentPosition[0:2])\n",
    "robotStatus.pathPlanner.setStart(robotStatus.currentPosition[0:2])\n",
    "robotStatus.pathToFollow=robotStatus.pathPlanner.getOptimizedPath()"
   ]
  },
  {
   "cell_type": "code",
   "execution_count": 11,
   "metadata": {},
   "outputs": [
    {
     "ename": "NameError",
     "evalue": "name 'robotStatus' is not defined",
     "output_type": "error",
     "traceback": [
      "\u001b[1;31m---------------------------------------------------------------------------\u001b[0m",
      "\u001b[1;31mNameError\u001b[0m                                 Traceback (most recent call last)",
      "\u001b[1;32m<ipython-input-11-cc7fdad0f2bf>\u001b[0m in \u001b[0;36m<module>\u001b[1;34m\u001b[0m\n\u001b[1;32m----> 1\u001b[1;33m \u001b[0mdistanceGrid\u001b[0m\u001b[1;33m=\u001b[0m\u001b[0mrobotStatus\u001b[0m\u001b[1;33m.\u001b[0m\u001b[0mpathPlanner\u001b[0m\u001b[1;33m.\u001b[0m\u001b[0mgetDistanceMap\u001b[0m\u001b[1;33m(\u001b[0m\u001b[1;33m)\u001b[0m\u001b[1;33m\u001b[0m\u001b[1;33m\u001b[0m\u001b[0m\n\u001b[0m\u001b[0;32m      2\u001b[0m \u001b[0mfillUp\u001b[0m\u001b[1;33m=\u001b[0m\u001b[0mnp\u001b[0m\u001b[1;33m.\u001b[0m\u001b[0mzeros_like\u001b[0m\u001b[1;33m(\u001b[0m\u001b[0moccupancyGrid\u001b[0m\u001b[1;33m)\u001b[0m\u001b[1;31m#helper to make picture 3 colors\u001b[0m\u001b[1;33m\u001b[0m\u001b[1;33m\u001b[0m\u001b[0m\n\u001b[0;32m      3\u001b[0m \u001b[0mmaxValue\u001b[0m\u001b[1;33m=\u001b[0m\u001b[0mnp\u001b[0m\u001b[1;33m.\u001b[0m\u001b[0mamax\u001b[0m\u001b[1;33m(\u001b[0m\u001b[0mdistanceGrid\u001b[0m\u001b[1;33m.\u001b[0m\u001b[0mtranspose\u001b[0m\u001b[1;33m(\u001b[0m\u001b[1;33m)\u001b[0m\u001b[1;33m)\u001b[0m   \u001b[1;31m# normalize values to fit into picture\u001b[0m\u001b[1;33m\u001b[0m\u001b[1;33m\u001b[0m\u001b[0m\n\u001b[0;32m      4\u001b[0m \u001b[0mprint\u001b[0m\u001b[1;33m(\u001b[0m\u001b[0mmaxValue\u001b[0m\u001b[1;33m)\u001b[0m\u001b[1;33m\u001b[0m\u001b[1;33m\u001b[0m\u001b[0m\n\u001b[0;32m      5\u001b[0m \u001b[1;31m#create picture to show  map and distance map\u001b[0m\u001b[1;33m\u001b[0m\u001b[1;33m\u001b[0m\u001b[1;33m\u001b[0m\u001b[0m\n",
      "\u001b[1;31mNameError\u001b[0m: name 'robotStatus' is not defined"
     ]
    }
   ],
   "source": [
    "distanceGrid=robotStatus.pathPlanner.getDistanceMap()\n",
    "fillUp=np.zeros_like(occupancyGrid)#helper to make picture 3 colors\n",
    "maxValue=np.amax(distanceGrid.transpose())   # normalize values to fit into picture\n",
    "print(maxValue)\n",
    "#create picture to show  map and distance map\n",
    "pic=np.dstack((occupancyGrid,np.divide(distanceGrid,maxValue),fillUp))\n",
    "plt.imshow(pic)\n",
    "unoptimizedPath=robotStatus.pathToFollow\n",
    "print(robotStatus.pathToFollow)\n",
    "plt.plot(unoptimizedPath[0], unoptimizedPath[1], marker=\"o\", color = 'blue');\n",
    "\n",
    "plt.show()\n"
   ]
  },
  {
   "cell_type": "code",
   "execution_count": null,
   "metadata": {
    "scrolled": true
   },
   "outputs": [],
   "source": [
    "timeElapsed=np.array([0,0], dtype = 'float64')\n",
    "print(\"robotstartPose\",robotStatus.currentPosition)\n",
    "robotPositionUncertainty=0\n",
    "print(robotStatus.pathToFollow)\n",
>>>>>>> main
    "while(True):         #main execution loop\n",
    "    ##---------------------------------------------read sensors  \n",
    "    \n",
    "    #----get robot position from camera\n",
    "    [frameCaptureSuccesfull,newPicture]=videoCapture.read()\n",
    "    if(frameCaptureSuccesfull==False):\n",
    "        raise Exception('could not read from camera')\n",
    "    newPicture[:, :, [0, 2]] = newPicture[:, :, [2, 0]]\n",
<<<<<<< HEAD
    "    thymio_coord = Vision.get_thymio_info(newPicture,M,dim,im_dim) # Do these online, and feed info to kalman filter\n",
    "    \n",
    "    if(thymio_coord[0][0]<0 or thymio_coord[0][1]<0 ):\n",
    "        cameraData=False\n",
    "    else:\n",
    "        cameraData=True\n",
    "\n",
    "    if(cameraData==True):       #if camera communicates it sees the thymio check if position is stable\n",
    "        newCameraEstimate=np.array([thymio_coord[0][0],thymio_coord[0][1],thymio_coord[1]/180.0*np.pi])\n",
    "        unfilteredCameraCoordinates.append((cameraEstimate[0],cameraEstimate[1]))\n",
    "        \n",
    "        if(LNG.norm(newCameraEstimate[0:2]-cameraEstimate[0:2])<cutOfDistance):\n",
    "            cameraDataStableCounter=cameraDataStableCounter+1\n",
    "                       \n",
    "        else:\n",
    "            cameraDataStableCounter=0\n",
    "        cameraEstimate=newCameraEstimate\n",
    "   \n",
    "    #---------get odometrie data\n",
    "    estimatedRobotPose,robotPositionUncertainty,timeElapsed=robot_control.odometry(robotStatus.currentPosition,robotPositionUncertainty,timeElapsed, robot_control.MAX_SPEED)\n",
    "    unfilteredOdometrieCoordinates.append((estimatedRobotPose[0],estimatedRobotPose[1]))\n",
    "    \n",
    "    \n",
    "    if(cameraData==True and (LNG.norm(estimatedRobotPose[0:2]-cameraEstimate[0:2])<cutOfDistance or cameraDataStableCounter>numberOfStableMeasurments)):\n",
    "        newPositionEstimate=cameraEstimate\n",
    "    else:\n",
    "        newPositionEstimate=estimatedRobotPose\n",
    "\n",
    "   \n",
    "    #------------filtering\n",
    "    V_left=th[\"motor.left.speed\"]*0.0135\n",
    "    V_right=th[\"motor.right.speed\"]*0.0135\n",
    "    v_avg = (V_left + V_right)/2\n",
    "    v_delta = V_right-V_left\n",
    "\n",
    "    tnow=time.time()\n",
    "    deltaT=tnow-tbefore\n",
    "    tbefore=tnow\n",
    "\n",
    "    #kalman matrixes\n",
    "    B = np.array([[(math.cos(newPositionEstimate[2])),0.], [(math.sin(newPositionEstimate[2])), 0.], [0.,math.atan(v_delta*deltaT/9.5)]])\n",
    "    Z = np.array([[newPositionEstimate[0]],[newPositionEstimate[1]],[newPositionEstimate[2]]], dtype = \"float32\")\n",
    "    u = np.array([[v_avg*deltaT],[1]])  \n",
    "    X=np.array([[robotStatus.currentPosition[0]],[robotStatus.currentPosition[1]],[robotStatus.currentPosition[2]]])\n",
    "    thymio_position,cov = kalman_filt(X,u,Q_ini,Z,A,B,C,Q,R)\n",
    "    Q_ini = cov\n",
    "    robotStatus.currentPosition=newPositionEstimate\n",
    "    afterKalmanCoordinates.append((robotStatus.currentPosition[0],robotStatus.currentPosition[1]))\n",
    "                                       \n",
    "                                       \n",
    "    #------------check if unexcpected obstacle is present\n",
    "    robotStatus.obstacleDetected=not(all(sensorValues==0 for sensorValues in robotStatus.thymio[\"prox.horizontal\"]))\n",
    "   \n",
    "    #------------------------------make desicions and work with the collected data \n",
    "    \n",
    "    \n",
    "    \n",
    "    stateToExecute=switch.get(currentState)\n",
    "\n",
=======
    "    #thymio_coord = test_vision_v4.get_thymio_info(newPicture,M,dim,im_dim) # Do these online, and feed info to kalman filter\n",
    "    #-----get odometrie data\n",
    "    estimatedRobotPose,robotPositionUncertainty,timeElapsed=robot_control.odometry(robotStatus.currentPosition,robotPositionUncertainty,timeElapsed, robot_control.MAX_SPEED)\n",
    "    \n",
    "    #-----estimate current robot position\n",
    "    \n",
    "    robotStatus.newPositionEstimate=estimatedRobotPose\n",
    "    #print(\"stuff\",robotStatus.newPositionEstimate)\n",
    "    #check if unexcpected obstacle is present\n",
    "    robotStatus.obstacleDetected=False\n",
    "    not(all(sensorValues==0 for sensorValues in robotStatus.thymio[\"prox.horizontal\"]))\n",
    "    robotStatus.currentPosition=robotStatus.newPositionEstimate\n",
    "    #make desicions and work with the collected data \n",
    "    stateToExecute=switch.get(currentState)\n",
    "    print(currentState)\n",
>>>>>>> main
    "    futureState=stateToExecute(robotStatus)\n",
    "    \n",
    "    #--------------------------------controll the robot\n",
    "    \n",
    "    #stopping robot if goal reached end programm\n",
    "    if(robotStatus.doStop==True):\n",
    "        robotStatus.thymio.set_var(\"motor.left.target\", 0)\n",
    "        robotStatus.thymio.set_var(\"motor.right.target\", 0)\n",
    "    if(robotStatus.goalReached==True):\n",
    "        robotStatus.thymio.set_var(\"motor.left.target\", 0)\n",
    "        robotStatus.thymio.set_var(\"motor.right.target\", 0)\n",
    "        break\n",
    "    currentState=futureState\n",
<<<<<<< HEAD
    "    doPlotCounter=doPlotCounter+1\n",
    "    \n",
    "    \n",
    "    \n",
    "    #----------------------------------do live plotting\n",
    "    if(doPlotCounter>10 or robotStatus.goalReached==True):\n",
    "        doPlotCounter=0\n",
    "        low_res_img = cv2.resize(newPicture, dsize=((dim[1], dim[0])))\n",
    "        low_res_img[:, :, [0, 2]] = low_res_img[:, :, [2, 0]]\n",
    "        low_res_img = cv2.circle(low_res_img, (int(robotStatus.currentPosition[0]),int(robotStatus.currentPosition[1])), radius=2, color=(0, 0, 255), thickness=-1)\n",
    "        cv2.circle(low_res_img, (int(cameraEstimate[0]),int(cameraEstimate[1])), radius=10, color=(0, 255, 0), thickness=2)\n",
    "        cv2.circle(low_res_img, (int(estimatedRobotPose[0]),int(estimatedRobotPose[1])), radius=8, color=(255, 0, 0), thickness=2)\n",
    "        cv2.circle(low_res_img, (int(robotStatus.currentPosition[0]),int(robotStatus.currentPosition[1])), radius=16, color=(255, 0, 0), thickness=2)\n",
    "        cv2.imshow(\"Display window\",low_res_img)\n",
    "        cv2.waitKey(1)\n",
    "            \n",
    "\n",
    "#-----------------------------------plot collected data\n",
    "unfilteredOdometrieCoordinates=np.array(unfilteredOdometrieCoordinates).reshape(-1, 2).transpose()\n",
    "afterKalmanCoordinates=np.array(afterKalmanCoordinates).reshape(-1, 2).transpose()\n",
    "unfilteredCameraCoordinates=np.array(unfilteredCameraCoordinates).reshape(-1, 2).transpose()\n",
    "plt.scatter(unfilteredCameraCoordinates[0],unfilteredCameraCoordinates[1],label=\"unfiltered camera\")\n",
    "plt.scatter(unfilteredOdometrieCoordinates[0],unfilteredOdometrieCoordinates[1],label=\"unfiltered odometrie\")                                   \n",
    "plt.plot(afterKalmanCoordinates[0],afterKalmanCoordinates[1],label=\"after Filtring\")\n",
    "plt.imshow(low_res_img)\n",
    "plt.legend()\n",
    "plt.show()\n",
    "cv2.waitKey(0)\n",
=======
    "    \n",
>>>>>>> main
    "cv2.destroyAllWindows() \n",
    "cv2.VideoCapture(cameraIndex).release()"
   ]
  },
  {
   "cell_type": "code",
   "execution_count": 29,
   "metadata": {},
   "outputs": [
    {
     "data": {
      "image/png": "iVBORw0KGgoAAAANSUhEUgAAAU8AAAD4CAYAAABsdWSLAAAABHNCSVQICAgIfAhkiAAAAAlwSFlzAAALEgAACxIB0t1+/AAAADh0RVh0U29mdHdhcmUAbWF0cGxvdGxpYiB2ZXJzaW9uMy4yLjIsIGh0dHA6Ly9tYXRwbG90bGliLm9yZy+WH4yJAAAgAElEQVR4nOy9ebxkRXn//36qTve9d+7c2TdBWWSXxQ1ZFZBNURZRQBO3JEQMSjTGXROXJIKiWdAYlwiOoEhcUTYBJRFkWARFCCAIAwwzwDDD7Hfp7nPq+f1RVefU6e57Z0Cdb36v1xT03O5z6tRen/o8S9URVWVb2Ba2hW1hW3h6wfy/LsC2sC1sC9vC/x/DNvDcFraFbWFbeAZhG3huC9vCtrAtPIOwDTy3hW1hW9gWnkHYBp7bwrawLWwLzyBsA89tYVvYFraFZxB+L/AUkVeKyH0i8oCIfOgPVahtYVvYFraF/+tBnqmfp4hY4H7gGGA58EvgT1T1nj9c8baFbWFb2Bb+b4bs93j2AOABVV0KICKXACcBk4LntMFpOnNkZvlbEP+vxCta+wMS/yf+S3im/JlcTVOtfmr1DIKi/fMp/8T7giBlFFV/2yQxtJZGFbTMD6Qsav9FqueqTvaz+iZJii7USpIomlSvllwscLpgSowjqCrO+QQ0fKhHDc+DhpZM01V1gEPJcdr2pdO0FD0lSgqg9Vp29W/9gvbc1tAKvh1CX0sTxAAGERNSMcl4kuT5ejb1u/UagCKiYXTE1g+xtT5a0+9aK3Q9RT8HqjHe20pJ/8es4iNa9UWYUbGUSQJlL5dXXfhrRKpnJA6etAU06SMNz1YNlc7MUCAcRa3utSQmmQtV6BoL5a8wL7WrZ6S7NWN5qme60+meF1VNNWlYmGiP0+60e0Yj/H7guT3waPJ7OXDgVA/MHJnJX7zmdGLRBCGzTUQsRhwSGhyHr5AIWIsgGEwY9hZn/KRIB4wVMElMBMQUYdBkiDZRIJccR+GBMLStikWxIeMWoBjJMDT8M4Cq0lBD0wmq0AbyCCRF6GwRnAiKwWFBhIZRMuMHrJHQcU5wTkJ5FIcSbvl2cQIOnIHC+I4WLUAdRg1WLajQMkrLOIwqzcL/dQ6KQnxN1LeoKOA8aGqRo0XhJ3+YKIUYCgx57piYyCkKpd3q0Gl1QNWXR8GqI1OH4mi7nFxdGIseOIvOJpyboKNrabmHcDqBFG1wHkgdHTSpK8QlSlB1AZCVggg05fJKhCoPhREq/QRxGDrSQDGIWkQNyCCF3R41IxjTxNghjFgyGcDS8CCqWah/mGZGSkVWA6XhexUX+qAAOiqIOAZMi0wKCskoGPCj0FnQOEoFUT/GTBgbufH1MqZAJKda/jyAGQk1UouGWkZcNhR+jggYG7ITxQmoOlxRoKpkxpIZ30o5GQ5BcIjkiEADRxbauBMmz4BtkJkMFYczLuBbBljUKeocqoqhg9BBEdqa4TCIAWt9X1g1GBUKadOSMZSCzPk2UKfkYS0VdeVi4NLFuVwUfNs4Bacm9EELpINxGY1iAFGDUqBS1MhMLkoeFraG5BhxYdRIIAQd0AIX5jVA5gQbxmBR5KFcHhNu+99fMFn4fcCzHxr3LCkicgZwBsCM6TMx0sTgMFqgYnBhGlgVssAOVOLHBOYgNExkqIrBA0kukIv4CeVMyYb8gALnfDqiBUYnPDipQ9ShCLnxeRtRkDx0qB/MLlk9I69xztApPGh3nKNQVzaElrH8FRULgIdqV04k0TBRVdA43wREFXFh1SskgHqoC9WAy53QcRZVyI16cFU/EEwYbM75QelcBxdZZOHB0xU56gpUHIXkvs3yBi63qBa4vA3OoW2H62gAdEXUg746D1eFa1PQIUNoiF9QWhgcAwjTMSwEaVGwkZxNCDmUE7nAlLwnVlCIfMYS+ULFJ1wJmbGXlYIMh0XJUJ0GWJw0wGRAE8xAGD82AVXf7loui6DhOur7JRap7F0VEMEoNNQvz02FDEeuDVQGA1kpQHxfO/Xj1UX8E8WalKP58RpHmwiIBUQRKVCKUOZGmEca7oWmkkAYREEyVJuggrGKNa5aWlQwYhGxiDiMtIECUYNRW45VFePB2BQoDnEOcbasgwrkAUj9HC0AwaEUqogIDbFYkdAzflwaKuHP2groIlhIwkQjU8zw9XTOoC7zPWUchQjGCJlxPmfVso80slHrcCaMlHDfKJjQHyImLLgB/FTInGCcwVHQsQUOh7ocdXnJ2PuF3wc8lwPPSX4/G3isO5KqfhX4KsB285+tVgawdLAoToQJNZEHkiEgijOeOamIX93CamusBxlT+FW0LUJbAvDigcnhInGlrZ4tWC2wLkdUaeaQFVAYQ6dhUYFMFCvVZFYEpy6s2v5eBM+iMKhCJ88pnEOM+A/gVMPSKiUz7hQ5rigQFWxhQl/4CYwRtCFgwTiHKVxghwZx4ETKuoh6xlao0M4D9AggioogxgQGJ6gaX/48x7kc55TcOVCHywvUFeQmp2VaHljHB2CigZEcK+OAQ3OD63gYk1B/U1g0z3A4Cm1RMEFmDE3jh1GOJRfP6qxYRDt05EnagNAJkyL3i10iHnYLaZUVU5NvUfxSUM+OOmR0GES0gdUZCA2cHcDZgSDNDOA5hcWoQfDUz4Onw4kLYqcH19j/4GE8iqb+vmBUyNSDaBNLJorQpJAh3x92FEwOKrg8ALBRNADdUFjofdo2gKeiBGJgPUiKLcAophBs7smDMw41lUrKA3JkaxaxQ6AWsW3EtAlXPYCJxYoFcTjTwYlDnMHk1re2WJxYnHEUJgcKrBZIXLCMRREK58iLMBZsjogLbNwrj7AZKhZRxRZ+vEbNj4higiRYiMVFNUqpGvLj0wBZaC91Bi2aQSpQnBgsjkxzDOqJQlQvqAUFlyk2qwiDqmJUsSpB0jUYL9hRqB9/jdxgMV4yMFCI+nlS5GiJC73h9wHPXwK7icjOwArgDcCfbu4hUVe1KFSrfFjhPDMIy7VKOl/KVUSd+pXG+BWK8lpIL0yuqN1RrXrRAUUUActihMaOYpJ/iEo/omU6qlqyubIeZf+HuAqYWIZQySRJlUArw/Pqwkc1iDX1JvIPS5W2lAkTyDhRgiYpm6oLaTrPHLWqjaqAM6h6VlnpJ+NgTNoi5OQkgEHJFG2pqoiLjtc7Goz4oWVkkEymAW2kFBYjPNZltlRHV37TpA0FP0kIcisDCAMgDWAAaCDSDB+DSIbBEmSTsKCF8QVdetCKcfp7tZ4rmbCIlEwy/jUUZbMRulWM7xArfkJmCFYcFqEgdrLDhuXemqB7FEWMQ0yQmIxn7NgcZ4pQwFB+oxjxZfIynEEsGBMWiLAw2cDYPAgbzzSdxTV8OxprMeG6s179YZ3BFr69CjGoQJErRZ4BnkWL8dJfRxQEmiYjE+MJjjNBWolj3vnGEPVqogCyor4dvb7c06hM1I8Q1wBnUSCTjNwIVr1sY9RLIxV4+s5rZNC2QQ3kBHWOTC0NtRgBawQjLgFPyAqDKQy5ANKgEEujyCkKgzWTOyQ9Y/BU1VxEzgKuDqP5AlW9e+qHHHQmPB0Mkz0banDwcS9g9ryRynDUTyEwya044TanQ5Cua9Ln2tS51WMl0sbk6UjyRbtjbCZ3nbwRNHk0wdGeotaMY925peDc7XGR3Itwmt7szq+23tRzqcqgmpTHUZorNG3E/m2hTlmx7GG+8e//yuj6UQgiupERjJmOYLEyCGRgMoxtIghWMg8oknnRFsEZD/gWQ4YN2QbwF8Vaz46CMsCDh4c7jESB24vCBiGjjdJBYzIYnHE469lfw1gysX7Sq1c+dERpG887nXZQHFkmNDOfgcnw64stkKyNAoVt40wepArPRq1VskyxpsFQU7CmgbVgMhsGuJ/41giZ8WUrGMTRxBhLZjOvjoiMVjLEDCECNtgYPJgXnmVqQaFe1ZGJX3AKlE6YTBmCEQLBCAajwAKi2gGJzDuUDb+wu6DeimMFFKPRzgHQREVLCczLDqHNVUs1UCFR66UULkfVL1gZXlyPyh+n+PwS5paro+WGcaGfDMptv2r0HZPw+zFPVPVK4Mqn8QAUBRSCFn4AHPCK5/PcPXZieHDYG4ggsVD3D90sobxWZVT+m3Apfy0wHFGP+HF6l0L7VBmTAEQKOAkb8HnUCkZptXcxclpaTf5NHur5Ngm0RKBUAuurYE+1F+hKHq31upTCs0au5fW+k2XYBydL0E3LENP3UFGESAXBDOclETwb77e0+MeVOXPn8taz/pYvnf1pEC+qixkuwVNM0zNM4wG0VB1Exile9FQbmafX+XlVh89RxKHGi/JG/eRxcYUKy5SE/vQM1GIosLEONLzYKl6viygNIzTFYlUZcIUHExONUA7F6xgzI2RGPOMMqiBVFyQYRW0bTO51qc4vBNJQbAaZhYGhnMwK1lpsZvxcMl6utwYagUAVmuEAaw3NZubzI845gzEZIsazVRGMcVjTQUyBw1KEWZN5qEwMT97kavE60JwijKtk/oUv0c6Bgg1yoG+JoMcMkqNBvToO9X0chlQ0DVRjxpeMsNg5jE/PeZ1+VAWIjxrGqVKEfJzz475wjmbe8IY3CeoD+0dgns8seJ1c1CUpMGvBCMODw8HSGGNVQbuulU4VARVdea93oqdEthusYnaRuU1FelMeFXX+NdaWsqYS+JMMJKzApkqnu2K9jLq73H0qlmSrCQeN+ZdkN4mvKknZ0y8B1DU+2wW8kzDDbkLd3V+xrh4qgilIHUKDbkZagr0m5QmKvYEBZcdddmP3XfdConHIDOHMIN4VqUEpmgdWVLrgiHdV8szTL6AGQ6ZZAM/Yd4qainka8WVPTFtY8UtUhsFI1zIRARqHkyEgWL/FeCCIRr9gEa6MVoo1kNlIbYVSHxXhweTesqyCC/pZa8EasNYy2BjEGosxgrFh5ITBagOAghdVHYoxhiwzgYRouchbwRuWgq0hGqmigrVc9kPFDRC5WRyvVsJiHnS8hPQjx0gVNFLd9s8BEgyQNUIU3ODixBWiwOANdBqQIeqqvenBk4nMWJrGUOSWDauHmNjYoFDISwJR+PHplLbzi9XAUIfmYI5z/2fAEzSY7lzZMYLtpnuaiqMVusRqVGJixUAl+L9I6Z8Wn66jh0mBog5z/nuZeOSkMbWaN1+42AWc4bqfsBp/UPrmJDOt9FXrYqm+XpV5pJ6nlI1TlrwHXdMhl9a+e/mgZPoJZex9urtrJLkHpB4GtXh9SGu1IUPLNo0RVYNLDNE1xnm9ZXBVQ2BwYJCXvOggFK+Xw1SShBeyTS3j0kKNB0vw7l++qsm0V5+fBy6tNXyYn2GCBsArGY9ixDNcPxC10mvHckRzc6krDekEQ4Qpx5VnuqW7m/gxUo75xK+08vGoymgj3qK+wF3jOy76XmNWjSElGEgIDA0Plho8UqpFNGaQkJfAByoQiXp1X1GlAl6FoPygrG9U7ktZP4LqUkpJqhpwGtGyLLeIhkvevSuOu1i/6PrVsJaBrEm702Dd8oWsXj6d3Amt4DljpI0Ez5PcAcYxNG+Uwdlj5LllsrBVwVNEaAw0/ICJi72AMXVO049tGSpgi0MiBZZS1I+4FTo+XanKp6XXyTrGiV0TB2+6Kqf5qWoQ/ypQLB2d49/4s/yd8LLuAtSe0XIBKde9RCEcjRm167V69sJnApMxlTJLTYxDpvZ4PbUeG1JZq4TNBpef3vVQSzet2MbiG9lf05J/Bu2GZ51GTAI8wuDgkPdUjB0uXjCLvpGRwfqipOApZR388PAuTBDqr1V65ZwNzCUY5YmeqOWyKorBYINxrDQAxoZWRUtfHZJBWoGpoQKTOEI8v5BQFKnux8U11qXsSS3BB1yywPknYx6x3GnfRCrhq6/RI7Jk2zGldDEvSyzpNUpHk3TBroZtVb/YzEny5d+6A3xsh8Ary8S75lbXeItpSGjz2j3jsNZ5vbd4qcME16ciNr4zaGFxha1coPqErQqezcGMHfaYh9EOxmtKsJnQGAhWz+4ZDtXqFcSItNFVKrG9H4us7Top73WJDLUr9as//PGPOOez57Jg/nw+8N730Ww2OfAlL0nSr4dJmzksqcuWLePAw17KrrvsUt66+BsX8Xcf/xjfOP8CfnHjjXzhS//BJd/8Fr+48UaazQYHvuSAvkledfVP+O399/Oed7170jKkjFD6XOv3TP86VNO0fmUSXhvqG3/HWHFBiqw8IdI+Pev1WhIs+lG/WBVOMNkgzkS9dSoNREfoxOcv6AuhMlDE3vZivb9SGjCSWV3Bk5R+w549+WetiTlGS36sV+VjWBuVETTxLLA0hEi14yngNZ451ll/Omq7x29kdq6UdkzSIuk4lSB59e69iUBugltadAbxTRKFbwlml9i9NUiu1h6pj45SE18ulBWwa9w4QkVUTLUSl/U2UXYICwsQtMUh3bD4ZjX1n6+9OkdbOzhTMHeHlUyfuxqngtMgh2oHpwXtiQYb10wjzy2mCaYYpOL+vWGrgmfWMMxdOB1DC8M4aNDbZNI1UTT5G4ZWANBqrYQ4CKA2zpLQez/ZiNYHPOvg8K1LLuZfzj2Xw172Us7+zLlMHx7mkIMn30TVXYY8z8lsVkKPsYadd9qJJf9zfRJL+ebixQAY69shs4YlNy/x+R10UK1FAIo85/hXvYpXv+pV/QuSDD7/pz/T9nEnu9OfGgiVZFxnI10hTqAaBkQQSfrZy4iJCkHKaOVzgcoJgrEZGsdzgjERgFSk0usGwPITM/ErDGlFgUwlsJpYo1LNUomtXuMm5WKdEcVCb5etqiU+pnSNPA0gE/rClJWseGGsuBFK7pf2QrqE1RbJAEoloIW6RJhMS5JgeJmmEHZEiWLKXKgWOUyyJgbjn1YsPhoqU0VBKRiUECZlfNFkpouUaUTG3jOmxPvYSrnAlTeIBj8nqTQrUbzwLaBKoQVIwfCccYZnJyNXIXc5Th3jGwdwBXQmGjgGUNfoYcJp2KrgqU5ojWUU4xn52DRQmLunpej4YRzF27J9RDHWlZ1YHz69lmTicyU81tq5a+BUw+oNb34Ly1esYKLV4h1nnMFfvPWtfPqzn+OmW27h4Ufexz57P48lN9+MNZb/+t53+ew557D7brvxN+97H48uXwHAZz71Txx84IGc/ZlzefyJJ1j26KPMnTOH87/y1alahEeWLeO0N/4pt9xQbQN7ZNkyLlj8Daw1/Nd3v8e555zDRd/6FrNmz+Kuu+7i+fvtx/Oe9zx+fccdfO4z53LmWe9kZGSEX99xByuffJJ/+NgneM2JJ+Kc4/0f+gA3LlnCjjvsiFPHm/70jZx04olVK0kFhlXLdbPxKoLGSaP1ZayM1zUx42//Pdrvg24Q9aItBOagyaCPz8QElE6e88Cyh+hEEFOHuKIqV/jrwoQpdZRElpuKwt75HzybLPosqiIa0otpR11s9BcEb2P2NmEphd0ItyUfDlf9teh3OTAwyPx5ixgamuaNG6l4XwJWFwgnJCPlj8GeUzK8iu91ga3Wxf+qv/1CpuIJite3RrSr8o9AiAS/a7wRDSKrDXO0dIKvAzFEj4WgYknmdLeKwrdibJMoR8b2gXIrYtUw5fMB6alW2tAvJgwS/L0gCwR/6KhrDf68xkzGyoCtDJ4uN4ytHWTDE8NseGwEnPDcwzPysQEU5V9ufoDfPTWarF6KmKpDpqpIGhJew54LhvnQkTtW98JAqIRJ+OLnz2PO7NmMj49z+DHHcuKJJ/DBD7yfn//iBv7pE5/kRS98IWd/5jNMHx7mXWedBcBfnHEG7/yrMzn4oIN4dPlyTj71VG676SYUuOM3v+Gay69gaGgomUb+70MPP8yhRxwOwIEHHMC7Q3ppuXfcYQf+4s/eyvDwMO96p79/4cXf4sEHH+RHP/gBNsv41sUXJ/WBlStXcu1VV3Hffffz+je9kZNOOonLrricZY8+ypJf3MjqVat5ycEH8qY3vgkxJeeqyF/agAnqpTJAmWECVP5eZJlaXuzx5Ko57VffCxfdUxTnaqYQD1zOlc+32i2uv/2moIsCtA10cE7pFCENvM+gAnnhnbStKFkUxzULkybHaQsVv3PFSdj9FVDYSiKiBpD323zDlt3SWJVRSAMQxFVO33GUWQl70omgIGAtai1zZ8/j0AMPY3BomgcHE58Tz84iCU5axTPMmEPgw+LdakBC/VOCVjn2++6rVstogyn1ieL3yoP63VRhb2lqFKwgOXLuwFrBG8EkMH31zu1eFxt3coWZLV4I9+3qlyYvCUQSFTZ1CGjcbJJIDKUCRhPFRGRGpeEYCGcXSJyFEtIKAqyqX6A0jCenhsIphVMaTcE2skQi6g1b39qugsstnYmEEqd/a3Qxhop1PtPQn1H58OX//E8uu8K7q65YsYIHH1zKnDlzqgd75Aj4n+uv57777y+Z08aNG1m/YQOoctwrXsHAwEA58Us+4hw77bgT1193XZncI8uW+Q50LpxoFAAjAJFzwVqhyoknnICI6bmvqrz6uOMA2H333Vn15JM451hy882ceIJnmfPnz+dlL32pL2/cn1xjlD1eoiWG9vPA1GQ3VRXXle1RY5zhm3OuAtHwvHOF37HlKvCM+ZQ+fyERp46NGzfgiixca4H6/fvt3FFEf1Lxz+SF9+HLxJGJ32yLZogaHDlOJ3x8k4InNfCMbeMBxYNnJMfeMm4ppEkJni7RwwpYybEBPKLRU20G1jI4MEReFLUhn4JcMNL3tH39a5wbKfOqWr6EzUTyKu2cEVQrCTZJszLQaPo8UUSvUpdaXkGqkPReWu7AFmsrtgf00o6uZTckUdKRKbVFJaoMNFQwrVNMu2oEoStCjVnXWnsK4IStDJ4mg+HZio5PIGOKtYppzKUxze/G+OCROwCx0IIxismCV6ho3cpMuiL2Dr7ukIJmJcwoN/ziRv7759fzs59cxbRp0zjuxBNptSZq6aX9EINzjp9edRU2y5iYmPAg5hwTrRbDw8Os37ihyi8UctOmTThXsGHDhjKpTZs2UbiCdRs2sGlsE508Z/2GDbRaLazN2LDBp9NudxCE9evXg8DY+Ditdpv16zfQ6XTo5AXr1q33YKDK+vXraE1MMD4+xob16wCh0+kwOjrKunVr+7RPNbn8n6kXq9IlhRQsq+Fed1WKk0rLeKV7c8Is0yzLtNNrTuls2oBG3zv1jjeOuCBEduIfyoIYFkw6viSBOaYeHyoKUtcxVvo7z+d820SWBNU+ecWG3fvRTa4cJhqs1wEI/U4ez9kEv5/a7yvPPNuKWz4Dl+vlEAGkEv1sDVzCILVlmydAWhqzKmA00RAk6nfvAOWxLCKJMSb0cgI65bZK1G9rBGw4R8A3Z2B5Us29uBzF+S0CRuMWYVdub267gkIdxhqs8UZE74Dvyt6t0vYtbiWdqUFhE0T0WHNfrbh9y59RoAImMzgryLj1J54V0fc3HgzUP2xdVyUDgyOgM9rIzA52oMDaWWQDfstXaaVLFP7Vyjk5cG5J6I4b18r1GzYwa9ZMpk2bxn33/45f3nZ7uFMP06dPZ+PGjeWqfeQRL+erXzufM/7yLxkfH+d/776bvfbYg06nQ7vdZnRstCfj8fExnHPVPWAsuTY+MU5R5IyOjtJoNFi7di2joz5unudMtFpsGh0FlNbEhAfDTaPknZzWxASbRjcFcUQZHd3EvvvszY8uu4xXHnssa9au5aabb+YVxxzDpk0bt7yhuhpDEozbDLx2PVzxobTnUl/astPRvm5RqCMfG+suUnAhcjXmUd0PInBtT6sGo0XCjsL4igfSVCPEO8zXSiv+lJ7IajTubScctNFVcz9pJTieR/AJagExqDGh7FFPWu21rxJLFU0xdal91ZQRSr2Fyv4or1dnnKYLh5R1KqtHtP5Hg1TpwxLApwhtZ8KiUG2/rRuyKi6f9E1VYr9NUyF3jrYWNKRaRjLUH3RCOAqy1j6hbUmAUvyYiKeSRfA0+NO1PIiHsZKFklnjsaeIa3nSbn3C5Hb4P0pQcvXnQOaFUhSxsnQNFOpt05NKFW1LQ31CVdeOOeooirzgoJcdxj+dcw4v2f/FfZ8/7hWv4LIrruSQw4/gxptu4rPnnMOv77iDI445mlcefzyXfOc71ASN2tfKP7C8WeoHa/ytvP/yww/nZ/99HSefdhq3/epXfWqfph0JndbSOeboo1m4cCGvOeUU/uEf/5H99t2X6dOn92+gmow0yb0tAs7JEupugymen6JjY1tWp38mXFHxIBmykeSTZh1JmnSlWakfkv6J3ZQ2g0o8HrWC/pBv3Hsd84xcVHoGePVN0v+Cg3z3J+7jLveApN8jG4tWo2jBj14EyfWob6xJVFULevgLO7SA2vNCNEyF30aCPrU0wZVtJBIPLSHJq8soVMKaMt4aZfXaJ3hyzeOsWv0Eq1c9wcZN63DOH/NXxQyljP6bJu3omJEmdQreDRrdw9JBEceDIGqwVmkOdWgOt8kGJ7DN8dKo2C8849dwPJOwy8476zkf+yTjy5uMPTJANljwojfvyK677lQxAOoalKSk6Y+etBNeMUks6Y1XyW1dw9nHmKploi/h2PgYG9av952sVQk2CzI6+f1+2LElsNMvjI2NMW3aNNatW8cb3vQmvrl4MfPmzYuVmOLJ3lL0xt6S51OWmd6ZrJbVN+m6s/LJJ3nHn7y5bwlrUr90tb5CaXXt8uMsGVaZTsWUI0lL/SVdWovo6F4CRMqjkkKGiR7Bxp+vaJg3fxFHvPyVbP/sHcqDSDwoVsyhkrAqY1pVby3rEF2IjERACzMpGvAiiBC3EqSfaGSquKE/djB6ugR1hVSzs2r3VPcdW6HA4M/HLaVIrTSlGk8GQku99qMrlvLAQ3fT7nRotwrywvHsZz+HPffah8GBQb8dNvZh6KNCcgopAl6GNlcNGy78HvvoERBt+454VmqQRlQo1OJUaLUcG9a3yXPFC+WWr19yEY+vfKLvcr51XZUgbNiHwgnG1YYw1bClGq3lk88k9EJi+ntqBluf/LXi9AMW7R1YzzT8IZezd/z1X7Nx40Y6nZy/etvbmDd3HjUKOWUp6tP0j1fK/qn2568+yCT3IbDPnsVvkklur4MAACAASURBVPpIyoer5/y3bqegdHFP0uxC+v7ex8lYT5E+YY9p1NKG2lW33pSTukaVQNI6nhFWxhjpbjmJsaoFIK4o3b63nrX10cXWiECfuYzXDefxkBPxB8Mo0fNCGWWUtflar/bqFBS5MquYTcu2MZk/kMSfVG+webTvJ+0Qd+VJrTBdrDeqeEKVanG8jaUxUCCZCwbMgjppq4etazASw1BjmJzpjE9MR0wLiNS6Pniqv9VwqYZfX25aPtKPffZtgu7jj/qG1AadxEsGd6FetZy6O9fzmSTpPuWtPzRJmbofmIyVKyz+2vm9j2tvyk+7DJthjv1SnCylqcuw5XGr0naz3X7mlwCZGllbuCbpgl4JmNWWv2C4LMemlPgZNzeKVOlHVqpIeOWEEMXquM9cIy+UKr84I+Led59uSjOUyEv9zp9YFAk6PU9VvFE7OVRDuxaVdLho0CcGYLGxNSUccVemUz1aNYPWdgaJxDPL/Gf1yBp+veO9rJ+2sUyn5MQKa3dfzaoXraEoHEXhUAfrZy1j5cIOWdYIWmBh0Zo57PvwLkyfGPJuUlpxyrQ/av2g4ZTj0Ksu7DfToFYw6jDqkIZDh6Q8ZNkpTHGo0tYHz8HGdMZ1BtKehWTep7OyMlao2YMPybdKs1K/0x13c5O1H/j2EILyl/a9ogQn63DbpPF+D3IWB1bX+lorfTmBalkmbKhvmvUUNl/MfnenAtSpUtscZMsU9yYPEZP8lzpwTgX/Pk5gP1JdkaRlvKGhPoP83aALS7YiVgBYXS/3rGt8pYrgT74Mp//E/0oHdW+iiuM8ntMUD76p6RUDCNVPJItGGyAc0+YxOTwf2qnv4iPh8A6VILQCmPBeLsKwKmsa8pNkm201aqOZLZ63+dTIBm543i9ZPueJ/v0QXNjSsFw2cY+sqF3b9+Hn8twnFjCtZck0Iwv+pE7iMhQUEyb2ioR3cNlygVMJrn7i28dIgVGHNYqx3v80KhbM5OeCbH0/T6M5xrSQ5hjSnAAG6YaqLZs20vOtn4gjvdGnzCS6n/XuuukP0t2f3sSePjRNFur17GZXU4ffA8cnKcX/o9DP965s48rSXhcembLYgpR+rt3xuuUOKKckJGBRpeNpW50BJ8t5IK1RfyhBR+l1leGQY3pkMZ+ndKdWjbqUeFSF76lMYNrSczlmIiQCmVaHf1T1rFq4O0e/86wSa5woa4bXs35wE4/PfpKJRovCTu3+k4Z+BsZNg+OsmLuK8YEWVi1WLc1OxqxNwzTysNR0tRNx8VDCFlT/GpiUOacuVbE1N2dN37quSq7AtDZim6Nk81aTDSjIztSPJe55KtxLf00yEwJdL+PGFXYq4tbnfjmAwv2puVTwMZNob+x6ZhIyNpnY2V2OvrHS0VpSzn4i86QpTBqm4n6pr6z0jTF1SGP3X8umijF56LeIaU+MSUobXJZ6fSNjuXxq3QdDS+noXekGy8MrSI8+jO5LkrhH+ddmWIHMWBo2wxIObxYpRXVFylfGBI5MFOrNJKw4VImScSKVFR5wYhK1TWJYIryNUyNDNRTGzyET6hPfveQzCctTGT+87NCEdwY56GRtbt3lDn753LsYa46zdnh9vx54WuGxuau5/IAlNIqsbM/tVi/gyF8dwMK1cxGTWPFVQrn9W0HBvxU1AmYEBycmaWd/3ZS/Jx+HmwVPEbkAOB54UlX3CdfmAP8F7AQ8DJymqr2e1z1BEddGrGIGFdOskL7yUduy0Mvyeq/2rEDdD2wuwy1gq/VJW1fV1yIlz/ZjMr3pPl2G1w+le4XWp8t0J4u/OXF4c+H3fb47dKdVgmjP3tPJ6hR6L6V4YUyWL9tL4qY+lZoAaJV3soCVhpx4DpOUAOhfOexFbf/epfCGJiG8KqK3HyRQJe+f2m9hqBixJDqdkmtJ976fsNNcXVd8SpEcCFtG66UpDyWhOuTZBjevjsl5csZTPLDoYXQKw8vTCWODLZYNPlm7VgBjjQ65BGZp/AHJVmOvhtd7R9aZtFJUQqQan5rv6RRl2RLmuRj4d+DC5NqHgJ+p6qdF5EPh9wc3m5Io0nAMzlBmimLD2fjPZBLVBlMCkt2DYuonn2ZIxs2fv+1t3Pvb33LaKaeycuVKXvTCF3HowQfy5tNP5wN/+7fsvffefOVr5/P2vzx9s7l3s9Wp2iNykkt/9GPuvucePvqhD9fu9cP7hJ9utnrdv6oqa1r9KdLr4d6TpP6HUyRA5ciTTPtEj1nlXZcNlFJhXDtrtG+Raz+rNk1VBslVtSXzqx6qHIKs+FPbrfGnbRnC64Eh7F706fr9Pup336jfYhq3bdb9XNOy1MvrCbJJQDdtqyReYM5K6p9Z33QQjg0p23b57JXcv+h3tGy7PFRZAOuUdtZh2bzH6C9R/uHC+uFN3Lbn3Tzw7GXefiLKyPg09lq+E3M3zsD7icbzBXrRwVKU7lvlmFDD5ujcZsFTVa8XkZ26Lp8EHBG+fwP4H7YIPME0C6ZlfqdRJVqkXG1yptQXGromSBR3+uXtH5mKT21BEGHlypXccuut3POb3zA6Ns6atd6Zt1vo/OrXvlYDz35Cafe1oiiw1vZ9pro4eadGsOwHXdW9fm08ORcsGVZPjASUgsuJqb2bvF86v1+YLI36XpDI9hKBpNTfSHIh3Xnj/ynbJlhiFUr1j3R9fNB6vsR0TL1JSydur+e0qAdQa7DWIPF0phAnAqgNmWvh0KLqCy97B/BM5pAvUpfs473JKeeb9ptLlIan1CwlUCMnMX+HP+f04fnL+fELrmXj4CZiKaqxreRPQ8f5TMOakfXcsN/ttePjtl8zn4Ub5zF/01xE8rJkcfEpVRsavQp8O6Y+q4rp204xPFOd50JVfRxAVR8XkQWTRRSRM4AzABbOmxMKKeEEme6C9Z9waYdcfs8qzrv+UZ7Y0GbRjCbvPuw5HL/3vFrczYcqn0eWLeOUN/wJv1xyIwic94V/Z9PoKB/54Ac57oQT2f/FL+KGX/yCdes38MXPf55DDz6Yk173OlatXs0hhx/OP37ikyy+8EIOe9nLeOWxx5Tp/vO/nUer1eLk017Prrs8l8+ecw6XXX4F37z4YjqdDvvtuy8f+8hHMNay/8EH89Y3v5kblyzh/e99L4899lgt3t995CNYa/nhpZfytQsuYP68+ey44w40m82emo2NjXH2Zz7N3ffcg4hw5hlv59ijj+aTn/oU/3v33bRaExxz9NG888x3AHDsq47jVccdx62/vI08z/nE3/89//aFz7Ps0Uf587e8ldefeioAF3xjMVdfcw3tToejXv5y3nnmO1jx2ArOPOssDth/f35z552c9y//yvlf/3rffJ5+mKQn+xrgpPan6+rUuaSRkqS7x1IfEts/JPdLSaAb3OJFwes4jZTgnm7Rrr4r4gQ1yWtGalWutk5Gg001bypgIABH9azU6u0ZZ/eynszAINvmJmfd0CYmGm3WDK9lbGCciWZrMw1TJdvYCI2NVZ2rW31b3P9SD2f5ELRnEQ9M8s8ZpW06tfijAxM8NbKelbPWMNjOGG41/JbaAJwS804XzfJakEo2Y+z9oxuMVPWrwFcB9thlR83juqaWtJvSwZo2W8oTLr9nFZ/4yUNM5F5Ie3xDm0/85CEAjt97/paRykniaNffWIo8L/ifn/6Mq6+9lk+fey6X/fCH/NfFF3PqG97Akp9fz+jYGIsvvLArNeG9f/M3XHzJJVz6ne+gKA8uXcpPrr6aby5eTLPR4B8+9Skuv/JKTjrhBMbHx9ltl13463e8gweXLuX8r3+dby5eTCPEu+LKKznkoIP44pe/zHe/dTHTR0b487f9JXvtuWc9V1G+/J9fZWT6dH743e8B+JOegHefdRYzZ86kKApOf/sZ3H//feyx++4ALFq4iIsvvJDPfO6zfPTjH+Oiry/2wH/K6zjt1FNZctMSHlm2jG9/81uowl//zbu47fbbedazFvHwww/zj5/4JH/3kY8C8K4kn798+xncd//9ZT69HVHTnk3aXVsS6mywN0Sm0d+wVonvJWNEIPhLRqeiap8naNh1XfEziFsY0xxceas6ub4yBAnWClnm81L150caEw8JiUZI8WfOheJreYxf3D8ed9UApeis4bxRLZ2XKiwuvUBD2SJTrXaHe/ekeBxc2GEUjrdcP7yBn+55A0vnPcKa4XVMZFsInIDkMO/WjEXXZ0gefVKFQgqKsBVSXNjnpFVbZppjtWDdXsojJzpac6fOZ93wRn663y3cvPtdvOCRXXjpb/eh0WniEl/ZeF5p+TYpCS5j5X+dKXW1zxQ8V4rIswLrfBbw5GafoBKUItKnh3v0Exq7f593/aMlcMYwkTvOu/5RXr33/GqVr9W3jwAb4mifu+VTIfMTjz8eBV74/OezbNmySUo2Van9lZtvuZW7772X17/xjQC0Wq3y2DtrLccefTQAN996K/d0xZs7Zw533nUXB+y/P3PmzEGBVx77Ch5Z9khPtrfccgvnfvocYovOmjEDgJ9ccw3f+8H3yYuC1atX8eDSpSWovTycL7rbrrsxNjbG8PAww8PDNAcG2LBxA0tuupmbbrqJU9/wekAYGx9j2bJlPOtZi9juWc/i+fvtVxbj6jSfVatZmuTTf3nc0lacOrJAH/eyKlff5don4QiK+ImiXjJKNX3+ZKQ4Wqo06uoPH7/u2tO7GJcWcPBHwhkC85Rya6gRwbsqBgBVEBPSd44iTHpRfzKQ80VGk1mkoT7pTpxoORepTsSPZYtPRfD37WXq9Q17wluNFkvnP8xvnn1P3+6oNXxXEAfDKwzzbrOYdvRzEAoROhJOvHIG4xJ8UGiqw6KocdgJNjuUWs02SxetQBTmbxzBWYfk9XJVrmlR45me2hRPRv3Dg+ePgbcCnw5/f7QlD0nIMN1BMRVjqAGqCE9saPeN98SGdhWvWw7rK29V3zOb+RU8DOpWq1WLMTAwgADGWvI8r6dTHpqQXq43drk4qHLSCSfwnne9q6c0zWYTYysXkBP7xPvZddfViz5Jo6kG0StZRJavWMHiiy7kkm9+i5kzZvDRj/097XbVls2GF/+NERqJKsCIUOQFqsrpf3E6p51ySpKxsuKxFQwNDZXxYz7fTvJptbeUlWyJ2ECwnicwkVi5uxfgbgDtn2sKIemc7F7W66+AqTv5dC/DEv73fRF3ANXYX/zPZP6jGcQ3QIbDLmpif9yLbb07E6rB+bsI4qgrmaNJd0OVf+u+p7EMkW9XRQ8sW0lKqyCO5bMf4+G5y1gzvJY109ZN0qJVsM6y8+rt2X7dAiYmRnlqzQry8QlmLTXYcsNT1c7RoGW0/h6jaqOBMu2pBjveMp3WfGHNzuOs27415UqrwOOzn+Km3e5mxvgwO6/cLhiR/K4jn03Uy1Y9k7bSZGGzpyqJyLeBm4A9RGS5iJyOB81jROR3wDHh92aDIDTCpylCQ6S3eELt5Jg0wqIZvTq+6np8sEonLNDpz67chAULFrJq1WqeWrOWVqvFVVdf3V3oEh/7VKgE3XKnBZRMJssyOh0PUgceeADX/PRanlqzBoC169ez4rHHalNO8afLX3ttFW9diLfvvvvyy9tvZ+26dXQ6Ha659tq+bXHIwQfx7Uv+y5dJvNi+adMmhgaHGJk+ndVrnuKGG2+syj9JlVKMPvSQg7n0R5cyPjYGKCuffKIsX1VyZTTN56mn+EXMp7fBJgnV4O0eAHHqOyh3vMS/UaLpA2GTb5ntyjE4C4VzIxWDwx9wEQ5RLuGvihXP6YkW3urFbUHslvCaitqnPNUSxCCmgdgBrG3QMBkNYzHGxLex+VfLGuO3ulj/kSxDGg1MZhFrvbXeWqwxZGJphk+DjIwMS4bEj4S9Q8GnVIJzvogJB5e48PGs0FvgLYjh3kUP8J0X/ZjL9rmGx2eunKJVfWgWGS95eB/+5JbjOem6Q3nJt+az9+JBFt6Rkal3VH/5fMf3D3JcfYjws4MzfnqI5aydvZtRQ2EAaCr+uDqUGSsG2PfHC3jRdxex4LfDU209L8PvFq3g+wdcz2UvXsLjc1fTwGIx/jhAMcQj/KMHLmoQtaCNKUfPlljb/2SSW0dtvth9gkjNejlpvvRykXcf9pyazhNgMDO8+7AduvLYsnKg0Gg0+NAH3s+RRx/DjjvuwO679dPPUTGcrvlf4WfvjVNf9zpOPvU09tprT8495xze9c6zeNuZf4U6Jcsy/u7DH2a77barZbPLLrvw12edxRl/9Vc4VRpZxkc//GGev99+vOPtb+eNb3kL8+fPZ68996xOmU8yffvbzuCfzj6bk1/3Ooy1nHnG2znmqKPYa889OOmU1/Hs7bfnhS94Qb2hujGtq+EPPfgQlj70EG9861sAmDY0jXM+9Sls3Pgb4u+5xx7stecevKYnn8nDlvHNPvGTQytK9rc5qtlnd1LPOCyJdT+fjcDdEnef7m0/VRaSNG93SpKMlwBg+F1GGtMovQVqPDVJQcsX13mG6tLUaxXU9EZXhftt2EoeLcuqQCvrsGFwE63G1NJEI88Y6gwy3JrGjPEZzJiYTj4+wrvnD3DA9tDN2dIyCHDi9j7GVx5Iy+3VGlmRMdIahomM2ePjzB7r0MkKxpoTFKbP8XECnSynk+UM5k06tijnfrmFNhjZSlucxD6eemRu1SPp9txlJ/3aZz4edDu+Aac/dy92fe7O3cXq883X94p7VnHezxNr++E7cPze87cg9y1B1Gqgb2mrjI2Ns37DRlxR4E9RrfaiVE2ryb9doe/FPuJUuD6ZWuCPEjaXuCTR+qkTp0xKJr0zWXjiyZW8401vCeMnAc/yHNP6lrs071IK7RPSy6bv9WpMRG9BEwwdKg6MX8SshPEjoSQSHeIDBIZ/xDYQ2+RZ223HCSe9lp123gWL8Sffi9Ipj1oLp70nRyb6uoT/Cn/6D0TjEVCov5bQ8OqtTlp6TNVGpFSGJ0fujVFIeCleSF8Krtr7Gr7/wks3C547r96BQx44kNljM9lx9SKetX4uRz76ryySdX3BeqXO4ifFAbzW3sCIjPtqODjxhtho/o2xrnAsmLc9e+3xYganT2fjTi02bd9hxaxVXLf7r3hyZGpVwtyNM/nTXxzL/kv3LHuzbFX1LVBo1TJO4FPnfoOHlz3ed+Rs5b3twZoZR/cW4FlNDBPl+L3n8eq959FvPU/zefolk67fm5/WqvFJqVazKfPoE2WSjKTnZgUWUh/6k+RUlnLqQk0Vni4tfJpJx7ClWUQAEqQHQNNXJmjX382FbtXJZMqFaHePeqUo7NX7xv+taxbr1yS8fsOLzgYrxov04nW6/r30Jmw/TE+m6GLDxpR6QxMWkXiIc/RXDBEhmIjqHilK6rvkwdNbnetqEPEqki2cVnNGZ/PiZfsxb+NcUMecFT8pgfN2txsGxwvNg6zSGfxHfhJfL/z7t6bLOK+zN/gSh7aIZ1s7tagKzeYw8+dsx4yR2TRHDY0HDfcufIRbd7x3s+BJaIUCgjdDUfVeaJfob4D8H9vbDiTvSpmsJ6bqoX5PTt2jWzb/+6ex2WcDZkbdUcUYKcWvbmLfd1JuEQnrr+iYvPZPZ1/HFAVIb03F3IJoVV2sp5W+vqNeysnT7MdWDenOj2BUSU42ktqXRPSctI7V70rillpa3WBcQU33Lp0oL2hSkHiqu1J5qEcY9ozVv8TR10vDM3GRgEqXXltKVVDjWaYfZ+FtlEYDflZnZfqyVK8U7qHmgS0LJjnj0p8EP9ocY9msZWwc3MjyWStwk5ys3sgbPHvt9swZnc2uq3ZmqDPk9Yoox+oNiMCVxQG8o/M3ALzdXsZXihMA2E2W8zt9NqM6WEvzLS/YnQvvvA9UMTaU2Hjwy9WfTYUaRlrD7Pf4rswfnc1jM1ezfMYqb3TrCu2sw0MLH8OoYc7odJ6zdi6N3Fv7K/HJhf36gehNEbbyYche6ZsemuXDFgCpaNfgneq5ao3vjqU9V6YOvVOu64oIxvhBouGFKXWRiN75OkkelGCbOp2kYXOMMyZTxegn+G9Je2tXGaYm1l2zuyf5Oveq3+8DapOoMgCMWio/PC+SejCqDnxIe7+qb3jZWXUcbi3l/kwzfrreS5SCj9Sh3FEfYeUWzUCb/X8Fhg4ihadY1vt4utI1KLwDXSC+qsVItfc+zO1wlF5gmupqdXeq5ITXh0IABM+40Kq0Zdnik+Id8W1wzVo/vI6r976Gh+Y8zHhznI6tO6PHMNQZ4rDfHcqLl72QgbzJyMQQVoUZK64g2rSvKA4s40fgBLig8Vle1j6PMQZoaYZBaUjB60fug/1245t33guZoBlIprQVWg4yY2hgWbhhPqfceQStZosr9ryZJ563hg55TxlHB8a5Yc87uHXXu3nhw7tz4q9eRjMfTBZ9h0gnsHPrV7UpsGIrv8PoDxm2HAD/mCUIc4LKZ6xfREljT5FSV9Q+sX7/sKWpbH6JelrJlw21BTRbur5P0WQ9nmKlJFD1S7eppW7Pl8q1K5QxkpDJiHiVV7WcTykBpCxc4iLiHdulonrhHUXB9l++h4iyzcp3B0VJJ/nEekTLuRFTxQdS6ag7Ham1UkjDl4Lc5qybto7VI6sZHRjtYSK2sAy1h5jeGmb22Bzmb1zArLEZZM4iyy7nFfrzssvfk32/bwt9pTgegO8Wh7NH60Le3nlPqC+cMvJg2T9xK7dzztsYnD+AeaDImDc2g2dtnMPcsRGmt4YYag9gXB3enFE2Thtl9cg6Ng6NoSY6kcXFtd4Omxv5W13nSeAIbiozH5HETCYrds+u/sE/XWoxpgxdQkzXtyk4lwhigrOyq+uJJg8pHa3Hq13dQtRKidBmYk0hfffyMemqfz/742RF7CMM941V96kLT2kf7hxFc+MgvnlSq1TSI+Mkbd4klXq/VpEqHlsXw03X80rcMRT2F0l6F79bRnz505OY4vF0FY9JRGqnJStM5XMPhl0jSapxEQHeb3EPIKjxfFCCtdjijH+1bxEYqIZXAvsXosVjRyIr17Js8UgS0Yyp+vC5T+3M/stezMzxmey4ZkeiTPnEE3dylrkOEfil24MfFC/l20V/B50/s1fzzeIYHtTtAXhEF5b3LA4rs+joBLm26Ux0aK9aTWewTWPObEZmziBuanBqeNFjuzHcHubJ6ev4+XN/zYqZq/rm6VvHu3JVGyAMLvja5oSDoacIW13nWa27W4oNOknELXl68wAdcujKUbqe7lpuqaaZiHcujwaM3uauJkScqn7+bTmfky35JVrqFbsXgs0f9td/kPSrfzeg9ntGk7+Tp7kFaoDuGAIq4bgGjVjjQdR15Sh9lKy9i2kJZQmM1gFUYroilUlKKnBN2zuyFr/9OKQdTjgXibQBL2Y7509Jim/bDGqpStcZ62eoVURqf0JhwtmVIS0Ti4zFqWdqPtuw7TKArFWffrWrJioeqvYQ7JRjdft123PE/UcwY2LEO+2Hdjg5vxQxsFpncGr745M+D7CzPF77/ZHs4vJ7gcHKCC115HTotDt01q4lH8jJpg0wPGsYJ4YOFueEPVfvwO6rnstDsx/n7oUPTQmeBosVS3Wap982rklrTDVztrrYXooQWxSR2myrBjNsAdWil009vTA5GxX+7PTTOfDQQ/jSl7/MP//rv3LjkiWIwFv+4nT+9+67AfjKf36tmjBQ+z5ZA/Relton3v/hj37EP519dr280hO9FNu60z/muONYu3ZtdTWKRZulvJPIs13h3t/+lhtuuKGnJvHbXXffzdmf+UzfGlYunP1aI/FuiAUuxe5KXC9TCxfigcDak2NXAcMip5HN4Nmm64oGaXsnaZVIGkRzKoEwZuCPdKvv+ynLSiKWE+sjfT/+LNDYJpRtEiU7TZzsJX4kqgRMMFnFnfvxr6EQWDn9Se5ZeC9L5yxlvDnWr4vLcpvSqdyX2QHbyWoADml9fopnfXiS2bXf+5v7fFMq/GhiP+bMXciCuduzcM4OzJ42n6zVQMZAO/71N04jGPqy2CCZTOVAv2FolAcWPMr9C5exdtrG8vXOTly5fGxGON7KJ8mLP7/QM4X0Bomym2Cc6Pa47K1JyiDqXFFrsSZ/vk8Zu3JNGXKckyufWMktt97CvXf9L612m9GJcVxR0Gm1ypgGfyTdX73tL3tyKn910TBBKIqi2qrZU7aqPL1Tv17u7ls9q2SKP8nzsY7PdNGJz/32/vu4++57OOyww3ri5HnOPnvvwz5779NTh3QMpOWKIZP48twQV0Ku6igtKbF+QPXq3ap8/VQPkd8VKfvsxkOqdnQhQgn4tRSrzQsepoIVO3pkiMGFjxoPchVgxrUg1GWKGWzxO3FKwMczcE3PNlHACNYJ/nyPAnGeX7bTyhEPC1HatuDWHW7j+l1+xnhjjKeGn5q0DF5R67eWamg9BR518/miew1t+u8KTMMdbpfa75kyhiqMaoNHZx/C3rMUKXKMc+jqCXhgPZIrxUKhRdgDpXHvll8UTLoIdweBpfNXcMkB1zBjYhqvuusgXvLwnoDDiT+6COdBeCr83Opie6nW6ZKq6v5n/biSD9lvL6V54+eQjY+hI9vROvR95Hu+hslIdC3ZPuGRZcs49fWv59abbkKA877wBTaNbuIjH/owxx3/avZ/8f7c8IsbWL9+PV/8/Bc49NBDOfG1r2XV6tUc/LKXcs7ZZ7P4wgs58uUv59ijjizr+Ll/O4+JVovXnHoau+6yC5/79Dn8+PLLuejii+l0cn8k3Uf9UXMvPvAg3vqWN3PjjUv4wPvex4pwJF07Hl330Y+SWcsPLr2Ur55/PvPnzWOnHXf0R9J1GWDWr9/A333sYyxfvpzBwUE++fGPs8fuu7Nu3Tre98EPsnbtWvbdZ59SdBOExRdeyPcv/SEAp7z2dbz1TW9mxWPLOePMM3nRC1/Ib+68kz322IOTX/Mavvgf/8FTa9Zw7jnnyqTSywAAIABJREFUsN+++zI2NsanPv1pfve735EXBe8880xe9tKX8u//8SVarRa/uuMOzjj9dB5cupRVq1ax4rEVzJ41m1NedwqLv/ENvvTv/16l8cDvyHOfxpEvP7JPXwqNrIlSveRCAeccpujUDrtI9YglcPZK8vVxktxMQdYDUap/rMTcnhMfJUkhAmzpHlSTPQJRq1H+kkRXaU0CAvXtMNWJ+RFIq3PX/EUx/hUV4h3xVaXL78A3jgNyVdYMreWROQ9TmD7ncSpYl3mW57IAoJG2K+NO+Jv8LH6tu/UpeG/4tdsNCX44sWqrZQY/nH8m08MB0Y3Cv9qjPbqBcTcKnQJ1Uh6KEl+C4kJ7GSArLI0iw4nzJzYl7Tg2MMHYwAQbJqaxcXAsSBvhnZ6lIU+gX9uHsNXBs4CEHCSDJrkeQ7deNPvtpQz89CNI7nchyMYVDP70I7SAfM+Ta8/2Y2W9v3t1anWaCXmR8/OfXcfV11zDOed+hst/9GO+8+1vc8rrX8+SG24kzztceNFFZNbSzBoYERo24yPvfz/fuuQSrrr0UgAeePBBfnLNtXz/25fQaDT4+09+kquvuYZTXnMyY+Pj7LPnXnz4ve/jdw88wNe/8Q0u/c53aDQbfPRjH+enP72Wlx36Ur74pS9x5aWXMjJjhNe/8U3svffejAwPJ7UQzv3sP/OC/Z7PhedfwI1LlvDRv/97rrnyKj77z//CwQcdxHve9W5+dt11fOd732P69BEeevgRLr3sMq780eWoKie89iSOOOxwZsyawbJHH+UrX/oye+y+B8efdALXXHstP/rBpVxz7bVcsPgbnP/V/+SLX/4KRxx2OF/41/NYt2E9J5x0EscefSwfeO/7+M2dd/Kpf/hHFOFf/u1f+O199/H9736focFBltx8E7aRMTJjFl/8ylc44vAj+Py/fZ71G9ZzwkkncszRr2DatGk1MFq7YQOHHXVCefBFfOXz+vVruP/eO9iwIaghIpig9ZOWEjyphGoJQGsS4OqVefrLLdXxZdUArkRy1O+/j1KWSQ9EpiD6eUaAT63y0udb72BV4gEiqhUBqQ7SCBirgjoJOs/cg4k62p0C5xyddoe8yHEOigJaWYvx8YlJj7Oc3prBfssPYNH67dn5qR3ZfullHOP+G4vjEV3An3Y+xmNdwDmbjaxlpCetF8t9/NrtSuoOdjbnsmDBWkoPAmLfKY3ZA7DHAqRQhubNZMAMYcRgsYgKOX4BmDk+nSMf3J89ntyJ++cv447t7qed9bovxXHgyl72L27SzbgpwVb384RCKvEnXVHT9btb6I53mjd+rgTO8rl8nOaNn6uBZ/dKnbKKvvnUZkd9xJx0wgkg8IIXvCA5kq6Kb4x/B421lmaWBfC0NBoNX+ZwYtEtt/6Su++5h5NPOw2AiYkJFi1YwLTmANZaTjnpNWRZxi9vv53/veceTjrllDLedosW8dt77+Vlhx7Kjjs8B0E45eSTeWDpUqYPD1OJu8Ltv/4VF12wmJHpIxz3ilfwtx94P+qU226/jYsWX8SMkZm89jUn8+73/i3Th0e48667OOmEE1m4cFGo70n85s67eOVxx7HjDjtywEsORBD2ft7eHPXyo5g5Yxb7v/glnPeF85gxMpMbb7yR6667jq9dcD4gdDod1q/fyODgNJrNAUZmzEKB5sAgr3718SxYsBAUpg1Np2EbtTT+8wL/jnmfxnoWLXxWaatQYHDgKQ476nga6vVZbVU6Co8tf4gnH1vG2Mb1FZtS7dJT+pEULfHVhIFyB47Wp0skjN3gWbHSwD9L0ItnfAaDkURROoBZAM6420fCe9XjgO3R0He9G6k7xNf6pmAdl4R04dCwL1zDaVQqjlxz2p02eV4wNjZGqzVBUUC7A+2szfh4eu5bPUxvjXDQ0iPYd/n+LHz0q7zS/QwRuM3tztvb7+EpZvY8s6dZxk1ubwC2ZxWfbXyFg8095Fj2aZ1fi/vEU3NZuGh95UIWmsigmNmDZDOmYRAGbZNB0yR1RnPqtbizJqZz5AMvpiMFV+61hLsXPtQXPKECUCmRKS6+U4etL7YTF+m6Zbpu56yHUs+38bH+aSbXU+aQPt+dT9QJZZnFuWoqTEzU9+0ODAwAYLOMPC/ShMocfccKNhwXZmyGzbLyOQCMcNopp/B3H/pQjW8bEQYHBmg0m+Uq+yennsrHP/rR2sS5/KqrvEtUeJF0aTgwlTkiztbo71cOPONXdWMqn0YJaVQ6xuSQjyBJDgwMlNeNsTQHB0D8O3fyvCC+DOybiy9it912o4IouP1Xt4d0qh4Znjbc5WtIOQ4uWvxNdt1tt54Oq41hgUajSRbQK1NQVWyWVel1q35S0VWT6/Vk0xasilCu3DXhlm5QqZ6sfESjy1LNaqFJEWNxYlvEhi8zjo+UEfuO6qg+CL70uDzH5Tmqjrwo/A4kLEIDUAoKv8CoIGIxRshsE5dpaXwiE6yd3EXJFY7W+nHGVm/kGOfdkX5SvIR3dc6ig+VN9lrudM9lpc7mPdn3+FB+Bne5ncvndzZPcIj1Z4He555Dq0sv+sRTM5m7YgHDwy1mzRrF2pK7+yJZ31aFgXZYLDKqhUYUjApZYUEE6+wkNYmhEjcnI3H9wla1tgt+wIt6C5lLaUX5JdU2VUEBHdmu5zrhejUBpJ5Mn+Tioa4ACxYsYNWqVTy1Zk39SLpy1Z6sRIFBByumzTKaQ9MQaxkYGmJo2nQajQa22WRweJijjz6GK666ig2bRmkODbNpos0Tq58iG5wGCNngEHZgkJcfeRQ/vuJK1qzbiGkMsG7TGMufWMkBBxzEjUtuYs2GTeQqXHr55SAGYxsY2wiHTWQccsghfOcHPwBruWHJEubOncuMmbM45JBD+c73vgdiuOban7J23TowhkMPPZQrrrqSsfFxRsfGuPyKKzj44EOhBNOApFEsTa1MIhx15NF8+WtfCYxG+M1dd6Ly/3H35nGXHVW993ftfc4z9Jh0p7vTmUhCQhISIMhMiIQZBQFRJrkQBAGRqziABBWRqyhyvYIiCvFF4QovMosXL/AyCgIvXIYQCJnJQJJOujvppKdnOOfs9f5RtapW7b3P8zwBTfy81Z+nzzl717hq1W+tqlq1Sli/YSMHDx7sgRmnzsU0j3n0Y3jH374j+Qr4zncvduV4aIJKKpqqYlJVaFUhEtyl2RnoPK+xc2zh01zOeQP6SuxQJNjASbu27ne+fFdcS/JeuWgVd5xJAFkjaUMn16KmiidXmgk0jcTpYZ3K8E7sVMwxnsTPcqPVvMkHo/Exk/GIw4f2c+utt7Bnzy5uvvE6bvzh1ezdfSOHDtzG4YN3sLiwzNJSQzOpGdbrmRtuYtP6bWzZfCzbjjyOHUcdx9FHHcf6+Y1TAWdpcYHrLr+E7/2fL1PHGn2+OZv7yg/42MxreUH9KS7We/Lc+jPs0uDy/SDrOFmCknNs3IkH+HZzSvq+njCrXL/3Rt73/sfw1a+dycLiLBCuPJ4woKEOZ++l4SBj9jDiNhlzqIaFOlgZDIhaoYarlE3jnhYCb1WpH83py2rK591iqgTtqQ+2Xp3i9NV76ZxXooP54pkO5lk+51VTUrR1Bu1ECy7pfptHP+axPONZz+ZeUYMqa5FVmnYnpCEWNU6RimowoB4O+cXzX8A55z2Sl7zsZZx55ln8/u+9lqc/85mc88if5Gef8fPs3ruXahAu/ZJ6gNQDzrh3iPe0Z/wcDzv3ETzt557OLbv3sPOYY3jNBa/hsU98PE95+s9y9v3OjppnXZiivOY1v8O3L/o2D3vEw3ndf/sD3v7X7wARLnj1BXzlK1/mEeedy2c//zmOP+54QDj7fvfnuc95Lo963KN49OMfzfOfdz73u9/ZU+mZ6RE+f/uVv814NOZhj3gYD334g3nDH/8hAOeeey6XXX45j/jJc/jwRz7cSlv28Kte+WpG4xHnnPtQHnbOg/njP/nDnvIC4kk0O1Jv1oNNVNtleEh07XHacJo2S86/+B5D2e8Zpguh7TVP7foSlbSpYtPs/Nvfk51lhpTyv60ERHBotEl2o6PRiKXFBRYXDnPo0AEOHdzP4sIhxsuLTMbLTMYTmkmYylcypK5nmBnOMz+7gfm59ayf3xCWVIYzU1mgGU84cMc+9u2+Od47CX86/Fs+NPt67ltdw/+cPJ4hIx5TfYPrNV9vdrZcDWQzJgibRRYeV30TgF9+8F9zxVXHsevmLYxGA5rGBJeJLI3ep5QFJizRMJKwJKiS6a6RRqtpkL4H2z26Yqq71CXdKSfphX/2BxgRQNh0/OnBJZ20K9tvcD687J+Y+fJ/T7vty+e8ivHpTysHRwxaJl1DaGvC3bQyLU7/o5XLmZrDSu9XExIrl9g3CMt8+vLv1mtqrKKglSrhvwpTK+UeX33NVey+5jCN3cHTKBOFG66/mo9/9O+58Yc/CGt7UT1rmnLO0Ob1zu+eP3OQ0alxsWDvgNpO+yRbzJBeCD4QBGEiMBY45tjj+dlnPo+TTzktaTrloM2789Kqa9Mod+y/gwMH9zOoazbMzVPXNUsLh1lcWKDRhskkTN9nZ+aZn18ftPRqiEZvThVhai52jlsFbSqW6kU+cPY7+dhZ7+3dbd9y8w4e94/P4uRLzuS0HZ/i+fVnkpa2X+d56NLbuL9cwXtm3sjPLr+ei/RU7i9XcpLczEeac/nvg7fzjMEXAXjB8m/zhSb4fX3r8C/51dGv8Z7hG3hodSnvvfWn+dgNL2PzpsPc+5RdHHf0PqChYQwCA+rgkUoq5qphcDI9maCTMagy0bDL/ol7f5V/eMgnOTS70GnLhsV1POdrj+dRlz8g0Dgyj20E/t6f/C0/uO6m3kG36pqniBxPuLP9aMKs4UJV/QsR2QK8HzgRuBZ4pqrum5ZPqFA49mRetVcoNf3fHlLj05/G+IynlZkSGptT51MkivH2NEBaBVWl/TUCmK9cVhoKU8NO6Ftzkw6StL+68u9MG3T62xWiS7tRUxOskqf/3aFJCcJaPGu1vE0u7AgkUevUBFQpumBXEa14AaKIFJqJUnh4zGuTYmdwgmpTaJqi6eIym3wj4ZRPYUcruW4icf25st367q3zfgz4CZMqjFUYT5S9t97BTTfdxLq5WY49ehvr5sIa9dzcOqSqGM7NUg1qqqqmrsLyRrh2Mlq1atxnaGpEa3QiTEYVTdVQS90lfgwzsxs44eSHce/Bo/i9G8KRyufWn6Om4UPjR3KYOV41+AAicFHcdX9W/Xl2yO18pDmXR9TfS3m9dvAPXLp8AkfLPu4Zp/UHWcdAGp6/9eOweZHf/e5r2PzDMSfu2EcjwcLC+qyKRFlsRiCwpGOWdEylyhxKpWGdd0WNId0CYB3uLwmaHtayYTQGfktVvyUiG4FvisingRcAn1XVN4rIBcAFrOXudqugr9yd0QrX8Doxn/YBwRryW7Gozmguf8pK3TStHtr52hf6cXk14FwTcZnqM27FNGuN10MznfZzZSIke+CIoLaOCWGTzLxS5aKjn0vU9U3gDW3XLaZNXNPbXXlTLFWleO95zvVrihtRfQrtSkGSv43Ho+AMQypUBskVnd37bmvvokAVtNzBYEhV10gV3hv4p890pYM5IQmWI5VUUxpvJBAGwzk+fseNALxu/EIAnlt9lnc3j+cBcjln1z8A4NWD93G87ObJ9dcAuLb+hSKve1a7+OrsrzKiZg9HAPDt5p48ofo/iMBzB5/j9894Id9ZnPBwTKiFjrR17mQupgRt00RSOPi/5llZ+UCmvU1hLddw7ALsjvYDInIpcCzwVOC8GO3dwBdYFTyFugonAfzthKrlNCgxdWuJsjxiuyJKxShrg462ktR9PyUXNyjKhz8+CvWXuFa0yuFOLSWsqDGvVMYUrfFOCCjTsKblZ1NsFUnX+ZqB+qCuqGWGitl4QmQc8KkxTS67ilNzOhL5qwBtM4SXAHLm7LhJ2yI5dk3QRvNNRhFQY1qJV0LY+mwAzWAc1dh58rS4GX5PCs3TOElomgm377uVgwduZ2Zmno0bj6SuajZvWMfs8ccwGAxYt349w8EgmM1Fj0pVXbXWiEk+GIKyFUBSZRDEUCVQ12Htvpq+HSIiDKshXz8QzqS/fvB3PL/+DJ9vzuY6PZrfGn4wxX3Z4H9NzcdmB5Uos4w5Su9gI4d5x+Qp/Ez9Vc6S66ijOde1cxXL4s/hhzXOAI7KWON1zOGQJaCMmwbRhknTTJ2B2CpqFQWJn4WsFu6UqZKInAjcH/gasCMCK/EK4u0rJI3pw26pZ83JaIk79h9g86aNDkD7NdLi5yqt64OjPJGfHq+tBd15uOrmkp7dWSS30DfdX0OylPTHDVPkQVtL+lHAvVOOy0Wjmqka1vdGy004zhjfVwSXZHUlVBL2tyUCVFIJo5YqlEsqZodZtsv6KHBnlSYvLc9PLW9HyUmJ1d8qYIpefBg2OrzGZLnYyRoptCkTDk2jHF44xB3797FufsT87Dqq4QzzszPMz80gdUU9nKGqagZSMahqpziKg5PA0QpxbTauc8az7uEUkp2BX0HzRKilpmGSgFME3jV5Aju4jZ+qvt6bzgPYBOHrB0/gPutvZoME88A5GfGvs7/B55qzOVOui/EibQTGaTyGZQcTiA3KSJvk09TI3zRhaULV2yj0NijNCFY6hdYOawZPEdkAfBj4dVXdvxJxW+leArwEYMe2o3JtYzh86y5uAfbunU1rk77yPzp4/XuEf698ftzwo9djRUb4d0HWf69QtrE92RotK7fvCbfqJDGoYeA0aut3AXaSO7jk6crM1MtyTCZVarCo0fd5UoHT/Khyk3R7ZvHE8WyO5QoQO0FkMQJwCXYaycS60kwaDi8sMhqNmBkOWTczi2rDzOw8GzYewezMXLDQqGqqWqjqkFdV1Rn0eiZlSSDFCuZ1XKtonOJW0FSrs4ZCAZzvHj+eLzb341WD9zOUvMk01nBo8iY9ig9XT2PHjvtz5be/zNUXfYX9C9u5Yu+LuX3xJP7ol9/F+TOfZosc4OfjVRyq8N5JPPLcmoY6WUWyppAqxIsdMIl+NCarYJXSdvySBc5KYU3gKSJDAnC+V1U/Eh/fIiI7o9a5E9jdWzHVC4ELAU4/9eTyCDuAjjm894fkK11D54VZlMTD+ZHBEvOZTC7XlNLaV7LAMjFi9nN0FEA34Yr1TY3utsXFLTuufJ+8wRebC7m0pHW0mTx2euG3XOscGQMDe2Tdnutum3EK6aiaQgAYR7msgkkkU/hdMFo+opLAIvtYzW1KdFlhLS80L+s/BYhppKOW9FGiT8WoPUKNSD7Z3jhTHYmT4QlKY74/o2YVWt2C41R8rL0S4zTla6LvUDxnlbmlb0mblXTGOsfIz+ySY5HaDVwFbRiPRtx+260cPHCIDRvWUx+5hbquWL9+Y9wxr8LSlwiD4ZDBMAxhv2HWB3xCGE/+eHQ+gxVng1WgXRNu350aFDj7G3/LUyJwfnRyDq8bv4DHVt/gpXWepjcKl5/4Gjb95Pns33crJ156MQdu3wfNMhXCuuEeTj7qfSxNZnjDvz4fOQ+eO/wsQaeteO/k0WE9VZUz5EbMkDZVzYOpVFHYKSINKsqYhgnCpJrOl0b/scReics5jcKIlQF0LbvtArwTuFRV/9y9+mfgfMKd7ecDH1str3aloWyTtmNERuxz0+vTlEPRZ9RHsTw16y24faSlU1sb4L4WfUDrO6ydZ98CQqvs1PbwvG3LKC5N9hHRVTnCjrMWeUtCbdNSSgDN6pOkuW4v8Kjk/FrtURevFB1OCBTqmtFLWpm0M4ii1DpeW2lalcz7Iu2+9PGUXv9lBRJZY1w86c6S+s/JeX6VJGdUlclkwngc1mgrwjNttPiEcMKriqAJ+XRZ1Vmb1Ck/HT8WtIsPbEzEpYOVwhv+fitPWQrA+YHxI7lg/GIeVl3CXw3fykDMdyh8aPJY7nGPp3PMxg0sLx1CKsEcvqFw1elP4ubjHgIR+C74wct57ZZfotroj1E2HLf/Es7bcSsixwVO1JLTkqbvSR35t33hTzd0FRuZxiqtsBbN8xzgecB3ReSi+Ox3CKD5ARF5EXA98IzVMjJNQmloJEyE6shsQXcw7ShvJ5nrL29wbHeipLPJGtwWmk5o0yjzU+jDdMCLukWxsJ6jBslt7tB8Hv2DTh0ypDxT7BJ4XUxXF5JmmieSEttftqO9Yewt8wTC/TfpDpuseeZT0FmTbeMXyBSPV90RZvXyNy+WYqNK3wxkGmu/QJ6+SqKL1dCb9MSGhLcS/FVqvI0ybMdM8tqV7bY6oLfmpNxk4srOdDRM11RfTQ0qhH7LTCpUT9MDyQ9T3o00LI+XuG3vbtbNzjO/bj0b1m8CKjZt2MT83DqGgyF1NUCoqOoq9GMlaXqejtv6+mRzhILfsugqPIhGAeCfSBqTfeE5Fw94/r5LEIELx0/ij8fP5dzqYt4+fDNzEu43UoX/OXksrxu/kHO/eT0vlVtYWDjMwdGIUT1g1MD37/kkbj7+YRmpBGbvcYj5K6/jlM+/j/nhLo48/nh2nnkmszvm2bRlM7VMopAPnTsR2yCKLUy3DYTemm2GqMKwWg3mwqkuRWmqfBfUaq5B1rLb/m8r5NHvV3+FYI4bmsiO6ToDjVM0KQ/CtZk5Q2MxcQ8ggV+PCptSxeQq89AKoU9vyANV3HzGGFMdm9rzPKAyc5TWfIQbEMlsXZYeveVErzl+wlt5wvRUX1vvA2NJJ55A1uBEuommZu7iJK03k7dPpGQIyQM1icgEnK43oyYa6iiUIsEJocoANBxntGN21t9ZScmle/jXIr8yWI38lRqNq3mrObkvc7NcZhE4Jbd3NBlz8I47uH1uLzpR5mc2UNc18/PrmKfgFCqpqeuobQ7qVjta9VH3JFkVZPBMEcXobP1qnN4/UN768Vle/o1wDv2No2fz9slTeFL1Vd48/Gtm4jqnB06AL926wGWfO8Cv3XM/y5MJ47pmrMLNJzwEOjwpLJxyPOuuuhlRYd36DWw//jhm161jpppQRfUq7AuFO9Ynce02AVkaIMGIXlRWtFkNwY7yxhvuozu61XTWu+EaDjtrbAYeVdLybGkiH8KqukydpDmtqWfQUtMROPIAA+/5ps12nvky0CmQZ7s2ii3XNtBkjakNXL7iSciqS6e+9D4T9TbkGDj7weVCN4Pw2Pl/zE3JWmUCI++zDXsvnSa3qpeBI0s5l2cuLyfK4JiHtHufpGfLPtO102w4U4sKsIzjqNWXSSEsivHEatPUr1tnbVI9zzjtz0yVMitJooHny4Zgtje3bh3rNmxkZm6OYMeuEGdlEu0uEajT5pDgsirrv4JAtfc6ra0CQoNWYT537METecAt53Jg5nau33gVX75wwn331jRa8bvjF/GPk0fzC/Vn+MPB38ebNrvAaWHPqOYvr97I3tEgsMf2p/XQ2epRsf0ewXPY5m1bGQzqcK1IbN7i4QXu2LuPyWhMU2nUMkle9ec3b2J+8yaWhiOu37SLQ7OHueHIm8uTUgpHLGzk2Nu3sXlxA0cd2pxoqprHxzRyWrgbLoAbIgQvzQZbjdibEKVK9nBBjHS1mPjpxprZ/pmph612RHxKU7Q0ENydFf74nbp8GrGc8mBXp9O2caUhOnoQepfQioVuzSCYNNg0tYzPDe/Ielsx3eyjcA+otquSykttlVYkTdqIOMHR56bLT3YbbCqep+OViJseu0mklu0K8Qf48z6CopL19byU4iaaQjCOF5vV5IYYWGrkjwBI6u4m982e5ky7O+02LshgmjA1xbOJfrqdUuLyCcH8RqiYGcywectRbN15DIO6CuBInEFpsNMcDIPZUZii55a3JwBrCX45pGxhmNsoglZjaoQH3/JI7r33gVyz+XKecMkfcN+9y0y05jdGv8L/ah7Or9Yf5TcHH0wkmQacVsaeUfbSZL5W+4KIcta5j6AaQD0zx3A2OvzWYAd7+637uOxr32ThwEGGNQxqQSuhmamQuub4M87ghM1buH3Dfj515pe5+qhrOTyzyPKgvDL55FuP4WnfOY8jD29kw9K6tMmq2NXWTeC9Fe7yuMs1T406p6SOdFI7PfEain1qySVpZ71kpgRIGs1LWoK2NJY1KVOiXVvqtJIUQ7RkA2tFq81FNUKKzqK8tr+6RG6wY2VPMb/Qdh1MFW7FT/RKm1L+rUkgSWTPnsr7Kp5VA28AYxsqWZa7/myVl2OUG4SCEyKp/3r6FcLsQn2OOYNivIpPOkVV7wm+Xb49XqsMH1rWUQwU83cIU/DBcMhwdjYIYyHYX8b6+3XNICRyPbyVx4pnUAu6R9AvmLacSZnLxk3LR7CpOYqjv/U3nLs4YkIGzgsG/ze/PPh4KqFR+JBOA85EtJ7f2nquPGB+H+uP2Ew9NBXFbCsCVSajMYf3H+DwHfsZ1jCsBa2FyUyNDGsWRodZGixzaGaRPRtu4+bNe+kLc6NZth84ki2HN3V4p8uf/eEud4bcSGs7oNjAiERyO69VMjHKQ2oiDvQwfDDNIRvjeJbKqr/XlbTTfbkmQfrni7rKGKXOFcsr1IEuqJfp7Zut4lpZ5XvoXkTVBewidtpIW90XtpR84pY8urydB3V/m8opYTbvSRDTaoHPvl83bmvI3XwsO0kFiUhw+yYm4iJglBhfij8te6T89HUq+y0l97JKMndbBMP72iBPKjT+SVXFKae5QROkqsMxyUoS42YrsMwj00R4N2T4cURL9W3c6QFxGzDXXP5BXrr4WSZUU4FTgTc+5Ey+uX0Lp39hgcv2ll7PVgvWCgEeuHE/T9l2O9VgphBI2VqiYkDFTAUjCeNiok2YVoxBK+Xyo67k4vvczIGNh9m74bYVKdJUQlOJeTgt+VpN3E0fQXe95inZs7ZZ9echlD/Ns/PAHKAay4u02Jj4q3LfW5tJko/QNfih2Tiu7IPRXUrQAAAgAElEQVSkAKCTHvrZ7muqsweeDtj2h9DC7Dczd1q7bRm++4EzpwnH/EqKrMQA0vlRZSFQaHKQtf1smyi0AN/F7xus7dJLfbR7Drkz5D1Q2X/OvjQ5gVajRNSlBOebtdTGxJlklXxkwdt+FjpfoJEYTPv+MHDy7TCul3D5WzxHXokg6ZSPUA2Ca0PTNkso9rwtqTWlWGuHbKfrZCGG/FngRj1P4fTr/5wnLH6MCRW/OXrZFOBU3vbAEa994tc48vA1POfg6dz6mTPZM257YupTUcKTP773HoI3/AnKBBhGc87SFqSKGzo1wlBgWAWb3gkKjVBNhGai/GDLdVx22j7Gs7bxMyVI0LeCoxE7B29Qk3t6pXC33Nvu4avUEgsVI0Opvw/BBe38ciAiJdC0CSFIPu8LaaMkDSm1XOMygsMGN+zKaaSbCvWZJ/n8ff3dRK5Ik4WvaUda0KzMI+fgh3cbbJQ23Vz6eHZQfLyyS9ynAYEDvHJ9oq+Ebr0lltWqVD6N007hntu1EhqGlUqN6CScEnIbhEkoSZlPAmvXqQnOO8WVHGT101Yco76fT5kNp7VDxP+Zqzq7Fti0T9/1ueweuZbetPVQLVK0Q2mqZh2gqhx70a9zQnMxDcKrRi/ln5tzePXgfR3gvPioCb/65EUAlgdL7Np0LU9+6LH8n8vXccmeOpF121DZPUpESjk85IiFpGH2K0Uk4WjjrBoMGM7PMbM8z7gZI82Y0XrljmOWWd6oHDp6mUk96TXyH0xqth08kg3L69i5/yiGk0FyVF2Mo8xeK4a79uphJEmQJt3j0lWNK5RaGkTNp3fhRiT5c8zJTFe17ZzwsolvvGFHlrySkUU0aWvJVZ5bJqjsJj1Kg5omgmaKhxaDxGpWaoah7ASCTmOtCD8nLm5OaQMz/+rbOPLU7MMx80pearMS6QymCSvqNNgM/13wdMNWJJ0SaocyXp4gFUsSqVPtz8P9NFQOfT6RGSYyR10tUjMi8ImlrLLpmGSLYtuAasSEkiGSRttY503f2h01lLHNFMTOHPl/WYDVUZsTKTmzZsRAJtRVuPLCjlhCtFluYb3nO89NBV1jmL6h6FKq11PjKTWF6rv/nbOai1GEV49fwkebc3nl4P2Fgw9V+H9OHvPE87N/zMPDA3zx1H/iWyd8ntNPeCC/cfFzOfLwNuYGDbMD5f033cpXb19O5+EeeuQCTz/2AFndi86MY3XalhGN1GEfY3Ydm7ZvY2b9PEuHDjJaOMzekxe44tl3cPsJSyxuHdNMQbUNS+t49FUP4syb78nGxXVsWp5jgIDaNR2Z31TKuURfuBvuMHJDW7L2mSW4OgNjTdMpP5xS+jQYncbg5G0xWXGqjsUScLvdfZXt6sYWGihn2ColEHSTpPL967wva03JbfJ5F1lMydrSeDHRjtdeABAHWKVWHWvTmfqoA/yqVcJKmqevefy0/u+ksXXgDMrt0PUQXpF8HEngm7Q7nQpx/KJgN0/mPIkgZ2lcCTaYnVlStj7IgF8CaKSSE/Ihdr553u6bylqn4XHm4+Q5rqRAlyauritEKzQqP1p23vY57jv6JIrwu+MX8aHJI3lF/WH+6yAfHmwU3rn1FF5y/reKPCf1mD0bb2DPxhvYfGA7C9WEDVoxywDRimcfcyTPPGEXKos0ukyjy92K+fpr6iRMpilCNagZrptHmTBplhg3Fc1m2H/PZfadsjQ9T2DQ1Ow4sJWT9h5HBfEurGzhoITddTX4WZGX75Zpewyxdnl6Q/FpoTGw8y/cOql1f5NWNcMzv80TdIPS/bK56sq5tLmsuzHi9KVWQ8xtRB+1c137nKmUdpbWtvYpkFYcsoxsLAl+E216r+eBm7VMcbSTOFKTUu7yS27dkuG1UxYxza2/7AxdGThBsl1pKiu3L7zv65tMSys/GLKM46fGtfVwr7c3jTEzqkqEKu1sa9EOyzetJsbNCY2SVoCBZG8/TYybNznsgEO2M/WjUalRrYEhVTUI03YHnoW6+R8UtIeqZ/3wLVQC/2P087xv8mheXv8Tvz7IV6iowq+ccA7veNEnVsx79+br+cIZH+SIw1s4fdc9OXHvscwMlA2DCYOqZqLhL/jcJFnG1EkYe0gPIWiiyty6ebYeeyyLk0PcuHk/V27cw/6jl1g4ov9mzHawU4fhPDuuX8Psy2YgmVumh7sBPPPkI8NmabhkMJB9EHoi2nVeZV7+CJ3/y6G7PFAO6GlBIkCVYFoOeX/scEoufurnSjQN1udZ0dZHM8j633mSUbhCWakpjjZ2EsfDY4BjW8+z/imm8u3bKJMm1hYxfcX75RYDzgj5yQ6nJWxWkf62sSA6odIxFZMEyEqVj/BGSk0ivNZxsOYzAXG4RLBWaZIz3ToRNw4yDXdRVoQtqbFk0zNzYJOoUTjjtbW9GtUhyjB4ea/bJ2Cc1plSlp8/Wui6M1Hg9Ov+ihP2fhwBPjj+Sd46+VmeVX+eV0Zv8BDG4GdPPoV3Pffzq5ay64hr2LPpBuaX5pksPJ6N1z+EjbPr2Lx+K3P1DCOdMNaaBmU8CZs+FRU1AUnzv7TAEvynCsytm2O47jgWhgvcep/L+Na9dtPUDZPB6pIm5FTRSOZniMqDG2DZinflPO8ezTN5vSmnN6UOGkIYbF5bsUa12EjaX22jwO8I91QFEljE6BlU07gT5wtyCvu2wI2Ub65z0CLFlZGhrKx7VP3KSuT/Wxps/tnWiNuh31zFZ6RFQ8TNXH09pHiUQHaF3U0Hue6LUcGJk17y9oCoU0ny8rXVrWcDIB2FjRsyBtLtZklZU0/qVE9x/SZu3VaM06TseylSh6iVn857aMyaQlIkPGlKbyp9xAplurl5l3QmMZQzrv0rTtj7LwjwL5OH8JrxL/Hw6nv80eDvCuC8uDqLj53xcI7dv59Dw0PcPrePpeFif9lVw6haompg34Zb2bVlFwdm5mg2LTA3nGH94izrl2aolEA/G9GR300m2w0AYN2jLA6X2bfudg7NHuLAhkOM51bZVVdYvzzPpsUNbDl8BPOjWUdbR2cbbsqU8dQNdzF4KiINZhqRt4vyIrsFG1bpt+SppZ9SaRwMdbIfBTSo3xNIxxjrDrj2j8fGaxlpEMacC03Ls25bm3aah5NvfpD5E072OGuPksZIrqs47cZrqaXwaVhpSAl0zuZn3DAt1kpNhwzMdEOEOugHjtty1ulTKR2rRPFli/Al5fN2VH+9y3xMewg/IxdJ8G1ZDwSaiokOQANzW5u0CmdIKp3QRO/kaTU7Aq+KJl8C2R2im8GIAWdwzGs0sSOT5vgw8J6mJLbRb/caEY9hDuNKUqMO1JMo0tZnFlJZfbBek+Qzoi9oz3cFfnDJJ3j84X9BBP5pcg6/OXoZPyFX8o7hm5NPTlX49OBxHD79Jdxn980cdWgLu9ft5lOn/gtXb7lySokhjAYjvnOvi7l253UMqpq54QwzDHnUDx/EI3/4IOqmihvDCnYNs5DOsOcL2Wx6r1x/xE185owvcev6fezeuHdV7RDgtN0n8cirH8ympfXs3L+NWsK97pU7sUYVPNEnHtWMLdPCXa95tk1I0rcIJHFMqi0YJ9XBIifdrKOxFQIjahoNkhg6kyqyaHzop5NZ0TKkkjL3FoCWoQ0Mfne+9S4BqAkPLerXUSy8JtN65HclM9b1aOeYQOhKkjyoyraZmVj7uf3IQ1uL523hl6E9lGJ2vAVtpb/Wud1SfAatLHoYknAaJ0yt7YhsE9ccK5q0vquFkErlRntN8xkpalM5G8SawNPopcQz1bHOYbuqZWxt4CkGnhI8I9VCulYo0TrTLtO61FhLUZfEUrcPWpQDinpVF72Zly5/CpHgVu7V4xfzkOpS3jn8M9ZL3nhRgYUzXgracNThbWw5tJUjN97AV0740lT+tNBUDXu27GHPlj3p2XAy4PTbjkerMcIAacImjVClMZvqKd6TVmjlHbMHuWLbNeze1H9yqNVkKhW2HD6CM245mfXL65KAM2GXy4kb1WiaZcpUTgzhbjieGaqdZWwkl3QHU9YwlfbZY2uWkXaC6TBZm/AedaRFCiWfhweHlZ1SpKVlrURQDwRRN1DwywxilXNDpANx4gaezbAomd8oUoqPFWrmN1hWFNbS/VkkyvpOO6IXEitrkSUIrlQlo1RT0Ct/V1UGwxmO2LKdpaVlhAlo2Dww46tkBiSSzYDMMF2E2jZtKqEaSLSxDKuigTdD7Sp/RYVpm1IxqEJJA8JtjVSCRh+JjbhNPcNeqaGq2bT5SDZvPpJB2lUqqdCeGbSft0VTX1r/TQjaW3XRm3lsBM5/GD+W145fyLnVxVw4/HPmZblIee2RTyBo+LZQ0bB+vI6f2PUAth3axo2bbuDKrZczqsuz49NCIw1XHHktnzzxS1RNxTiCVaNC4+6cUhTVhqaJc6nI9D888iYWpiwX+LB+eR332nMSWw5v5l57TqZuhhQLeGImgRFhymHrDlRMD3fx8UyJu+KS3ceJWWN6WVA7EyL7P7NQe3NEgYkqTdqpNkqETAyuizQSPK0jBDUeoIjT1YqmAVRbJysMvCPSCHmdza8jemuXwl4SL4WzCClAVNu2CrRixLeFdUJPG2SFdzHPbNJUlmSaUzETmKY+tiyXu8xZtqbUuHKcJHYjgw+Gc+zYcQIzw3mkmkA1iTw2AKkY1BXDQXAcPJwZMqgDWNaDcAxydriOYT3LYFAxPzcbQXIA1SCqlAFA63rAoB7gL1er65phPQjgqUqtGnxvzgygEsZk+8Vx1HBVgyexuqpYNzPDsK5oVJk05ksyrzz3DV575u5HSLSaliZxdgTOBuGPR8/lnZOf5jHVt3jb8C+yP86Y5potT+CS434JiV54RSaINmxa3sijrnksY5nwpXt8ges3X7dm8JxIw7e2f59Ltl5JIXB7rDT6puSTasLSYAUzpxg2L27kUVc9jNN2n8xgMmA4MajLa6wTcUBNoOUgElFpO0Hshrt+2u7ooa0xKy5KKS/t63RF2mzzSqDIwzGP/dbUoC8vp+0VlZqKCrkBOd+c0Ht47z1H4QAIab2V2N1TRWAX0Nqaic042+DbzaG0e+zTMPsGaPldchsKW8zuenBZcpl/u2xtNBpYZ/9YGndm67pifv16RqNlpGoCgAKVhDvKB3UVXJtVwszMkLquA3hGEJ0ZzDOsZxgMauZnZ6nqKgJnHdoyKMEzaLARPKsqgKcIA23C1L2uqIYh3iRqOI1oAtGwfhem+5Voq180aYhe0PvgZyXawxht3ra+OPvSC9i6fBENwn8d/RqfaB7CL9af4HcH7y08wF+79YlccvyLQw5+8T0u4dRaMT+eR1XYvHQEWxeOYnYyW/aYhis9FoaHWRwsFRJxuR6xvEawXUsYTAasX15H3ZhvJNhyeDObFjewYXldAsdy/PbTrY/3ppb741d97SHDmvcJXpoVK4HRmrgOUjXBnUIl3bWqvOEU1puycXMESM0MmRb4439GpMBYnnGz9umZuXRNJdH7Tdj4mhQto9DSgnadj+NBcMRg9xz5G0M7a5GOb/3/phknNhBSfk0EWsN6e97HFlmw5GdNZ/3CL6fkYCYkfYKufZ9OZtwyHlrWqMhLYynx5sNmEqdw2Yo8uQWcnZnjpHvei+XlZdIhixgjbcTEXfmqrsJaI3GNFKKtZY1IFU/7SLHUXcUb4qoq3B+kgDbRh7lImMojaF0zEdIGEpDsGKOhIkK48dNaOlEtpo/QBsRyGJeCv7zaLlDMn8TPmuwDvn8BWw+GiyD+YHw+n2gewu8O3sOLB/87p1X4m/n/yrHHPzYaeWmr26t8VDpuJJy671SefckvMKqWUbUrNhS0YWmwxFdO+Arf2Xkx/5Fh28GtnHf1OWw7eBR2hm7daI6dh7ZSi50mI1HF/q8jze3MmVDFzTuAXm/CRVjLHUZzwBeB2Rj/Q6r6OhHZArwfOBG4Fnimqu5be5OjliPZojExnGT/i5XEI2vYzYYZPAxA8iJwHpSBKOmn7d854+/yM4Oppv+n6VehxrVLId2YasCZPxNSJ1nojmlCAugE4QlZvNYmvXVPmgimqWrwuF30v2tDxz4zptVS+wxx2tPt+M8fsJYcuw21XdjUVgwXNyNI2EGO93HrZBLu9AmVxzqyAoaDAVu37ViB1b1QaunN7lUQz3HJSCIMRTtP2503q4/xeEy4JzwMVxGBqgqHOkqJnIhQxWZ78TxpE8gn6FbR8USfmXvruGxEjTOu+Su2HrwIAf568jP8w+TxvKT+eAGcqvCZ4eM45vTHJgBJq9vFBqmZ7YXltu2Ht7N9YVvoI53QMAmZNRMODQ9x9ZaryZta/zFh49IGztp1BifuOx6SJa9SVXEzyrqio5DkR1lpMl5f2W4F1qZ5LgGPVtWD8RbNfxORTwBPBz6rqm8UkQuAC4BXr7XBvgHld7ceqqbbSRysFkMSb9ppgWLAJs3TgW3b5MC0A20r874mbcj0b9ylHzGvwrbOBklSdX35LYN96Xwp8kmaS0tTy+YpGspONLHv4hrmtcJcjj9DYXQKbaH1JjJXMY2zrDN3mn1eGN+O/uZ4whIbAKRx7pwmt+BWBIKb9cgLbjCLEUmyWUnWtnMeqc3SOjXiFG2JZJJIJ3UaayJjtD1MQtg04Rgf01pTS7OQykI/C8lOp/pKUdKoHdS9N6ATAkgb3Y/95qs4YfJdRODvx0/gTePn8JTqy1wweF/OR+HTM49j6ayXIfFYa7DgaC8pEMG/pG2mnTgnPsJQh5x8+0k87IcP4Y65O7jmiGs5PLPAjxOOWNjMifuOZ26clwl27j+aDaP5UlN0SpkPpfJUKg7heTpHt2pd1nKHkQIH489h/FPgqcB58fm7gS+wCnhaJ3jUF6SDawMVKk0XzKZBbeYtVfgZjlj5/NTixfIkaGBrvWNeEe/4Mw25RjJQ29QlnHLK5i8mveyYnnmnT8bYCmkuKDhWXz10hAIKqkxoaMKFLtjJDNRT2U25pSqeKBk4G8kDoMpFdT0dJQCMYC3ue8jJbWJF2mleopGMlMkO1IOniluYSeAUcqoGFWgd/E8WLbR4beB04lBcyxywZfhxjbZyKwGpC5o1OqGJO/lm5B527MMspBEvoysyx8T2WQUllxkUgRaAGooXxM9fjcMbpXDeEjYlw/6Wouz4xis5KwLnhyfn8vrx+Tyh+jr/Y/j2xJ8GnAv3+WXi2ad07t/KtFsBwrXPTa5rOuYmqGj2ZqWKVsqszvLQGx/M/W+5L1dsvZJ/POuDPzZ4Hn/HMTz9kiex7dBWzNv7cDJg4/I8gypOwxPt4lzV8FxJ5ki5n9qCKh7zVCnNcXrCWu9tr4FvAqcAb1PVr4nIDlXdBRDvbt8+Je1LgJcAbN++raMBivs/Pys3F/IyXF9s987ixV131cyDNu3KGWh+EbW0zL9dsybP0BbHa6IeQD14UMR1QOpGflvGCV3gKtqsLk0cKN1cYiG9/S9FrPCoO1jFDeiW9WLP925oK69JQ5ma2oOe1dTaUBos9zfLbBT8NDELrPQ79X+ZX14uEdyH8xTl4gvOZEkK4G2fUgpNc0sOReklVbqGYJKFlk7jfSsii+Mdez6bgPOLk/vw6tGLeXj1Pd46fGthAL97431YOO2XU0ZiVYzVavO4F6p9tQ7HmDXOGis2jDawcbSevYt72bS0kTuWNrRq3W2HD9J6t2lxI1sPH8nWw1sIjjyCKDXPVWFzNI5/SOM7Nc5n2hfS4CskYW9YE3iq6gQ4W0SOAD4qImetJV1MeyFwIcBpp56SXDF4CW2QaAMlrDa1h1huiHfZZl4DC2CMg83vsqVOdfmkE67iz0B7fabFxiLYvM6mqqUmncFdEtDaMb6cWalU5He5xS1pmDTK+NHY9wzJJQj6v9hS0+rU3U2axntHVJSMlkZL1r+tnj591yFf1or8QMzG56VATO8906aq5md1+aoImkCsBNByEJZ9nO9CB6JHd6o4MBWauO4qQrgKWAiG7hDpWlLB514CQp/wVfdU8RpfmYPF7hNjmpauTCvfee07EYHvNffgZaNf5xS5kbcP31zccvml5kxuP+0PWpzvxlHsYRsnYeM2vDftLp3OQkDyabGmCihrc6Udh3fypKuexMGZg4WwTyO04yXLxnX+pSjbD21lw3gzEt33GTCKTCKv5Q2zPCYCXTVRKvaRVhFsm7B5pKDUYSyqP7vXH+7Ubruq3i4iXwCeCNwiIjuj1rkT2L2WPPzmg19/yyuddrd7PvXtBGHLz0nJqF5SpA0N99vJx0ToUF6Zm10J7Cpdfo9OBPzpLtECOjsJtfyZ38dn6ehl7vGSsexF2k5tAae0K+kBKINpWJci+RXoiqYCiuMjdWqPS5GU27yk4qEgU8H3g6urlnOMqR4IWhqnkAWHD92ZbpfxFcmaBSTtMYBn3BCS2OYocJumQTXeYFnV2N1CrYyx3WlniZpgogS8DkO1vrbhMfd/zs/n2k2xpdkLAq8c/TKbOMy7Zt7EJglTZtVwWdunt76IZxaNkFb3hx+Ve2UKThWB0vyb5g1Qcd7KrI4NWxa38PAbHprq7f9BXL+3truuzcsxuYSBAJXmZaB09WBcMiMrSt5IqaBedPACpGUKQVCtsVshpnBjCqtdTYyIbIsaJyIyDzwWuAz4Z+D8GO184GP9ObRD3AGzXU9pCOuaTYukmo61hV7rP9ud1/TCG98h5krZ/uW0FqfF2lKydaKBB/K2YbpCOFbmod6C7ziLm5nDjv2pHf8zuxb3rAAJ26ygFDa2bmxTybTS6XalfX381NGqXJxCzZlha82pI1pgY4BcbNpIfkdabzRX0U6iuzq7wsmmRfEvdY6vT+X+YpnW8lZ6WvWTeFLIzJPCCSTvEs66QdOaeZlPW4M1ZHFCKv05gdGZFfSBexQjkmdgJadq5iGrI8Sdf011vkmPYrdu5jK9By8YfIqjZV9q15eaM/nM1l/iWfeczbwSS4/sHP+0qGZnxPjmp0+3web7N9JHJHuz8GOzUul5KunEbOYiXxMLxoNVnnmI4/dWXGuQX2nBKUzSSdMf1qJ57gTeHdc9K+ADqvpxEfkq8AEReRFwPfCMVXMSQJqi1qYdatqAkcRAGRpyaANnBsVsPG2Z11phLvZt7bdJMU27pcjFlxYYJBMxladeQyz9x7dDryLhpKu67+mttKJDLlAjcKgg8YrmgsGL9TnPBqYVlXXzSoYieE/waaAEVTV2mwfgEgT6BE8Gk5xfhhXPyP1gkrORoq7dUnJrytftcqJmmUDap9DMHY0dDSScQ0fCVL1q8UenvLImSmny0tfCXOtInTQmHJ8JORu3cde0mEcisP7Z+JmcWwX7yodUl6ZkX2rOZP+D3sCzinRRmRApRhFRI8uxJE963NViZtdsU3qN78vJgaQxKCpx6UnikmRcErB2+YXVWHIlfk7j5p9JObDNobydaFuLqT+SthnfSdj8Uo23K2gf2kwPa9ltvxi4f8/zW4HHrJa+ky4NQKG0uUtyFc9IgbdltXaQklkOmqVX+E3hW7GdnT/5Y8VNH8rdZf3UPnX9GR/4Heg+u5Nyc6OVsfSl8aLdEngAcxXwWmaRZwmcxTv/IC2eWz0NRFtG/b7kJBisjl6vaRfooWsF8HRt6YaefNPmid+sI2uR7nvbfVual8SmJ+D0a6M9VSiHewaA9mqeTG2nA86sXLr2OQppOctqV+bUzQO+cse9Wc8CZ3INt+kG/mD0fG7b9pM8uyUwikZYX7f52Mf2QjTV3OXZcqjdLiW8c8Zbbj8ibXq18RMoMVULXvUjwJuAlcOnb4x4Ckrx0fneCnf51cPh/jsPcCXj+6EuQHI9k/HUAWJumf8mhGnPBFvP9NqYgbQwRjvklCK/+MRrme5em+IEsmYZpyZiNZvVlGDsNAsyKNnDVAcruphm53193+lJm3ICo89m1cySkO4QNpmca0i5edMq1UrsgJ7xbqGdqqOtgEbTqeh0Qnvq3A4rmZx1IMRNwZO5GF3wTOnjkoidkrFz68VSBJk+vuS29pfzy+SwcM03P8wz91/IFjmY6t1pVXwwGmzikpNezo3bHoMt58TMe8AzrBkef+sXOPuaP6NCeZy+iQdVlzOsGuZ0mdM2V5xwynx5uMFSJyAy2lgcP0bVHBIWdc0qj43rcBrL6GlpzXGeVKT1ypKeZgalmQ4Wz/oyAahxNC6f+FIrsoesJpllpZoq2HJhKtd6QvOywmrC/C4+2y6Yeu0XaUsZqM7FmmSQMnq2p3daMl8mqTAWM6Bv+e6LRJvElNli03Jo52jAlm6ecc8VmJA2VSITa3QM2rSyy/VTVxP/lqLbBDjre69iy/7WnTGEaY64pI3McNkpr+bWbU8MZWNiIktUu4bCt6AsvVvX/NkfW/qeJCHnBqS1VitEghAVZ7Tu+7msyMpMnN9r+cxAkjBdM7C8+lvv4Wf2/z3HyF4aqniEr0JoOMBGxqocwUESnrjc23OOxdmdXH7yy7hpxxNzPM2D1eu913zzw7zwwF8wW2WXEyu1bGa8n7Ov+BPOvuJPVo/syQHs0U1cpcfx8/UXAVgny/zi5P18Vh4XaibtFG2wj33ohEBeb/RaMRlAkzIoBS+YTXCyGJWIbQgaHY2LAzjDQItbjnE/WzCh7Dk5LGmhDVTjtEIY6qVM1LVANI9CteXEpLGsSu675RqOzJRO8uO1nfhDJE2dKKO3coyvEmGiphC1H9GypPYAsA7PsXr0gWIHXt3/5jIr/3WPa2YAK7BBHNtqanIR6Se+9UI2LF7XafqgLTWAWpe595Vv4FIq9mx/fGICkGKwFKRvrXFKq1+KNAUFJH227W/7PDAZmCYd0waUNbjt2b0nSO974ZqL3st/2f+XbIh+KM0BNq0eW9YBs4x5HCTLrSoZtoTPTRyYWoeeHmR+aRf3u/T3ud+lv98LrkVQWGSGf5ucwR2sZ7tze+8AACAASURBVMCEmobbdCN7OIIlDcPxHtVuTpfruYfcwgZZ3f1aO9yiR/DfRs8D4KFxvRNgfnnvtJphfNIRjwWftGYdXtb1vE95OiGWRpZAC8EhrmsamBbrvVaRpIm2RTuYLa3GvPLsMMOsgWapOhhouoMU0wmVwl3sGCQuOacdWPPTmNkyDV6PY74h4sgRkybcApJNo4ZF/kolSrWmZIYum8SibAiUQKGx/vlh1OtUmcSpifcdkjZ97BM7vGQMmp3kGR9ZU+1c/ylX/0UCzht1K78zehHX6tGcKjdwuvyQo+U2/q25D7t0C++aeRNHykGEhjOueD1nXPn6DvVBWZw9mqtOeCm37HiCa3M0NZKSpSycdtWfctzN/4Q/QLk4ezRXnPhydm3/qcy7PWlD+j/muFs+UqT3YVXQmRpCGtW4uuOegjLWikPMscQw+UY4iHC7bmCfbmSkNUOZMGDMkAkVDXfoevaxkUVmqKOmFFwpR0NslJqGmglDJuFTJuXvCIqW/lY28eXmTP6tuQ/fbO7FMsOVm+V8oR3BATbIAvMsM88ScyyzTpbYxCE2yyE2cTh+HmK9LPL15nQ+MDmPCRW/PvgQ95OrU14LM0f1Er/YG5DiVaImQtTOu289vjaKT5VAKXBYXrILOYSBm0af35xSyjXOomJtwWgjJ5on1rj3waSqSWka92lj2oHm1IXabrgbrh5uq5KlPPcDmfQs90hbmQ5SRlqbc6Z5utji6VJqMIkN3MzBn0/ONnYeVIPXjWSD6ecwUmbn1yy9vAyxpSOAQdi++zMcd8s/I8Dtup7nLP8et+omHlZ9n2v1aD7f3J8JNdvYxz428ifj5/Cm4d/64loh1GZ+6WbOuvL1nNUB15VDO8v5pZu572Wv5b6XvTa1dSUAXEGh7NXo1hJu1iO4qDmFbzencLGezD7dyEHmOKxzETRn7nSe/5HhdLmO8+tPcU71PXbKbYypmVBxBIfYLvuYZcSEimv1aC7X47let3OTbuWQzrHILAvMsMAMt+omruFo9jfr2c86Ju5m2FmWeXL1VV4x+CgnVNn0WoHvH/u8qXUr+seOFlNOj0M+PRqfy0UljxKJacXxh5qNdFGzbt8bcHZmQisr9hSD2NJqrLea/hnrr3HsSZwT2WMbzivdjcTdMm13G0BAQiqxUxLm1NgDbKnBeWIWimRCJY0aQ7aF1G4K9yQbeecjmNmkKQGmhop4+dU27zHk7JbnAbTbpkK5Bk646q0IMFHhFaOXs0u38o8zf8gDqnBvzKIOuVm3cILs5k3jZ/H2yVOYZcT9q6sY6YBlBiwxw4SKk2QXZ1bXcgy3AjChYkyd/kbUTKgZafgsnlEzYsBYa2ppWM8C61livSyiEPJoYpye/MKzQXxW5XhaljGOz5d1wCjGHxHaMWLAKD4P7RpyZXMcu9gKwAwjzpDrOUFuYT2LrK8Ww6csso5FZgm+I+0qjiPkAFs4wIBJUb+Gik0c4kg5wDzL0VVZFedLkn4b/TLNqlj/kq6TWN46lnhQdRnbZH+H99phQMMpchOncNOqcSEM9EPMsZ917Nf1HC+7i2s0jL/2zx7PDVvPwx9jKCZ5Ae3KcWnMmN675+2v4pUMTafKRPP4KU/axfeSx0e+obYEsjzqsxbsCeDHb95JEJJXAa8IoYX2EtJ4c7I4A+vH9CLc9RtGfl0hPQ4qe947jODpCFu2owuedWkfhAB1nBLY9b79+k8gsp+6gNmDmmF8ZLSGsMCNObgN66nu1vNWfYXODnGp4HZld4y/oQlrb++YPJl/bc7mjwbvTMAJMCcjTpRbAHjF4CPcokfygcl5/MPk8T1tjDRiUmgp/1nDkHHxN8OYofjfEx5UXcbZ1dXcv7qSe8t1zMra7u3+zxLSxjlTuHIlVb0VbwOLbGCRY+S2bjnAQr2Fz9/nr8FGmGji6aSmBEafjhdThk7iZdXkV9aPggREPhOnPUp0ASVpHBqUaSdump5LtzqidglP2PwLoGmaprd58Qdk7H27vP4N1Xa4G+4wIu3NZAOVKSCvFODTF6eYArfWKzT68usGU+X9E5tqTCkk1jar9GWFslS0SYFYSfRPzZk6Qo766isAuLI5lreMf54nVf8vz60/m6ujcV00Muq8LPPmmb/hD/Xv2a1HMCsjZhgljetKPY7vN/dgl24N63tujW7g/moahjIOn4zj8/hdxox1wCHmOMwsh3QOQUMerfzCZ8zHrSkWZcqEocWJ8QdMmGG8ZuD49wjT7BnT+9b3tpj8UcK4muW793wVN+14XLY2iMd63nfpbWy9+dO8dvA/kzlTCisUWqoOOfzgqJ/muyf+Cp3RI+X0ucjagWKfXXJ7HlfE8Mph5M+OmbYNNMOr3sp7hG1lHweg3403XNFOegeB6ZGTXOlLuShn43alcNdP26uSW90xbbKLN6t6hZjdlTTYLllp51jELrS54FQ5lmdTZM3pmrjlmtZGo8Zv8kiilpz9gjY0mjskb7CEzO2ERWk6kVcC29slQvbcHvBZab7+p5w1vphDzPGro19lPYu8fviuRDJV+OzcT1E9+HcA4cpvf4QXHngzQ1E2yCIb5OYOyR8gVxZa6/8fQ/YAzqq77QAIHJRNfHT8YB5dXZTNlmiYRPOlhdmdXH7Sy9m146ejIAdE2HnL/+a0H/wVc0s3M5FZal2CxJUdOCnCwuwOLjvhxdy0/bGhv10FVZVnnH4knP4MvqzPCHMfjY48GrsmQxOvGOfc79q3cdLeTyat65qjnsjFJ/6KNTNkLiUshGUp4/SsxPj7wYrTRulpnKtl3CqckoQ8hCpRQ1t5kIHT3Ne5vHG1ERSVvKVcEQRMcoiTjniHcZ6m5Gqps3FVOm0kStjs9TPOCelK9Macr5cz0b5wN1w9nNnMQlsDpPjLXpd8srJLhAyh8b1kOtqKiA9BiyzrYACabXQlMyulwm9l2pQn71Z66Mz5Gxt1rDNc+6+86GO8dOmTQHDocIUex7uGf8pRca1MFd6x4Tc59Sd+NmV96k88nb/7FvzC/rclU51W0f0S/k6Gtubwo+Q1DVLWAjr9IaRZmNvJ5Se9gpu2Pylv4EEyiK/IyzoKhQH7NuBilO9ABKu2B3FFNDphjoBx0/af4qbtP+Vqb5uHTTK2d6M4Rus+V9RZiWiOVnyhxYOu6fHLxSe+nItPfFmLNl2ez5svWfmwX8r0Q8ZeVfHFey28cDQT1yGzSZCruTOAzzdVlkIu4KEza5PsetzeFbWQHnqn9+Ez7BW1eczGbNmWpDG7HPrCXb/bbgRzz8z5dKJcB+j8twxLXjH3zNVmNEWcYZCFJqXTiGr5rHs6K+TS2Insbt2SfC0QxU0VHHB2WxfCP1y6j7ceeDsi8LbxU/lk82B+b/AefrL+bkGnU+//c0CTpD3AKT/xc3ydn8/tTwUEJ73vuWQ3R970v3nl4AMcI3vvNPApFTfsfDqXnvYaGlGu/cb7+Jk73h3yim1cDQCVihuOeQaX3eu1eFbNm2eCtj0VuZAcv0WtAmBCuPZBFWjyGl7yNO+OpRi92kPHNKZsf+oBygZ8fD/1XGYJtuB4R7vP3IusDBSM68T1GuRJFw4on0g7VjdkHTTzvPG0aLZUlrib3n/MuFdslHWMc+uM4+Jsm72Uj2Mt1t0Ljeyj12rc1zYl23xNwm9RSK7mnFZO0FLTGSjJT1ei2t1gqkSUtrGTHEN2D4rkbjDvMsHOrq3XWcf7TvfTDkfxQgIGAG00aKHitAP7PxC0Sh1pJee9rB5AFa8BO43H1aDdgl+85fdYXy3y+cnZ/Nn4GTy1+jIvqss7Zm7c+fRIi3Y+ng6Z6a3E5561Hc78Rb7PL/J944yeYFpaN58sQAThpAc+j0v0fL4ffyffpXHq1Lnq2LlsygCrLVnTFm7uFdmjTkO4zjcIPYXkST/ErdzxS0+TNKVMxwKdP1cHnEUvtSrT5wbP8vIarwfO7EnfNmtISCmQ1q2ngWcA0FzuNPHSo0+tELtbfwuet1LeyW7ICcj4rC027M8L95xfhGi/CJrOwQc+CfsD2fpy4sZ/AtyKWJ88SouuczUJNHfX4mkVy8qOlJsIqI0qYwmzh0qauFY7HT7vnquHO33q9OaCCjItQaG79Modn0yV8nqIFrHjDy9tUoe0ixb3xdtvmgbhal0AQs+ABti++9OcfvmfUlVjrtMd/Nro5Zwh1/PG4d8W65zfG9yX3ae8MqXM5bjJmUqrvtL9qrKy5tn70vLNA9Jc3xWNbyUvnEdb/Vx+qYscTadXzWljrpdarexWomAOt2DUwcYsNEvwcoJDugDa1k78LnoSwnZs16OkA3HjRe3LqFVDR+ncON/c9qOCFF0Q1oKLuuLdJ+iA4arY7PNsV8f1XdrpmcK/Or2PS/AWih3fHmAwDk5KW99OrrTBuD/cLbvtYMNEil+VieHGwKtpdXL/X6f5lk1aUMq6R5ooatJ/4vMQrMTSjYUkh7DlMU6LEnUL8WDeZpNumHz9jZyx+EkqgX1s4MWj36Km4R3DP2dellO8BZllz8P/hjQYnQlXZjCjhS1R2LQn00kBqeLZ38JZQhy5YtftuToX+FtlrS4dp2xp3tJJlOnQHhgOQKfzaXjrvb42jd8yjBt35kDGDcC2Jhi+dydjSU8pAMxPB50RtT0Rl7eVo3kN09huok1wHOJmOkH7Co/ycoKsRIRUT6OIp03xXXzdu1bOQPTcJK5DqhRH0jjpVsaPNi0XO1IuYYg4RaVXs/F5hnqHCZETVuaoGLtmOvaCU3QypTNK+Bqmg9JRSzXWzP2Y7yALfeL05SQdpkuIu8FIHjKElWyAIySJSE0iB6lTxOVh+bXIqOqm4WXZHkxyqTEdQrmuHA6VtUGzNLJSR3NF3C7ftHDFt/+Jlyx+EhG4Q9fxvOXXcJ1u513DN3F8tdeVA9ecdkFZ/aIdFMBJgvrwWboYce0wCWIMlmz8+jV5SSDp0vcemJ8ChdJH7dzG/pDrblPfRuOld6FSsVi7ZqQUWFmXjHzVo5SUmkv+t3LvGRg6UNacfwJQte8+vju/nXJoc2+ntM53P3K0FSvnVKBUeOJ8hRJlqNWqvQA17XuZey5NirfJ+K+sR6HSleWlFSWjGRkKPWKUp5ykiJswT4Vi4U67lOt+9/XpLse1w90Enm6IOndhSXJoKUOwGPF5YwM+kbRkF2PYLH/zMonFSzeZSDnkU02SVpQXy8F1EB2Zn+rjid43BHfs/jSPPPAWROCgzvGC5VdzuR7PhcP/wcPr7xdpbzj66dyy/fEODKCYJttRVANOEWdHW7bHBm1acG/VPmfazzRlq1oU80sGvVMq/7vcLy1j5a/J9ITYnxIHuZmYJfD0wk2LdCl1ZxPGfRpXFeuWZX2Kb2JDy8qJsW16HvNJ4K3tVjsOSUAhjnTt3XXHYdKmmb0qx1DKQXIOVotUWhpnZQvbbe5Cuyb+8pBZUkuzDa3m1mfg80sFceZJPr3n8+nF3/jN3OulKzWYIvxsEzE2pJR9Pm4B5x2a+LBm8Iye5L8B3KiqTxaRLcD7gROBa4Fnquq+NeXlKpV2wTWzVDi1Y3FjSDxoF3bEtzFCFf1D5qXhvMkU9pxNSnm5l8vwUs0AOmyASBof3hzKyinP3lZFbjt2f4aTr/u/mFvazeLsdq4+8Zf4txsP8cgDb6GScMTyl0a/xcV6Mm8b/gWPqr+T6KLAbZseyBX3emVqexqIVmaYrzqZLBlH6PBcyENKm0hSi3phtEzceduGPuk8K8p25QDJvjY0R/NU2DagVJlMgrfMRjQ6TJE0RTfadwE4pNEoAQs4LKbYmaM64OlAVM2QXUIfhNWl4PTDb/iYqZJ9b5Mpc0/MuQXwfTQzb6der5beFN235mnUc71quBAic7bBlXFYFEDOQiG0MY+a3IulOPXjys+9uvG9KpC5ryaYBo5oooasYLclNL4vI3+4JleJ3A1qu+xu196O5prFvpAFnAnQQGeLb/4+pwPondE8XwFcCmyKvy8APquqbxSRC+LvFe9tT+2x71YxA4T2SG8HF912LjWBWrn+0rEda33Pz6YAR0LTSF5pd30pfaVICKde9RaOu/lj6fn80i3c+/I3cGaUxos65KWj3+BrzRm8Zfg2nlh/o6jjbZseyEVnvzWVnRw0WD0MSCSXW8BIH4YZ80lqVh5y0j9d782kBYL2dGq5PS+ytjM1Qakd5IoSgHOVdK3vfQCav5fmLgWAJsawDUS33mqDT3O6Nt+l99Zfrs3dnVxPD1/jLhn6w3TBNe15kcLxkk6Lk+JJi9DT81a3u95/mqjLUZbeP1HLoC13euvXCr1H/Fy+BYXXNhLWem/7ccCTgDcAvxkfPxU4L35/N/AF1gCePgTGUsdl+Xn5KFpqGpNGOqibFyQ7NNZwq92UEJysej0u5J/1Ezsn66Eqo6o9OfWqvyiA04JtOi3oDC8d/QZfbO7Hnw4u5Kn1V1OcBrjktNexOzrXtampN+nK7gGcxpkasUobiYwpq0ZdIbSHlE2fQXt3CAItvUMzq4d5YU9mR0BxeKGOVK4qaqNzGzjdYmOasqk9jhM5N6W28jJwNp13uU6kqTRK1ogcsiegaYHn3R4ie2QQyhsufaEtq0rwWlNRnfilUPWQ7DZz0i+JikIGsCpySuPP3atlZ+v6DhPceMxOfip8KSkDyb9tVlcqVeU6ejusVfN8C/DbwEb3bIeq7gKI1w9vX2NeZcicVzzyJ4RQf81alDyS0yWj6PhoWieuha0LEzQycIZBmFyFxK0Y65xc4o7dn0nAOdKaF41eSU3Dg6rLeEB1JVc3x/C28VO5ia28afAOnjn416KOl5z2++yOvja9kbcHx1BHB0QRJH6UUz+eVmuXuT0J1gDaVTv36Ekr7DrbdJeUaecWzQ5mlipmuatun5qYqD0tVw+2PeCZcirVSwz2fVn/+YBTIt+Ugi5ZBU3paWuV3fZ4ZxjCQ40fb10dOk6HzU7TIazfsE1WLpgjnsAgVdoQJcVoYn6Rc0gfamOlKssGgsNlV1OLnx6tzNSrgqeIPBnYrarfFJHzVovfk/4lwEsAtm/fFs25zChZHHO3QpL4BMBQa5uPXDZuOvN62QvmvgoPut5QkwyiHkwNAgoh2qrGCVe+Nf386OQRfLG5H8ewl883+Q69s+Qa/nz4Nzykusw3lx/ufBq37Hx8S4pnALXQpIa037Xo0W6/GEMaFfL7pJG2DJ9TPi0+6tNg09LGFJ6LXZ8GUwIdn6+U3/N9Q1Py9FvcZDBUNwiyT4IMmOF9Bs7EWX1z/qTq+LYkFCoGbHurJ7WbruF45j8ftysASkhyxxYtTvd0Sf4ufY/azNu37eqTFZDUeZ/oozl+3wyktG/B8W+mY+IRry048qdxm5jSAWHxxH1xwiKN6Zg+KF7mnMUsT0LdVpOFa9E8zwGeIiI/DcwBm0TkPcAtIrIzap07gd19iVX1QuBCgHudeoo2zYR8n7iXTxkyOsABmBOA9rDv6+52my1XA0mzgyzUOatNZ5AKlYtnjkqySYA3opDkSu4D40fy2+OXch/5AR+eeR0HWMe3mlPZLrdzX/lBx477tiMewJVn/FbMJbvyKqHOTDHy+o9EyVq5OjS0G2HU7K7NdiB2yomoLl19Xpp+d807yljhL58BzwBWlbvozj61DHkQpE07DefPEzgWGmQwb5o0DWn6rhko/bAtRJADzrZDF/Ou1aGhNwPS/KbN5V3KtEMJbp4KPXCf8ip6riXhi22eiB7SSm1bJWUtskDqGRrknshLMGVLfB1bVqHOGD2XHOoeHI8EZcXSpuU4ce1Ta1224BWq9KrQLNGiNZrcM0osvUGkQVRptEaalaftqy4PquprVPU4VT0ReDbwOVX9L8A/A+fHaOcDH1str1R9N2VS16AiiIPT9CUToa9J/ScPPeuZxpk1JolfzKN0+K4xTmlSY+BbVHBK+Ofm4ZwiN/DBmdczIxO2ygEeV3+L+1UZOMN0FW445ml85/5vSW3NdbO2S6pnEMRuqHgiFXgzDXza5BFfUDddzFt9vESndpk4xuwvuxj8DmVyM/I0Pcm4VJWWVpg0Py34KrzO4Jy1zfDXeFMi+27ZFdPvUgtMEJKAs4DbDt3U81Vf+8X3H/R54O10ZaS7tuhOZwwZehcVScVk0zYvrOjkoDlBKtPwqNyFb9enpQEm7bEUDOFJjy6chlduaNggLeuaz2pkgE+jVvuHRJ/IIZXQrt308OPYeb4R+ICIvAi4HnjG2pL1dnFEfn+tb+bRTOLwWTliZ93B7igyN3YkoLTQkYxFB7VeuKe+E6dMasmncUO4Tndwf7mSOQk+NdPelqVS+LqcxeFHvd2anErL7rDsYXuxorsznict3dCnD6wWSviQznOjR+i1fB+Vr0XSjpIWZoAW0wvgpH9CSil1lJCnA7L21FoNSzU9y9ejBOBs7HvPssRK/ZrbkWvZDV2wzTl7GvbRvf9ep3JQTwsG1GVd271k3yS9mlaXvnbmhZ4yjRn7W3/5ceBycEm6Lu7abVkNrhydJfNTuXzicmwBuZBvjzVBJUmAO4N6IThp/nc0VUJVv0DYVUdVbwUec2fSm45QPslBElFiVzn6G3SFeGZracMqiEFT2T38WKnZW0pM4xguOJ3oZ9auM+Y+kOoSeJ9u4KjqjuLZDc1RHCO3cpNu5V82P5/THvRzPbCd/1nbsmFxF8xyC3Pd80bWNOBciUnzJpnXkkr48mdHKnfokOITDNus3/3wEXAL/wkHpG8QuZKdxmhTzwSOqcAIktEHZqNuyj4159xWf8DW1zq3vi9MG2Qr0bq/h/JUdbV4vgwTVdOAU1q3yPYDaAeAaN+U4DkwUkuJSDWJT2LftoDJ80cA8nZdW0ebe6vouXN6U6T1PPelA/oEoG2QlPCuWlnJuBvPttOur4thO+jlQA99lAdXJ4bb3TGQnLbRENJO025i/j0bMd5Nlr1pm2kDLDNghvJqiKsf+zF+ELXq0/urVYTYtb2gJO0v6h9069O2SPBl+EzNcN0UlEwnx9Ahw57KZNb2w7mXs+1ESIGcTlCKjS11gzDCg6ZvxcZP0jTN5InWjnpQlbpV6dBkumYWmm5aXI9Ai7sdBYhNG9yp0d06OYTprYPvRy/gpnCJq6cDvrQ77f53/GS9rj5NXy1iPTuKgFAIrLzummcflm976l6MuXgjhG9jtu1uxzf8iMplYiSXWlqCJP5O97g7wF1J9N2l4KkIE+JZcQeAFiZV3vXy2kmOaZs1jvVsPix+yu9ZovyW10OkWNNsh4zRElzW9ca0sg1Cq9SgURs8hRX9eaZqkQFHqaLNW3sZoxwGQUhYhSUD20q2S613WWNwRx5jOeUyiVXCORhpbZQowXlHrmKcCiX65D5Iw9LW8UjZFQAatMvgfq6zXhnf2QmfJmoSUd9sNdwLPU/z+JfqUAKRfcve0jPwt/V+RAkneYw2DZVk7+s5z2w17KiS7Zm13LVO79vImbjK7Ei6gOuXt3JmWnw3TgsjLXO86WU2AovaiJmgGe+UlLLjk14RUPUKh7r2hFhGp4ZwsIiYc+2aFZpdOeFoZoST3FapnDS2vCUdaTabqLBBG88javT9yQBWue/rbtA883FHwHGCo0xh5uCBNANJiuq0wzzd10wYryAV2hkR+3pYzVQfV+ciXUqcEyQXbYQbL5WKgbgLuF1LfItCfctKeoVLJRjut+V3dwC5HMXVeSWkBnDtV813y8dWFW5QO1k5wLdv2vpWGMFI2V9li1ymQtLGLHXbX2be6ImCpr0JqRpcRvf2f7cNbii7FnUBtBQirUwikbRwDVhqoE7sY0ZHBT+vYB9jilSnaG0/Cg99faWoy/Sx5gFUWikyeFtuOffSV0WZX1Fq5NWcn7RqWjatWOhJ0jR8eu1Vo9BqM6W2+iHtgzivYGmZTLPI7Y7SbrjLwbO9+Z/HfZQERV3bu91TGtKxnrb/pjfcAM8nyXfflECXDM/MizZgXnwEp/XF/EaRrEN+tBsdC4CNTNB03vYFr4EY4/TRYDptPKP3fS+Aol0PpzFl+8z8KVOYsQ2nPkayzzRtorWjnv+acop+d4XEe/6PqBuF0EfBRJmsbmflaM3Bg5qkDdJSNDlwSUyiibctbv821nS+M02wHSef4nJVXM2A0pWWeDBWU93gCCZjJtUtdjRgy4O3VSd3p4CjdTCVU4Q6rHdqHf5WoP9dCp5CBk+rcpPEcV7UTvENk+xB8a5kiTs7XIqdODE6d3eL07eIjZLqGt2NpHwy6y3/mOAJXZnXkeCd4OC+RzvJNFx5NHp/nuXwt1rYMopNb8IID9qh0zjb4Fn0frveXZs50zaTL0y/EeT+msam6iXI3rUA2oZD754mv5n0pGh/Dw+yhpV1yLUHs3i02pgX/syhBqBaVN2xcmqF77VSe22VqVlvdRVxtXAUKECrr/7lJxSQl754xyB5caEB57KwrK5m8HYgHHAnXvwWp+8iETz/02ieRtuy7vhz6SFaHu1+/813bp/2lM9e5HdaRijLSUDoNYAuWxfa0//H3JsH3bZc9WG/1ft89973NEtPT3qSAFkISQwSxGCGYFsDgxlSkFSBynEoK4FCQCUYR3ZixU5SxOU48h+hIgLBlrFd4DgYcEJBQowZjEAkMcJQFIhBFggEeu+h6WnWu/d+Z/fKH72G3+q9z/d9D4p73be+e87Zu8fVq39rdffq1XvriBO6u+Y5bxhxnPFtTwvb0yy9l/fenehc4cF3ssJVUJBSsklDxz522X4mNAkWPkRQ6jNXbr4qhV9ZpRxUFSB7zardFLCP6f/pvE835NT30ymuGgo0ytSLitLXFy1dj/c7vTyt2TrtKh32uQNa17hHTKUUe/wJzLw4V6G8ldo3SvmPHFmEZwaxcVSG+VQfBk0qVHQ6nWX5RRoWLVfo1Ds8bR+SQdwWM8fUBjzFKWVytDo23np9qca620A8FQAAIABJREFUNsgvYLpaXjJVGNEbWAnySuHIF8lAvGblRHfwPLCucQpxpNYiK2hgtVVLtr1L8zuhd74S5QIqxVDVKPz50A0qEwOgwwep2TV23mHSMDWPQk2qucb/TDOuQ74Z2kPrYkApWMnI3XfVO2+5aG1ntl6IGdwD+rxTW6nEba1DeKYE4Oemi/C/gkPsHMgVjtjQZO7+S3B0aovY2KH9AMpjT6Pdyz8BdC9eUmd3q+qKY5C1Zb4H0Ps1WiWIdWEV70sAaAjPY2yzWT4BnRbAuJU61ShnV/vhLjhDtspI2UqIdzG1IMapHZWpZgDlNEW72ZRT852nM7mOOaR6y/n6RiKnZUAOqHObAvC0PZSJuc7Y/RKNqbJyrr1M0S8ZWtPh8/SZOn73neRbEFXSYmp7siJb6Jyzzg0lBk7/zEvdxAp2eneQxsm2nZtaWw3r3A5O0QSYvZR1l1un93ESqKhAc5iH5ilg0rJpKdOX0z3KzHQKBn0ZTKDcG+ShSKckm/Kor53+TMkcz54b93m+j3I2xNwGneLxRpuYuqhaDQ2r6No79OACzsYVvWZ1oQqAUwcYRrgrnuQVii4rAHcpO695qctMuMupIJ8gB+cFHcH64C6jIE13GdjSO3k+TKuy6XZBYkxQG2LaLqfXPE8NpHxX9Zh9+XdqSPJ7q2NUOOPPrLE1FZ7FldWHpD/HrV/2aiKlCtuoWr4rkOuo2oFu3KKa2ofOKaueOHmZQIWNSvFta+YhuEedfH5qs+pyaD1VwtwDs7Z2WUmue9NWkGQvF/Flr7fOSxA2kYJ5nNaa1NazrqtTCzimP92n3W6rlLd1XdyGpLUNy+SNyptp4+BtcY9eAoQN7zARvPj0+l24elig0gk8z+Aqu7t5axAbHH54f6QZUnrSTp23QjoplwSgOKEqsnDkIWiiId2amCMOcUZKdh3gWVKXlll2ONfttJ2NwS8CTs5bKMW+9V6muAhE01CZQaRuYPgzDrLzPa4m3iA6b55t6zNPiaI1widRHBCt35RsO/s6AFQV0rMX/P+0v0zvjXEcVwS+E1w3MPbqW0WFD8j9MIPspGVNsfj3HgAynFTRmRxYNlQjzYCPbY6+VWRpBXC708ghNIfqAIWp0ayghrR8TCq6S44ZOHWKOYe5Hxhsty1hDk7jonQGMrFitJcPWijyZOFQYNeI4/DO1jT6b9WG0WZAgdCPn6qdKphYjKL5KYFqj7nfVAfJi+rj4Jlxt3XdsEDZzVPc/wc/CegJU6VowkX61sUgeFoDvSBsK50ateoUSTjWtvA5z91TS7rbRk8T8CIuHE8Ik4jvGqICZd173ibiink95the9l6SCZXsy/4E1wcYPbvMPnO3jjtB5jTciu0iTuWJnbxljjnFDhkhtT07WW7kSNT1Kno0j2HdvsbUlhhbl3F8vvckQ3P0Z+ruDzZl8T6b5HpJEkb2edPDHdc8e5zG4eno5A3F1W9Z4Q7W3JZSefCLTGswWyAKVTzWMM31mSahfUkzazWv1rgOKuEEg8/fe5mf+G/+Z4gAH9PrAIAbyOuDHzPoPaZw8Wqny+i7HfjOmNSZcqHemZzNkNa+2u/jsOXEvv7IYna136539RlyLpZRezX/wzS31NHrU/Xa1Bv3Ai+jsDifPx9znUzbKqel6P1eGtdtswevYhQ2i/u9hSEuuXpxqLM1o+QY0FZ/PSlMxq0QCdi5rQTyDeynwDoJvyUzmgXtFO7w8UyGtLxdnFmkml1k49mu0m++5FhbPdE6ho9yihh4mlQJqRMxdnNKqKxbSzPTnB0/BAB4SO8DADxL3hfvHsJ9p8jyRwiy+X83SvDcJaL0jzkEcEZ3V42qG4C6k49VO1Z18LRL2lBByQP7/ZkBh4HqTocZQPn5ltv20+892wPSq+toO/6CrsAarFBcBJz7I8SVkDlm5d7Rtmn1X2bRr5FbgTzTGMVi5JRcbdlbIZ1upICP7G4aKou44dvzIqre+Q0jKR8Q/gHXLV1lZhOD2R6TARK0rUQdwmZA7mj3wuGUO7F8njcrUYdBXePLVw/q0wAAz5b3RrIffeJfxAsj94kYJ8IMEMGQRd2S+novEM33mD6TbQfFbvkX5ACR4qyDmblqnWZCI3bCOxqrGGZIK9g43h6fbCqTwqMNR8l/RNjUqg/tlBqcx6tvW3CbD/meqtX8fAIgwfYO8rL0Rby4w0GUTeQgRNw9FnJtlY83X2TmlErR/DZPIEV/UbTdc/zYRjSMjKdCZnpa2p/xBr9RVkI5ul1rLAUa3S5hnLt2b7tfxbEnfVNBqm8n8sEv3R3fTZMVsatpESA8KDUkim9LbbVWlmYaG7Tl0JpgAtD9bZyP6Q0ccMQ9ktP2T/6cf79sNl1N45Dc1GHtOCpP7SstSdbz1/5mhfB2QYSkYwUfgOk+li+cefOLVyffuWcjccmPqoGFOYl2i+8RFNqPUF2hXccfzCzJNYsdAezgxIOarfTKwkUh/uX630VLHoNnErh8Gulctnem6tTOspT3nl+tvzjyBThyesn0whTflpT1quDcyq8RWP+qGyt1DF9MSQfPoZrEGqN/ROJ8ninSV+zIwMFNctxvau3ftdRTBXaFNYKGY/PTbzEgu+FLBuldAc9k5BlE6vlai4K5a8qgEcrH1jbjOyjt3iaQUF7iZK66IY0L+72V8oHP9v0ch42NJ3+PdT4SIDqVOQnlKVDcqbpzHN18q+qbA9ncno1+GTw9q3/bwkPLnOwwg75GbF+iibVOjpVoChBwepR60qvu1LqMY7DeVnN/ZFyJ5nM7S1oBJmCovbuvCV5UrV0F42QG/P4S1Ynen2Qjjn0J280r6zHXKMdNrf83jd4KAj7iwWNujsnJBRI2oJvUyT7GQ9RPUfFq63KRmnNXzrY3k3yu6fF7GLAkQPo6aP4F8AoRgI3YmUiRKgeW2K2NSfMkF5tisAvXdLKxT0x+cxuHaqZk/7MesMd4M6snqNIb3XbndogU2AhHHXZ+o9Qp03Mt90PailpM1hSmiMNRh72PqijlgzIND4y0jaLePY9TFKuB+WhOcRkoFCoT78TvUyTRiSMmmXuaW/ZqxUsmez2cMHDa81Llk/3Suy2V1BJZy9yraZJBN89lE881X3pBbRtxGgGag5SjgpfEfGwzDlUojvaY22vIYNcRA+kAPV0BjmedTi6O0u33SZrth6ve2/67AD6MMRM6qupnichTAXw/gOcC+F0Ar1TV91+WlwOnmAA64rTUG3QVgDzyCBFSxHfk4hKOCTYQaogAERdWBwdQBuqcJiDyY31xSLpa2xlDNr48p/adBlCgar57Mc1jkZYiTwTSLNQlPl13ssm7lltK1dToxkse0FznoWXEEUqqSvaBtTNeSkzLB3j6CaJLG2h5ebtqy682DGiRQ7I1LOhwIq9KuT+s9sfU3mpVQrGc/vvHJvZE7z54IkqqafaE+wyOM11l+gOSjnySqQAoqbA5Tt1r7PhjP6AQQMjeGz2u/gNvOjqAxiq72bSK8MXDVob0QI2EBVMurujK6tIL4Ci8XFU/Q1U/y36/FsBPqeonAfgp+32FoEEQ3xHzQdVi2m3aZhyLNAAV+gS9JyPNkU8mg5UFkdqRczzLY9yVZZKTLuTaslnJqjDH9vZK4OkP/3ikZRCZkm6YcfxpaHOenus+r5G54fJcY7UmLarFk7bvyQzmS5PnGGChKSq62hqYSJTvNHNbzA1cUAF5CVuamuSzdWwUIdsa9aBjLrPJLkM+A8AevGz+JJU01jbj3rS5LTthNgifeUI2Nat15/jzkVYpLdyK1dpAo7M61WaTrknIXVybAtwRozBmjr+8kE4jq2yXxrgdY3ubxUwf4bIQOiOgHU0EizQcZMGZHHDAAU0WiCyQln9LO+CwnI2/dsChneHQruGwXMNhuY7DcgNLuz7SAQAa0Bs0bsg9QSYLf5Rp+1cCeJl9/x6Mu43+2sVJfCC4vSeBHRqauI1Vs2lm9tQgfF5N62k9mKwpZypyw4CMscmw26foLscuGniFhlpyjI9H8Hg8DR/B/fgAHsETcFsXXJNxiuG5v/0GvOuBLx5tkmTPefPDnpJuMWRlt3Eh0uIUlLfRWzjq39CNGQ46tsdWYz1AcVBx67ZIu6rrowqRFTLYlHS5vODt3Op2Jg1tEXTtcQqoML+DaKxXOjorOhq65bn4+pR29D7ckow7h7YTSDWHeTn8XbT4Ns3eHvAWti7S0XjGMWthm7D7onJQXZrd12X9G09anbv4XRXSc+GnWrjVJceRZ9OyADIQBx1MsbSkQAjGFHgWQM7LvhxQwZZHsd8ksALNrHH9pgTjQahiwbxYpVjNzneRhmuyoMmCBWMsqCiO5tJGm6C3cV34NRl5ueBwBSIXBseM59btD+GojwLagPUw6rWsgMxn8Gq4KngqgB+XQeW/Z3exP0NVHx7t1YdF5P69hCLyagCvBoD7779vFm4mefLA1UbjLACKSBjfo6/zRNJpZieGLVxtXX4VNSMIX8tRAA+dPQ9PPf8VPCDvg6Lh3XgKnoNhrnT9Zl5rH2y8U9EKDjul946OIwQD9Lx71abRXRSrmLC3i89WKI42QFofNgodgm7a+KoNK2Rc5daOEOljfWZkHLeRHlVwrkOwNd55ZyrEWJu+83vXUuO1a0mdbDqZCAyKrgZXHWyj1/EauMe85BQQf78SK9AQF+FUrn3Rs1j34FJyMSp/b7YsL1J+agzLJtNzTloySgsSKzfqJpl2q53AzXlmeglpnJs6ixc/vxxlBC9s9ZF8Do1DEunA2WuqNi6GYNY4apRt1vxCa5vN0NSuu1GBW+WET9ALOOGq4Pn5qvqQAeRPiMhvXjEdDGjfAAAveOHztbUG9ovpn01cr1S6rCyn+ClwqTEb9Bna6go2wx/Nn09TXKSJ1BxPvWeIG98/7firEAGeIWPp9136FDzHbD1v3XDZ4sx6ekjM+pMCaG206ZH3vgdvfctb8NEPf6Roy55mmHSMlh+A0DzXAE/kHS4moFKrVRywQkQTPGFMryPvVcdAO7ThbeoZz/kEPO9TPh1n125APSOaPg6t0rXCBJDF197cxLM7cF5M7dHG8fty9v7jDwIS5H+ommzRYsufNd/9tTbWZLda6S67Wb1503WT1uNA05IlBAJo2c3HgdZP4fLT0Akx/0ka+t1mfJtlt3q1Ps72feA9j+Adb/st3Hz00dg/6ao4qmme0oBm/K9jfjNwMYE2GqbA4eyAZz/3ObjvGU8fI2dZB8Y0N5I/Ha4Enqr6kH2+W0R+CMBnA3iXiDxgWucDAN59YSZGpJPgiWrGME82NmfgZf6S/hNdhi/2dMXern6RyRfWet+ak3LTZJJRkwn8FPjea38BL9joFNtQBwpp3YMn8Mgj78Gb3vgTeNfDDwdj+1QXNiVxjDqYQFpF81oss50UESyLUd2Aazh+GOm7ACtr9V53UjBEgM/4vFfg4/7EC3H97EZcwpZrnBiaqw2Z1R750oqq4ujgqXoSPGeKkc/woNZjWbx/rGFjWbN5CVTQeAx5l29Kz7T877nLnrUFbZqMuha9zWRk50cTcCak+WZk8DMtPI7yEZioBKhbrpZJ0QH8MPXQXOvWrIOc1QpjNiLR/gULmja8/92P4F+96efwyCPvg2iH6Iqu4zTaqJofv9YxNdMxldfFMyeKasc99z4OL/1zX4on3/9sLG2FtEfRxO1QL+7LS8FTRB4HoKnqh+37FwP4mwB+BMCrALzOPn/4srwsvwKe/mwbb6/qbIOF8k3r42A3BuH5Wc15t7I771L9z/lIrf9qjMHmSq97z5/CPzpVzg6ozrqnD5neO86Pt3H7/GZpe3hU18zN99U7BoBCgbjvXATrah6k/JkaeGKAZ6fyqeVBBwFwPJ5H2WPzZzJR8q+loya9ajSAgLPutO9rTQQYG6Jp+RnD4MrYVu0ET9ah5l6rEO2f7RWjARH/1IbJNjaliTbpFGdfPBfl2KXBpFWGYJQpQZhIqMlPCR6K+JtasIei+jac+pAkZrzmNIHhXlNVnB+POL99DujwtKVQrDHTEYTvit6T9wg8gztUcTg7h2pHHNl2VfoUISlcRfN8BoAfMkIdAPxvqvpjIvILAH5ARL4OwO8B+OrLs5LpL4PO0VCGRYmdbQt9lZgtc+LlXr4+12NtlrdpM6nGc/DY03yB2UzGvSotVINuPBg8GZ88xGFjzl1hubmFoqtAuowdadyG4hYEw6O71y6HXwJXLFfwjbPGhGv3t7aLb1rLKYwp9LNBNLT6sWnUu+2WO0gDUNrKFslzLcOH4mDgBE5Ps4UN7DxZkGunfufhvGG4OU3NXWjglvRjrhhPthxRCDnRhb/lYC62tVL721vAvVdskncaX22UuZ6lYbXNE9ANkEm+Fqjt3dCaa+BNIll38FGJchkuuZ5TtQsQFh1kag+7O2xW6dZsY7mZMmDlRV2UMjS+9r1KAdJbTNEox3p+E2BZ7HpoWQY14lz7aQS9FDxV9e0APn3n+fsAfMFl6edwkcaZUtjlzJS2fKeNlY2AU6jWpXf3A7oF0H0GLZG4flzgrCkYQKbmmWb2Tbi9Oeg51Lp53MzDwUadfcoGme+cOtM4k2fmuS2nw2u8ajpMcOiw9Nv7iqoq2IeYHrDL4Kc9iwx5MCjn2kZtOXu0mYGTU+8RyoB+Bgun16be9FUrr2lJWZ9sCt5z3TbVN3/t8bK1iICUgbCUhS077rXt1BBnDkmwzBHGTjcEQwiVMYpk9xQtAwG34M7jguNJ9DEP+YilmZoVmaCF95WbRVmarlmfBYSLSiWYkE89hZagfMlBkOAcrdreBDqHu3M8U/bJXiFJynOWUIMgSscrpax51ZO3lG5iuQKunoK0T1+HWTE6KsoFwG5SS90AnJsRlE/bBcDLP/5xF7aWXw0AmY2nxssOYFXFEbYhZJrnWNM0hpuP8KjEpk340SygagwlzHeWRjC9c5AUsxtVSF/R+ore02Sp66naW3KrH2ucTpl9lq051SfZ24MW+bQC6V5uKchG3MlYKRY8fU3ehZmcquhGRG+Bca8mDImP1YFg0qNQJjIZ/a5g93PZp8WWYaOI1FJaHGmcfVPoLp15XO2djFLPOIiku3Rlx0CpUY41T38/+4zwWdswzrJTRxtJDDvvPtIu5v1hlcsu4bgr4MnAUcEtl5BbsM8SDEWEdgCIKYZi0TYNlDT3rpJ7T7IP8nJtDjIA0h0S+B8b6Jxi8HUCTwB41ac/tbSby6oDGWPKEPfE19p22E64DuDsBp5HDFvOpu5JPf/YVcWqY+q1aAoAsYEAgR1dwzAU7mNHVNugwhBYnTqijasx+moAatcAe8kkbPICPwnQnAcuU2XuJe/N+VBdTRs6uQ2EHJcds8ZbAdQ/N5qfkChmm0edYzLnZU93JDjvjNudQAJeKP4ldnQMHArX1LYtjrrFF6UajhfbOrpwzQMUvGzK5Wbf1DEiyD6qogWZkQlenz1VajlED+uQropFOxpWqApW4/qhSWavO2W4HnHYzssSwSoNC9b48zsJLgp35+phTBJ9h6O2k+wqoHKJwwckUNmTJJicXsfLvF27yCyiY5WJT2XMa3P2+GgXwB3cyFamdF6TIuZZbsvuxZnFNjJLreuFpVoa9Verr0/Ldc6IJL9vCCRUjQ2cOEUE527/TXX3MkDlMOWUB+u2PXVe53kS6SYIKr92kpas9374dHIbfdLc9su/LGxiysXveaN8FpwUK7l11qLmPC9cYri4PrJ5o8bL1v87ZPBNHaE0kmiYADp3hg7hFP02D9j5d5FczP+S8EKJChVsPCSrScyGy/l2lgw74S5cPRwrt+NR7GiHz/gyYd1cSBVZ0TRBgXXtebOeD14jWdOGJmcGjLLJ1yWTiGm/lve5We26M5OOvBZ1C8b567ijeULclCiqH/XJ1CwfaymKZKyGBU0OaCZ5AT9u6S2x+3rKtNgX0ccmlMZU3tLoOHXS+1hTHXVjcESaE0VDFH1d0dcVa1/HrZbII5zeAik1yL7lZxs+9Q0n1MD5MeWvDmcXBYKrHfsknrXkNbcX55Z9Uml5lVoX+gjhYCQ7NbE0kCumQhopPHkzgBn11Ph/04ZQPiTGzy6wx7qmxNp1mbY734jnFltV9si1Ts3C7Vmz+jbJ84BquYxPp4WdgdccCysk7Dx9bAskZm6tNSzLAU0BHM8ANNvcvVjw3JWrh311LnX/BNAR+PfOhsGcozoYaPDk0JLMVyR8s6JuMvkvLtUV9SNyq2aBr4dYOZLDoDCRPdiAp1orynpOnSpxLTZ+CUhKjDE7zIPtnFCkHgps5qWULqW9Rn0UzaqU8dUGXh7QlCwbDOIOqH2AZu9pf6m8zpef1S8k6wscN5/sfbt62EuzQR/4rGQ/DWt2VBs9FX8bco1RaOlgAtAd5tbpc1OdmXo79QRmAPUYORPLDaOtnpnfB3Ln/rrGLZPRipwLI82YQkOgtiao+kZfEQqmVQgDKBAlC7czeFepUxIvfJFi8OSGCEkpaWit2em7xaq656Gihj9O2+LdwARwCRCaH+kjg1i9sMKsnbhkjgHrmo85EEibUjOxcNCjDmHk4fyyvHST0WXYPwbbCkyi8arKvub59Id+Es5MwxZytb8ONa3NW81gGDkLmZJEO7XCp44h6kY6m2UPrX+qsDwGzXqco9fYyXTp3vkIGwR+jNL/On9OsOf04xz3/1KrkPJX+5xz1vKZzwVT2RdMXy+DwB1INdDZtodNjhA1q6uKe/Wfy2GhU2nA+efIcUuG7YB3+BbwWAN8HMrO35Ry58z6ZSF7gZ9t02/rW1tOmTHawc3kViiOCiiGQ4/tLsEsorMMxwqBYjFdbrW/q2zZ3XF/nszUQ9OTsMHsZbB4jNGQOJUidJ4bZMcYC2wDTiCCJguaH0GcWVPKR2hX5Efa0uaQDgCzOOlEQUr/zOApAvyJt3033v2sL7T81nGVLkD3CgkUh5iieL0aRq92m56rKDpWrLqiagw0cE3ldG2b65bbagw5bI9adY4BlF6SQnzDyO4W6n3Fuh7H1D28edWBmLpNhT7hYqI3h+1dChHZJGDI9FeVDplkkKACTmaWMS+ChexloRYNQThMtfx9rQmmeu6H029n6IlP1qLE9cEpFwH46pnMyzhc5sjYULNlEbUWugW9UnrwQK2TxsxLalT65QrVhiq+xm7b5To8McR4dZ8N82ZpkCLyMx//kgpDax2HNuKv5Kuy0m0b7uI1HBe9VKL9HHGaZllv5tCYp0YzK/PgmZ8a0MQOa8bIbtiXYl6iAHgiPgoAeFifhk+SBwEA12++i0rj+gFQn8JoAZo6MaKggO/GlJM4E12czSpscT4Tc3v7nPl121qPOYp3TTQHFVNi92TNpEZmN+9pCtu+R4nLzysPXEFx2LRpv466ibPJmpZjZkza6pT0W05XU+a4/pDKKcIFiDuhSkk7ZZSDAidQMBQdO9HW1WYmZYPNedASxTp19mVRhtjhS/TZUE3U0u99iu+sq+LmzZvDJM4Fk25YqnI7tYf3Z7Nfcjkgzr87cIYQ2A935fZMx3Qn37SFVIji6wqk44X56gHpXuAo7HXcSKhsYp7nMngtNSsniPO/auuBfkrdpy3RUaQNoUH7qOVDuA/PwXvx+e0tAICf7S/GJ7UHs4i41ydL9o5sqhgusIwycVxuxG32fFHBosPUSLS2uep5SdPuG0RATM05ToxyGnga02fWIoeh1FhQWaC9QXEGkeFPUYuGN7tiSYqznhT9TuXPk3AgN+qyzhXU0ghHp3dz3Lnt5CAXdbKW8WiQUetyvQ2bsCd6t+/2A6d1SuUkJ2shpXcq3CrSxwK7v2YT67mtmesYVwuAj3zko3j7234TH/7wB8cJsr6W9vTecVzHrKitCtFxVHKNwxKa7gn7OBDBnlp9mWeM+SGUe/fL/9JXgvYV6CseeeT9+MhHPgTtRywYLhbziIfTu6pH0ULiMRewgjHTaWuDosOPxSclToc7rnl6o6pOxdJs0+QSl4eyj/VVTeMU7lazeywlUz2KqmQ7fgqwD79iaiNcJpVCthX/95P+I3z9B1+P58h7ccAR79MnlTLvf+gn8e5nvgLDwJgAWFzTdID3WjvoAw0HKAQLbAlDFWlOtG0j021IXY32hBUCAD4LJ6amsFSu4mod4CkC1TMozqBYMK5zHhtYW9jjHpk1sYk9leIIwhaU1aMUe0q/+dseeGbgiSGD4+ntO2Dr3pomynoqzenAgmNbv9Pfo518Dh1ORQdyiY3B1DpNgxNsCt0CaNprNAC3H72Jd/7u7+A97/oD9H6ErucAQlfEcV1xfjxCu2JZV7SuOKri9rrCtcfxoXbWfICr644rW2jYvkVfjxa3A30sD63rOdY+yunHdCbSMJQkN5X3/yU+pwYXAB2ewcTcLo5NrFmEng53ATyHHKw2ajvTSn89DaBh1pC6h5ve0N5w2GqJjkW4+bIwhZhNmZY6lEFn4DSAZ7chcKRxIP6Uz/5y4Cdej5u4hiMOeIJ8jJuD57/1O/HuZ758sHKINwIGKZkjlg+U+9yYzTcseqXc2AziIaOxLsc66p7TmFjxVUBo5TUWNux43DAQ74AeIXYiI7etduiYpKpM7XZ96m2d2581EIw1aFWvnxRhOU8Vd/mfvJNMojQ4MLRg/2613V24Icmq8f+e1sMPLh6anE8tRFL7DoHL7ylN0K1+jz97UetBwOtCTBXruuJjH/uoaXu2Vu+2uqqmeQ5QlIGA6Dr8Jjg13FxOu2mZijyBpmuKPNI8i3cuVWBVSJectWkVWMNL15YOvozh6/ZNKn1FZTgXb4tteIqfT9kC7xTuuJ1nb6vpMT7UXMb1kGa8u6dm8qCy3UnzXcwxmRwnDxoEzRz2ih4GYUQhrdcUzHPhNFXR3PekKsaVEG4HmTrPSGc1pA7z5esFK56MD+NfrJ+Fr19+FAdbDjg7/xD1j0XTAAAgAElEQVRg60ZdzSu6XwEgUoSCQVycexrMNlq6thXrckRb3Su8Iu+tX2zDZWxMdRlSffXtOB305tspYzc4jrMNOi46znetplGOva3DSKfn6HobTW9B9ByCI5qf6VFn1jyZogpIG2ybPlWHltKN7rGUY/Xwy6IFgkV8w1CwWr1UEYb7/o/1dtLH4FNs14399BMAHGB0nAdfsEjmpNPThHZE+by7nn2Y0qqKcmx+ucbIs4q4dgUMGqOXx8O0mG2KcELjfRn2ye7MPXg66xbXjohChpUfbp3fxvve9278wR/8vhU3wEx7D9eGDjJHHRuOTcdJNzjFJcedV1u78YeuIXpEXItU49Y0WpcVOBhfL5N7Pe9zp0ZsDlubh+Pv8fMAYKGN3gMalnaG5XANa1es2tB1xSISN02cCndlwyiUDQDJStaJRdvwZyTvyZYsKOdSTFLCwB3+zpoQMf22Vv5VMKFrvicNjh6V3K7Jir9y+EH8N8evxW/oJ+DF8js7rbd0pgrwaYfdTClNaly6jRZ55IJ6DOVpg2jOnaE75AnlluvUPu3tw3Gt/w2YQ3hL8pLVSNpdBplAwDDKH3ahuauv4lNOjYO6PlPhJ2Fv5eoiESIAhh4z8G1+65ZTtiH5Yj9u3a6s3WeU21VmdnKb2YCBU7iHqSUCsrfMyXxkKWQracxHOljmQzzTe8f5+W3cunVzAJkxla7uA3ZMfRXAcXAEmtL1Kq4UiZqnImMVHVpkc8Ec9EsQHILHVC0r2xUN7zOm2r6euBPDP9TpKRBpgx6SCHFBpgDuOHgKoA2Vg9bijMM/ee0FOH2WwtMcpJOpk8khERa1JwJrA2LGtNmJEr/8eYhn6uhOOY3wgDwCAPjp/hl4cUvwfP5vfAd+60X/GVqoAgmclZFzyIfDWnO9tfQzLP0aoGvYqXmNVnS4qYdfTDC0kfDTD18hWkupfipjiac9YhgguMagGDOCNhbZ9XgTevumIaRAtWNdx1rV+XqOYz/aVG48g2ktXRW3+zok/vk5jreHb9AuMLMWhZhJl2ue127ciyc85T4czq7hcP0eLNfuAbRuKGX9KzWZqsOrkrdLivkbBxcoMj3J77SpQydfHH58o+8ULOdhEX5YOWGuUBzuYM9hnkaMTyixRBGshCDieX2LsiKwJTFf6bZXYeicAjC1bDVfFHx0Q3nlBi6GfT3btcQwRcTwStatf9R5UGgcxvjbAmN5YgUvgqJFxvIeAJi53XE9DofimxxPh7ugeTbEvMQkEuBg2UqFmdnd/ArTe8UYOIuoSd0BacGU4XtslsM1nxEGuw+JluC4cKdpHUo0GcEw3G04oOML2i/hP2hvwrcdvxrPkvfiq5Y3QQA8+8Efxds/+ZtTgooBctECfMjRVQBKVOpnaP1sLLJLj7XQZhoDZDWGTZP/uDyPBvgxKG/UUWdhh+EVISsMXF3aD/AUAB16fht6fjMNYntHX8/Re8fN2zfx6PktaO843r49TiKtK9Z1eGG6tR5x7Ipbjz6Kj33ko8Mkxo/Y9hVYj4AqFhlTz8c/6cl4lqy4ce/jcEOeinZ2I4/VZhcV8Mz9/trXjjd5Ce1eUBp4VbxniKMatjGXwzqUvBO5O3DWaywcYoSjWH5kberrzzKVwFrqXBT5lAisjFKdG6wOkr4zVxtaEsCZ1piiHRD1g5BQacPWWYVXxLIUHeXXsePiZhyZ7BCMgy4rvfF2HpC5VaEUNEOCbdzbLvUQjIfeO9b1GEB9GilquCtelVISjsC6n8VIucXrgMQUrJn5r4GVnrk4IhjJT5Fjh3WcodXTC05McJARR+qfueeL8IpH/wVEgL9z9ga8+daL8F3Hr8BXLW/aFutfxUHPs8uB4+U4c43QA1jdIxJrVIn1rhkRZJAc2A5snT7piWaOUWdVfPQjH8GD73wH7r33ccaZMjYRTNu8eX4Lt47n0N6xHo+2VjYAtKvifF2xquLWzVu4+ejHxhReTPPsHehHQBHgCRHc/NhHISI4u/FEOma71ezyqWx+6dTvp8Kc93bApgIQaYg1Z7G9ZwAea5mSZQjV0qFKMpOIqFNaQPJwhH3UXfbscQeULbiPDdWY1oK168yH07H9wr6OnTRPoMwacT/NOVHTssGbOtdSuKmRy07FBl3H+fbu6HrFcCXwFJEnA/huAJ9mVfpaAG8F8P0AngvgdwG8UlXff1leC4miQaa0pwy5Iq7CyzCLsWZGfeg7G8gIFGhC7z1Xt9ekNoF4XtKgiRlY7YjF0CmENJxcQ1RBqD0LOq6/9Jvxm//8LXgRHsQ79Jl4EE/Ha5YfLDRQWlBsfmY4xLOvi41BaQYf6GKuuNDR5DYabmNYW46G8NTImzn0gIWo51OlbVzACeK7nxcPAbG1xgff8Xb82P/1fixtGQsIAc4jl7Gm6Zsa9l8a4ML9ERy14/Z6LH0Q66oAFmloInja0+/HvTfuweOf+GScXXs8nvCU+zFOYM3Df29w7Q+3i3ZVGfyG0uUg0oOzfLDvHUVgz/bJlba1yMVShXllWczVoh8HTcaVpCcEadKGWBOd6x95R1I/n2N8p7bGqEOB0DaGxgHjYsCOYVsBmOtCHeUt1u+ac7QNUCkwjviK0455Ahiejpq1wcHa6yfgXuLDFwHptJ6fHtcY+sfDpqac+NFtNByWA87OzrD2jiNN9E6NAA9X1TxfD+DHVPWrROQagHsB/HUAP6WqrxOR1wJ4LS69tx1F43S4ZPk/nw6cgZNelf+FMt9blK9Scs7f3pPIiq5iYUTqWhjZZjQIFPc99EY8Xx6ECPDdxy/DDdzC1yw/uanLqKfSp2ecOqdL5+jIGDgdkDVWJHgfqIIGv2TN4cSJo1I7IFzZUd71/dA8P/qRD9sbiz+tYcePRscF1T4ty1WGT9Ix/RMCjJHd0Dwbbty4gZsf+yjOzq5hPR53Yc+BrtZ7iqFb3juFoVX79F3pFDFitMgskg+dZkLvqiCftNCpVN41Z8bOTUOvW86OtkDu9WGlwl9Nep9SGvE+mheqkpuqDj7ZvmqtwwDQ8b5yIzVDUcubGFWIiluNOdMEgMYmJAJjiyDB2CxyzbP09P7uXoSrXAD3RAB/FsB/PCqjtwHcFpGvBPAyi/Y9AN6IK4BnWe8MiZkI5DK37ol7XNIpgzhRURPIs+ZZCi9M4PmlKwpOowUEAlwJ52A5LJTjc3/zDRABHtKn4ofWP41XLm/EU+XDUWrHQrZmdSq23ZaQAJDQB8U3VGywKFOKpO/E1rMkZVCOwan5nTUILal8cyzplNq633mNGgyrVMcaavO1VQIcUZuVUB2GDR4AFcgigAwGv31ccfs4ztOjd4hdNbtrj4vUX/ZE8SlO4fdMPedMhq5T3nXmwc245J8s0FO01GiT1I50zI6cRkHDzJ/bDC76Svx7UiDrNyPNAcAZhs8ImnlM7auqyBCEY4PVoE7tqmDjI2+zeIV0bsVEN2AI17BjTgidb6ydIDiadYDvDQBHURxF0c3NXYOOGY7tvVykYjhVLgvPA/AeAP9IRD4dwC8C+BYAz1DVhwHArh++/4I8arBeTLByG8IJHGPtT7KjJTWGHMoYpgYzyG7QjsQbPL8x6Pv8zgEucT3TKMCs7kdE73vwp3E4/zBWFbzm/JuwYMWrlx8tzX7rp70mujXXkupwrsLfxIl0WyLo0Ab0BruD3aKSOuObFlmuLzMwe4u5GuGppWLDL6R9ug8nzzOqqa6lXBTyKJ4PoqTKCOabId65GQwgwGFcMrMCuH084tb5OdZ1hXQTtQ2bHKehbHlWwTAacFHd08SGxds8Fb+o7BnYeZ2S8wuhUcR/8mP5Ihw/hV9oxVLBW20Mpcqwo7k5rUN99FYM8ISsEByhBECeU11c822m8UTtNstxaAVjE9Rcvi3W2rBum5rp31nQN2uoYixNidNSuUUsUkb9GsbO+wEDOG/JONbdxWZyojg0sePWl+2VXM0l3QHAnwTwXar67wD4KMYU/UpBRF4tIv9aRP71Bz/wIebX/Asm0tpmiju+bHRD6mKtU5ydZ5u/8m4LHLt1LX9pEvL0h38aL3rL/wgB8HfXr8C/6p+K/+7wPfj4ltfZr3Id733Wy/datv1Zpr4TUdh6YIdktRn7EtzT8E70HLZyV8BDyr+UsaZwNTMBnDOaOm/suJbENYrFcdMm7R1rX7F2d393Wmvk4nbYqsRiF3P8R03ffN0Ajx90iL+pYEkh4w6GIdmdvFO8QQ9Ln3xn34RfTyZKlL8rH0Ival0n0IlBaSaDxGebZpmqG7vx9W185lINtS0s8y8Pnqtr1mHj71wgCBth5iWPG2aqnrYAftQy6LJ3JTqHq2ie7wTwTlX9efv9zzDA810i8oBpnQ8AePdeYlV9A4A3AMALX/R8XWGmRaiDd49+fHqBadzpM06DEzFCRPl6joSvNM48iLYAYebTse3PLViKNw4qwH0P/TSe/6uvh0Dxi/2T8G3Hr8K/1/4/fPXyM5FHh+Btn/qXSj1UBdJyQGWHsh5iUtMYc9zVdIDIAaE7uomWprnxZfzYNDufAWiz2SimEUYcmyBNwDjGzE6pqZ6gdb/hU6wsh84Odyg2irQZh52BhgI4nkNXxfmtW7h16xbObt3E+bryos9u8HezvfDYiLQWXYCsw/TG++EPFxSDZRoPxkDMXFSoE/bke6//mAkJ4VoCXEOfUjJ+pxFgrOMxXkapDaquC460C8T0TjbeqwJU4qsfYNh6xR1fmzMK3PJS3SZVT+txomy8p+6c0fBjVCBdcfO8ro6HjtHXflS5ge7xmk2ArhAu1TxV9Q8A/L6IvNAefQGAXwfwIwBeZc9eBeCHL80LE4aFtD/Bu4Fa2T0uNdJt7jRw0xgNIXnAk0wEWPmPIRHreigzyuik7QK+S/rn/dp3oukRH9J78C3n/ykekPfhvz/7B2Xn/q2f9lfxngdennTYNBQnaCFw43hnIDELBQSTkPlL8Yx0GkQb1HZRxx6ps32R0pvBZbWLAYBCJdcS63wgNdA4L6zI884EoXw6p6tf5jYsDtbeoWYfupKdKB+6xe7fjrbk/SJS2imimz8Ip3vs8Ml9MIT8WIrIXXGJnd8BaK71ONAVhitDoix1BWOa6Y1ILHs0B1ypacH58GzG/zwvDH7xK9EkPh3UE26Vnlb9PfPMfQlLo3URZ1eRAoYDDxqZPEdJDsoRP5Yvhh8I399fkQ7N0xRrLmnv+zZcdbf9mwH8E9tpfzuA/wSDQj8gIl8H4PcAfPVlmTB5a71MPRH6PjWAZHF0h59jjWSqG8LL1JlxqoRMP9S9pAMF8MYXDbAeJzpougXgaQ/9NJb1JlSBv3H+dXhYn4YfuPY38SRyCnJ+eALe+6yXRbeP3WbSIDYhz0A4oEWdBICtGaVmrbCL2KHqp6RG3WdKJrsNI3l/5n+CuQdmiqrt8G+3pE5Pcwaw5u2TFYSzpV7ecGbN9wQJC8Te0d3JhHSo5DmecFwdRRN/ANkwSSP5yzYGYnPoguOt+3ROfhOBHXbTKUHEnCw3BmBF2cwrvGtOvJHt9IwmLdGTBo5pqYe0sbY+yGxHbqWjt3X8dR3mRlCorJHz2OcTJHR1Irdrg2r3D6UAE0vbpHj1jHGJrBpCrVAg7kMq0DzqlaCcpfNuSPF7wHIpWrMVvqfClcBTVX8ZwGftvPqCq6TnkO49HAoZFCtTFIkNtwLLfU6/QsJwMzWf0L5CKQfQTJo7aOZGgBqAephnn125O0Z+PgV7xlveAAHwg+ufxf/Z/1381cP34zPb2zItFrz9k7+B7rtOW7wZOSUK55YvgY0KY/jWx8ZR7865ET9S00BnpmFt/YicvpzaAHFtv475+ixfzIKv5lhPiQiyqxI4ynqVpDO4RWxXX8Yxz3Vd0XW1NS7njeQpgKdVCp4e+6cvz1ysXzAlavrNN0lwDE625YGhXbqAmeIAtuaaJlohTlxFsvry2IkIAaACKf1iP3xzVggwRGM9JtokedRX7RppXTp6O+LYznHUxW5JUKgcB4Cq2EaQQacilA1Y1cNCQbTQT2B2ztbGOKop3voUcKo5L1tiKLnDGs341FMVFGtgAZUAasJYeeZ5GkDv+AkjNnBlqckdPSWgQOxLZi2ZhyZV4mFhN4o7/eYqyX4cic9cS3l8/zDehyfgW4+vwufIr+Oblh+hNIJ/8+K/jPc+6+XTsN6rUW13MQSe1twkJUXZVc/sR0NSs6qhMtRe2RlhrnE5H7NZ47T6Bs21PLcKU75ULoFErXUK0piKjUP2O3y9ZfRC9x2U3AfOnQEzsdbJtLSWHq0k9YYvZGPq5Bcb+C4UxXrehcdc7lSJAcRJO54pZRWNP+h5EQpRrsYnU4SxuZxmogEpNEqinNIN/EBLnlxKjMdTGOb0gRbBwX2Vj6tZX7Z/yvyK0vSOu6QTbySztbhmSc2VHKojztx9tfcljmF6DsSxcDXfwMaoqXTHyxyWqC3Kn8hYKLjvoX+JT/yV/wkA8J3Hr8SjuI6/ffYPhq0iRme/9SWvwXtidz03REL/crVP4CLaW291VLCVIowibVW0tYdz2Qo5ai67TI/RPCGVtBuMk2e2Ge6qOPI8xk+luKE2Ekj63UNZozolZldiddQWxw8z/KgZ0AM4rh1yfo52fg50xThB5VM2jVQMmplb9ufQOjjs6yinALPFjxQW0RaOL0kznlIGlZmvg4crfwc/EL0TcGmc0DKHj6vQhL2KLZertnqKrauLGRqZVj/cQS5hKifqBxkW2HQOgB8artbKTdzpdpYz6jrep9dP57UKel7H1jo5ExmhB+iShYR4n9E6PryKtlzm8UyYjb8+PpvzO29u7Yc7r3nKNECKRMxXRT7b7wEJxCBz59c5CwJAPB/KMqadbBI0JfefK9VTATz9oTfi+b/yejSseIs+F//r+kX4quVn8Int4Uj7EVzHe571Ui4SQJuLyIKILhU6vL2SGNsVsqqBB2UYA9UGiPqyxYYC2Wb6IdB06ccN9h1RAicG0p3jBTvg5brjpuRou27f2HPbYVVgNU9LbV1tJu4LOmuSwVLVTcBtzskZWx1lLx7/rs80+Ki0QTj+tnUiqVVu0vKvKLBuGNUaDNSYhxdXJjbBdtJ71IYpnRAlg08NPCdeUVSB5Pm5oElbTo+vxEUXcaq1UOq2YO7p143nXN5L7ODRReQ0WhLwim2HzeNgJ9zx2zPj+8xhwV4OFKSzEB/xwBRIHIJwo/oEwwqaAY7+TOxTWf1DTaXEaJrpPvHX/hc0rHiPPhFff/uv4D58EP/F4fujbarAP33S1+NTkQwy8jb3e4SJMuk/zoIs9DgH7/nYlVUl5vDa83mLXIaXyGsyu+EBBjLvKBqnf1bG5l9a1lkTYlKfkuiswvTRqQJSnkhs2DvL93bvuNU7jnb57OgXNmTnIWa1Mb7Y2zxIj5Ks17Cwrd6+AOT6Y3wmBFTBkU/5e+BiNh5xHHUqKx9OoEIIGHbKc70smpv0CHgTS0o2XATvRDcdWpyq2OmewXeiGmY/DlK+WVkOI4BErY9T5zJrc0+jzeBRiGRvUOV8vphlSDiucfOjoHyckhp5dzuh5PmuGH5Ij8gNaLUNy8r723D3bs+E2/KZIYQ4zFT54QOBdbBMy9MXBf0Ac4+RDYDbg46dXGX/fSHZbUj18V5gR7JtbH3am74Fy3oTt/SAb7z9n+P9eDz+2bVvxdPlQ9kyAT79874YEOsM36wwBhkSOIVE4LgxTLJWBYBomZmesI1s2r4Ox2BjOu/3t/PAzalOlcYFNqG6AH0ZjNSGb+/xikGlfER9hUoM92JeexXw9HOc7dJh8WBTUN+2YC5YzGxGIHh0XYHjEef9COAc6bO1mpjlZzpH4UMBfo6EOawVfcZr4Rp8DupsUmpzMUWlMsZGxxJcnXCXYAYYwLnQEFIcvB60kRibY5ShYzBDkOfSRNPfaSAr7e6LAXeQTeN3mChpB3SBYDFZ1QME3UhoFcEam3ew/tcgmzogSWqHidaCVVuMY+8THgcqY5HmoEJG+wMIz63FB1UsxqPdTNGcNmpxu7GhKnAbgtsK3DL+dx+4C0yw7dkuW7jz4BkISCoGB5ISQkn8QQiS0qbTDeTIzLiuTdaBX/P0bvN0L/iFb8XjPvZOQIH/+vi1+EV9Ib7z7PX4tPaOksu7n/OlWTw3MaRu1Rhcyx7lVTGxacr8hjSELa4ZI54wWar50Y4lHcmMOvEGxmb1fqqrnqi9qWuDBBPyyoY0JXcGvrwsjG0HEjCF84cLYC4MG3rUfJTS+XqiOOagqniER15+sXerq+9Jipwb5S495Sk7XC3T1/hPQxOuAD19pwKzzpK71cwYO33hYMW/XeuM5kJyxluOCGeinS7elie+hGScPLWdbVzZfpgoUijA9eQih4Mv00RVXB5AoZs54RzuvCf5otCzzjQG6KAhx/MucQmdg9BDeE7JB5GfcOpZUwoG5tFu9WkANKXzUx/+WTz5/b8KAfAP1y/BD64vw19a/g98+eIHr0a+H3zKS/B7n/pN1N6sexjUmNrIpxrEOCLB1tve81gZxGjka50aDLq/umd6ptB0+AI5AyAUnIYObWlovLWg3U0df1lc33mfuXVN7aG7BHCw93VE3sG2I5rjMrJu88ThQDkHlJS+G7/T2z8P5FGHpJg7YFnUFz86VrtVJ4zJBWXtkAdZyR/uctCaErcHjL+CF5LTaX4X46EkrdaMu+ut9F2AVM4tobdl/GxBW89FjWf8xgBptv0yrqoF2916vathYNYT0HLxWlz+BkGXXGISc88NsyEdY70a0LPMHZcg+xjL9h6toVq02BpPMDx1HWSs3fY+1jnd7Go2qdwLd8UZ8ggk5c3gO0nhRuLeOaCep1eg58G144vrDBkpJwpzdZL1CIgmC/Zn/8rfhQD42fXF+FvHr8Gfa2/GXz787/FeAfz2S16D9z/rZSfam3VwkAzD6BSlqKu9WadxENF80hTQzBqEyQaljrdGs9OsYFUzqRvgALWycQXw5UlxTohrZ0lUzplaYdqkxeNpnwoBRZhnjWs8htrQAWlpRQEDBZE4Vup8MVN1VqBVNcBzrPNZK8TrIdZ3EnzjYBb58lTDACN25oXe73aEJDpQX1aty08nzRlUK4cU3JogSQuZsdtsgibLz13tcQJLbD2i2cEOJRTjTbk6XS8+E0QMkIzOkocZjlbrRTotmUzLaVrzBRw8B4AKBGf2PrRIGUoDL0Yx2f2U18GedgPO4T/Vl7ouVhjuAnjSutQYEfQcIUVnY+NN8DHoxrmsRV7oLquURoDrKdw0Kp8+99f+Pm7oTdzEGV5z/k14gbwT33b2XWH4rgDe/XFfgvc/+6VUAMst2vf1NtPaXzx210A7dULWzNSIFgzCzOWgkNLWToRQ853OZYPnQu3UHur0SmucFtO/KeIOXlTNahvKMzuq2QQ4rue49eijgALvfvhB/M7bftOOHxroSR5i3cu3+IQKjU0IzMcAPmC4LwOAVRrQGp7ytKfivvufjibuhcvAR2Yrion/rJ+CW0gZCGVTALYBdXO+0iWkYXIc1v6IaDUv+st0FVQGbJlgUMGCcXR30fEZq8GkV3TY5lHAVOap3i6NqtOQHzEXMWEdewCwcaAJ6p5H5J1jS+CG9q6QZKNTAaBWCqezOkCxOOyKxkmyUMRPhDtu5wlZy8gY7qlyIhKSFak2uwx2RnI2HJOpjiS650nlWR4py9r0zhe1FU97+P/Bx/3WP8X1m+/DrRtPwyP3/Unc/+DPYNFbEAF+8PhSvBdPxnecfTseJ7dGLgo8+viPwztf/I3IbmHGZBB1vtEAzty1pR1dUzdCf1bePx5aAJalqFAS2560EOIbVCTNCz/QjkFqRNU1SLJfDi9qiL0ZNB0Wl6NHVnFgZJavg5/rc0I/pSYO/Xe99SiO73sPWlvwkQ99EG/95V+ywdWDBzaw6doiEGfqgZzW59W0tjEFOnki44qGpS34zM/7XHzcK16Bw+E6bh8FaxejnU9SWcdxVNT0/uOqsORAD9rQwC+wZpV0jWqsWmkAU1oqG3fsbHCUmRsPlIk3IcNTvKriTFYcVHEdimtYcYYjVhkOqZl/xkElP8E04LVDsKrANb8wBVLbhJIxy0jNb2i5fbauFgSQLeFdIjf4FhMETYGlGQBLavdpGEfgau+87DMBzqx9wDrwCX0cc95QsoY7C54kXYPBWVoANCWgWCy1ykYDDTmTlrPUr9qA0Kc9NeD8hN/4h3jmO38i3ty4+V488M4fj9+/2D8Jf+f45/GZ8lZ8jvxmpL+JBb/x0m+PMiP3afy61lEeT3FK4OnbzgaNLy2Eucl81txVhJkCM2EMOGu9aKoTB+t3BiWpISkyaMOE6lukv2qtmSR94gE1JDcgOrQD57dvQwQ4v3ULH5L3W7lj93cue7RZasM1p7KQ4RNyaLaCg7Roy9BkBYdlwbIsePTDH0QTxUEQpi0szmWiNze5fGeen/h/mvWXL4WGm+NjejKfmuEMoPk1Ziw2m3GHIAF8Vu64dM6SblkztEQexYzfCA01j9WG9yzKSAqFOU+tdAyy117gz5keVVBprG/n6v7lq/x3fNru+lX8XzZ/khEBU+clCVI7fBgeNNc8e9uZA5IMJ9tCOCNgLBY/9eGfK8DJqYEBnH/x9mtxv3wA33nt26MjVIF/8uRvxGdEuYPRfLo858O4VTW68YBt/ugxUwsQGSYY/oxol4bC3WbzKWhcim78d07rp2vou1MUL4UW4AIsKb57OZqnb15DrnTSI9cXucyaygaMusGJ55x2rFDOo7Qg0rjWEnxnAlcM1LskCAkAbRKbaEMnWdBlQW92Fls63HRs0usj3+bFUL08/tafatJIp6d8MsbzyOUtHiOZMuolNf5MIVjei8HHUJIP6HqG23oNt/TauD4aY9bk/eObn6H1Sof0Fvagw8xpcMRq6Tq6rVWmeVdaGvr9rkEhFPAAACAASURBVEDThkWHu2O1pSpV8+OqGkJPkP4n2O7Ue2SY7o3x2NQxZbTzvJ9j7Uf09Rxx0EKS/y4C0Ltwtj3duzGhGEhy3PDGT6rtI84YOL64G2DlA0iA2P8LNE7mHvsLDU97+E34xLd8BwTAO/U+vOb2N+GF7ffx8vbL+Jz2G3hj/wz8l+evxv3yAXzftb+FZ0recfeoXMeLP+8VBDbZEr8O1qcd844s37bulPFL1UaVq2bgjOFw1TGck7Ad22i2ookiXb5FhaIeZeGCgHPUyxiXapYVt14jNB2UVyJzgoNYftAq11iIZBMJFNUmzUpcEZXRzLCknvraayOC9BCUmpVCzaBbsCCPKpRrg0UgXbE2jbYM4FzQ23EcRRTjYskymRLFZZugbv4Uo3ihv1P0yTwxAeEuBLtAjw2unWWF8r2jmXMQwQLVBV0POO9nAzxxRI8dcYTAN5e0lrYDTbC4G0VNPjhiLI8Md4MK7lcBwnh9cIK1t1uERWxqL8NMDYpVgaMtHTh4imgKeCugq4RFxYJx3UZHR8MR53o08DwC0oG2FYGnwh0/YZQgI6hDimNNb2jgzCzCRhtF5s6oovx+/P/Uh38WzzPgBIC/f/xyvFk/Gb+4vgD/eP1i68KGF8rv4XuvvQ7PkA9EyUcVPPiSb8jcaJMqd1wN/HVuj4NQ/EctKFGyLfZsCHqJxe4ZiJR/cAhzLpqWbOLV6bSQVjac1hrkU6RgNPUK7pRdlaEtc+50tqqmhg/s2irrBb8A2CaYJtB4HePkmLVPd6od8canC6P0OO895sAU0mtTqzQ18qUCXs9Pm+OSeJpnutbogBOCSBTb2idXRBs94WTzuzu2nOACXLtxDU9/4Jk4X8+xYjXwNM1UU7MedTJdUBuknwEqaDp4xg3ZfVVUdUUDcNYG+PY+AE51XJHRoVi64tBtLXtZINLQdcXazwd4ouGIFtqtb0z58oK6hqkNXRv8UEYLpWvFPffeg3sfdw+gqw3UpJluObWEu7DbnmZI6lxAO8angzeEuz7ksG08YajnSmdvxC6ydxUotA/g49/y99AA3NID3qlPx4+tfwpf0t6M1599B97cX4T/t38qPqW9A1/Wfr44/PgobuD7nvS1ePEz/zTQ+5jakRjNNZTU5gbQJRr4dIrgEp0A0eN7q73lBwjOWsNZa0DP9+xgIWnjCJeluA9PUOzZJV0DzM6RgDSqbtPfJrEhtbpUl3owdA5703nf8VcViJq7M3+v7HLP+5WCILQMPr63LbinAw7NjaAUeLTEQmvIY0NEh20jgKYrDq3j0IBFFpvz0AALFCQxLcPfv4iMDQ64yJ/S8BjwOhCAxgaTuLkoA/XeOjOiHtXnQ5HK9GnCweM0QGXFk+9/Cl7x5V+MR28+iq7D5lVUcVDESR7P091DDjllCottIgUZdfDIYuUtdkJrVRfN47rqwSuubY8jlQ3Aqh1Hu0dJ0aB2dHZBt3X/7A+1e5T4lFezC7lFDEiXhic+5UlQfRTShz2rxGbtrKzVcEfBMwZKYXJjpBgkqcFNqQHkDjQiljOfJi/4e9c4gFKi53dNzwEBfqG/CF9z/tfR0PHK5Y24Lkf8meUt+DPLW6b6A9+7fiF+7tlfi699iQ90HjDMz6SaASVe0YIwtIe4D9y1CvX6V2IMz97jLy3sRsjdwUnVIwrOtPCYSpESvDVOG7GCE/HtFIjXY+Gcpw2s0ChLnPoZPR8LapXCnNR9BITCtlFP0xQrcTL0QCrNAIYj8qK22Kdpnk1g2qffsejFbQF0D8pzl536yIGTO3vWEbzN0M37EMQXAGiK4ipgt7Vk4Aeu33MNz/qE59gaY8eqA6SudfbKNcizhihRhM8BJHh2U2AO8AU1NXB1u0+z+e3k0trotfSxadWhOHcfW3a0e4DnGn00yhuHLQFfUbc1z9A8c1f/fD3HqiO9KHuGvTjccc1TXS2OTQO1KaFGR7KW5gOZATPlI7FBcbHko9HWudS1pAkoLHxiewh/+/Dd+Pz2FnxC272KCV2BH5IvxAu+7OvxgjLYTRNTjOFk97SoMTOXpaUN9s2mRwNA+9TqerZ35LAOS6U2nBysbqJTBEfVCFib5Rjz4UZegSODkZQDBOgLCTN2q3YKoGtIUMNOv2UfCaCLrcBUi4Bq+rwNDNJdfbqddVEzpRkw6BipttNsn0LU0MGnPYQFn4zbb2gV8cMGNV9oIinnEd9Za7S1U4/TmLq7Re88m9Ps/+60/JQb+sy5bvIz0gR/CJC6o0KLVpomS8EfmqcJk+O6aaY0j3L5FbBM/S4K6JrCkOQuU4BHUhUg1tYmdh32rHRcDKFXubf9hQC+nx49D8B/C+B77flzAfwugFeq6vvn9JcGpc7xnUvkYB8beWHFNv5otzasP0kg82R3OABx9wak1BCNHpBH8BcO/7JWS8f0/F7cwkN4Gv75k16JF3/uS7PSADGC26660fNWwgN+zVltfNjguT9BAO5KLrQ7LwPjWoSlKZZmLKHdNj629qvc+T6d9uJS0uukseZ2HlExwcg+woumDDdxAaSoYWa/nA5ZfXQhavk31/zGAgjKUy151fwrvIY3c2hozuwiREPL8B1YOzNPQs/LdPvVjmabD2as5B24o/UlH2uADuBRpVZ3812Rdpwojj3KfshWEd39PaLu6cJEd80L9xI8BYttiCVYSKzp1F4ba54K2PFOgYRfTB2e56eaxAVwGOJc1BUqjpccWEFQaSAnYfJJEZc7vGjPpQ36qkygf4qSI1wKnqr6VgCfAQAisgB4EMAPYdyg+VOq+joRea39/muX5ReBpLr/KL+DK+z77LwzK4hoYJxB1HyVEVEIIcCb5VPx2fprG75XHe/0i/4GnP1fEpJWGKv3KmRV8TYIeOOKVpW4KghNxL9rsmQ0L/Brnxaz3OQ6Va2eCzZNi+pey+IBwvWl5zyK60dZCz4NradrXlvhGmvVdFlp25RD2k7apc4izP/J1Nas166edrm6t3kuMsUTH+T1mX8Uu0/hlnl/7oP2yfoQsS7Uq6YGJ8krTQxzavWV+4V7iKgrp8a0t2viSe5SwGYOMzVs7MdyS9Z2FrzbILUxVwiPddr+BQB+W1XfISJfCeBl9vx7ALwRl4LnkPguZZiRef2DpXJMtiRdqyUMuHYJm04lOIw3jaSJbRyZeQ8U0C96Ld78E/8DPlt/PWp4C2f4x0/6erzkcz9/DFJVzI7GhvarpbysWUfcygjEtHwkdG0rjFdo5Yw0apuO+LRySHKzc2vLMNkQ08pMsjcDwE5rja5VNjB4Vs2+hqST60upeXoMP4rIjOjGzLNaZE43Cro51WyaZNdCF+1WdIoPO1/uTni5j7PfncRlnEd7qe/KwjKwip9pH27MgKGhLpGrucuTcYlZk44uQ/dsQJxKYqLGnVOWnptcQoBqWlCAqJ0OODL6LCzyq8/g9kBib9Eoe9e5o4VUUIp7sXDLVcLKVcyH2VOcD1tUaFhYNB1xba4VuUeqGMAAZRCBeT1aM41Bjh3UU24DL2rth8cKnn8ewPfZ92eo6sOjUH1YRO7fSyAirwbwagB4xjPum16OjhHSzCDbhe290wFqo8RjxrQcPJAkCR0LOLbj6zT/4tfi56nTBQgtMwpn7dYiDUAb0jPHBIMMdvipI0yo/CyvjmlDzuksNfFEMdsWCYcNySIunaupkdoztfYnjtdTNBF0+o2kcb6iIRCnxXy5gerJ098gX7UucBpoII9RcNYyiJZaykoiKTfc8ynxJNagZYoV9HI+dNC1wZnCepyjdic27Ck1Zu8w71CRhPuuFE6NJEvlSEPgdbmd1snAQm5r57kHDlX41dcTkcliwd/nTjWVPgZsjudNvlYPQZiEObmchzMd10F2eHY8nkkm4CSas5CJI8A8e0m4MnjatcNfAeC/umoaAFDVNwB4AwC86JOfp3FlLp3PzQ5zz0fzZESnXw4i5mFIxIBsNmWpubAGwrml7JUcO8HOmh0kLdZkR9uybmqNcT0n4IlP8Nh38XwECAtj0R0hasJlA8qmhUoaDIdnqiyOxImDPdK0p1CljunUbNJkg+z3mXSFK5VpJqkTBvnKqMnBO1rYMfczgAR8nYoLcCGXxjZIeUuxArZCplbM7c6FlWHjO4CxockCkcVyECxoOEDNKUnLvR+x9eDAoEabPoxIVn82S0rC51/RwvdqfTqcHv+pcmzj6U68uVRb2QxQS+GtlFSoTxLzxpjgkSpIL0uuCjiX+o6+lnyqQKj11czUx52wbo0c0pGDwvdV+Prjy063PxbN80sB/JKqvst+v0tEHjCt8wEA+9vUJSgg59hoWRBAlqi263JDI1138rGTqKJYZTWocjKbNkM0ZGEaLhw07dIUR+T2gnfrEvGyP3p4oidYSRZTA0UdDhT85EP0dbfp7UEhCw0Y2nEfOeUA36z9iEJlQZcDhtd4q2AbpiGqgPYBEQcdpjXjqgGrAmtsQS3SdCZsG4zdA0o2F1KY0OCrYceCApuJWP6OwBj9WgQnXOvImonSyaycdyGXCfgKuwQbB1zfqKkbWbNVa4Wi3FhzQBYc2hmWdkCTJQTXmahpoTIctSC32tJQ23LynftQQq0NJIirnO/RlgKo6sJ0rnUNyrTadJdG2zbgalqZS7tZL+PSfUlo9LVWTU8DXuGeimz0DFbF8GLkeUbh4I3hGu8IxcpLGA7OnooYNzabbPGVWzuL0hi31p7V6r0gbbVPhXbh2xr+Q+SUHQB+BMCr7PurAPzwZRnksFXvH/iHbsiY31P0pfrDPDFZRVBOTtRJwu7SZCvh45tMrMbq0NQ+/yL8yeg9h7lNMkcLG4Px3TRUtzfco91e3baVrHTeBOLT+cWcbntSqcYvtFOcyJs0g/wZcMxNyt68QOsgOs5tFGrDrHnyZ6Gr1I4Z5jqS1iGSJjxhzmOIyUnT2J2BM6E+KzYTaOI50e3fXgh6a37udOyW5/xzG5/HrswPSp6Vzvv9sQV4rkEkONVZ25qVuugpuni8UncC49OMGuFKmqeI3AvgiwB8Az1+HYAfEJGvA/B7AL76CjkhVs1jINjQ0EY9MUx/xsbKwPcuuR86AKKhdbWpsADz8rIAvIsc5FHfXFHKc0zERsowDol8uplqdDJmH5F5wMtQSszcqMuwP9OF0NyWFbSNPEfrfII/pn9OAaaWWlEK4NAU995Y8bh7V3z0dse5b4S5IwaFnacfLHBE7f6tUfRgsEFG124csMRsxv1o29YgqoomBWR4Nxrar8C1rNRKqVz/bdEWaGHZhty0SX83I78s/TLHYXUIsDZ1WnebEyvQzYzGvao7L4iY4hmcjFxX12B1MZU0hdtlQbL8Tc33WjZnPPeQGk3LCnrJ0T0LScSeeSUXRBb7S/CxvhCb+MbOXVLal5F4guwbqxA78mkEGkb32Y7o5c06a23vfEVM2qrORHfdOdvq97Dmuwu1gquBp6p+DMDTpmfvw9h9f4yhZZ1EBvXoRIcz3/gtEK+iOnDl/e6CYdwaDpHnxhp3xBBTKcDSYxrp4DXLSfFqADN4T8WIaYK8u84dPi/Vpwbg6kqCSzJvVTYA4CCK69c6rl/ruLXYvY/GpDzLGx5wpqEVP0gyO+UEZiTeTRkgKivoLL1OOXB30tOwzVUqeJro2K4310vUJq0mPH0Tpe9qAw7Y+EOF1DAvCbSQ7NqmMuuGZjn6M9Z2bYd+8LRUy4ts8sVFRz0vAsZTKTnOBCrTp39vU3wfOzqlXEDD1P+E+kNr/EGmOEMU/F1EnwBsKlRrEREGLWcAVVaRGEStfOZ9659c0MmShhwcJ5n6SdqOcGePZwLwPcoBKH6CYpaoLl2qnpR7m3xNhzGwJtzEuowmU6fUq9OlgKjY+a+19X38oT2kyU+uqSboCuXeSz4Ab/oENNvg0qCMs0rVizxtnLdeFrRlgbRmbhESAN0g3GtSQNjrQ0LF38094EcvUdLXdbIcgCns2K5yG1zPz/wYGHi4j+yG2zHPelNHT6sVuBMUSd/YBdiL4TOPOxrviJa+EwPE2BjhQgo7U1+q/0eu9Lx8EczU8z70MoYcr/TiOl417PXjeM55q5OXEpBFx8RHnHngIKVTaDl+XBd0pABnrZyEgjRWKHZFt/35enFt5DgQoSnYkMpKPNH67pL1qLvgSR6rOd9tKY1B5jaw7pFGZkY2wY3ftmEghS+nogw8zBuQb2CIb+QIRhlRLyHXom5f16MPFDZQJI9jDnC2bRRJ6CwtGdxuv32jw7YWBDb9S6ev/L4wuHVkk4bl7BqW69exLDexoKGL4ijDE+fSx30uxALRwrknOLTpxQpFb1YvlZP5CKXtcMBFLm8IUyOle+yi0iDqQf2kVi6TcE+R3qS+QZWxxsBOPVnLgMmPi4ZGgqS1QdYop4lgaT6b2NoDKhNl0wtqadbxXFgqsIiq7c7TRjwB9TpogeKqu9XAOc9DZ2yict57NMl+cAD1Pi9XaSCB31PE7IEEbNTFBP54zTQdAqVjbL42VRzK0oIH5oBshRqPdKRXJaafY09ynv3pZmt0E+68V6VgXFqUDsZRhO2fD1hi/NRSSNln5pvtMUtHpgY4cIsGkpnkCGXptXRxvzUWZi01WdarE9JPvAgtddhbg5nrvxNjDKKloS0LWvPdfS/RJa5JWThr6DYj/7onXdU/XFOnenkldqT7drTtDdNTOs9+FnuaWNaFQRSYJSlrdswJklKyVKGkFqEnpB+5SZmbmsEVAMpkJ+/94AJmTzQRcfereyK/ibNoacrJlLlPu+SRC4/FuV7Ga1Q9lcxnrJPP/KbY27iNWFpEm+Uz9zwBm/8W44+ozD51MoWU9p+Me5FUpXB37m0HUJBlei0mLcZ60dg8auXMNUk/75Sg3ThTA2g9pa2N0rjU3AGVNnctrVbK0Dq8jsGXfvpJAKDZbngdCKMmS/xqdupkDz7cwXM9EzK+H5YDHn/vNdx63DXcPDsEHdMAQMLJryBPHpU2InWf+k5T8CL/qPlw7cB2psbTcrqr0rSXFvqwrL7gfaj4tFhdpbH2jCgJm4utja+RjwYtEzCpxpqCjk8opWkYg0puGHYMT+iqq22cdbQ2LJPGDEQg7gBYkDvoRfhyK0GfW/GZYW9QzKZxNf808qGca8NKOtfpIvt4lZYNfrWLSk1Xy+5QrFDJflH4LARRLyjrhhJ97Js2sVlD41ni0xUD88agSnVhTaD+ziuOFW6s12PdddSSaZct3Ml7J9wFf55AAGdZyKIujMEzpsm51kQAGMbhoDTIHyK5s0iDcS0czCTamKLX70X60zfLR9zmD7mpxCdnCHoCSoW+eVk88c/cMv2yLHjcjTPcuuca3n+2wG0sBe6g1oZQMC5Knhw24AmvdJ04+goztybYUmp5FSqL/lTS9p0cQU90fmKZDdtPMfC0OUhVGSea2jMHTPtrmn4x1+j5TNuNezq6eZBax+AdZp7Z7w76AuQMqhB0qht/U3qzF0hZcDmF3CMus6loG/G8znkx9G55fQBaM+DM/LoC1eSHwaaDXct46DpALmluvH0Cj1LwJnh52vHdHBj7HsFm3XOWEu6V3scv27fGQkDQMXcOPMeLgRO4S/e2O0sEs22OPxpxyGh8jy/ngVnZUYtz4XyRhHabuw43yZly1hFp3raKb6EUqbVLwc4bJJolJfV2aG+/VWC3wnRoN8tyhuVwbZjM7FBD689dNtiMLa5qWUdMCKStOMSQ5bPsOtW3tEin3xeHLSWyYXNvZJk8PU+ekuA1S6Gj2m6BMa+ruiXE5mI88FINcqe9RNLp906LFMHbmxIs8cnllJl5CtFLK+hbMoJDaILVJBhjJ3SMQbeWiH6flJS5n3gNe7e6u2FrKxO6X9TH6WJV81wdO6xcNmiYRgTlrKUpqc1i+3kBiN7hazgETRfTJv0wVp5AGYPXyNiGlZc7apANI3uepknQM8UYHEcAvQHNHbeqwg14cu0KgC7mpp+1FgXMv2Dcpw6Bdq8P8lMIeOy7mjBu7mV+Yrowt8hjJzlwYLaSM9RKQzsccP2eJ+DGvbexnD0SzNFsl0IF6O5ghQW0tsJIeboqz9w46CqAA9V3ha9++kYaxu6luuCwDR+Tg8Nh83bgXG6RuR/mfl/pWfZ7AsUWkBRi7tDUjlj6UsPIP/lPp/TD/pX7QcpGpVC/PZaQjpofe9qTeaKChS9pDSXBgTI31xhkEhxHmi5A9yUs7VM8ALlgMuilQ0P1jR0287lKC9VzNI1V7ft4p7mUowKl+jjDumOXuDIaGt9VsFVUg1qJoqpqjpivFu7itF3BHmPKNCZWn3dFO+UBRgfzt+H5SKwK5BonIi5rCAkKxB6cQAaTZwc4gGqJw1ziHVsfa5yBZ1W3ar1cx/m3muZ5wLKcYXgInOixK2vpu2Q9NngOX7vU2IiKFspEPmudkhZVqkE/N7LjSoFo699lqwnsc4bG/5neVRIHFtAxxkr/GYSKZsblROfKpEle1trT73c1Tk43vQ7Q2ylhnqLHiR/lZ3O7WAfUGAZsHpR8MFMKAXwXtBCYeHWTh+WtmKJxDag+0bp5fX8qL0d4zZuBGvP3C8JdAM9KcF60J1kSn97ZldxTd6ti7bBG96EpisZudAug1OD4vC7WNKWwnbPPADj3pGNJ7RnXtK5kZuWrQbkSztNqZB8ZC9iZBDMqL2F3NBFcP7uBG9fvxdlhgTRzjkKAtlg1fc1HkHUvdp9qelpI+irKXDtmOPDB1EhoeY+OmxFr/bmvKqxwjhPgxE9f10tzZqZ61lRDaLKgCmCDQLGEl6QoxgFvA/621g6xq3HN07gKeh937Ahc62UT8txMzMDtPAVYe3FrGgbA9OKQnDEPdy5D1LcfK53nOvjVFZFrQRhucwUpbr1T2x/aiDzZPqGI3L8MsfwMu62tywebAxVF5viaML9380MtwHmZxnznr+GYjJndhIdvsPZOiOOAE73c1Zm3Vbuir7ZALeMK1NgwCkSiabrtiHtwi65xWVeFrjHloVsj4RVCjs8ySWWtNCvPUjG2lALwEB3q67AsIQUw1xyC1gTXr93AjWv34HA4IL1UIa5pdQ3SAadZXr4kMqaiGCCuvCvptSHmlewTz1OsfQ6g7OJh474zajSvHXMELeWnpquhJfUkF8HmqbVwA9wimOvppjSWLgmNHyU2Kf2WnGYbKcPRi20ymGTPDRN2TjO3s1LYbTa7TTuUB3Mw1h54bpcqFHXzL/knBYpPrTndXFWFYpVerZum+e6sz/NYaNZXrH163Wob9kF2fNkXMJHjibXI5NqEf/G1M+dmncfWUDyivhNwnhZyI9z5E0bqgOQdawP/pMp9HMyFBr/Pxk2D1DtKHCimASzUheIkdDInIyho13wzRGedcmI8BeVIaAjdJfzm7K0tzDtNggnEEc6zNKaSYee5LA2ttXEvjqyUpm2qmVLcINDyZuAp1dooTsn08S75sRRXku4A6YYmPn4SMSl+6hslHWuPJXuhXps1mKRAyWqqjvMNL7iUQaS2Hq1EGiqoih4bxJuhPpVcgHM/1gyjpwZ1DHoZ+Ra+DfxM8Ur4VWFRUdM6MMYTip3IR/TVqW90ah7FK6+kpC0tj82cjDe+mZIhjjFzbv7DwZeXrXgT1FZJFQhvCtsuiXBnNU8V9H59eONuTujVtCegx0KwN+eILres0TeguD7y8YXsjkGxruTb0x8LRA5j95uNqbk6/I00kWEOYyeH1DcElI7W0YK4gfn4yo5JGMQmhPKeE0C0D0BEdaoMaFmXEwzHGYdFcP36Ga7fcw3XDgcccLCTOLcBrFhxQLd7gXxCyVCSU3lf1xz38vBg3+m4LbZJajucgpcMkgCKsQQQRlyUogqpuV/8mV9Vy8NzaIWpXSfMug0tCyWhPJHad5Q9MmjigLKg4wC3L4SMO8hbXyF9xdoXHPtwCrLA/Xmeot/MeZNQdPZAaom1N2q765aGBi0A0ui8GPUFHyp6kv8+7nhJh8FLNGmf160lkDmPjj6op+WijY5bUT83E/Jnc6mjpXl9sDscAWRWKoj2K+ppqyoa7J3NHJwB3G+D4gDtN6AQ9P4out7CReEOT9sFrhkND+p5gdaG5RSAdKicjx9yBr8Ns24oaT7bnKvuUCykxaWE4mISOAVuoP7/t3dusZplx13/1dr7O6cvM2PPeJjJJLY8tnBiwiUEBRQDD1HCJYki8gRypEgRCsoLEiFCAqw8RLwjBA+AZHEVoHAxEbH8QIwCvBoCjsIkziTEcWIb2zOE8TA93X3O3quKh6paa+3vO32ZxtPdx/pqdObrb397r70utf5Vq6pWrTH7zPhQAqggm+DhxpPWy8sSNq0bpHSIySGO1Q5vy/qlzUlgmgvzHPvbJey3LiebFB6f38rh2EYgabccEKTt1LB+/8b8sA0E2tdYZCxmn8whbtQCtxAq/baxvtL7JfWl/em5xYM9GHbcPhCbh89sQcM234b4TFMwxcyD6KWtpPZ6Y3jh5t132JcuB7XZr8um9OH+QQOTURDY8LoU2ocDsw3JOVwtjc6l/fHuESFe9qF+3UOc9mIY9krb8tW2mB6Z2ZrBPsDvl5l124fjFOQ2aODRTgFswjgBK5gtqJ09PpqnoMzlVoMoTJB6FWTixmvw1VdAivL082dcf8eK7y89wSfBdCCZu5wb3zE6g/oeoyahpEv1Hvwdg5vLtVTvLdK9DrMvmbbtzWZgOeuD32yM4za/HPwovpsvhNyW2tD8IgACSpm4enqdetWYp104MEDaSdiRAmWDDt1e6VqqoDrqM3Gup9BsXA0ISWB20gsqlj0sQ2/0cJhh0kSdRo2va0T9Odu8vZchpIlmS/lWl3EjqPZOsBSym4qPoNK1p3yX5I4WUaoUD5GpNdLT6QBUQ02a4NyuosYevePgBm3T3uwLmX3a3jVC8CHkbWGnAyebp7YwOGpxqUP05Wyazvrd+7bt/sb8bwAAGn9JREFUHiu6Be/hLbIf/ZGhdhcA6365e1sGMjB/I1RG4LyAe6ooazFu3rjKq59/hvV8x5PvUp54+ubB3SM9XPCUyq7cQJmp7MB2SL0OXOW1L8NnP22UeeWb//BXufbUAhSKnTIygnuTm4+VgpHZInPytMQbtLzxFElnUuqXWw2tsVQCqA0DE0deFGjG9ClKVyJnpon/RT1zD02eT+TvzOEbJWmvpzUTQSHPgvF4WGuG7anMXL/2FKIz83xKDfAsMZQ2/DdOHI08i5qCi86tE8aUQNVwXlpbs1VKB8+tXpafXUPc6oVbAZY0ygvBmBpwp4ur3+xe735cwz4EuROx162/2beratq/x4Dv4Vk/BcC18SK+fFepIJ73FYnlba1IrTSn0pgFZADONJD05Wgf5177Q1hsy+HN9S2AHVJyVX7bv3MQ8Qlgbfg7n7jo1SbU9oGjyGg+6U4WjXlSh3fnWG/4cNPkhOmMvw2NAv/0uvZRlo02kLO37yFSejzBmBW3O79GEUvXU4ClVJay8jtvTPzyS89x68ZV3v/7b/Led/7O4wOesJ3c4zTUaixnHhtf9TAwJZ++IwsJm7jRuz+xlYzbqb4v5y6We/nbvoRug71VSS6QdwkZru1ZgHp6Xcel4GaKCe4omiaK3KFubY94j9zcvrw/J1Hlgz6ybIRtr+3fMpS+H5zeAVAG0NoWdQjAvZ0Dvm8vZhlN+9k24sApNFRSNhfHiozhPPu1zPd5ELWqQul91yeiXcxwdscvw/cE96GcbevuXMYFbDA+Pv7cPdwX1+OAD2R7dQvutvnX+DnyhQ3/O5ydh2UKqdlewHAHJVhTWnrXD6LHJwL7IsXa32DuUljPC+vZhK77HHlI95tJ/ieAvxDv+x/AnweuAf8KeBH4HPDnzOy1u5VjwDJaE8WY5DwYVllWP5VntZW1aHM++N2pjYSE2vO4int54i3j/obuSvBKjM92TanEDMj0a4pFqrjQXwJw8kruq24DIH2vNBhShqExNlK0P6VUXVEknA5TYEA//jchKVsxSWG3mzjZTZTJQSndld4PsXvLBGSKz4rFEnRSobRko/3Q2D5GQ4Zv81/7SZ2HwJT9l6Wldp7pF5ABkoL5x4m1GcMoK49gptWhTSl/+gJ+TrvxCJLtcDVgGpGu3TO6WfL3/fYlOhbWZeXWzVvetqsF2U3eStkajyzup03LpiK0EvfFx6g3HtKd9J+76UW0zutiOmrU+s+G++68syZvHxPFjZEtvuQ2+nHcEXgY/OMp4czDstp794DTQlu3vDb6AQYhPD6z6Ye8psklJNc0TDCwMG8pSo1ZLFqZrTLXyk6VRZWdGTsuZLVG9zzDSES+CfhLwHeY2e/DV6wfBv468PNm9gHg5+P7XSm9dToMpUilyAK2UnWh6kpFm9csE4DsW2Ha9rb8k/xLZu5LV9vUgaFMNmUUk5YsaJS1MiwjMibMl485VJ0pMv6vbf+M64dsngNaMVM0mYfMd7T65xC460tFmEqGKvXJ7tqVkQkQPK5VcK9/P+qjWD+TfJLCRGmRBQysliCViT/8u3QtbvNnfcIQpocclKFnvAhpf0WESfysgDI8J71B7I1EA2Py3zHwjQfy5jaoQqSO7X9Ia7PIxOY0U+mj0z4jSqCqcb6cs6wLGlESmdh4ExaX0icUBRvKO7S/9SW+P5vjbdtrB8+NCsH2a3+m/7sL8G5WaHXZMPzQ7xeMQef7yPlKbI6QDl99tKwVXYbVTofHBM6xL1qpw+zSzXPkv9JQaml3HeM2hz6V7fMamceqOc5gSlE3GxVTJtMeY37BzE2632X7DFwVkQXXOP8XfgTxd8Xv/xT4z8Bfu1dBZj3wWFLLkoKacL7OTFRMvRHuvEntKdLZAD2oNdsWGsawxXK0u22kRwMD6MNtvRjrN3a31KACZSMO9lOOEtIasxRrQxjZ5UMTM5/RJSZtKcMbDzLYjG0UX7YXn/SlSNtHH2zqfG8BGtkwmXvnq/X5nSVb1i2AdrDl6bhnQ/pc69PBQks8NID0feFpod66g8QyasGwFjJTOkiOgzjWt41VgHzWYXh3HhV9gC15T4ug6Dbzig+tDY30fvZzHBdVJlVOrYmU6ISLeGKrM8neL63bo1MvErF3dff2EjZfRzVjw0psXUF9HLalyfiFbXkZ5mPtEwjn2Tg+Zj0HQY7+kECw18AI+/7YXvdiSAPOsWbRgsavTqVprcN8bveW+LNQUnwnfGFuwG0mqBbI32O1xuGQNroneJrZF0Xkb+KHvN0CPmlmnxSR583sS3HPl0TkuXuVldwpRfqZOLIiAquecPv8hEkrukLRBWEHsqPnABNyqZsN7rFa0b3SfbNjyHT2gbbJBiMDJzxszkcKn/omtRV9gPZtfJ0BvF5ZC0gzQAkWmEAmRIxptgacmeOzLwNDqxniVEUKZZop845pmihSsMxFhzlg5HI8XNNCv2Z46JcnEJEWyJ4MbzZDCrhg6mpui9UCNWx9c2jpirGGMHNNuIei5Xh49csYBdsNBtbNMdUypm/QfGI8Bz9HGyGLA44c1B3s0qnljkXXq6t0Q0izveauLIxZjUkNE2GVED5SKaKhIc9M04RK4VZdoa7s8GXddtyN1IKznb2tDFdHPhobtg+EdsFTe+C4d19wDBl3Ids7m6tlPx9Xfl4E1W3cjBbzKbF6k2HJnzHRZka1LLO/OdectQWjC6IZD53uwBRh2t5Lk2P7K9DeKxlrUonUPzbcaQXTGUypdgu1cwo7ClcpOGiqTeg6o1YxFlRWdNo/PnFL9wRPEXka+EHgfcBXgX8jIj98r+eG538M+DGA559/hiYeGs+42pxdYAh12bHcOqHIDpUT91j7WpgilTJ3u54N6lODzMHWdcASjth7tewitu2K2QTi+jP7OxcuaG0rezMPJEDU6KE0oXHmoXEdxvf1gSGCMOouxXcXnV455YmnnkRrZqT0NHwJFKWBZ5+gVhfQGkutBKf42fAcAfFsIUDTcnlm1MD32XzpX81Yg81nfMdTs4FFnRMk8nMElAlfWRhKDe0hp1wfyxS0e9GUTTvt9jYTuQA8acHdG297bLbYqTIHeFpGRyR4IsxlopSJkytXMhPyUIntOA/D1ib95mbpY2oc3r9Ph3y250rdXxEdFHPR5O8+8BYyPfIIKVjy6abSHaqpA4RJuxZPWtcAD5o3NF7G/tg2ZVvnLHbggg4lQwVHYWKGrsK6CKaFqhNqOwonzJyACWqC2cRyNg/mjXvT/Szb/wTwm2b2KoCI/AzwR4GviMgLoXW+ALxy0cNm9lHgowAf/OB72yikVrSaT/xSZp649g5MC//nc0+yvL7iFrlT18nCNnX9qZt8w/u+zOnVM9ai1OLSbM5A83SgxATyUesAodL38aT0LRn81OylgzS2rsP6xOwD3nEwNSV84tmmhDbUcw6zSdtFuTXehzvK0uLSp04LHZmE06sT08kp3/ZH/gDPfeOzbohvDi1rLJWwo2pYHNO8Litatb3NhroakcQWECuI+TJbQ9twAB0FU7Bu2wWV/WRkCEqCtxqsucPIslekrRT6dM5y0i7az3vKPk5/V65gUt5YXJPiz/j21dRXUkD6byo9qfBsxhRd2J1V3QGV9thnn3uWJ59+hnmeKdOEhWkpz+5pLZCe5GXM6JXL1rTotZaG16WdjyXSf21y3dqza1ws5gmwBYb7OgipGKU9q0O/d54iOW0jlRo3NEHXfh6D/A3GCIgc24sw1kPffMeWp5qOI7PzcWFQTkadMt9nrdc4+H/fz642jrVX5rVXjC/9lrAuO+r6LKZXKLpjpx4GqZyjsnLzxglnN04xFco6UdbdRonap/sBz98GvjPObr+FHzf8C8CbwI/g57f/CPCz91EWaUROqqaoGSITV69cZz3b8cYrE2++6rqDMOML6B0TE09/w1d57vk3KCcAKyYrIh7HWZqzZM9WkYxsOVFl72d3mjTpNuo3IkwDY8qG/WhxnDmB/Vp+Ge/tJ8N7XRjiQr30drJouFD6T4OmUGA+nZgpvP+bX+TF3/1ef4+OC5seoO3gqdS1ogbLeWVd3fOoafscJn7b3GYT6OT1soRkl9JAnGHv21iLjVsGABQVX/IUjeW9CWfWn29OsDKCsX+WAFQ/aC1Obk+zjYB6jg7myQ9iAxpa5b5/tyOn5qpIWODEZjCfuglCk/VMRS0QYYwwaLbY/lsZYqnE9vIrpTq0t+Mt82ums0WAyabOJfkxMGeXrdK06wYQlvXr59u323F7ZDumhm1dsr7YwGkHqp81nSAZxEFw0CNNel9tm7GBOHfQuLoyN+PKyP00zXLbknxX8uB+K2g8b/taeIDnjdfhi58Vzs9m6vm7sPo0U53Z1VMw0HKGlgVVWFcoU4VaKJrH3FxM92Pz/JSIfAz477gL+NO4JvkE8K9F5EdxgP2z9yrLuyIC1GP3jtvdjJMnbvOOF16jLhOleCowsYnCCSDMsqMwcf3pN7HdOYtUVBZgwXC7nJq0JXCmH5PccZNDuWcfAmewZmGxYfRCo6ihuRoxuTaTQn3yGM2L3CWvDSuAAAuRZqtN4CJUE0ntqcEZG/bK2LetVkxi/HB/GZxp3qRq4tmnbOCrPWbPf1v234ZVY7nd5ULctw08zmdkAH/v88JcJvZ1CpnKnpkl8wp4Bqkpk0nH/nET8aNURJgk7awJwkKZXONM7a+BZ0psncjkNMkZ4x75sXbNhLPfNzjAl2hnyS3HhCMl7e4C3TcNsfPfQbOJ4s0b/Q1t95fsvTsEBKnBd87e7kqyDW+M/e3DGgI8qqg28ukwErJ93nkmUXQc80EbjRtteCbrOC7im07c0sENnG3R+kESNai9aBuo0frKwsSE9QxYJ9eUZ15YqeeFur6J1eJCPW7Uchst51gV6gKlGFeeeAOtlf1XjXRf3nYz+yngp/Yun+Fa6H2T4La0BWMxdxSV8Ihef+413vOO110SThURRWymqC/b52lmKjNSlLpbuSVK4RaFW0DhXE8xphZiINJDcNw5kkihYNXDU2KC19I11eZ7QegZisLZkrtN6HJQDIq5/XWSORh7lL7J2qN2VcgNnhZJPMaVf5Gc7Kkp08KrvDhrEyMZzHm4TW0XKKq+XK6wrD6xa+3p+zTngSRD29CufYlrMV4pBLpxYLNkFNx7ajsvuypWFZkmTuYTpGmSPka73dzAzrLNOiFWKBNMc2wYSMEkgoo7HNpyM+zAIjKcL5Q1ioVBeBSrpny0TKnSs3JZjGsOSNpbo8IjSE2tp1MLBbEV99ZOGLsAGw/DG3WmDOnC4t0ZChcjQF1d2xfBwtbvO9j8uTlUNG1xEDSHmTCE2MT4Sr6PcOSYCyGKGxKqatRhlBYp1Ie+tECkDaIK/aSFbTqYbFEqSt356ceKu1hZ4p6+Kuk8HSsHA2Vq5qN9k6SgEZ1jHoYU5S3B408+V/mWdxqmK1a/Avoaym1UbmCs6HQLK2ewCpxNoIXdvGNZ0ht/MT3clHTmW4NXM5ZI8jFPwZzTwu6ab4cr04pIRWwXXvcOnqaw1gIKE5UpbKYVRWPxPQXkTLGMd/AMaR4qVya7dXXGHQ45GbyytM+ECZMe6KsygKcSu4R6ME5nsT5t+r5xQcTDMZrNcXAcBV9vqFpmhKHl0dwkQW62EJ8kFqCpZqzVWJZw/CyGBXiadsBLzaDZTDP8ZCARDzY3hvyaBqKDrU4GrdbAVkChqEGR8NFIA0QtIe5aHgAwdQY2vHObkC0OIgmeZvmYuI02JlrTwjNLl7gW6wLFt7P27ajSomshtJVWiAyfvY+82Q7eSkaOWPNGG0ZNO6j1MR6jDVLX1tSyslwTHzf1KAwHzzziQnrMMemTDp4adoj2HLjBL40joSb+iRELJs9zkIC1ETz7QGl+8wV8AanQ5sDHPDFrYU0t4sMykiMPxbFmxvI2WIxjb6tmvUnHba+XK2V+b84TNVjCJDiLcHI1nqm3MVtQbrHK6yAOnpQzWAvsZtCCLtc4X64+PuB5+8z4td84oxoRyhDqu4iH25Q4ZrgEkNhKniy0KyuzFKrBEphRWJjEg2pVz8CWWI6FdlDmPuHaMMSMs3bYaTgZYinXlpD9pJzEqPYJbew8QYSGtDynaX7iukk7w88sJLxrXHmEhkku/qRpJFqm5rhIsDYV0vFVhu2XHdx7UHFKXq0TqoV1rZwtC6YK4W3f8J/4SLgWQoCMUqPBGU7idkh/JO1X2UFeg0Lu8Weom5kDp823XUvUQtGwS+4cFCdRpkgesdRTVGdkUhekBeZ5ZiqT285azHM6lmAOOyehnRoxkcyGJXoOnC+t+9aBDmdFOsT5K4RVQlMzNxOJCNPuxGNtzRB1cJiKe+jNZlSvAgUpFSk1xiXHP2MeJfDZQTSVuhrOvSLuCG3dzCiZXNu0iH4oJRauwY9mxqrOD64He7vWnAu5Iy8UQiw5N5xauqIaURyRF4HWD1DUFRXvuhAYAlXcfryzcANKJSM+mwsz3mUGNQPbSSeZa/AtVWMIr1olBFtFOcPwZDYleSy0Z63V6205HzTmYwdux/YF01sIyrQzpnnCakHPZkyF2+e3OFtvcPP2yp3ooYLn2bnx2d9emhhxI/LkEnVSyk5DIymxrK4BFMIJhVmEinEuiopL+ZSyVjUmUy7z8DjIBE+NeEJf0w/LhAw6j8k8pZPBQim1Jn20hmPGAItcn6xIOEc8U5Ev6iTiU9N+WdVYao3J7O8DXPMSYTJhF3VcphktE2q+j9oMik6IRWyoZN1KCAHDWDHUt7biGalsvQI2sywr5+cLppWi57G8zKUciChFFDVhrQU1OK8L57qACaVO0VYJjUECPCMti9QA3BnV0uMBDbR4fKgKLCKowLROlDVcNLNBMU5EOUExE27Vayx1h5RKmc8Rgd3JCfM8Y2qs54ZpajKFIrCbHNhNitvRgfPgsahxaM5hEpEJxB0Cxbxvixi7qaVNcUVL4HZxO2ux24jdREphd/U6ZT5xTaz6+QO7uTIVxfTE+ZGJ6cSYdh6cnZElXpeIIQ1zQzWoKoGNBbPiKytZB2j3Sllqf270RYC5eD+YVrAVNePMVqopJxinAcILhRornxLmqhKRFWLKFEi6ritrDXNDJNu2qaDF13XzGrZeqVD83PYz8ZXvDuFa6plldaWo8Vtq4tG/1i38bo1QJjtHrFIkkn0j1FAElHNWuYlJZTafN2qwpClqWdDlPOav9/NqhTU8/Zn3Vqoiiyd4uXJlx8nJjNaJ9XxGK7xx/iZvLje4dfaYgCeADWc+eOdZ0+S2zjLzMJMQR6mKm2SITQBaPJvcHiuS8LYa2hgyFC2FdPi0sAvzZZKU0UjNZpDTWG45ytrva5pA0wLbQr/9O5/N5ZGqBYj3tm+YSm1jYtIApOJK80ZzNHqfDF3h5WY50e8airdEXaMHmnE9EqUPS+8QHuqQks1OXbe3mxYOZa6s9HKVdhqjCzKviKT6YT3ExJBWDhbp9sTB0kOuelustT6cYcWXdDk8qrlXJZ2IXbButiQ2gCXS+3WlPDMymUVZ5sePqILkWjIS2eTZRliubo2iKVRH/qBroIMy6UtcibDn0JmC/9vUsLFyWXnZmiPbWEa98t05d6KA5IUUMKnF5ZhnffNZN+0PY94Ytkca+L09bqQxZ1Z7M8fTTLKZRpElLMeu/5bOoDRfZb0jxerGGZodkby5jVDwZ0R9FZfWiP1y1GxT332Su5/W97UlEXkVD3H63w/tpW8vPcuxLY8jHdvyeNJlbMt7zex3XfTDQwVPABH5BTP7jof60reJjm15POnYlseTvp7aAveRVelIRzrSkY50SEfwPNKRjnSkB6BHAZ4ffQTvfLvo2JbHk45teTzp66ktD9/meaQjHelIXw90XLYf6UhHOtID0EMFTxH5XhF5WUT+p4jc89iOx4lE5D0i8p9E5DMi8ssi8uNx/RkR+Q8i8uvx+fSjruv9kIhMIvJpEflEfL+U7QAQkXeKyMdE5FdjfD50WdsjIj8R/PWSiPy0iFy5LG0RkX8kIq+IyEvDtTvWXUQ+Eljwsoj86UdT6wenhwae4vsR/y7wfcC3Aj8kIt/6sN7/NaAV+Ctm9nuA7wT+YtT/LZ/l9JjQjwOfGb5f1nYA/B3g35vZB4Fvw9t16drztTwv7BHRPwG+d+/ahXWPufNh4PfGM39Pcs/yZaF2YNLb/Ad8CPi54ftHgI88rPe/De35WeBPAi8DL8S1F4CXH3Xd7qPu78YZ+buBT8S1S9eOqOtTwG8S9vvh+qVrD/BNwOeBZ/Ddf58A/tRlagvwIvDSvcZhf/4DPwd86FHX/638PcxlezJG0hfi2qUjEXkR+HbgU8DmLCfg3mc5PXr628BfZcwhdjnbAfB+4FXgH4cZ4h+IyHUuYXvM7ItAnhf2JeB1M/skl7AtA92p7pceDx4meMoF1y6dq19EngD+LfCXzez/Pur6vFUSkR8AXjGz//ao6/I1ohn4Q8DfN7Nvx7f/Pq7L2rvS3nlh3whcfyvnhV0yuvR48DDB8wvAe4bv78aPML40JCI7HDj/hZn9TFz+SpzhxN3OcnqM6I8Bf0ZEPgf8S+C7ReSfc/nakfQF4Atm9qn4/jEcTC9je9p5YWa2AJvzwuBStSXpTnW/9HjwMMHzvwIfEJH3icgJbiz++EN8//8Xieep+4fAZ8zsbw0/fRw/wwnewllOj4rM7CNm9m4zexEfg/9oZj/MJWtHkpl9Gfi8iHxLXPoe4Fe4nO1p54UFv30P7vy6jG1JulPdPw58WEROReR9wAeA//II6vfg9JCNyd8P/BrwG8BPPmqD71us+x/HlxW/BPxi/H0/8C7c+fLr8fnMo67rW2jTd9EdRpe5HX8QP5Twl4B/Bzx9WdsD/A3gV4GXgH8GnF6WtgA/jdtqF1yz/NG71R34ycCCl4Hve9T1f6t/xx1GRzrSkY70AHTcYXSkIx3pSA9AR/A80pGOdKQHoCN4HulIRzrSA9ARPI90pCMd6QHoCJ5HOtKRjvQAdATPIx3pSEd6ADqC55GOdKQjPQAdwfNIRzrSkR6A/h+hkfv5DS4f8gAAAABJRU5ErkJggg==\n",
      "text/plain": [
       "<Figure size 432x284 with 1 Axes>"
      ]
     },
     "metadata": {
      "needs_background": "light"
     },
     "output_type": "display_data"
    }
   ],
   "source": []
  },
  {
   "cell_type": "code",
   "execution_count": null,
   "metadata": {},
   "outputs": [],
   "source": []
  },
  {
   "cell_type": "code",
   "execution_count": null,
   "metadata": {
    "scrolled": true
   },
   "outputs": [],
   "source": [
    "\n"
   ]
  },
  {
   "cell_type": "markdown",
   "metadata": {},
   "source": [
    "# ........\n",
    "\n"
   ]
  },
  {
   "cell_type": "markdown",
   "metadata": {},
   "source": [
    "# Path planning"
   ]
  },
  {
   "cell_type": "markdown",
   "metadata": {},
   "source": [
    "After having generated the map inside the computer with vision pathplanning is needed to create a path from the starting point to the goal. This is made possible by the pathplanning class.\n",
    "This class is used to create a pathplanning object, which is linked to a specific map, on which then all pathplanning is done."
   ]
  },
  {
   "cell_type": "markdown",
   "metadata": {},
   "source": [
    "## Initialise path planner\n",
    "To create the object the constructor of the class needs 3 things, The occupancy grid in form of a numpy array, with which number the occupied cells are marked and many CM represents one pixel(cell)"
   ]
  },
  {
   "cell_type": "code",
   "execution_count": 12,
   "metadata": {
    "ExecuteTime": {
     "end_time": "2020-08-29T12:52:51.473548Z",
     "start_time": "2020-08-29T12:52:51.462661Z"
    },
    "scrolled": false
   },
   "outputs": [
    {
     "data": {
      "image/png": "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\n",
      "text/plain": [
       "<Figure size 432x288 with 1 Axes>"
      ]
     },
     "metadata": {
      "needs_background": "light"
     },
     "output_type": "display_data"
    }
   ],
   "source": [
    "#imports needed to run pathplanning\n",
    "import os\n",
    "import numpy as np\n",
    "import matplotlib.pyplot as plt\n",
    "from matplotlib import colors\n",
    "from PIL import Image\n",
    "import sys\n",
    "import time\n",
    "from timeit import default_timer as timer\n",
    "\n",
    "#import pathplanning class\n",
    "sys.path.insert(0, os.path.join(os.getcwd(), 'src'))\n",
    "from pathPlanning import pathPlaning\n",
    "\n",
    "#load a testing map from image and convert it into a numpy array \n",
    "#(based on: https://www.pluralsight.com/guides/importing-image-data-into-numpy-arrays)\n",
    "pil_imgray = Image.open('Images/obstaclesTestMap.jpg').convert('LA')\n",
    "img = np.array(list(pil_imgray.getdata(band=0)), float)\n",
    "img.shape = (pil_imgray.size[1], pil_imgray.size[0])\n",
    "img=img<200\n",
    "occupancyGrid=img.astype(int)\n",
    "plt.imshow(occupancyGrid)\n",
    "##generate pathplanning object for the occupancy grid generated by the testmap\n",
    "pathPlanner=pathPlaning(occupancyGrid.copy(),1,1)#occipied cells are marked with a 1 and 1 cm per pixel"
   ]
  },
  {
   "cell_type": "markdown",
   "metadata": {},
   "source": [
    "## Planning phase\n",
    "Now that the pathplanning object has a map on which it should plan paths, the goal needs to be set by calling the \"setGoal\" method of the object and hand over a numpy array with the x,y coordinates of the goal.\\[x,y\\]. These coordinates are in cm."
   ]
  },
  {
   "cell_type": "code",
   "execution_count": 13,
   "metadata": {},
   "outputs": [
    {
     "name": "stdout",
     "output_type": "stream",
     "text": [
      "Time needed for planning goal: 6.507052399999992\n",
      "Time needed for planning for the same goal again: 0.00045679999999492793\n"
     ]
    }
   ],
   "source": [
    "startTimer=timer()    #execution time when goal is set once\n",
    "#set goal\n",
    "goal=np.array([90,15])\n",
    "pathPlanner.setGoal(goal)\n",
    "\n",
    "endTimer=timer()\n",
    "print(\"Time needed for planning goal:\",endTimer-startTimer)\n",
    "\n",
    "startTimer=timer()    #execution time when goal is set again\n",
    "#set goal\n",
    "goal=np.array([90,15])\n",
    "pathPlanner.setGoal(goal)\n",
    "\n",
    "endTimer=timer()\n",
    "print(\"Time needed for planning for the same goal again:\",endTimer-startTimer)"
   ]
  },
  {
   "cell_type": "markdown",
   "metadata": {},
   "source": [
    "When the \"setGoal\" method is called it simultaneously starts the planning phase. This does not mean that a path is planned but that the map is prepared to do fast pathplanning for each starting point one can come up with. This means that if the goal is often changed it will be a lot slower than a A*-pathplanner. If the goal stays the same and just the starting point changes often, it will be quite a bit faster. This is because in this planning phase, which is encapsulated in the private method \\_\\_generateGradient. In it a map is created, where for each grid cell its distance to the goal is calculated. This distance is a path distance, so the value saved means from the current cell you the robot has to move so many cells to reach the goal. This calculation is started from the goal and is made for every cell that is not marked occupied. The result is saved in the private distanceMap attribute, which can be accessed by a getter method \"getDistanceMap\". The occupied cells are left at the starting value of 0. This means during path generation the map needs to be checked whether the cell is occupied or not. But it also means that to make a path the path generator just has to \"roll\" down hill."
   ]
  },
  {
   "cell_type": "code",
   "execution_count": 14,
   "metadata": {},
   "outputs": [
    {
     "data": {
      "image/png": "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\n",
      "text/plain": [
       "<Figure size 432x288 with 1 Axes>"
      ]
     },
     "metadata": {
      "needs_background": "light"
     },
     "output_type": "display_data"
    }
   ],
   "source": [
    "#make the distance map visible\n",
    "distanceGrid=pathPlanner.getDistanceMap()\n",
    "fillUp=np.zeros_like(occupancyGrid)#helper to make picture 3 colors\n",
    "maxValue=np.amax(distanceGrid.transpose())   # normalize values to fit into picture\n",
    "#create picture to show  map and distance map\n",
    "pic=np.dstack((occupancyGrid,np.divide(distanceGrid,maxValue),fillUp))\n",
    "plt.imshow(pic)\n",
    "plt.scatter(goal[0],goal[1],marker=\"o\", color = 'yellow',s=200)\n",
    "plt.xlabel('X-direction')\n",
    "plt.ylabel('Y-direction')\n",
    "plt.show()"
   ]
  },
  {
   "cell_type": "markdown",
   "metadata": {},
   "source": [
    "In this picture,in red are the obstacles, in yellow the goal and in green the distance of the pixel to the goal in terms of how much movement would be needed to get to the goal.\n",
    "As can be seen surrounding the goal(the yellow point) are dark areas. This means those cells are very close to the goal. The greener the pixel is the longer the movement required to get to the goal from this pixel(cell). As can be seen if the goal is (90,15)(x,y) in the corner bottom left. There you can see a darker diagonal. This means if the robot is on those cells he needs to move less than if he is positioned at (80,20) "
   ]
  },
  {
   "cell_type": "markdown",
   "metadata": {},
   "source": [
    "## Query Phase\n",
    "Now that the planning phase is over, the pathplanner is ready to provide paths to the goal from every free cell. To start the query phase and actually plan a path the start point needs to be provided. When the start point is provided, the class calls the private method \"\\_\\_generatePath\" to generate the path from the defined start point to the defined goal. For this the method begins at the starting point and looks for the cell, which has the smallest distance to goal of all its neighbors and puts the coordinates of that cell into the path. Of course only cells which are marked as free in the occupancy grid are checked. This goes on until th goal is reached. It is a bi comparable to rolling down a hill, since the cell from where the longest path to the goal exists is at the top of the hill.\n",
    "But this is only possible if \"setGoal\" was called atleast once before! Otherwise it can not find a path."
   ]
  },
  {
   "cell_type": "code",
   "execution_count": 15,
   "metadata": {
    "ExecuteTime": {
     "end_time": "2020-08-29T12:36:31.127153Z",
     "start_time": "2020-08-29T12:36:25.042891Z"
    },
    "scrolled": false
   },
   "outputs": [
    {
     "name": "stdout",
     "output_type": "stream",
     "text": [
      "Time needed for the query for a new path: 0.005299299999990126\n"
     ]
    }
   ],
   "source": [
    "startTimer=timer()\n",
    "start=np.array([10,75])\n",
    "pathPlanner.setStart(start)\n",
    "endTimer=timer()\n",
    "print(\"Time needed for the query for a new path:\",endTimer-startTimer)"
   ]
  },
  {
   "cell_type": "markdown",
   "metadata": {},
   "source": [
    "As may have been noticeable the query phase of the pathplanning is very fast."
   ]
  },
  {
   "cell_type": "markdown",
   "metadata": {},
   "source": [
    "## Getting the path\n",
    "Now that both planning and query phases are complete, the path can be extracted by calling the method \"getPath\" or \"getOptimizedPath\" The \"getPath\" method returns the path as a numpy array with the first line representing the x-coordinates and the second line representing the y coordinates."
   ]
  },
  {
   "cell_type": "code",
   "execution_count": 16,
   "metadata": {},
   "outputs": [
    {
     "name": "stdout",
     "output_type": "stream",
     "text": [
      "[[10. 10. 10. 10. 10. 10. 11. 12. 13. 14. 15. 16. 17. 18. 19. 20. 21. 22.\n",
      "  23. 24. 25. 26. 27. 28. 29. 30. 31. 32. 33. 34. 35. 36. 37. 38. 39. 40.\n",
      "  41. 42. 43. 44. 45. 46. 47. 48. 49. 50. 51. 52. 53. 54. 55. 56. 57. 58.\n",
      "  59. 60. 61. 62. 63. 64. 65. 66. 67. 68. 69. 70. 71. 72. 73. 74. 75. 76.\n",
      "  77. 78. 79. 80. 81. 82. 83. 84. 85. 86. 87. 88. 89. 90.]\n",
      " [75. 74. 73. 72. 71. 70. 69. 68. 67. 66. 65. 64. 63. 62. 61. 60. 59. 58.\n",
      "  57. 56. 55. 54. 53. 52. 51. 50. 49. 48. 48. 48. 48. 48. 48. 48. 48. 48.\n",
      "  48. 48. 48. 48. 48. 48. 48. 48. 48. 48. 48. 48. 48. 48. 48. 48. 48. 47.\n",
      "  46. 45. 44. 43. 42. 41. 40. 39. 38. 37. 36. 35. 34. 33. 32. 31. 30. 29.\n",
      "  28. 27. 26. 25. 24. 23. 22. 21. 20. 19. 18. 17. 16. 15.]]\n"
     ]
    }
   ],
   "source": [
    "unoptimizedPath=pathPlanner.getPath()\n",
    "print(unoptimizedPath)"
   ]
  },
  {
   "cell_type": "markdown",
   "metadata": {},
   "source": [
    "The \"getoptimizedPath\" method returns a path where only the points, where the robot needs to turn, are retained. The path is output in the same format as the path from \"getPath\""
   ]
  },
  {
   "cell_type": "code",
   "execution_count": 17,
   "metadata": {},
   "outputs": [
    {
     "name": "stdout",
     "output_type": "stream",
     "text": [
      "[[10. 10. 32. 57. 90.]\n",
      " [75. 70. 48. 48. 15.]]\n"
     ]
    }
   ],
   "source": [
    "optimizedPath=pathPlanner.getOptimizedPath()\n",
    "print(optimizedPath)"
   ]
  },
  {
   "cell_type": "markdown",
   "metadata": {},
   "source": [
    "And now the 2 paths drawn onto the map"
   ]
  },
  {
   "cell_type": "code",
   "execution_count": 18,
   "metadata": {},
   "outputs": [
    {
     "data": {
      "image/png": "iVBORw0KGgoAAAANSUhEUgAAAWgAAAEJCAYAAAC5Tb0qAAAAOXRFWHRTb2Z0d2FyZQBNYXRwbG90bGliIHZlcnNpb24zLjMuMiwgaHR0cHM6Ly9tYXRwbG90bGliLm9yZy8vihELAAAACXBIWXMAAAsTAAALEwEAmpwYAAAiwElEQVR4nO3de5RcZZnv8e/TVZ2+pUPSJIRwyQUNKEYJIZigcY4C8SCHAxlwGIHxRGQZx/GCR52IBxlnhuEMcmbpMIwoWYrkOCjEEC6DHjVGWYpguASEQIhcTMKlQweS0LeQ7up6zh97d7rT6aqu7q5dtXfV77NWr669a1fVU6nkyVvvft5nm7sjIiLxU1PuAEREZHhK0CIiMaUELSISU0rQIiIxpQQtIhJTStAiIjFVlgRtZmeZ2VYze87MrihHDCIicWelroM2sxTwR2Ap8BLwMHCRuz9d0kBERGIuXYbXfDfwnLu/AGBmtwHnATkT9ASr83qaShSeiEjxeHMj9cfsY2ZtJ091TqXupT68p+egYzrY85q7Txv62HIk6KOBFwdtvwQsyveAeppYZGdEGlQsmIHptIAUUbav3BFUvcy7T2H2/97KDcf8ivm//QRzv7KHzLYdBx3zS1+7fbjHliNBF8TMVgArAOppLHM00atpaqLrzHfw+olpsHJHI5Vg4ovO1PUvkNn5arlDqWp1re387hfvZN7s4znsoXq848WRHxQqR4J+GTh20PYx4b6DuPsqYBXAJGup+IYhNZOaefFs50dLb6DeMuUORyrAp565mL4t00AJuqyyz23nuBv2YhNq8e599O3dW/Bjy5GgHwbmmtkcgsT8EeDiMsQRLzU1pCZmOKUOaq2u3NFIBZjR1E5n7UR9ISsz7+2hb9euMT225Ana3TNm9hng50AKuNndnyp1HCIicVeWOWh3/ynw03K8tohIUqhkQEQkppSgRURiSglaRCSmlKBFRGJKCVpEJKaUoEVEYkoJWkQkppSgRURiSglaRCSmlKBFRGIqtu1GRUTyqklhqRQAnumFEl8dqhSUoEUkeWpS9P3ZSbSeVk9NLxx9Xzv+yOZyR1V0StAikjiWStH6nnr++dJbeKHnCH7Q/iGmPlLuqIpPc9Aikkg1GdjeM43WnsnU9JY7mmhoBC0iieOZXo66r4Nb3jibml6Y9tBuKvHqi0rQIpI87vDQk0x9KNisxOQMmuIQEYktJWgRkZiKLEGb2c1m1mZmmwftazGz9Wb2bPh7SlSvLyKSdFGOoG8Bzhqy7wpgg7vPBTaE2yIiMozIErS7/wbYPWT3ecDq8PZqYFlUry8iknSlruKY7u6t4e2dwPRcB5rZCmAFQD2NJQhNRCReynaS0N0dyLl43t1XuftCd19YS10JIxMRiYdSJ+hXzWwGQPi7rcSvLyKSGKVO0PcAy8Pby4G7S/z6IiKJEWWZ3Y+AB4ETzOwlM7sMuBZYambPAmeG2yIiMozIThK6+0U57jojqtdMumzG2JN9kzrT+qE4SGHUWS21lip3KFKl1IsjJryjk8Pvq2Nx5xdwq7zG40lUO2U/X1twL5c0v17uUBIr09xAZlID6fZ9pDv2lTucxFGCjom+jg6m3v4Hpt2lipW46Jk/h9v//lQuaf5ZuUNJlGw6RdsFi9i2chld847FejL4hDRNm19k9nV3ccQdG6nJVGp7o+JSgo4Ld7Ld3dDdXe5IJJTuOJr9Gf0TGY3eyU1sWn8V3ccfRV9zAwBeG/wZdp48hy2r/prtXzqXBUuvpnZvVzlDTQRNdopIUWTTKTatv4rOeTMPJOeh+pob6Jw3k03rryKb1tz+SJSgRaQo2i5YRPfxR+F1tcGOW4HZBFlmdrgNeF0t3ccfRdv5i8oRZqIoQYtIUWxbuWxg5HwrQaOG7QTrhbeH22GS7mtuYPvK88oRZqIoQYvIuGWaG+iad+zAjiuBoadTusP9oc55M8nkmAqRgBK0iIxbZlID1pMZmNbYnuPAHQM3rbePzCQl6Hx0ilpExi3dvo/sHbXwKQ4dOQ82c+Cm16ZIt6s2Oh+NoEVk3NId+7ArsvmTcyNwzcDmxM07tHhlBErQIjJurb4Eb83zhXwWsAq4JNhMdexj1nXqlTYSTXGIyLi0+hK28EnAhj9gFrBtYNP299K49RWOWLexBNElmxK0iIxJqy/heS7mTaaSMzkPmdZIdeyjcesrLPjg1VruXQAlaBEZtf5Rc5b6PEc53JilZlkG70kxcfMOZl13N0esUy+OQilBi8ioPc/FIyRnqOc1Fn/ui2S+qm52Y6UELSIFO3haI7ca3uQt/JB0hxLzeChBi0hBCp3WqOc13sIPmWH3lyy2ShVZgjazY4H/C0wnWI2/yt2vN7MW4HaC9UbbgAvdfU9UcYhIcYw0rVHDm7ydm5SYiyjKOugM8EV3PxFYDHzazE4ErgA2uPtcYEO4LSIx1upL8kxrOPXsUnKOQJTXJGwFWsPbHWa2BTgaOA94f3jYauA+4MtRxSEi4zNSnXM9r7HE/qa0QVWJksxBm9ls4GRgIzA9TN4AOwmmQEQkZgqpc+4/GSjRiDxBm9lE4A7g8+7ebjbwQbu7mw1/hVQzW0HQQZZ6GqMOU0QGKfSEoKY1ohVpLw4zqyVIzre6+7pw96tmNiO8fwbQNtxj3X2Vuy9094W16EKqIqVUaJ2zknO0IkvQFgyVvwdscfdvDLrrHmB5eHs5oI4pIjHR6ku4328suM5ZohXlFMd7gY8CT5rZ4+G+/wVcC6wxs8sI2npfGGEMIlIg1TnHT5RVHPeTs4MKZ0T1uiIyNqpzjh+tJBSRAuqcNWouByVokSqnOuf4UoIWqVKqc44/JWiRKqQ652TQNQlFqpDqnJNBI2iRXPqc9p46dmQ6yx3JmOzZ38iEvuxB+0bbz1nKSwlaJIfUztfpXTeHM//wt+UOZUwmboMZr+wgE26rzjl5lKBFcsjsfJWpt+xmWiqZM4HuTqan58C26pyTRwlaJBd3vLcH7y13IOOnOudkUoIWqXCqc04uJWiRCqU65+RTghapQKpzrgzJPPshInmpzrkyaAQtUkFU51xZlKBFKoTqnCuPErRIhVCdc+VRghapAKpzrkxK0CIJpzrnyhVZgjazeuA3QF34Omvd/WtmNge4DTgceBT4qLv35H4mERmO6pwrX5RldvuB0939JGA+cJaZLQa+DnzT3d8K7AEuizAGkYrUP2p+k2nkvvSn6pyTLrIE7YH+Po214Y8DpwNrw/2rgWVRxSBSqVTnXB0iXahiZikzexxoA9YDzwN73b2/A+JLwNE5HrvCzB4xs0d62R9lmCKJ0epLuN9vVJ1zlYj0JKG79wHzzWwycCfwtlE8dhWwCmCStXgkAYokiOqcq09Jqjjcfa+Z/Ro4DZhsZulwFH0M8HIpYhBJOtU5V5/IpjjMbFo4csbMGoClwBbg18CHw8OWA3dHFYNIpRi5znmXknMFGnEEbWZ1wAXA7MHHu/s/jvDQGcBqM0sR/Eewxt3vNbOngdvM7J+Ax4DvjTF2kaqgOufqVcgUx93AGwQ1ywWfrXP3J4CTh9n/AvDuQp9HpFqpzlkKSdDHuPtZkUciIgeon7NAYXPQD5jZOyOPREQOUJ2zQGEj6CXAx8zsTwRTHEawDuVdkUYmUoXUz1kGKyRBfyjyKEREdc5yiBETtLtvN7OTgPeFu37r7n+INiyR6tLqS3iKzwCpnMeozrn6jDgHbWaXA7cCR4Q//2Fmn406MJFqMVBGlys5q865WhUyxXEZsMjduwDM7OvAg8ANUQYmUi1GOiGoOufqVUiCNqBv0HYfufsbikiBCjkhqJOB1a2QBP19YKOZ3RluL0Or/0TGpbATgn2a1qhyhZwk/IaZ3UdQbgdwqbs/FmlUIhVOjY+kEDkTtJlNcvd2M2sBtoU//fe1uPvu6MMTqSwjT2uojE4G5BtB/xA4h6AHx+B+zBZuHxdhXCIVp5BpDZ0QlMFyJmh3Pyf8Pad04YhUpkLrnHVCUAYrpA56QyH7RGR4qnOWsco3B10PNAJTzWwKA6V1k8hxHUEROZTqnGWs8s1BfxL4PHAUwTx0f4JuB/492rBEkk91zjJe+eagrweuN7PPurtWDYqMguqcpRgK6Qed7b+2IICZTTEr/PuYmaXM7DEzuzfcnmNmG83sOTO73cwmjD5skXgrpM75Hfy7krPkVUiC/oS77+3fcPc9wCdG8RqXE1wstt/XgW+6+1uBPQS9PkQqhi7wKsVSSIJOmdmB3hvhRWALGvWa2THAfwO+G24bcDqwNjxkNcHScZGKUOgFXpWcpRCF9OL4GXC7md0Ubn8y3FeIfwVWAs3h9uHAXnfPhNsvoYoQqQC6wKtEoZAE/WWCpPypcHs94Yg4HzM7B2hz90fN7P2jDczMVgArAOppHO3DRUpGF3iVqBTSLClrZrcAv3L3raN47vcC55rZ2UA9Qf309cBkM0uHo+hjgJdzvO4qYBXAJGvx4Y4RiQNd4FWiUshKwnOBxwmnNcxsvpndM9Lj3P0r7n6Mu88GPkKQ4C8Bfg18ODxsOXD32EIXKa9WX8L9fqMu8CqRKeQk4deAdwN7Adz9cWA8/Tm+DHzBzJ4jmJNWb2lJnP5pjTeZRu7rV6hiQ8ankDnoXnd/Y1AhBxzc3W5E7n4fcF94+wWChC+SWOrnLKVQSIJ+yswuJii3mwt8Dngg2rBE4mvkOmf1c5biKGSK47PAO4D9BD2i3yDo0SFSdVTnLKWUdwQdLkr5ibt/ALiyNCGJxI/qnKUc8o6g3b2PoBfHYSWKRyR2Cj0hqDlnKbZC5qA7gSfNbD3Q1b/T3T8XWVQiMaI6ZymXQhL0uvBHpKoU0s8ZNLUh0SlkJeHqUgQiEieFLt9WxYZEKd8lr9a4+4Vm9iTD1D27+7sijUykjFTnLHGQbwR9efj7nFIEIhIXqnOWuMh3yavW8Pf20oUjpZJpbiAzqYF0+z7SHfvKHU7ZDP1zKLTOWaQU8k1xdJBnSbe7T4okIolMNp2i7YJFbFu5jK55x2I9GXxCmqbNLzL7urs44o6N1GT6yh1m5Ib7c8jeUYtdkcVb06jOWeIi3wi6GcDMrgZagR8Q/M29BJhRkuikaHonN7Fp/VV0H38Ufc0NAHht8PF3njyHLav+mu1fOpcFS6+mdm9XvqdKtGH/HNak4VPg3ak8j1Sds5ReIUu9z3X3G929w93b3f3bwHlRBybFk02n2LT+KjrnzTyQlIbqa26gc95MNq2/imw6X6JKrpx/DlcC3fkfqzpnKYdC6qC7zOwS4DaCKY+LGLRgReKv7YJFdB9/FF5XG+y4lSAp7QBawoNeB0/V0tF3HPfV3kzKM/QykTSdGNDLRIKPv4Y0HQf2jff+KJ4z1/1uafpObYAWO/CeSQEjzOpoakPKpZAEfTHBlVCuD7fvD/dJQmxbuWxgxHgrwYXE+keMrw86sA/AyPY2kg13ZTj0VMPgfeO9P4rnzHl/T7hxyHvORRUbUl6FLFTZhqY0EivT3EDXvGMHdhTwdV6ARuDGLIs/98WqrnKR8ipkBH2AmW1y9wVRBSPFl5nUEFRrrEkHyVlFkyObBVwDNcsyZL7aoARdjcxIHd4CUw4Dy9Uga5TcsY4uMm2vQbawaql8ZXY/Bf4mHEEf2D2+CKXU0u37yN5RG1yTXSPnkc0CtgU3vSdFul3JuRrVNDTQ9ufH0/XBTmprM0V5TneD3x3Jsbdk6Hvt9ZEfQP4R9PeBX5jZauA6d+8FfjKagMxsG9BBMNOXcfeFZtYC3A7MJvincKG77xnN80rhdrWfApfWcGBSWXJrBK4Z2Jy4eYdGz1XKJtSy+11ZHlr8HaammorynL3exzv2X4qtbYICE3TOMjt3/zGwAJgEPGJmXwJ2m9kXzOwLo4jrA+4+390XhttXABvcfS6wIdyWCBxYFZfN88Xn8PAHgooGnIlTOjl8ym7MsrRM2c3hU3YDWVKpDOAH9o33/sH76g5rJ13bDWRJ004t7QT/q/QBftC+sd6fmtAN5sO8Z4KR8yqCKn8g1bGPWdfpgvPVLlXESYMabNSzJSPNQfcQlNTVAc0UZxx2HvD+8PZqgovJfrkIzytDjNjHeNDXeYAJ3sM7M1v53esXUktxvtYV6outC3j0qlOo++nDkb1G1lM8/PA1dM6bOVByOAzb30vj1lc4Yt3GyGIRKUS+OeizgG8A9wAL3H0sM5hOME3iwE3uvgqY3t/nA9gJTM/x+isICsKop3EML129CupjPOTrfFO2i7f1vcDPd3+s5Mm5VGoyfSxYevUhKwkHS3Xso3HrKyz44NVVsexd4i3fCPpK4C/c/alxPP8Sd3/ZzI4A1pvZM4PvdHcPk/chwmS+CmCSteTsCSIHK6iPccphVZbGi3ro8TTzMn9kZdcqzn/zFxWbnPvV7u3i1NOupO38RWxfeR6d82ZivX14bYqJm3cw67q7OWJddfQkkfjL14vjfeN9cnd/OfzdZmZ3Au8GXjWzGe7eamYzgLbxvo4MKKSP8exFG1ix8CYuem0Pk7yTSd5ZwgjLrybTx5FrHuDINQ+oq5/EWiG9OMbEzJrMrL/hUhPwQWAzwZTJ8vCw5YDOxBRBqy/hfr9xhD7Gu3g7NzF1zjPUZ7s5Jruz6pLzUOmOfdS/vFvJWWJpVAtVRmk6cKcFpy3TwA/d/Wdm9jCwxswuI1g2cWGEMVSFQqY1BvcxbmdxqUITkXGILEG7+wvAScPsfx04I6rXrTatvoSn+AwD9WKHUrMfkWSKcgQtERu4+keu5KxmPyJJpgSdYCOdENTlmUSSTQk6gQqpc9a0hkjyKUEnTEF1zvTp8kwiFUAJOmEKqXNWchapDErQCTHytIZOCEpC1aRIz5iOT27Gi9V7eZwyzXVwWC81ZY5HCToBRlvnLJIkqZbJbP+r2TT+2S5SNfHoi1tbs5+Vxz5Eo00oaxxK0DGnOmepdNbQwJsndfPY/NuotbhdUb688ShBx5jqnEWqmxJ0jKnOWaS6KUHHUDXWOadrsvTV1VDTVJzLC42WZzJ4Tw+4OttKfChBx0y11jl/oHkL6/5iPpz2rrK8/qTn4Mj//BOZ1p1leX2R4ShBx8TBo+bcpT2VWud8RkM3D77vW/SWaQT755s/RnbjFFCClhhRgo6BwkbNlX1CsNZSRbt68lg01+3Ha+rK9voiw1GCjoERL+6KTgiKVKPIrqgihWn1Jfkv7krlnRAUkcJoBF1GA3XOueacK3taQ0TyizRBm9lk4LvAPMCBjwNbgduB2cA24EJ33xNlHHGVb2qjUk8Gikjhop7iuB74mbu/jeDyV1uAK4AN7j4X2BBuV5VCLvCq5CwiUV7V+zDgz4DvAbh7j7vvBc4DVoeHrQaWRRVDHPVPa7zJNHJNbdTzmpKziEQ6gp4D7AK+b2aPmdl3zawJmO7ureExOwmu/l0V+hsfjdTPWScERQSiTdBpYAHwbXc/GehiyHSGuzvB3PQhzGyFmT1iZo/0sj/CMEujsMZHuzS1ISIHRJmgXwJecveN4fZagoT9qpnNAAh/tw33YHdf5e4L3X1hLclfQFBo4yMlZxHpF1mCdvedwItmdkK46wzgaeAeYHm4bzlwd1QxxMHIJwQ1rSEiw4u6DvqzwK1mNgF4AbiU4D+FNWZ2GbAduDDiGMqmWhsfiUhxRJqg3f1xYOEwd50R5evGhS7wKiLjoZWEEdAFXkWkGJSgi0wXeBWRYlGCLiJd4FVEikkJukh0gVcRKTYl6CLRBV5FpNiUoMepGi/wKiKloQQ9DqpzrhyLDt/GunPeR+PC08ry+pOf20/txmfIdneX5fUlnpSgx0F1zpXj0y0PsmT5H2nP5r/0WBR6Pc1V6z/M25+ZpAQtB1GCHgPVOVeeGemJzEjvhzI05ur1Pr7Wsh/S+ucoB9PfiFFSnbOIlIoS9CiozllESkkJukCqcxaJSG8vvrOeG/bMpcay5Y4mMlmvIdPaCL2vFfwYJegCqc5ZJBrZvW/w1jXdrH3og+UOJXJv2b6P7Ou7Cz5eCXoEqnMWiVb2zTfh90/Q/PtyR1Iao/mOoAQ9RKa5gcykBtLt+9jVforqnEWkbJSggWw6RdsFi9i2chld847FejL4hDTMcry1NufjVOcsIlGq+gTdO7mJTeuvovv4o+hrbgDA16ThSqA116N0QlBEolfVCTqbTrFp/VV0zpuJ14Uj5VuBFUCeBV06ISgipRDZRWPN7AQze3zQT7uZfd7MWsxsvZk9G/6eElUMI2m7YBHdxx91cHJeTt7krBOCIlIqUV7Ve6u7z3f3+cApBGnvTuAKYIO7zwU2hNtlsW3lsgPTGgdGzn25j7cjezXnLCIlE1mCHuIM4Hl33w6cB6wO968GlpUohoNkmhvomnfswI4ryTtyZhaw3Zg26dGIIxMRCZQqQX8E+FF4e7q7959+2wlMH+4BZrbCzB4xs0d6I2hgk5nUgPVkBnbsyHNwI3ANWG8fmUkNRY9FRGQ4kSdoM5sAnAv8eOh97u6AD/c4d1/l7gvdfWEtdUWPK92+Lyil69eS48AaYBVwCXhtinT7vqLHIiIynFKMoD8EbHL3V8PtV81sBkD4u60EMRwi3bGPps0vjnzgFOCS4ObEzTtIdyhBi0hplCJBX8TA9AbAPQS1EoS/7y5BDMOafd1dpPoTbq7l8eH+VMc+Zl1XtlBFpApFmqDNrAlYCqwbtPtaYKmZPQucGW6XxRF3bKTxj69g+3tzT3G0gO3vpXHrKxyxbmNJ4xOR6hZpgnb3Lnc/3N3fGLTvdXc/w93nuvuZ7l54a6ciq8n0sWDp1UzcvAM8RwsTzzLxyR0s+ODV1GTy1OCJiBRZqao4Yqt2bxennnYl7LbhD9htnPqeK6nd21XawIrM6upIveME+t6/gDeOq2F67d5yhyQiI6jqpd79gpFxluGb8WcrYuScmjGdrR+fwuLTnmFp88u8r/5lYGK5wxKRPJSgCXpy0Jvry0QN2XQq8UnaG+tpedvr/Mfs+8I9Ss4icVf1Uxy9k5t4+MFr8p4kfPjBa+id3FTSuEREqjpBD+5mh+WYgzajc95MNq2/Khhpi4iUSFUn6IO62eWpg/a6WrqPP4q28xeVND4RqW5VnaAP6maXZ4oDoK+5ge0rzytJXCIiUMUJ+pBudgXonDeTTLOaJYlIaVRvgh7azW6Epd6gbnYiUlpVm6AP6WY3M8eBg/arm52IlFL1Juih3eyuIej7PFjYB7qfutmJSClVbYKGId3sLiHo+zwLsPB32Aca1M1OREqvqhP0Qd3sIEjG2whWfW/jQHJWNzsRKYeqTtCDu9mlckxdpDr2qZudiJRF1ffi6O9m13b+IravPI/OeTOx3j68NsXEzTuYdd3dHLFuo5KziJRc1SdoCEbSR655gCPXPECmuYHMpAbS7ft0QlBEykoJeoh0hxKziMRD1Je8+p9m9pSZbTazH5lZvZnNMbONZvacmd0eXvVbRESGiCxBm9nRwOeAhe4+j6Ab/keArwPfdPe3AnuAy6KKQUQkyaKu4kgDDWaWJlj20QqcDqwN718NLIs4BhGRRIosQbv7y8C/ADsIEvMbwKPAXnfvb4LxEnB0VDGIiCRZZCcJzWwKcB4wB9gL/Bg4axSPXwGsAKgfuga7JkVqymFYYyPe00N29168t6dIkVeoTB97O5p4qH9RjsRGr6fo66yFbI4ry0vVirKK40zgT+6+C8DM1gHvBSabWTocRR8DvDzcg919FcFiayZZiw++L9UymZf/6gS63t1N6vkG3vLD1+jb8myEb6UC7NrNtDum8vHHLg+Wskt8OMx8OkN27xvljkRiJsoEvQNYbGaNwD7gDOAR4NfAh4HbgOXAqBtcWPNE9r+ng6feezOXzV7Kzl8dR2pLESOvQH179jBx7UNMtKpePBpfniXrPvJxUlUiS9DuvtHM1gKbgAzwGMGI+CfAbWb2T+G+743l+WtqnDQpamu0wq9g7uD68xJJCvME/K9tZruALuC1csdSZFPRe0oCvadkSPJ7muXu04buTESCBjCzR9x9YbnjKCa9p2TQe0qGSnxPmpAUEYkpJWgRkZhKUoJeVe4AIqD3lAx6T8lQce8pMXPQIiLVJkkjaBGRqpKIBG1mZ5nZ1rBF6RXljmcszOxYM/u1mT0dtmC9PNzfYmbrzezZ8PeUcsc6GmaWMrPHzOzecDvx7WTNbLKZrTWzZ8xsi5mdVgGfU+Jb/5rZzWbWZmabB+0b9nOxwL+F7+0JM1tQvsjHLvYJ2sxSwLeADwEnAheZ2YnljWpMMsAX3f1EYDHw6fB9XAFscPe5wIZwO0kuBwav46yEdrLXAz9z97cBJxG8v8R+ThXU+vcWDu3nk+tz+RAwN/xZAXy7RDEWl7vH+gc4Dfj5oO2vAF8pd1xFeF93A0uBrcCMcN8MYGu5YxvFeziG4B/F6cC9BF0+XgPSw312SfgBDgP+RHh+ZtD+JH9ORwMvAi0Eq4fvBf5rEj8rYDaweaTPBbgJuGi445L0E/sRNAN/ufolvkWpmc0GTgY2AtPdvTW8aycwvVxxjcG/AiuB/jZsh5P8drJzgF3A98Opm++aWRMJ/py8slv/5vpcKiJvJCFBVxQzmwjcAXze3dsH3+fBf/WJKKsxs3OANnd/tNyxFFkaWAB8291PJmgxcNB0RpI+Jzik9e9RQBOjaP2bFEn7XAqRhAT9MnDsoO2cLUrjzsxqCZLzre6+Ltz9qpnNCO+fAbSVK75Rei9wrpltI+hMeDrB3O3k8Ao6kMzP6iXgJXffGG6vJUjYSf2cYFDrX3fvBQ5q/Rsek8TPCnJ/LhWRN5KQoB8G5oZnnCcQnNy4p8wxjZqZGUHnvi3u/o1Bd91D0HYVxth+tRzc/Svufoy7zyb4TH7l7pcw0E4WEvR++rn7TuBFMzsh3HUG8DQJ/ZxCB1r/hn8P+99Toj+rUK7P5R7gf4TVHIuBNwZNhSRHuSfBCzwxcDbwR+B54MpyxzPG97CE4OvXE8Dj4c/ZBPO2G4BngV8CLeWOdQzv7f3AveHt44CHgOcIrqJTV+74xvB+5hP0Ln8CuAuYkvTPCfgH4BlgM/ADoC5pnxXwI4I59F6CbzqX5fpcCE5YfyvMGU8SVLCU/T2M9kcrCUVEYioJUxwiIlVJCVpEJKaUoEVEYkoJWkQkppSgRURiSglaEiPsCPgnM2sJt6eE27PzPObvzexL4e1/NLMzixDHfDM7e9D2uUntsijxpgQtieHuLxJ0Jbs23HUtsMrdtxX4+L9z918O3R92TByN+QQ17P3Pe4+7X5v7cJGxUR20JEq4XP5R4GbgE8B8D5YvDz7mSoJVZW0EDXMedfd/MbNbCBbUrA2XqN9O0FHwOmA3wWKOOoLFDZe6e6eZnUqwhL0J2B8e/yTQQLB0+J/D2wvd/TPhaP5mYCpB06VL3X1H+NrtwELgSGClu68t+h+QVBSNoCVRwmT8t8A3CRpODU3OpxAsPZ9PMMo9Nc/Tve7uCwhWoH0VODPcfgT4Qtha4Hbgcnc/iaCnRRfwd8Dt7j7f3W8f8pw3AKvd/V3ArcC/DbpvBsGK0nMY+BYgklN65ENEYudDBEt+5wHrh9z3PuBOd+8GMLN8fVv6k+tigotB/C5oVcEE4EHgBKDV3R8G8LD7YHhMLqcB54e3f0AwOu93l7tngafNLDHtSqV8lKAlUcxsPsE0w2LgfjNbC/xnePd3Rvl0Xf1PC6x394uGvNY7xxHqcPYPfvoiP7dUIE1xSGKEndi+TTC1sQP4P8C14VTDfHf/DvAbYJmZNZhZM/DfC3jq3wPvNbO3hq/TZGbHE16FI5yHxsyaw/acHUBzjud6gGCKBeAS4LdjerMiKEFLsnwC2OHu/dMaNwJvN7P/0n+Au28imLr4A/D/CNrV5uXuu4CPAT8ysycIpjfe5u49wF8CN5jZHwimU+oJ2nSeaGaPm9lfDnm6zwKXhs/zUYJrNoqMiao4RERiSiNoEZGYUoIWEYkpJWgRkZhSghYRiSklaBGRmFKCFhGJKSVoEZGYUoIWEYmp/w+xfpVxLCLL9wAAAABJRU5ErkJggg==\n",
      "text/plain": [
       "<Figure size 432x288 with 1 Axes>"
      ]
     },
     "metadata": {
      "needs_background": "light"
     },
     "output_type": "display_data"
    }
   ],
   "source": [
    "plt.imshow(occupancyGrid)\n",
    "plt.plot(unoptimizedPath[0], unoptimizedPath[1], marker=\"o\", color = 'blue');\n",
    "plt.scatter(optimizedPath[0],optimizedPath[1], marker=\"o\", color = 'cyan',s=150)\n",
    "plt.xlabel('X-direction')\n",
    "plt.ylabel('Y-direction')\n",
    "plt.show()"
   ]
  },
  {
   "cell_type": "markdown",
   "metadata": {},
   "source": [
    "The cyan dots represent the optimized path and the blue dots represent the unoptimized path. As can be seen for the optimized path only the waypoints where the robot needs to change its orientation, are retained."
   ]
  },
  {
   "cell_type": "markdown",
   "metadata": {},
   "source": [
    "## complete pathplanning demonstration\n",
    "To see the complete Pathplanning on the testing map inaction this section can be run. To get a explanation of each part, see in the previous chapters"
   ]
  },
  {
   "cell_type": "code",
   "execution_count": 19,
   "metadata": {},
   "outputs": [
    {
     "name": "stdout",
     "output_type": "stream",
     "text": [
      "Time needed for planning goal: 6.085005300000006\n",
      "Time needed for the query for a new path: 0.002025500000002012\n"
     ]
    },
    {
     "data": {
      "image/png": "iVBORw0KGgoAAAANSUhEUgAAAWgAAAEJCAYAAAC5Tb0qAAAAOXRFWHRTb2Z0d2FyZQBNYXRwbG90bGliIHZlcnNpb24zLjMuMiwgaHR0cHM6Ly9tYXRwbG90bGliLm9yZy8vihELAAAACXBIWXMAAAsTAAALEwEAmpwYAAAtLklEQVR4nO2de5gcZZX/P6fnmssMuUkcCJCoXIQAAdGFRV0WyAoKwgPK0vITlmUn67qyuK4aHH6Pe5P8yK6rq66iiaLRZSFcgkFElERYURDlThIIIMnkQu63mUySuZ7fH2810+l0V1fPdHVXdZ3P89TTXW/dTtX71rdPn/fUW6KqGIZhGNEjVW0DDMMwjPyYQBuGYUQUE2jDMIyIYgJtGIYRUUygDcMwIooJtGEYRkSpikCLyAUislpEXhORG6thg2EYRtSRSudBi0gd8AowG9gA/B5Iq+qqihpiGIYRceqrcMz3AK+p6usAInIncAlQUKBlsihH5RTm+10pd1k+Rru/StgdpCwqdlSqrNz7jNK5jaY9Gw4ZYVmAdcYOwVEHYPwQbG+AjU0wIDnrdrFdVd+Su6tqCPSRwPqs+Q3AH/lucRSwHNfowpwKMZT1qTllWuD7CJbLIIjm2aYSU6HzK8c5V2uK+zll21rsnPLZfPBXw48Uw2KZ8imTEpZ730/ohq/8Af64C75/OHzx7bCl0Vue2f4XdOYzqxoCHQgRmQPMAWBaBQ/sJ9Qh0twH73kJTuzMEumMPdnf/cqCrDOaspEeJ8i2lbI5yteknPsH1tfDb5phVx1GIfJ5wGVmewMsnQIrxsMTE2BfCT1/1RDojXBQwGKaV3YQqroAWAAgs6QyspkrGBVkbC9c/CR8fBnUZbs9I7FnpOdQiWNV6nxsGx4ZA6/Wwy7L1cpPBcQZXEjjtiOgXqG3DnpK+MGshkD/HjhWRGbghPlK4GNVsKM0whRucV7zuAMwpStHoA1jhLQOOVGoltMReSok0IMCezKinB3WCEDFBVpVB0TkU8DPgTrgNlVdWWk7ilLJhl1ipRlGIHJj14YjRvdaVWLQqvog8GA1jh2ISjbs7N7cGDUcIyaYQB9KjO6zyHYSRppyNHjJ2U+MGo0RI0ygh4nhPWYCHYQwYsK5HrN50Ea5sRDHMDG9t0ygi1HJOLRhhIEJdGzvLxPoUiiHN1Io5SmmDciIEUkU6pjfVybQQSnH30W/xmIhDiNMkhjqqIH7yQS6nBS6AXI7BA2jWiSpHZpAJ5hSPJIg3rF50EalqHWRrqH7yAR6pAQV6KCNpYYalREDalWka+w+MoEOg1pt/EbtUSttNSPMSk2JtAl0ObCxM4w4UmsdhzUkzBlMoEdLLTVwI5nEtA2nGM5aHZTYnoYvJtDlZDQtpBZblxEvYtQGU8CpA/BH/dAv8OsmWN1QbavKjwl0ORnNX8Za+7tpxIuYtb+Uwll98Pl9sDflhvM0gTYMo7aJkUj3A3sFegQGqm1MSJhAh0WpHkn2e+YMo5pEvR0KDAKPNTrPuV/guRr0nsEEOjxi9pfRMA4iqm3Xy9RQgZfr4eWMMNfoa71MoKNCVG8II9lEpV3WYApdEEygK0GQPGnzuI2oEbU2mUCRDu2PgYjcJiJbRWRFVtkkEXlYRF71PieGdfzIELSBR+lGMIxstMpTggkzcvMD4IKcshuB5ap6LLDcm08O1hiNOGPCXHFCE2hV/RWwM6f4EmCR930RcGlYx48kigt35JusQRpRxrznqlDpGPRUVd3kfd8MTC20oojMAeYAMC18w6qONUYjLoTdVhMYay5E1ToJVVVFpGBVq+oCYAGAzCq8XmzJ9RDMYzDiQKXaqYk0UPnswS0i0gbgfW6t8PGjQ24j1wLlhhFFLKRRESot0PcD13jfrwGWVvj40SO7YVoDNeKGCXOohJlmdwfwBHC8iGwQkeuAW4DZIvIqcL43b2Q6Dw0jTpj3HDqhxaBVNV1g0XlhHTO2eI1zIAW9DVBXbbG2mwUAUVcXddU2JOr4tJe6Ohg3DvbuhaFC7drizQWxJwkjwv5G+OWp0N3shlI8pAOxlM9Kb1Op41aYSQfg3A3wjj3VOX7s8OqpsRE+ejnM/SwcdWILO/pbmdzQxfpV3cz/Mtx9L/T1YcIcABPoiLCvCX72Llh2ileQ8TY053vQv4qj2T53P/n2WY3tK8xxu+HovSbQgfDq7N1nwP0/qefBsZdz9Zi5rOAkGpv66aOBmTNXcv2t8/nyf9zLxRcN8NQzmEgXwQQ6KogLb/RmaiSfwBYSu1KW55YVEvCRinpYUxXoqYcBE5DAnPEuuPfhCXxo3DJe4Tj20gLAAI0APMdp3DBmId8c8zl+vOx8Lpu924m0UZAaHaTPqDmyfzgqNVXphyGONDbCTx6o59Jxy1jBzDfFOZe9tLCCmVw6bhk/+Uk9jY0VNjRmmEAb8SEBXntc+ejl8ODYy1nNcfTR5ApvB6bjVGa6Nw/00cRqjuOhsZfxkcuqYW18MIE2jEKYUAdm7mfhG2Pm0pPxnG/HDdTQibuGnd68J9I9tPD1MXO58bPVsDY+mEAb8aNSoQ4T50CkUi5bYwUnDRfeBOzLWXGfV+6xgpkcdWILKVOhgtilMYxCmEAHYvx42NHfSiP9w2GNzgIrrxv+2kA/OwdaGT8+fBvjimVxGPEmzDCEhTgCsXcvTG7oYv/tTS6Mkes5Z3P08Nd+GphU38XevWFbGF9MoI34EnaHnolzIIaGYP2qbupvGqLfT5zHAjcPz85kBetXdbsnDC2dMS8W4jAMY9R84pNp+jsbCq9wDG7w4Kvc7Di6uX7/fG75ciWsiy/mQRu1Q7m9aQtxBGMgzeOPLaSgG3wMsHZ4tpFeTmA1F+5bwieWVMC+GGMCbdQGYYQ7TJz9GUhD/zycAhcQ55ywxji6OYHV3Nczm4svHrAxOYpgAm0YhTCBLkx/GvoXAuN8VlJSCwZpvqqXfhqYyQqu3z+fC/ct4eKLB3jqaUyci2ACbdQe5fKkTaALMzAPf3GGtrZOVqVPYWdfK5Pq3Wh2t3wZPrHERrMLigm0YfhhIn0w/Wnomwd6TJEVe9i0tYPJ47sZP77bfzxooyAm0EZtMxpv2sT5YPrS0Fs8rIF0Qn0H1N/BENCVyXO2nLGSCfOVV0eJyCMiskpEVorIDV75JBF5WERe9T4nhmWDkXBswKTy0lcsrNEDDVfBmBnQcIcLYZQyGYcQ5m/aAPAPqnoicCbwtyJyInAjsFxVjwWWe/OGET1MoIfpS/uENRRkLTS0O2E2ykaY7yTcBGzyvneLyEvAkcAlwDneaouAR4G5YdlhGG9SqldsXrSjLw0HfPKcpRPGzaioSUmhIjFoEZkOnAY8CUz1xBtgMzC1EjYYCWckYpt0ce5Nw/5Mh2ChGEQPNHZYiCIkQhdoERkP3At8WlW7RIZrUlVVRPLeBiIyBzf0CkwL20ojMSRddIPSm4Z9AToEm9qh0cIaYRGqQItIA06cb1fVzEOdW0SkTVU3iUgbsDXftqq6APf0PjIrv4gbxogI6k0neUzo/cXznJFOaDZxDpMwszgE+B7wkqp+JWvR/cA13vdrgKVh2WAYRokcSMOuNTBUPM+Z5o6KmJRkwvSgzwY+DrwoIs95ZR3ALcBdInIdbljvK0K0wTD88fOQk+Y9H0jD3gBhjVSnE+cm857DJswsjl9TuOvgvLCOaxgl4RfuSFoWR0+APOdx7SbMFcSe7TGMQiRJnPenfcIaCqm1Js5VwB71NowMuR5zUgR6fxq6ffKcU50wyfKcq4EJtGFA8sIZAPvS0D3P85x98pzHWZ5ztTCBNoxcNOuzVkV7Xxr2BOgQbGm3VLoqYgJtGLkkYbCk7gB5zqlOGGviXE1MoA2jAEPA/hR015VhZ2GIfZF97hcYzC3sSUPXPBgMkOc8PiZ5zjUcfjGBNowC7GiEu46Epw/zCrSEz1LWDWmfa+pge/aPS08adi8EDZDn3NJh3nMEMIE2jALsaoAft0Eq88h3RgCHcr7jzRf6Xs4p6PEVVGEg28veM89fnKUHDms3YY4QJtCGUQAVGBCGnxbIfmVTbjpe9t/soZxthGEBlaz9yAiW4+07I9jZx833Vz9j5960T1hDoa5GvOYaC3eYQBtGrbM3Dbt88pzrOqHN8pyjiAm0YdQq3WnYlekQLDTYfg+0xqQzMIGYQBtGLdKdhh0BOgQntsO4mIc1ahgTaMOoRXYV6RAEL+5s4hxlbLAkw6glutLQuQYGiuQ5Sw9MSEhoI8Ydh+ZBG0at0JWGbQHCGnWdMLEDxifEezaBNgyj6uwMkOc8pd3CGjHCQhyGUQt0pX3CGgr1a02cIXbetHnQhhF39qRhi0+ec30nTLc85zgS5ktjm0XkdyLyvIisFJF/9spniMiTIvKaiCwWkcawbDCMmmZPGv6wBjbfXji0IT0wKSGdgTVImCGOXuBcVT0VmAVcICJnAvOBr6rqO4BdwHUh2mAYtcnuNGxaCAPTKfy/XeHwdjjsDreKTQdPMSA0gVbHXm+2wZsUOBe4xytfBFwalg2GUbNsDZDnXN8JE+5wd7lNh04xEOlQOwlFpE5EngO2Ag8DfwB2q+qAt8oG4MgC284RkadE5Cl2hGmlYcSI3Wl4JWCe8xQLbcSdUDsJVXUQmCUiE4D7gBNK2HYBsABAZkktv9vCMIKxOw0bA+Q513fCWzpcaMMoToQ96YpkcajqbhF5BDgLmCAi9Z4XPQ3YWAkbDCP2bAmQ59zW7sIaRk0QZhbHWzzPGREZA8wGXgIeAT7irXYNsDQsGwyjZtiVhv4iec4mzqMnYt50UQ9aRJqAy4Hp2eur6r8U2bQNWCQidbgfgrtU9QERWQXcKSJfAp4FvjdC2w0jGexMwwafPOeGTjje8pxrkSAhjqXAHuBpXOpcIFT1BeC0POWvA+8Juh/DSCw70/DGPM9z9hnPeap1BtYqQQR6mqpeELolhmEMszMN6wJ0CB7ZDhMtrFGrBBHox0XkZFV9MXRrDMNwvBEgz7mhEyabONcyQToJ3ws8LSKrReQFEXlRRF4I2zDDSCQ70vDiGp8OQQ/pgbdaaKPWCeJBXxi6FYZhOHHuXAhDRcIaDZ3Q1gGTzHuuCFXM7Cgq0KraKSKnAu/zih5T1efDNcswEsb2NKz5Ib63pPTA0e0mzAmiaIhDRG4AbgcO96b/FpHrwzbMMBLD9jSsXUhhcVZoWOvEebINfFT1qYIECXFcB/yRqvYAiMh84AngG2EaZhiJYf08/7BGYyecbHnOkSCCAi3AYNb8IJF73sYwYsi2NKybB30+HYKpHjiyw+64hBJEoL8PPCki93nzl2JP/xnG6NiWhteLdQgOwDHtMMVizkklSCfhV0TkUVy6HcC1qvpsqFYZRq2zrkhYI9UD002cI00F/tUUFGgRaVXVLhGZBKz1psyySaq6M3zzDKPG2JqGTr+whrqY81EdJs6Grwf9P8BFuDE4ssdjFm/+bSHaZRi1x9Y0vFYkrNHYCadbh6DhKCjQqnqR92mtxTBGy5Y0vFIkzznVA0dbh6AxTJA86OVBygzDKMCWNLxaJM+5aS28vR0Otzzn2E9lxC8G3QyMBaaIyMSsQ7dS4D2ChmHkYU2RDsGmTjjD/qjWBJUSaOCvgU8DR+Di0JlDdwH/VV4zDKMG2ZyG1+dBb5E852MsrGHkxy8G/TXgayJyvaraU4OGUQqb07A6QJ7zsV5Yw6g9yvCjG2S40aHMuwUBRGSiiHwy6AFEpE5EnhWRB7z5GSLypIi8JiKLRaSxdLMNI+K8HiDP+firYarFnGt2KgNBBLpdVXdnZlR1F9BewjFuwL0sNsN84Kuq+g5gF26sD8OoHTanfcIaXofgce3wVhPnmp9GSRCBrhORNw/lvQQ2kNcrItOADwHf9eYFOBe4x1tlEe7RccOoDTal4WWfF7w2dcJZM0yckzaNkCBjcTwELBaR73jzf+2VBeE/gc8DLd78ZGC3qg548xuwjBCjFngjDa/NgwM+L3hN9cDbrEPQCE4QgZ6LE+W/8eYfxvOI/RCRi4Ctqvq0iJxTqmEiMgeYA8C0Urc2jAryRhpWBXgTygleWMNILiX+OAcZLGlIRH4A/FJVV5ew77OBD4vIB4FmXP7014AJIlLvedHTgI0FjrsAWAAgs0TzrWMYkeC1Ih2CAM2d0GbinHhKFOggTxJ+GHgOL6whIrNE5P5i26nqF1R1mqpOB67ECfxVwCPAR7zVrgGWlmayYUSEjWn43zVeWMOHVA+8vaP6cVCbqj+VSJAQxz8C7wEeBVDV50RkRumHepO5wJ0i8iXgWWxsaSOObEzDigBhjeZOeEeHec/GoQQQ7CAC3a+qe7ISOeDg0e2KoqqPMizwr+ME3zDiyysB8pxPbIcjTJiNkRNEoFeKyMdw6XbHAn8HPB6uWYYRYTamfcIantd8bIeJszFqggj09cBNQC9ujOifA18K0yjDiCwb0vCiT55zcyecM5oIoGEM4yvQ3kMpP1XVP8WJtGEkkw1peGke7C+S53yc5Tkb5cNXoFV1UESGROQwVd1TKaMMI1JsSMPzC2GwSIfgye1wpIU1jPIRJMSxF3hRRB4GejKFqvp3oVllGFHipXlFxBkY0wnTTJyN8hJEoJd4k2Eki/VpWJkJa/hQ1wPHW2jDKD9BniRcVAlDDCNSrE/DswHCGmM64YQO856NUPB75dVdqnqFiLxInrxnVT0lVMsMo5qsLBLWqOuBU9tNmI1Q8fOgb/A+L6qEIYYRGdalfcIantf8zg44ysTZCBe/V15t8j47K2eOUTEaWqCxFXq7oLe72tZUjzEt0NwK+7pgX7cT52d98pzHdMIHLM/ZqAx+IY5ufB7pVtXWUCwywkPqYcblcMpcmHgSDPVDqgF2roRn58Mf7oXBgeL7iTt19fDuy+HiuTDtJBjsh7ua4MYheKOBguJc1wMnWWegUTn8POgWABH5V2AT8CNc07wKaKuIdUb5aJwAH1gGE45z3jNAnfdinLecBucshFmfg6Xnw4Hd1bIyfMZOgC8sg7ce57xngMWN8Algn9+GCqe1w9EW1jAqh6j6j3skIs+r6qnFysJEZomyHOfPR2ECGPIpC7ocb34o5OVaDxf/FibOhLomCjLYCztWwN1nwsBA1vY1MqXq4R9/C9NmQkPWdZgOFAvkjVkLH7TQhhES9/K0qp6RWxwkD7pHRK4C7sQ18zRZD6wYMWD65XDYccPifDvuwf11wCRvnR245YOnQ8sOGOqFnskwdodbvm8yyBBoCsbscP+l9k0++Hv2coD9kw/+nlne7G2TWwZwYDI0ecsPZC3PLiu0HKB3MjR6y3uzljfucKL8wxaYJFnnDAwWuX51PXCyhTaMyhPEg56OexPK2V7Rr4FPq+raUC3LtsE86NEtv/gZmHyam78d9yIx37/zhkNhbCfM7IBjLLRhhMjdI/SgPSG+JAybjArQ0OI6BDPchIlzEMYC3x6E5afA/gRnuRhVJUiI401E5BlVPT0sY4wQaGh1WQp3NDpxtqTJ4hwD3Ax8pBeeaIUDJtBJQxRa+qGlzElN++phTwMMBQyX+aXZPQh8MieUYVG4uNHfBYub3HvZzXMuzjHAWu/7QAMc6LJWn0Aah+DPtsAH34AG/yhwYIaAXx0Odx8NXQ3BtvHzoL8P/EJEFgH/pqr9wE9LMUhE1gLduG6YAVU9Q0QmAYtxfedrgStUdVcp+zVK4FcXwffqineEGS6scXPW/PoVzns2gU4c9cCpe+DKddA8VHT1QAwBffXwwDToCtimCr7VW1XvBk4HWoGnROSzwE4R+YyIfKYEu/5UVWdlBcBvBJar6rHAcm/eCIPH0/CDhTDo0xomexO4jAaU8Q1dTGYbwhCT2cZktgFD1DEAWWWjXZ5d1so26htdGU3boNn7LgOHlhVa3uSVNWZ9zyxv3Abjutx/10POGec5L8Bl+YMT5gfmV/8t0DZVZwpvt/l3XoBiMeg+XEpdE9DCcG7AaLgEOMf7vgj3Mtm5Zdivkcu986DPZ8Cf7L/zQGNvLye/+CJPnHUWDVT2icLftsFnzoEnjqDyedC59PfCG6vhqSW+N49Rw6QIr+5L2LdfDPoC4CvA/cDpqjqSCKbiwiQKfEdVFwBTM+N8AJuBqQWOPweXEAbTRnDkJPN4Gu6eBzuOKbxOzt/5cd3dnLB6NQ/Pnk3DQI0+7j04ALecDzcug7bjoLnl0HUOdDtxnj8bhgZMoI1wGK1A4/r8P6qqK0dhxntVdaOIHA48LCIvZy9UVfXE+xA8MV8AuDxoIxiPp+G2hf6ec50itw4y5tJe+vsamLliBXPnz+eyJUtqV5wzN8T+3fAvZ8IZl8GH5jpverAf6hpgwwr46XznOQ+aOCeasOo+QFgjG7+xON43WltUdaP3uVVE7gPeA2wRkTZV3SQibcDW0R7HyOLuImGNxh5OOa+dhTc/wBEdrbR2ddHanZA0ssxNMTQAv7vLTc0tMKYV9ncdnE5n4pxswgxxlCDQBTsJR22DyDgRyQy4NA74M2AFLmRyjbfaNcDSsGxIFL9Jw6fX+IQ1FCavhb9o54h33sH4vd1M27gxOeJciAPdsGuj5ToblaEEcYYSH1QpkanAfSKSOc7/qOpDIvJ74C4RuQ732MQVIdqQDH6Thu8WCWtM7oSvznDfn6+MWVVHcj4NIyglCmnJ+w7oGocm0Kr6OnBqnvIdwHlhHTdx/DoN3/4hDPlUZWMPfLRjeD5JgpWkczXKR5jtJgohDqMC/DoNCxf6iLMX1vjLdjj7jnC9giiRlPM0wiOsNhShEIcRNncW6RCc0glfm3FoeRIELAnnaIRH2B50QNfYPOg48lgaPrUGtvvkOTf2wBUd+ZeZcBmGP2F60CVgHnTceCwN3ynSIZgagL9qh/cWGMO4FgXaOgSNchIRD9oEOm7cUTzPmTk+4gy1K2K1el5G5QkzRFaOR72NiPGrNNw+zyesoS7mfGWHvzgbRsRIKUzsdeMvR+U3duwATOgNwR4LcdQgv0rDtxdCb5EOwW/l6RDMR1TugtFiYY2aYHwfXLYWzt8AURnUoV7hhN1QX6ahRg/CQhw1xP+m4RsB8pzTBToEC1ErolYr55FgmobgXdvh8tejl7UQigddjrE4jAjwv2m4tUie85RO+FgHvK+EsEYtiJow/IJco2aohaZZFMuDrhH+e17xsMZ3AoY1son7XWChjdoizIGJooiFOGLOo2n40TzY5pPn3NQDV5UY1ogwKYWmQTehDL8aYohhTzmMeGBm1wIDKXPKjZCxJwljzqNp+GaRDsHUAPxNO7x/hNkaEfRW2nrgypfhjzd6BVrks8y8OgGWHQ27msPZv+FDBNtjqJgHHUMeScOijNfs02KbeuCT7fAno0ili+ANccReuHpl8NfRl5sHp8MzU2HXmOocP9EkKcRhnYQx5JE0fKOI14zCWzrh/3SMTpwjSp3CmCq+ebxpMHoZBIZhAh0FFhXpDAQnzt8dQYdgPpLksZRCCX89jTKStIGtLMQRI36Z9u8MBBfW+HhHshpxpSnxr6dRRpJ0zS3EESN+mYavL6RwbXlhjas74JwyhjWSdEOUgl2X6pC06x6VLA4RmQB8F5iJ63//S2A1sBiYDqwFrlDVXWHaEVl+4BPaaOqBT7XDn4YQb07aDREUC3FUhyT9c8mca0TGg/4a8JCqnoB7/dVLwI3AclU9FljuzSeL5Wm4eg1s9Rn46Pp2OPeOg/8SlWsyDsWuS/VI2rWPggctIocB7wf+AkBV+4A+EbkEOMdbbRHwKDA3LDsix/I0/GeRjI3DO504h4UJdX7sulSHpF33iMSgZwDbgO+LyKnA08ANwFRV3eStsxn39u9ksDwN/15k4KOmHrgm5A7BJN0MpWAhjuqQpPYYoRBHPXA6cKuqngb0kBPOUFWlwLNhIjJHRJ4SkafYEaKVlWJZGr5aZOCjw9fCDe1wXkihjaR5KqVi18aIGGF60BuADar6pDd/D06gt4hIm6puEpE2YGu+jVV1AbAAQGZFZZTYUfC9IrnOh3fCj8qU51wME6JDKdGzMcpIJi8/KSMUpqi+B62qm4H1InK8V3QesAq4H7jGK7sGWBqWDZFgWRrSfh2CuLDGtR3hes3mRRfHrosRNiW2sbDzoK8HbheRRuB14Frcj8JdInId0AlcEbIN1WNZGv4jwMBHf++FNYzqYyJdeZLmNESkkxBVfQ44I8+i88I8bmT4bpGwRlMPfKYK4py0GyIImfCGhTgqT5LaYoQ6CZPLw2n48zWwxSfP+fC1TpzPD7lD0EIcRtRJWnuMQh50Ynk4Df8WIM/5zgp1COYjaTdEUOzHqzok7bpHJcSROH6RhpsD5Dm328BHkcOyOKpHku6FEtuZCXS5+IXnOfvlOU/thL/qgNlV7hBM0g1RCnZdjEpgIY4q8O0iHYJTO+GuKoY1sjEhyo950NUhaeOTWydhBfl5Gi7z6xDEhTXmVDjP2ToIS8Oui1EJSrwHzYMeDT9Pwy0B8pw/3w5/FqE8ZxPqQziiGy54DU7dUvljK7BmIqycCr11lT9+1Ulie7ROwgpQLKzR1ANzIybOkLybIQDv3Aaf+w30V+E/pQrceTKsnQS9DZU/ftVJ0v/4EvPtTaBHwkNp+NY82OyT5zy1Ez7RET1xNvIyrt9N1WBQYMo+9+Jcw8jGBLpUHkrDvIVwoEiH4H0R6RDMh3nQ0SPJfQRJO2/Lgw6Jn6Xhn4rkOTf3wN9EPM85yrYlmaRmkSSpPVoedEj8zPOc/fKc3+qFNS6wsIZRIknzIrMYqIM3WmHVVMg7sHCh61Ku8mwKhZnKUK648xwooSPYBDoo35znH9Z4aycsjXBYI5sEi0GkSWi99DTBPafAb4/xTj833BPke6qEdXOvc/ZrQ0r5Xuq6wIbDoLuZwPVsAl2MB9PwX34dgriwxicjHtbIJi52JokEx6D76p33vGoq1XsWIFd0w5pKxAQ6l1QLpFphoAt+chF8qUiHYGoAOtrhwhiFNRIoArEgoQKdCEZYrybQANRD6+UwZS40nwTaD9IAHwIONBberLkHboqZOIOJQFRJaidhrSM5nyVgAp2aAEcvg8bjoK7Flf1PI9wErC+0kdch+KmO+ImzEU3sR9PIQ8IFut6Jc9NMSDW5otuBOcA+n83aOuGnMekQzIeJQTSxEMfBxP1alMH+0ATae1ns4qyitwFfBH7olU8H1gJXqOqusOzwpeVy5zlni/M1wKDPNs09znOOc+MxIYgeCe4krGlGWZ9hvtV7tarOUtVZwLtwPul9wI3AclU9FljuzVeHyXOHwxoZz9lPnI/qhS+2w4eq9JqqsHqwjWhQ7XYR1SmOlOkcKxXiOA/4g6p2isglwDle+SLgUWBuhewYJtUCTScNz9+Ef1jjGGCNwMoHYChk28Imro2+1omzIIVNXK5Lme2slEBfCWR606aq6ibv+2Zgar4NRGQOzqeFaSFYlGr1sjW8LI11PuuOBW7GrV/XCtodgkEVJC6NPUnE3WM0hiljHYYu0CLSCHwY+ELuMlVVkbwPd6KqC4AFADIr/zqjYqgLJGtsx0nAjjzrpTwrrgK0AbTLbiIjHEyg400IdVcJD/pC4BlVzQyFvkVE2lR1k4i0AVsrYMOhDHVD70poPs1/vYk4cQY4sMJ5z3G/ieJufy1iHnRwonaNMvUWwnCxlUiLTzMc3gC4H5crgfe5tAI25GfHfBj0whU7C6yTKR/sdutXu8Mk6Z0vtU6120QcpqgSwjmFKtAiMg6YDSzJKr4FmC0irwLne/PVofte6H8FhnpdiCMfk3DL+1ZD95LqN85ab+RJJvPyVJvi0Y4rcB6hhjhUtQeYnFO2A5fVEQEGYN357mEVPY28v1c6BL0vwvrZIAMVt9BICFERHaM0Qq6vZD9JKIDuhs4zYWdf/nV2Cqw7CxiI9c3T0AdHboWJXfD29dDcW22LjLzEuI0ligrVUzIF+pCLOwB1gzCY53LUDdaE5zypG65eCuc8CZP2wNTt1bbIOAhhOMRhlE6lrluF6yeZAg05F7oeBguE4wdTIPVAvEW6qQ9OfA3O+Z1pQKSxyok+FayjZAl0vgubmgBHLHOR8nx50JOBo34Lb5wPQ7vDtC5c7MaPPhaDjjZVqJtkCTQc6jkfsQwaZ1I4oSXllh+xDDaeSWw9abv5o411EpaPcl/DKtZJcgQ630UelzWanV8edKrJrTf+Mui5K0QjQ8Ru/OhjAh1dqlQvtS/Qfhd2wlw3aBIUftQ7kx+danHr74uxQNvNH13Mgy4/o72WEaiL2hdoyH+hpQUaT8qzwIfGmU6o4zhYUgQam1EEE+joUeX6SIZA5yN3NLtij3qDWz/VOvx4uGGUGxPoaBCReqhNgZacz7zkjGZ3NNCZZ7Wjs/fb4LaL44s9Lcc22lgedLgEva4Ru/61KdAQ4EJ3Q/9KaDzNzd7Moe8izIwDnaF/hdsuYpVo1BDWtqpPhOqgtgS61AvbPR8mLnRx5cyQojfhBu8/GifOmfKhbrd+hCqvJOJqd5KwGHR1ieC1ry2BhtIu8oF7YeBz0DATpMmJ8VV51tNeGFgNB5ZEshIDYTd/tLEQR3WJ6HWvPYEuiQHYfj5MWQb1xw2n3GUz1O3EeftsYvuQCkS2ARo5WD0ZWcRfoAN1CPqxG3acCc2Xwfi5UD/Ty+5ogIEVsHe+5znHezS7WNueBCwP2shD/AUaytCoB6D3LjdJC0ire/dgJt+5Fm4au/mjj9WRkUNtCHQ50e54PohixB8TaCOHUAVaRP4e+Cvc6xRfBK4F2oA7cePEPQ18XFULjJbvt3OsMZdCHHO3k4SFOIw8hHbbisiRwN8BZ6jqTKAOuBKYD3xVVd8B7AKuC8sGw4gV5XzHnU3xmgoQdoijHhgjIv24xz42AecCH/OWLwL+Cbg18B6LnJBRALtu0SbAzWokj9AEWlU3isiXcY997Ad+gQtp7FbVTL7aBuDIwDu1xjty7NpFHxNoI4fQBFpEJgKXADOA3cDdwAUlbD8H9/A1TDt4WWoIxu2D5gPQ3wB7x8GAdXf6MlQHXa2wbUrADUYjFGrrl7L+kED3GPdpAm1kE6asnQ+sUdVtACKyBDgbmCAi9Z4XPQ3YmG9jVV0ALACQ00Szo+Xj98KlP4Wzfgevvh3uuQTWHRXimdQAuyfAXZfBU6d7BZL1KQHLsj8zKMOCoyMoG+l2o92mnMcfjU3ex8tHQs8YTKCNgwhToNcBZ4rIWFyI4zzgKeAR4CO4TI5rgKWB9pbVcMccgD95HK6+Ex47Cx55P6w7uvCmBuwdD8vfD798v1eQyvqUAt/x5lM5ZdnoKCaAoTzf/ZZnjjkUcHn2/vKVVXoqYLMCauJs5BBmDPpJEbkHeAb3jPSzOI/4p8CdIvIlr+x7pe5bAFEX6hA1pyMQ4gTgzX/XQQW60HIoj1iR57vfcnCilgq4PCPKuXYPeWWZTy3wvdjy3B+A3LJ8UyrPd8PIg6hGv3WIyDagB9hebVvKzBTsnOKAnVM8iPM5HaOqb8ktjIVAA4jIU6p6RrXtKCd2TvHAzike1OI52fNlhmEYEcUE2jAMI6LESaAXVNuAELBzigd2TvGg5s4pNjFowzCMpBEnD9owDCNRxEKgReQCEVktIq+JyI3VtmckiMhRIvKIiKwSkZUicoNXPklEHhaRV73PidW2tRREpE5EnhWRB7z5GSLypFdXi0Wksdo2loqITBCRe0TkZRF5SUTOqoF6+nuv3a0QkTtEpDludSUit4nIVhFZkVWWt17E8XXv3F4QkdML7zm6RF6gRaQO+CZwIXAikBaRE6tr1YgYAP5BVU8EzgT+1juPG4HlqnossNybjxM3AC9lzdfCcLJfAx5S1ROAU3HnF9t6qqGhf3/AoeP5FKqXC4FjvWkOpYyYGSVUNdITcBbw86z5LwBfqLZdZTivpcBsYDXQ5pW1AaurbVsJ5zANd1OcCzyAe45uO1Cfr+7iMAGHAWvw+meyyuNcT0cC64FJuKeHHwA+EMe6AqYDK4rVC/AdIJ1vvThNkfegGW5cGUobojSCiMh04DTgSWCqqm7yFm0GplbLrhHwn8DnGX6gejKjGU42GswAtgHf90I33xWRccS4nlR1I5AZ+ncTsIfRDv0bHQrVS03oRhwEuqYQkfHAvcCnVbUre5m6n/pYpNWIyEXAVlV9utq2lJl64HTgVlU9DTfEwEHhjDjVExwy9O8RwDhKGPo3LsStXoIQB4HeCGQPJlpwiNKoIyINOHG+XVWXeMVbRKTNW94GbK2WfSVyNvBhEVmLG5nwXFzsdoKIZAbhimNdbQA2qOqT3vw9OMGOaz1B1tC/qtoPHDT0r7dOHOsKCtdLTehGHAT698CxXo9zI65z4/4q21QyIiK4kfteUtWvZC26HzfsKpQy/GqVUdUvqOo0VZ2Oq5NfqupVDA8nCzE6nwyquhlYLyLHe0XnAauIaT15vDn0r9cOM+cU67ryKFQv9wNXe9kcZwJ7skIh8aHaQfCAHQMfBF4B/gDcVG17RngO78X9/XoBeM6bPoiL2y4HXgWWAZOqbesIzu0c4AHv+9uA3wGv4d6i01Rt+0ZwPrNwY5e/APwYmBj3egL+GXgZWAH8CGiKW10Bd+Bi6P24fzrXFaoXXIf1Nz3NeBGXwVL1cyh1sicJDcMwIkocQhyGYRiJxATaMAwjophAG4ZhRBQTaMMwjIhiAm0YhhFRTKCN2OCNCLhGRCZ58xO9+ek+2/yTiHzW+/4vInJ+GeyYJSIfzJr/cFxHWTSijQm0ERtUdT1uVLJbvKJbgAWqujbg9l9U1WW55d6IiaUwC5fDntnv/ap6S+HVDWNkWB60ESu8x+WfBm4D2oFZ6h5fzl7nJtxTZVtxA+Y8rapfFpEf4B6oucd7RH0xbkTBfwN24h7maMI93HCtqu4VkXfjHmEfB/R6678IjME9Ovz/vO9nqOqnPG/+NmAKbtCla1V1nXfsLuAM4K3A51X1nrJfIKOmMA/aiBWeGH8O+CpuwKlccX4X7tHzWTgv990+u9uhqqfjnkD7v8D53vxTwGe8oQUWAzeo6qm4MS16gC8Ci1V1lqouztnnN4BFqnoKcDvw9axlbbgnSi9i+F+AYRSkvvgqhhE5LsQ98jsTeDhn2fuA+1R1H4CI+I3bkhHXM3Evg/iNG6qCRuAJ4Hhgk6r+HkC90Qe9dQpxFnCZ9/1HOO88w49VdQhYJSKxGa7UqB4m0EasEJFZuDDDmcCvReQe4Cfe4m+XuLuezG6Bh1U1nXOsk0dhaj56s3df5n0bNYiFOIzY4I3EdisutLEO+HfgFi/UMEtVvw38CrhURMaISAtwcYBd/xY4W0Te4R1nnIgch/cWDi8OjYi0eMNzdgMtBfb1OC7EAnAV8NiITtYwMIE24kU7sE5VM2GNbwHvFJE/yaygqs/gQhfPAz/DDVfri6puA/4CuENEXsCFN05Q1T7gz4FviMjzuHBKM26YzhNF5DkR+fOc3V0PXOvt5+O4dzYaxoiwLA7DMIyIYh60YRhGRDGBNgzDiCgm0IZhGBHFBNowDCOimEAbhmFEFBNowzCMiGICbRiGEVFMoA3DMCLK/wcynnv3hiI20gAAAABJRU5ErkJggg==\n",
      "text/plain": [
       "<Figure size 432x288 with 1 Axes>"
      ]
     },
     "metadata": {
      "needs_background": "light"
     },
     "output_type": "display_data"
    }
   ],
   "source": [
    "#imports needed to run pathplanning\n",
    "import os\n",
    "import numpy as np\n",
    "import matplotlib.pyplot as plt\n",
    "from matplotlib import colors\n",
    "from PIL import Image\n",
    "import sys\n",
    "import time\n",
    "from timeit import default_timer as timer\n",
    "\n",
    "#import pathplanning class\n",
    "sys.path.insert(0, os.path.join(os.getcwd(), 'src'))\n",
    "from pathPlanning import pathPlaning\n",
    "\n",
    "#load a testing map from image and convert it into a numpy array \n",
    "#(based on: https://www.pluralsight.com/guides/importing-image-data-into-numpy-arrays)\n",
    "pil_imgray = Image.open('Images/obstaclesTestMap.jpg').convert('LA')\n",
    "img = np.array(list(pil_imgray.getdata(band=0)), float)\n",
    "img.shape = (pil_imgray.size[1], pil_imgray.size[0])\n",
    "img=img<200\n",
    "occupancyGrid=img.astype(int)\n",
    "plt.imshow(occupancyGrid)\n",
    "##generate pathplanning object for the occupancy grid generated by the testmap\n",
    "pathPlanner=pathPlaning(occupancyGrid.copy(),1,1)#occipied cells are marked with a 1 and 1 cm per pixel\n",
    "\n",
    "#--set goal\n",
    "startTimer=timer()    #execution time when goal is set once\n",
    "#set goal\n",
    "goal=np.array([90,15])\n",
    "pathPlanner.setGoal(goal)\n",
    "\n",
    "endTimer=timer()\n",
    "print(\"Time needed for planning goal:\",endTimer-startTimer)\n",
    "#---set path\n",
    "startTimer=timer()\n",
    "start=np.array([10,75])\n",
    "pathPlanner.setStart(start)\n",
    "endTimer=timer()\n",
    "print(\"Time needed for the query for a new path:\",endTimer-startTimer)\n",
    "\n",
    "#--- get unoptimized path\n",
    "unoptimizedPath=pathPlanner.getPath()\n",
    "#-- get optimized Path\n",
    "optimizedPath=pathPlanner.getOptimizedPath()\n",
    "#--- draw all the components onto the same picture\n",
    "\n",
    "#make the distance map visible\n",
    "distanceGrid=pathPlanner.getDistanceMap()\n",
    "fillUp=np.zeros_like(occupancyGrid)#helper to make picture 3 colors\n",
    "maxValue=np.amax(distanceGrid.transpose())   # normalize values to fit into picture\n",
    "#create picture to show  map and distance map\n",
    "pic=np.dstack((occupancyGrid,np.divide(distanceGrid,maxValue),fillUp))\n",
    "plt.imshow(pic)\n",
    "plt.scatter(goal[0],goal[1],marker=\"o\", color = 'yellow',s=200)\n",
    "plt.xlabel('X-direction')\n",
    "plt.ylabel('Y-direction')\n",
    "plt.plot(unoptimizedPath[0], unoptimizedPath[1], marker=\"o\", color = 'blue');\n",
    "plt.scatter(optimizedPath[0],optimizedPath[1], marker=\"o\", color = 'cyan',s=150)\n",
    "plt.show()"
   ]
  },
  {
   "cell_type": "markdown",
   "metadata": {},
   "source": [
    "The blue points represent the unoptimized path, the cyan points are the optimized paths waypoint and red are the occupied cells. The green shade represents the distance of that pixel(cell) to the goal. The greener the longer is the path to the goal from that pixel(cell)\n",
    "As can be seen the path follows closely the obstacle. To prevent the robot from colliding with the obstacles, they need to be enlarged in the occupancy grid before the occupancy grid is given to the constructor. To see different behaviors the goal and start can be changed freely."
   ]
  },
  {
   "cell_type": "code",
   "execution_count": null,
   "metadata": {},
   "outputs": [],
   "source": []
  },
  {
   "cell_type": "code",
   "execution_count": null,
   "metadata": {
    "scrolled": false
   },
   "outputs": [],
   "source": []
  },
  {
   "cell_type": "code",
   "execution_count": null,
   "metadata": {},
   "outputs": [],
   "source": [
    "\n",
    "lower = np.array([20,50,90])\n",
    "        upper = np.array([100,100,255])"
   ]
  },
  {
   "cell_type": "code",
   "execution_count": null,
   "metadata": {},
   "outputs": [],
   "source": []
  },
  {
   "cell_type": "code",
   "execution_count": null,
   "metadata": {},
   "outputs": [],
   "source": []
  },
  {
   "cell_type": "markdown",
   "metadata": {},
   "source": [
    "# Robot control"
   ]
  },
  {
   "cell_type": "markdown",
   "metadata": {},
   "source": [
    "## Odemetry"
   ]
  },
  {
   "cell_type": "code",
   "execution_count": 20,
   "metadata": {},
   "outputs": [],
   "source": [
    "def odometry(p, sigma_p, t, MAX_SPEED, B = 9.5, CALIB = 0.0315, Z = np.zeros((3,2))):\n",
    "\n",
    "    #get elapsed time and wheels speed\n",
    "    t[1] = time.time()\n",
    "    if t[0] == 0:\n",
    "        T = 1e-6\n",
    "    else:\n",
    "        T = np.float32(t[1]-t[0])\n",
    "    t[0] = time.time()\n",
    "    speed_l = th[\"motor.left.speed\"]\n",
    "    speed_r = th[\"motor.right.speed\"]\n",
    "    \n",
    "    #convert for negative speed\n",
    "    if speed_l > MAX_SPEED:\n",
    "        speed_l = speed_l - 2**16\n",
    "    if speed_r > MAX_SPEED:\n",
    "        speed_r = speed_r - 2**16\n",
    "    \n",
    "    # compute wheel displacement\n",
    "    ds_l = T*speed_l*CALIB\n",
    "    ds_r = T*speed_r*CALIB\n",
    "    #compute displacement\n",
    "    ds = 0.5*(ds_r + ds_l)\n",
    "    d_theta = (ds_r - ds_l)/B\n",
    "    dx = ds*math.cos(p[2] + d_theta/2)\n",
    "    dy = - ds*math.sin(p[2] + d_theta/2)\n",
    "    dp = np.array([dx, dy, d_theta])\n",
    "    p = p + dp\n",
    "    # set robot angle to 0 deg if it has made one full turn\n",
    "    if math.fabs(p[2]) >= 2*math.pi:\n",
    "        p[2] = 0\n",
    "\n",
    "    ### standard deviation covarance matrix, see slide 21, lesson 6 of BMR\n",
    "    k = 2e-2\n",
    "    sigma_delta = np.array([[k*math.fabs(ds_r), 0                ], \n",
    "                            [0                , k*math.fabs(ds_l)]])\n",
    "    c = math.cos(p[2] + d_theta/2)\n",
    "    s = math.sin(p[2] + d_theta/2)\n",
    "    J = np.array([[(1 + ds_l)/2*c + (ds_r + ds_l)*(1 - ds_l)/4*s, (ds_r + 1)/2*c + (ds_r + ds_l)*(ds_r - 1)/4*s, 1, 0, 0], \n",
    "                  [(1 + ds_l)/2*s - (ds_r + ds_l)*(1 - ds_l)/4*c, (ds_r + 1)/2*s - (ds_r + ds_l)*(ds_r - 1)/4*c, 0, 1, 0], \n",
    "                  [(1 - ds_l)/2                                 , (ds_r - 1)/2                             , 0, 0, 1]])\n",
    "    Sigma = np.asarray(np.bmat([[sigma_p, Z], [np.transpose(Z), sigma_delta]]))\n",
    "    D = np.matmul(J, Sigma)\n",
    "    Sigma_prim = np.matmul(D, np.transpose(J))\n",
    "\n",
    "    return p, Sigma_prim, t"
   ]
  },
  {
   "cell_type": "markdown",
   "metadata": {},
   "source": [
    "### Odometry Test\n",
    "By executing the following code you can manually move the robot using the forward, right and left buttons.\n",
    "By pressing the center button "
   ]
  },
  {
   "cell_type": "code",
   "execution_count": 24,
   "metadata": {},
   "outputs": [
    {
     "data": {
      "image/png": "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\n",
      "text/plain": [
       "<Figure size 576x432 with 1 Axes>"
      ]
     },
     "metadata": {
      "needs_background": "light"
     },
     "output_type": "display_data"
    }
   ],
   "source": [
    "import os\n",
    "import sys\n",
    "import time\n",
    "import math\n",
    "import serial\n",
    "import numpy as np\n",
    "import matplotlib.pyplot as plt\n",
    "\n",
    "sys.path.insert(0, os.path.join(os.getcwd(), 'src'))\n",
    "\n",
    "from Thymio import Thymio\n",
    "from tqdm import tqdm\n",
    "\n",
    "#const definition\n",
    "SPEED = 200\n",
    "MAX_SPEED = 500\n",
    "\n",
    "#variables definition\n",
    "Ts = 0.1\n",
    "Tw = 0.05\n",
    "p = np.zeros(3)\n",
    "t = np.array([0,0], dtype = 'float64')\n",
    "Sigma_prim = np.zeros((3,3))\n",
    "\n",
    "trace_x = []\n",
    "trace_y = []\n",
    "\n",
    "\n",
    "while th[\"button.center\"] == 0:\n",
    "\n",
    "    p, Sigma_prim, t = odometry(p, Sigma_prim, t, MAX_SPEED)\n",
    "    \n",
    "    #store position\n",
    "    trace_x.append(p[0])\n",
    "    trace_y.append(-p[1])\n",
    "\n",
    "    if th[\"button.forward\"] == 1:\n",
    "        th.set_var(\"motor.left.target\", SPEED)\n",
    "        th.set_var(\"motor.right.target\", SPEED)\n",
    "    elif th[\"button.right\"] == 1:\n",
    "        th.set_var(\"motor.left.target\", SPEED)\n",
    "        th.set_var(\"motor.right.target\", 2**16-SPEED)\n",
    "    elif th[\"button.left\"] == 1:\n",
    "        th.set_var(\"motor.left.target\", 2**16-SPEED)\n",
    "        th.set_var(\"motor.right.target\", SPEED)\n",
    "    else:\n",
    "        th.set_var(\"motor.left.target\", 0)\n",
    "        th.set_var(\"motor.right.target\", 0)\n",
    "        \n",
    "plt.plot(trace_x, trace_y)\n",
    "plt.xlim(-10, 10)\n",
    "plt.ylim(-10, 10)\n",
    "plt.show()"
   ]
  },
  {
   "cell_type": "code",
   "execution_count": null,
   "metadata": {},
   "outputs": [],
   "source": []
  },
  {
   "cell_type": "code",
   "execution_count": null,
   "metadata": {},
   "outputs": [],
   "source": []
  }
 ],
 "metadata": {
  "hide_input": false,
  "kernelspec": {
   "display_name": "Python 3",
   "language": "python",
   "name": "python3"
  },
  "language_info": {
   "codemirror_mode": {
    "name": "ipython",
    "version": 3
   },
   "file_extension": ".py",
   "mimetype": "text/x-python",
   "name": "python",
   "nbconvert_exporter": "python",
   "pygments_lexer": "ipython3",
   "version": "3.8.6rc1"
  },
  "toc": {
   "base_numbering": 1,
   "nav_menu": {},
   "number_sections": true,
   "sideBar": true,
   "skip_h1_title": false,
   "title_cell": "Table of Contents",
   "title_sidebar": "Contents",
   "toc_cell": true,
   "toc_position": {},
   "toc_section_display": true,
   "toc_window_display": true
  },
  "varInspector": {
   "cols": {
    "lenName": 16,
    "lenType": 16,
    "lenVar": 40
   },
   "kernels_config": {
    "python": {
     "delete_cmd_postfix": "",
     "delete_cmd_prefix": "del ",
     "library": "var_list.py",
     "varRefreshCmd": "print(var_dic_list())"
    },
    "r": {
     "delete_cmd_postfix": ") ",
     "delete_cmd_prefix": "rm(",
     "library": "var_list.r",
     "varRefreshCmd": "cat(var_dic_list()) "
    }
   },
   "position": {
    "height": "497.208px",
    "left": "281.667px",
    "right": "20px",
    "top": "62px",
    "width": "749px"
   },
   "types_to_exclude": [
    "module",
    "function",
    "builtin_function_or_method",
    "instance",
    "_Feature"
   ],
   "window_display": false
  }
 },
 "nbformat": 4,
 "nbformat_minor": 2
}

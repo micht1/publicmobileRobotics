{
 "cells": [
  {
   "cell_type": "markdown",
   "metadata": {
    "toc": true
   },
   "source": [
    "<h1>Table of Contents<span class=\"tocSkip\"></span></h1>\n",
    "<div class=\"toc\"><ul class=\"toc-item\"><li><span><a href=\"#Imports\" data-toc-modified-id=\"Imports-1\"><span class=\"toc-item-num\">1&nbsp;&nbsp;</span>Imports</a></span></li><li><span><a href=\"#Define-the-state-machine\" data-toc-modified-id=\"Define-the-state-machine-2\"><span class=\"toc-item-num\">2&nbsp;&nbsp;</span>Define the state machine</a></span><ul class=\"toc-item\"><li><span><a href=\"#Define-the-data-structures\" data-toc-modified-id=\"Define-the-data-structures-2.1\"><span class=\"toc-item-num\">2.1&nbsp;&nbsp;</span>Define the data structures</a></span></li><li><span><a href=\"#Define-the-state-functions-and-the-state-machine-itself\" data-toc-modified-id=\"Define-the-state-functions-and-the-state-machine-itself-2.2\"><span class=\"toc-item-num\">2.2&nbsp;&nbsp;</span>Define the state functions and the state machine itself</a></span></li></ul></li><li><span><a href=\"#Program-execution\" data-toc-modified-id=\"Program-execution-3\"><span class=\"toc-item-num\">3&nbsp;&nbsp;</span>Program execution</a></span><ul class=\"toc-item\"><li><span><a href=\"#Adjusting-camera-position\" data-toc-modified-id=\"Adjusting-camera-position-3.1\"><span class=\"toc-item-num\">3.1&nbsp;&nbsp;</span>Adjusting camera position</a></span></li><li><span><a href=\"#Execute-Program\" data-toc-modified-id=\"Execute-Program-3.2\"><span class=\"toc-item-num\">3.2&nbsp;&nbsp;</span>Execute Program</a></span></li></ul></li></ul></div>"
   ]
  },
  {
   "cell_type": "markdown",
   "metadata": {},
   "source": [
    "### Imports\n",
    "All the imports necessary to run the program. This includes user defined files and library files."
   ]
  },
  {
   "cell_type": "code",
   "execution_count": 1,
   "metadata": {
    "ExecuteTime": {
     "end_time": "2020-08-29T12:52:42.121860Z",
     "start_time": "2020-08-29T12:52:42.112779Z"
    }
   },
   "outputs": [],
   "source": [
    "#!pip install pyserial\n",
    "#import standart libraries\n",
    "import os\n",
    "import sys\n",
    "import time\n",
    "import serial\n",
    "import numpy as np\n",
    "from numpy import linalg as LNG \n",
    "import math\n",
    "import cv2\n",
    "import matplotlib.pyplot as plt\n",
    "from matplotlib import colors\n",
    "from PIL import Image\n",
    "from skimage import exposure\n",
    "from timeit import default_timer as timer\n",
    "\n",
    "# Adding the src folder in the current directory as it contains the script\n",
    "# with the Thymio class and all the files with the group generated functions and classes\n",
    "sys.path.insert(0, os.path.join(os.getcwd(), 'src'))\n",
    "from Thymio import Thymio\n",
    "#import functions made by group\n",
    "from pathPlanning import pathPlaning\n",
    "import ANN\n",
    "import robot_control\n",
    "import Vision\n",
    "import sys\n",
    "\n",
    "from kalman_filter import kalman_filt"
   ]
  },
  {
   "cell_type": "markdown",
   "metadata": {},
   "source": [
    "### Define the state machine\n",
    "In this section the state machine shown earlier is realized in code. To achieve that, 2 data structures are needed, one that holds the names of the states and one that holds all the data needed to make the decisions and afterwards the state functions are defined."
   ]
  },
  {
   "cell_type": "markdown",
   "metadata": {},
   "source": [
    "#### Define the data structures\n",
    "The first data structure holds the state names used in the state machine. This is basically what in other languages is an enumeration or static variables. The second class is used to store data from the sensors and then only needing to hand over the object of this class, containing all the data needed to make decisions."
   ]
  },
  {
   "cell_type": "code",
   "execution_count": 2,
   "metadata": {},
   "outputs": [],
   "source": [
    "#class used to store the names of the states to be able to retrive the state functions from the dictionary \n",
    "#that serves as state machine\n",
    "class stateNames_t:\n",
    "    def __init__(self):\n",
    "        self.planAcquired='planAcquired'\n",
    "        self.newPath='newpath'\n",
    "        self.checkingPath='checkingPath'\n",
    "        self.underWay='underWay'\n",
    "        self.obstacleAvoidance='obstalceAvoidance'\n",
    "        self.goalReached='goalReached'\n",
    "#this class is used as data transfer between the data acqusition part, the decision making part and the control part.\n",
    "class FSMHelper:\n",
    "    def __init__(self,thymio,equalTolerance,wayPointDistance,pathplanner):\n",
    "        self.wasKidnapped=False\n",
    "        self.tolerance=equalTolerance\n",
    "        self.currentPosition=np.zeros((2,1))\n",
    "        self.pathPlanner=pathplanner\n",
    "        self.newPositionEstimate=0    \n",
    "        self.thymio=thymio      \n",
    "        self.obstacleDetected=False\n",
    "        self.doStop=False\n",
    "        self.goalReached=False\n",
    "        self.goal=np.zeros((2,1))\n",
    "        self.pathToFollow=np.array([[0],[0]])\n",
    "        self.FSMStates=stateNames_t()\n",
    "        self.straightenedImage=0\n",
    "        self.wayPointReachedDistance=wayPointDistance\n",
    "        self.followPath=False\n",
    "        "
   ]
  },
  {
   "cell_type": "markdown",
   "metadata": {},
   "source": [
    "#### Define the state functions and the state machine itself\n",
    "In this sections all the state functions are defined. Each function is called when the state it represents is entered. Each state function then returns the name of the next state, that should be entered. This makes it possible that the state machine is a dictionary with the state names as keys and the state functions as items. To make the state machine to its job, the item with the current state name has to be retrieved, the state function, and executed. The name given by the executed state function is then the next state and the same can be done again."
   ]
  },
  {
   "cell_type": "code",
   "execution_count": 3,
   "metadata": {},
   "outputs": [],
   "source": [
    "def planAcquired(robot):     #starting state, the map is generated and preprocessed to enable path generation\n",
    "    return robot.FSMStates.checkingPath      #go to check if a new path needs to be generated\n",
    "    \n",
    "def newPath(robot):#\n",
    "    robot.pathToFollow=robot.pathPlanner.getOptimizedPath()\n",
    "    print(\"path after Planner\",robot.pathToFollow)\n",
    "    return robot.FSMStates.checkingPath\n",
    "    \n",
    "def checkingPath(robot):\n",
    "    if(np.size(robot.pathToFollow)!=0):\n",
    "        robot.followPath=True\n",
    "        return robot.FSMStates.underWay\n",
    "    else:\n",
    "        robot.followPath=False\n",
    "        robot.doStop=True\n",
    "        return robot.FSMStates.goalReached\n",
    "    \n",
    "def underWay(robot):\n",
    "    if(robot.obstacleDetected==True):\n",
    "        robot.followPath=False\n",
    "        return robot.FSMStates.obstacleAvoidance\n",
    "    else:\n",
    "        return robot.FSMStates.planAcquired\n",
    "    \n",
    "def avoidObstacle(robot):     \n",
    "    ANN.run_ann_without_memory(robot.thymio)\n",
    "    return robot.FSMStates.checkingPath \n",
    "\n",
    "def goalReached(robot):\n",
    "    robot.goalReached=True\n",
    "    \n",
    "    \n",
    "#define the concrete stateName object to make the dictionary for the actual state machine\n",
    "stateName=stateNames_t()\n",
    "switch = {\n",
    "    stateName.planAcquired     : planAcquired,\n",
    "    stateName.newPath          : newPath,\n",
    "    stateName.checkingPath     : checkingPath,\n",
    "    stateName.underWay         : underWay,\n",
    "    stateName.obstacleAvoidance: avoidObstacle,\n",
    "    stateName.goalReached      : goalReached,\n",
    "}\n",
    "currentState=stateName.planAcquired\n",
    "futureState=stateName.planAcquired"
   ]
  },
  {
   "cell_type": "markdown",
   "metadata": {},
   "source": [
    "### Program execution"
   ]
  },
  {
   "cell_type": "markdown",
   "metadata": {},
   "source": [
    "Now that the data structures needed to run the state machine and the state machine itself is defined in code, the program can be executed."
   ]
  },
  {
   "cell_type": "markdown",
   "metadata": {},
   "source": [
    "#### Adjusting camera position\n",
    "<img src=\"documentation\\ImagesForDocumentation/exampleMap.jpg\"\n",
    "     alt=\"Example Picture of camera view\"\n",
    "     style=\"float: left; margin-right: 5px;width: 500px;\" />\n",
    "The camera should see an image similar to the one shown here. All 4 red corner markers should be visible, the map should also fill out most of the image of the camera. It is also necessary that the colors are well visible and that the picture is not too bright. To help with this adjustment execute the code in the next cell. The exposure setting of the camera can be adjusted, with the presses of \"w\" and \"s\". Just don't press to fast. The values are printed."
   ]
  },
  {
   "cell_type": "code",
   "execution_count": 4,
   "metadata": {},
   "outputs": [],
   "source": [
    "cameraIndex=1             #index 1 is the index of the specific machine used. it is highly likly that it is on other machines aswell\n",
    "cv2.namedWindow(\"preview\")\n",
    "exposureOfCamera=-2.1\n",
    "videoCapture = cv2.VideoCapture(cameraIndex)\n",
    "if not(videoCapture.isOpened()):\n",
    "    raise Exception('could not connect to camera')\n",
    "videoCapture = cv2.VideoCapture(cameraIndex)\n",
    "exposureOfCamera=-2.1          #initial exposure\n",
    "videoCapture.set(cv2.CAP_PROP_EXPOSURE,exposureOfCamera)\n",
    "videoCapture.set(cv2.CAP_PROP_SATURATION ,120)\n",
    "\n",
    "if not(videoCapture.isOpened()):\n",
    "    raise Exception('could not connect to camera')\n",
    "\n",
    "if videoCapture.isOpened(): # try to get the first frame\n",
    "    rval, frame = videoCapture.read()\n",
    "else:\n",
    "    rval = False\n",
    "    raise Exception('could not connect to camera')\n",
    "while rval:\n",
    "    cv2.imshow(\"preview\", frame)\n",
    "    rval, frame = videoCapture.read()\n",
    "    key = cv2.waitKey(20)\n",
    "    if key == 27: # exit on ESC\n",
    "        break\n",
    "    elif(key== ord('w')):\n",
    "        exposureOfCamera=exposureOfCamera+0.1\n",
    "        print (videoCapture.set(cv2.CAP_PROP_EXPOSURE,exposureOfCamera),exposureOfCamera)\n",
    "    elif(key== ord('s')):    \n",
    "        exposureOfCamera=exposureOfCamera-0.1\n",
    "        print (videoCapture.set(cv2.CAP_PROP_EXPOSURE,exposureOfCamera),exposureOfCamera)\n",
    "cv2.destroyWindow(\"preview\")\n",
    "cv2.destroyAllWindows()\n",
    "cv2.VideoCapture(cameraIndex).release()"
   ]
  },
  {
   "cell_type": "code",
   "execution_count": null,
   "metadata": {
    "scrolled": true
   },
   "outputs": [],
   "source": [
    "\n",
    "    "
   ]
  },
  {
   "cell_type": "markdown",
   "metadata": {},
   "source": [
    "#### Execute Program\n",
    "In this section the main control loop and the initialization can be executed. Connecting to the thymio should only be executed once."
   ]
  },
  {
   "cell_type": "code",
   "execution_count": 5,
   "metadata": {},
   "outputs": [],
   "source": [
    "th=Thymio.serial(port=\"COM6\", refreshing_rate=0.1)"
   ]
  },
  {
   "cell_type": "markdown",
   "metadata": {},
   "source": [
    "If the next cell is executed the thymio will begin moving after a certain amount of time. This waiting time is because of the map generation"
   ]
  },
  {
   "cell_type": "code",
   "execution_count": 6,
   "metadata": {},
   "outputs": [
    {
     "name": "stdout",
     "output_type": "stream",
     "text": [
      "Endpoint Coordinates:  (104.96265972187071, 10.27041700063182)\n"
     ]
    },
    {
     "data": {
      "image/png": "[encoded data removed]",
      "text/plain": [
       "<Figure size 432x288 with 1 Axes>"
      ]
     },
     "metadata": {
      "needs_background": "light"
     },
     "output_type": "display_data"
    },
    {
     "data": {
      "image/png": "[encoded data removed]",
      "text/plain": [
       "<Figure size 432x288 with 1 Axes>"
      ]
     },
     "metadata": {
      "needs_background": "light"
     },
     "output_type": "display_data"
    },
    {
     "name": "stdout",
     "output_type": "stream",
     "text": [
      "---------------------------------------------------------WAYPOINT REACHED\n",
      "---------------------------------------------------------WAYPOINT REACHED\n",
      "---------------------------------------------------------WAYPOINT REACHED\n",
      "---------------------------------------------------------WAYPOINT REACHED\n",
      "---------------------------------------------------------WAYPOINT REACHED\n",
      "---------------------------------------------------------WAYPOINT REACHED\n",
      "---------------------------------------------------------WAYPOINT REACHED\n",
      "GOAL REACHED\n"
     ]
    }
   ],
   "source": [
    "#########if exposure was adjusted fill in the value printted into the console into this variable instead of the -2.1\n",
    "exposureOfCamera=-2.1\n",
    "#------- turn off all leds that can be controlled\n",
    "th.set_var_array(\"leds.top\", [0, 0, 0])\n",
    "th.set_var_array(\"leds.bottom.right\", [0, 0, 0])\n",
    "th.set_var_array(\"leds.bottom.left\", [0, 0, 0])\n",
    "demonstrationSize=4        #how many times the size of 118 by 84 the picture should be presented\n",
    "\n",
    "#------ start camera\n",
    "cameraIndex=1             #index 1 is the index of the specific machine used. it is highly likly that it is on other machines aswell\n",
    "videoCapture = cv2.VideoCapture(cameraIndex)\n",
    "#-------set exposure to have a bright enough picture\n",
    "videoCapture.set(cv2.CAP_PROP_EXPOSURE,exposureOfCamera)\n",
    "if videoCapture.isOpened(): # try to get the first frame\n",
    "    rval, frame = videoCapture.read()\n",
    "else:\n",
    "    rval = False\n",
    "    raise Exception('could not read image!')\n",
    "\n",
    "mask= cv2.imread('Images/cornerMask.JPG')           #read corner mask\n",
    "if mask.size==0:\n",
    "    raise Exception('Could not open Mask')\n",
    "    \n",
    "dimension_paper = [118.9,84.1] #cm A0\n",
    "dim = (int(dimension_paper[1]),int(dimension_paper[0]))\n",
    "# Switching red and blue channels\n",
    "frame[:, :, [0, 2]] = frame[:, :, [2, 0]]\n",
    "mask[:, :, [0, 2]] = mask[:, :, [2, 0]]\n",
    "\n",
    "#preprocess image data to facilitate map generation and thymio position accusition\n",
    "p2_1, p98_1 = np.percentile(frame, (2, 98))\n",
    "img_res1 = exposure.rescale_intensity(frame, in_range=(p2_1,p98_1))\n",
    "img1_gray = cv2.cvtColor(img_res1, cv2.COLOR_BGR2GRAY)\n",
    "threshold_bg=130\n",
    "#------generate map from camera\n",
    "percent = 0.9\n",
    "while True:\n",
    "        output = Vision.bg_clustering(img1_gray, (50,50),threshold_bg)\n",
    "        corner_location = Vision.corner_detection(output,mask) # Get the location of the 4 corners\n",
    "        img_straighten, M = Vision.four_point_transform(frame, corner_location) # Get the transformation matrix and the straighten img\n",
    "        if(img_straighten.shape[0] > output.shape[0]*percent and img_straighten.shape[1] > output.shape[1]*percent):\n",
    "            break\n",
    "        else:\n",
    "            rval, frame = videoCapture.read()\n",
    "            frame[:, :, [0, 2]] = frame[:, :, [2, 0]]\n",
    "            \n",
    "\n",
    "im_dim = img_straighten.shape\n",
    "obstacles = Vision.get_obstacles(img_straighten) \n",
    "thymio_coord = Vision.get_thymio_info(frame,M,dim,im_dim) \n",
    "endpoint_coord = Vision.get_endpoint_info(frame,M,dim,im_dim)\n",
    "low_res_img = cv2.resize(img_straighten, dsize=((dim[1], dim[0])))\n",
    "\n",
    "#---------make occupancy grid from map\n",
    "occupancyGrid=cv2.resize(obstacles, dsize=((dim[1], dim[0])))\n",
    "occupancyGrid=occupancyGrid>200\n",
    "plt.imshow(occupancyGrid)\n",
    "plt.show()\n",
    "occupancyGrid=occupancyGrid.astype(float)\n",
    "kernel2 = np.ones((7,7), np.uint8)\n",
    "occupancyGrid = cv2.dilate(occupancyGrid, kernel2, iterations=2)\n",
    "\n",
    "pathPlanner=pathPlaning(occupancyGrid.copy(),1,1)\n",
    "\n",
    "#give over the thymio connection and the tolerance for equality to 1e-6, the distance when it is considered way point reached\n",
    "#and the path planner to use\n",
    "robotStatus=FSMHelper(th,1e-6,0.5,pathPlanner)\n",
    "robot_control.th=th      #give pathfollower the connection to the thymio\n",
    "#---------start planning\n",
    "robotStatus.pathPlanner.setGoal(np.asarray(endpoint_coord))\n",
    "robotStatus.currentPosition=np.array([(thymio_coord[0][0]),(thymio_coord[0][1]),(thymio_coord[1])/180*np.pi])\n",
    "robotStatus.pathPlanner.setStart(robotStatus.currentPosition[0:2])\n",
    "robotStatus.pathToFollow=robotStatus.pathPlanner.getOptimizedPath()\n",
    "estimatedRobotPose=robotStatus.currentPosition\n",
    "\n",
    "#show path on image\n",
    "originalPath=robotStatus.pathToFollow.copy() \n",
    "plt.imshow(low_res_img)\n",
    "plt.scatter(thymio_coord[0][0],thymio_coord[0][1])\n",
    "plt.plot(originalPath[0],originalPath[1])\n",
    "plt.show()\n",
    "#-------------path planning and map generation complete\n",
    "%matplotlib qt\n",
    "\n",
    "#constant kalman matrixes\n",
    "A = np.array([[1,0,0],[0,1,0],[0,0,1]])\n",
    "C = np.array([[1,0,0],[0,1,0],[0,0,1]])\n",
    "Q = np.array([[0.1, 0, 0],[0, 0.1, 0],[0,0,0.1]]) # Dependent on the error (can be linked to stated as velocity, but velocity is not taken as state. )\n",
    "R = np.array([[0.1, 0, 0],[0, 0.1, 0],[0,0,0.1]])\n",
    "Q_ini = Q\n",
    "X = np.array([[estimatedRobotPose[0]],[estimatedRobotPose[1]],[estimatedRobotPose[2]]], dtype = \"float32\")\n",
    "L = []\n",
    "\n",
    "timeElapsed=np.array([0,0], dtype = 'float64')\n",
    "\n",
    "robotPositionUncertainty=np.zeros((3,3))         #variable to store the accuracy estimate from odmotry\n",
    "\n",
    "currentState=stateName.planAcquired              #initialize state event\n",
    "futureState=stateName.planAcquired\n",
    "originalPath=robotStatus.pathToFollow.copy()    #store path before loop, loop removes waypoint from non original path\n",
    "doPlotCounter=0                               #variable used to show the image taken of the camera after 10 loop executions\n",
    "deltaT=0.0                                   # variable used to store the time needed to execute the loop once\n",
    "tbefore=time.time()                          #deltaT helpers\n",
    "tnow=0                                       #deltaT helpers\n",
    "\n",
    "#lists to record data to be able to plot that later on\n",
    "unfilteredCameraCoordinates=list()\n",
    "unfilteredOdometrieCoordinates=list()\n",
    "afterKalmanCoordinates=list()\n",
    "\n",
    "cutOfDistance=5                 #distance in where successive camera measurments have to be to the last one to be considered stable\n",
    "cameraDataStableCounter=0       #counter to count how many camera measurments where stable in a row\n",
    "cameraEstimate=robotStatus.currentPosition    #used to store current camera position estimate\n",
    "newPositionEstimate=robotStatus.currentPosition\n",
    "cameraData=True             #flag used to store whether the camera can see the position of the thymio\n",
    "numberOfStableMeasurments=10    # minimum of measurments after one measument was unstable to be considered stable again\n",
    "while(True):         #main execution loop\n",
    "    ##---------------------------------------------read sensors  \n",
    "    \n",
    "    #----get robot position from camera\n",
    "    [frameCaptureSuccesfull,newPicture]=videoCapture.read()\n",
    "    if(frameCaptureSuccesfull==False):\n",
    "        raise Exception('could not read from camera')\n",
    "    newPicture[:, :, [0, 2]] = newPicture[:, :, [2, 0]]\n",
    "    thymio_coord = Vision.get_thymio_info(newPicture,M,dim,im_dim) # Do these online, and feed info to kalman filter\n",
    "    \n",
    "    if(thymio_coord[0][0]<0 or thymio_coord[0][1]<0 ):\n",
    "        cameraData=False\n",
    "    else:\n",
    "        cameraData=True\n",
    "    #------------------------------Removal of unstable camera data\n",
    "    \n",
    "    if(cameraData==True):       #if camera communicates it sees the thymio check if position is stable\n",
    "        newCameraEstimate=np.array([thymio_coord[0][0],thymio_coord[0][1],thymio_coord[1]/180.0*np.pi])\n",
    "        unfilteredCameraCoordinates.append((cameraEstimate[0],cameraEstimate[1]))\n",
    "        \n",
    "        if(LNG.norm(newCameraEstimate[0:2]-cameraEstimate[0:2])<cutOfDistance):\n",
    "            cameraDataStableCounter=cameraDataStableCounter+1\n",
    "                       \n",
    "        else:\n",
    "            cameraDataStableCounter=0\n",
    "        cameraEstimate=newCameraEstimate\n",
    "   \n",
    "    #---------get odometrie data\n",
    "    estimatedRobotPose,robotPositionUncertainty,timeElapsed=robot_control.odometry(robotStatus.currentPosition,robotPositionUncertainty,timeElapsed, robot_control.MAX_SPEED)\n",
    "    unfilteredOdometrieCoordinates.append((estimatedRobotPose[0],estimatedRobotPose[1]))\n",
    "    \n",
    "    \n",
    "    if(cameraData==True and (LNG.norm(estimatedRobotPose[0:2]-cameraEstimate[0:2])<cutOfDistance or cameraDataStableCounter>numberOfStableMeasurments)):\n",
    "        newPositionEstimate=cameraEstimate\n",
    "    else:\n",
    "        newPositionEstimate=estimatedRobotPose\n",
    "\n",
    "   \n",
    "    #------------filtering\n",
    "    V_left=th[\"motor.left.speed\"]*0.0135\n",
    "    V_right=th[\"motor.right.speed\"]*0.0135\n",
    "    v_avg = (V_left + V_right)/2\n",
    "    v_delta = V_right-V_left\n",
    "\n",
    "    tnow=time.time()\n",
    "    deltaT=tnow-tbefore\n",
    "    tbefore=tnow\n",
    "\n",
    "    #kalman matrixes\n",
    "    B = np.array([[(math.cos(newPositionEstimate[2])),0.], [(math.sin(newPositionEstimate[2])), 0.], [0.,math.atan(v_delta*deltaT/9.5)]])\n",
    "    Z = np.array([[newPositionEstimate[0]],[newPositionEstimate[1]],[newPositionEstimate[2]]], dtype = \"float32\")\n",
    "    u = np.array([[v_avg*deltaT],[1]])  \n",
    "    X=np.array([[robotStatus.currentPosition[0]],[robotStatus.currentPosition[1]],[robotStatus.currentPosition[2]]])\n",
    "    thymio_position,cov = kalman_filt(X,u,Q_ini,Z,A,B,C,Q,R)\n",
    "    Q_ini = cov\n",
    "    robotStatus.currentPosition=newPositionEstimate\n",
    "    afterKalmanCoordinates.append((robotStatus.currentPosition[0],robotStatus.currentPosition[1]))\n",
    "                                       \n",
    "                                       \n",
    "    #------------check if unexcpected obstacle is present\n",
    "    robotStatus.obstacleDetected=not(all(sensorValues==0 for sensorValues in robotStatus.thymio[\"prox.horizontal\"]))\n",
    "   \n",
    "    #------------------------------make desicions and work with the collected data \n",
    "    \n",
    "    \n",
    "    \n",
    "    stateToExecute=switch.get(currentState)\n",
    "\n",
    "    futureState=stateToExecute(robotStatus)\n",
    "    \n",
    "    #--------------------------------controll the robot\n",
    "    \n",
    "    #stopping robot if goal reached end programm\n",
    "    if(robotStatus.followPath==True and np.size(robotStatus.pathToFollow)!=0):\n",
    "        _,robotStatus.pathToFollow=robot_control.path_following(robotStatus.currentPosition,robotStatus.pathToFollow)\n",
    "    if(robotStatus.doStop==True):\n",
    "        robotStatus.thymio.set_var(\"motor.left.target\", 0)\n",
    "        robotStatus.thymio.set_var(\"motor.right.target\", 0)\n",
    "    if(robotStatus.goalReached==True):\n",
    "        robotStatus.thymio.set_var(\"motor.left.target\", 0)\n",
    "        robotStatus.thymio.set_var(\"motor.right.target\", 0)\n",
    "        break\n",
    "    currentState=futureState\n",
    "    doPlotCounter=doPlotCounter+1\n",
    "    \n",
    "    \n",
    "    \n",
    "    #----------------------------------do live plotting\n",
    "    if(doPlotCounter>10 or robotStatus.goalReached==True):\n",
    "        \n",
    "        doPlotCounter=0\n",
    "        low_res_img = cv2.resize(newPicture, dsize=((int(dim[1]*demonstrationSize), int(dim[0]*demonstrationSize))))\n",
    "        low_res_img[:, :, [0, 2]] = low_res_img[:, :, [2, 0]]\n",
    "        low_res_img = cv2.circle(low_res_img, (int(robotStatus.currentPosition[0]*demonstrationSize),int(robotStatus.currentPosition[1]*demonstrationSize)), radius=2, color=(0, 0, 255), thickness=-1)\n",
    "        low_res_img = cv2.circle(low_res_img, (int(cameraEstimate[0]*demonstrationSize),int(cameraEstimate[1]*demonstrationSize)), radius=10, color=(0, 255, 0), thickness=2)\n",
    "        low_res_img = cv2.circle(low_res_img, (int(estimatedRobotPose[0]*demonstrationSize),int(estimatedRobotPose[1]*demonstrationSize)), radius=8, color=(255, 0, 0), thickness=2)\n",
    "        \n",
    "        cv2.imshow(\"Display window\",low_res_img)\n",
    "        cv2.waitKey(1)\n",
    "            \n",
    "\n",
    "#-----------------------------------plot collected data\n",
    "unfilteredOdometrieCoordinates=np.array(unfilteredOdometrieCoordinates).reshape(-1, 2).transpose()\n",
    "afterKalmanCoordinates=np.array(afterKalmanCoordinates).reshape(-1, 2).transpose()\n",
    "unfilteredCameraCoordinates=np.array(unfilteredCameraCoordinates).reshape(-1, 2).transpose()\n",
    "plt.scatter(unfilteredCameraCoordinates[0]*demonstrationSize,unfilteredCameraCoordinates[1]*demonstrationSize,label=\"unfiltered camera\")\n",
    "plt.scatter(unfilteredOdometrieCoordinates[0]*demonstrationSize,unfilteredOdometrieCoordinates[1]*demonstrationSize,label=\"unfiltered odometrie\")                                   \n",
    "plt.plot(afterKalmanCoordinates[0]*demonstrationSize,afterKalmanCoordinates[1]*demonstrationSize,label=\"after Filtring\")\n",
    "plt.imshow(low_res_img)\n",
    "plt.legend()\n",
    "plt.show()\n",
    "cv2.waitKey(0)\n",
    "cv2.destroyAllWindows() \n",
    "cv2.VideoCapture(cameraIndex).release()"
   ]
  },
  {
   "cell_type": "code",
   "execution_count": null,
   "metadata": {},
   "outputs": [],
   "source": []
  }
 ],
 "metadata": {
  "hide_input": false,
  "kernelspec": {
   "display_name": "Python 3",
   "language": "python",
   "name": "python3"
  },
  "language_info": {
   "codemirror_mode": {
    "name": "ipython",
    "version": 3
   },
   "file_extension": ".py",
   "mimetype": "text/x-python",
   "name": "python",
   "nbconvert_exporter": "python",
   "pygments_lexer": "ipython3",
   "version": "3.8.3"
  },
  "toc": {
   "base_numbering": 1,
   "nav_menu": {},
   "number_sections": true,
   "sideBar": true,
   "skip_h1_title": false,
   "title_cell": "Table of Contents",
   "title_sidebar": "Contents",
   "toc_cell": true,
   "toc_position": {},
   "toc_section_display": true,
   "toc_window_display": true
  },
  "varInspector": {
   "cols": {
    "lenName": 16,
    "lenType": 16,
    "lenVar": 40
   },
   "kernels_config": {
    "python": {
     "delete_cmd_postfix": "",
     "delete_cmd_prefix": "del ",
     "library": "var_list.py",
     "varRefreshCmd": "print(var_dic_list())"
    },
    "r": {
     "delete_cmd_postfix": ") ",
     "delete_cmd_prefix": "rm(",
     "library": "var_list.r",
     "varRefreshCmd": "cat(var_dic_list()) "
    }
   },
   "position": {
    "height": "497.208px",
    "left": "281.667px",
    "right": "20px",
    "top": "62px",
    "width": "749px"
   },
   "types_to_exclude": [
    "module",
    "function",
    "builtin_function_or_method",
    "instance",
    "_Feature"
   ],
   "window_display": false
  }
 },
 "nbformat": 4,
 "nbformat_minor": 2
}

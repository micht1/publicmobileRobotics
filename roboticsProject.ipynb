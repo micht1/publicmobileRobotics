{
 "cells": [
  {
   "cell_type": "markdown",
   "metadata": {
    "toc": true
   },
   "source": [
    "<h1>Table of Contents<span class=\"tocSkip\"></span></h1>\n",
    "<div class=\"toc\"><ul class=\"toc-item\"><li><span><a href=\"#Thymio-Project\" data-toc-modified-id=\"Thymio-Project-1\"><span class=\"toc-item-num\">1&nbsp;&nbsp;</span>Thymio Project</a></span></li><li><span><a href=\"#Complete-Program\" data-toc-modified-id=\"Complete-Program-2\"><span class=\"toc-item-num\">2&nbsp;&nbsp;</span>Complete Program</a></span><ul class=\"toc-item\"><li><span><a href=\"#Thymio-preparation\" data-toc-modified-id=\"Thymio-preparation-2.1\"><span class=\"toc-item-num\">2.1&nbsp;&nbsp;</span>Thymio preparation</a></span></li><li><span><a href=\"#Main-program-description\" data-toc-modified-id=\"Main-program-description-2.2\"><span class=\"toc-item-num\">2.2&nbsp;&nbsp;</span>Main program description</a></span><ul class=\"toc-item\"><li><span><a href=\"#Initialization-and-decision-making\" data-toc-modified-id=\"Initialization-and-decision-making-2.2.1\"><span class=\"toc-item-num\">2.2.1&nbsp;&nbsp;</span>Initialization and decision making</a></span></li><li><span><a href=\"#Data-acquisition\" data-toc-modified-id=\"Data-acquisition-2.2.2\"><span class=\"toc-item-num\">2.2.2&nbsp;&nbsp;</span>Data acquisition</a></span></li><li><span><a href=\"#Control\" data-toc-modified-id=\"Control-2.2.3\"><span class=\"toc-item-num\">2.2.3&nbsp;&nbsp;</span>Control</a></span></li></ul></li><li><span><a href=\"#Complete-program-execution\" data-toc-modified-id=\"Complete-program-execution-2.3\"><span class=\"toc-item-num\">2.3&nbsp;&nbsp;</span>Complete program execution</a></span><ul class=\"toc-item\"><li><span><a href=\"#Imports\" data-toc-modified-id=\"Imports-2.3.1\"><span class=\"toc-item-num\">2.3.1&nbsp;&nbsp;</span>Imports</a></span></li><li><span><a href=\"#Define-the-state-machine\" data-toc-modified-id=\"Define-the-state-machine-2.3.2\"><span class=\"toc-item-num\">2.3.2&nbsp;&nbsp;</span>Define the state machine</a></span><ul class=\"toc-item\"><li><span><a href=\"#Define-the-data-structures\" data-toc-modified-id=\"Define-the-data-structures-2.3.2.1\"><span class=\"toc-item-num\">2.3.2.1&nbsp;&nbsp;</span>Define the data structures</a></span></li><li><span><a href=\"#Define-the-state-functions-and-the-state-machine-itself\" data-toc-modified-id=\"Define-the-state-functions-and-the-state-machine-itself-2.3.2.2\"><span class=\"toc-item-num\">2.3.2.2&nbsp;&nbsp;</span>Define the state functions and the state machine itself</a></span></li></ul></li><li><span><a href=\"#Program-execution\" data-toc-modified-id=\"Program-execution-2.3.3\"><span class=\"toc-item-num\">2.3.3&nbsp;&nbsp;</span>Program execution</a></span><ul class=\"toc-item\"><li><span><a href=\"#Adjusting-camera-position\" data-toc-modified-id=\"Adjusting-camera-position-2.3.3.1\"><span class=\"toc-item-num\">2.3.3.1&nbsp;&nbsp;</span>Adjusting camera position</a></span></li><li><span><a href=\"#Execute-Program\" data-toc-modified-id=\"Execute-Program-2.3.3.2\"><span class=\"toc-item-num\">2.3.3.2&nbsp;&nbsp;</span>Execute Program</a></span></li></ul></li></ul></li></ul></li><li><span><a href=\"#........\" data-toc-modified-id=\"........-3\"><span class=\"toc-item-num\">3&nbsp;&nbsp;</span>........</a></span></li><li><span><a href=\"#Path-planning\" data-toc-modified-id=\"Path-planning-4\"><span class=\"toc-item-num\">4&nbsp;&nbsp;</span>Path planning</a></span><ul class=\"toc-item\"><li><span><a href=\"#Initialise-path-planner\" data-toc-modified-id=\"Initialise-path-planner-4.1\"><span class=\"toc-item-num\">4.1&nbsp;&nbsp;</span>Initialise path planner</a></span></li><li><span><a href=\"#Planning-phase\" data-toc-modified-id=\"Planning-phase-4.2\"><span class=\"toc-item-num\">4.2&nbsp;&nbsp;</span>Planning phase</a></span></li><li><span><a href=\"#Query-Phase\" data-toc-modified-id=\"Query-Phase-4.3\"><span class=\"toc-item-num\">4.3&nbsp;&nbsp;</span>Query Phase</a></span></li><li><span><a href=\"#Getting-the-path\" data-toc-modified-id=\"Getting-the-path-4.4\"><span class=\"toc-item-num\">4.4&nbsp;&nbsp;</span>Getting the path</a></span></li><li><span><a href=\"#complete-pathplanning-demonstration\" data-toc-modified-id=\"complete-pathplanning-demonstration-4.5\"><span class=\"toc-item-num\">4.5&nbsp;&nbsp;</span>complete pathplanning demonstration</a></span></li></ul></li></ul></div>"
   ]
  },
  {
   "cell_type": "markdown",
   "metadata": {},
   "source": [
    "# Thymio Project\n",
    "\n",
    "\n",
    "\n",
    "\n",
    "\n"
   ]
  },
  {
   "cell_type": "code",
   "execution_count": null,
   "metadata": {
    "ExecuteTime": {
     "end_time": "2020-08-29T12:34:35.886396Z",
     "start_time": "2020-08-29T12:34:34.933996Z"
    }
   },
   "outputs": [],
   "source": [
    "pip install pyserial"
   ]
  },
  {
   "cell_type": "markdown",
   "metadata": {},
   "source": [
    "\n"
   ]
  },
  {
   "cell_type": "markdown",
   "metadata": {},
   "source": []
  },
  {
   "cell_type": "code",
   "execution_count": null,
   "metadata": {},
   "outputs": [],
   "source": []
  },
  {
   "cell_type": "code",
   "execution_count": null,
   "metadata": {},
   "outputs": [],
   "source": []
  },
  {
   "cell_type": "code",
   "execution_count": null,
   "metadata": {},
   "outputs": [],
   "source": []
  },
  {
   "cell_type": "markdown",
   "metadata": {},
   "source": [
    "# Complete Program\n"
   ]
  },
  {
   "cell_type": "markdown",
   "metadata": {},
   "source": [
    "In this section  the main execution of the program is presented and available to be executed with a thymio that is properly prepared. \n",
    "## Thymio preparation\n",
    "The thymio should have 2 blue dots on it. 1 big, where the wheels are and 1 smaller on the front part. Those dots should be on a light blocking paper which is then mounted on the thymio. Furthermore there are some lights that can't be turned off. These should also be covered as well as possible.\n",
    "\n",
    "\n",
    "<img src=\"documentation/ImagesForDocumentation/thymioTop.jpg\"\n",
    "     alt=\"Thymio Preparation 1\"\n",
    "     style=\"float: left; margin-right: 10px;width: 300px;\" />\n",
    "\n",
    "<img src=\"documentation/ImagesForDocumentation/thymioBottom.jpg\"\n",
    "     alt=\"Thymio Preparation 2\"\n",
    "     style=\"float: left; margin-right: 10px;width: 200px;\" />\n",
    "\n",
    "\n",
    "\n",
    "<img src=\"documentation/ImagesForDocumentation/thymioBehind.jpg\"\n",
    "     alt=\"Thymio Preparation 3\"\n",
    "     style=\"float: left; margin-right: 10px;width: 300px;\" />\n",
    "Left most Image shows the top and side cover points\n",
    "Middle Image shows the bottom spots to cover\n",
    "RIght most Image shows the behind spots to cover\n",
    "\n",
    "If all these spots are covered it wont confuse the vision system."
   ]
  },
  {
   "cell_type": "markdown",
   "metadata": {},
   "source": [
    "## Main program description\n",
    "The main program consists out of four parts. The first one is the initialization, in this part the different Connections are made, like the one to the camera and the thymio. It also generates the map and the path.The second Part Data acquisition takes data  from the different senors present. These are the camera, the horizontal facing infrared distance sensors and the internal speed measurement. These are then processed into the position and orientation of the robot and preprocessed to be able to make decisions in the second part. The second part is the state machine that takes the preprocessed data from the sensor part and decides whether it should follow a the path or if it should avoid path, and so on. The fourth part takes the decisions of the the second part and controls the robot with them and the data of the first part."
   ]
  },
  {
   "cell_type": "markdown",
   "metadata": {},
   "source": [
    "### Initialization and decision making\n",
    "<img src=\"documentation/stateEventRobotics.jpg\"\n",
    "     alt=\"Robotics statemachine\"\n",
    "     style=\"float: left; margin-right: 5px;width: 700px;\" />\n",
    "To initialize everything properly, first the connection to the camera is established, when this fails everything else will also not work and it is necessary to setup the camera correctly. To facilitate this at the beginning the images captured by the camera are shown at the beginning. Then the connection to the thymio is made, also a very important component. If the connection was successful too, then everything can proceed to generate the map. For that the camera is used to capture the map and generate an occupancy grid. Then the path is planned by the path planner from the current thymio location to the goal. After that the main loop begins which is divided into 3 parts. The decision making part is manly the implementation of the state machine shown to the left without the Initialization part.\n",
    "This means that the robot follows the path as long as it has not reached the goal or encounters a obstacle. If an obstacle is encountered the Obstacle avoidance is triggered and it is avoided until no obstacle is detected anymore. Then the robot proceeds to the same way point that he tried to steer to before. This happens until the goal is reached. If the thymio reaches the goal it stops."
   ]
  },
  {
   "cell_type": "markdown",
   "metadata": {},
   "source": [
    "### Data acquisition\n",
    "The data from the different sensors is first processed before it is send into the control and the decision making part.\n",
    "This means the position data from the camera is filtered with a kalman filter in combination with the odometry from the speed readings. This only happens when the position estimate from the camera is not unstable and jumping around. When this happens the data from the camera is ignored until it has stabilized. If the position estimate from the camera has stabilized again, it is then used again. This is necessary because sometimes the position reading from the camera jumps around. This in theory also enables the detection of kidnapping, but that is not implemented. Beside checking if the position given by the camera is stable, it is also check whether or not the thymio can be see by the camera. If this is not the case the robot relies on the odometry alone. Beside the data from the camera and the odometry the horizontal infrared distance sensors are also checks whether or not they see an obstacle. If they do, a flag is set to tell the state machine this fact."
   ]
  },
  {
   "cell_type": "markdown",
   "metadata": {},
   "source": [
    "### Control\n",
    "In the control section of the main loop the path follower follows the path generated by the path planner. This path consists out of way points the robot has to reach. For that the path follower compares the current position of the thymio with the next way point, not the closest but the next in the list, even though they are save in an array, and then drives the robot towards it. If the goal is reached the robot then stops. If the decision making state machine says to stop the robot also stops. One would think that the obstacle avoidance is also located here. That is not the case becuase of the way it is coded. The obstacle avoidance is a function that stays inside itself until the obstacle is avoided. This means the obstacle avoidance is performed inside the state machine."
   ]
  },
  {
   "cell_type": "markdown",
   "metadata": {},
   "source": [
    "## Complete program execution\n",
    "In this section one can execute the different cells one after the other to get the behavior described before. If they are not all executed in order then it wont work."
   ]
  },
  {
   "cell_type": "markdown",
   "metadata": {},
   "source": [
    "### Imports\n",
    "All the imports necessary to run the program. This includes user defined files and library files."
   ]
  },
  {
   "cell_type": "code",
   "execution_count": 1,
   "metadata": {
    "ExecuteTime": {
     "end_time": "2020-08-29T12:52:42.121860Z",
     "start_time": "2020-08-29T12:52:42.112779Z"
    }
   },
   "outputs": [],
   "source": [
    "#import standart libraries\n",
    "import os\n",
    "import sys\n",
    "import time\n",
    "import serial\n",
    "import numpy as np\n",
    "from numpy import linalg as LNG \n",
    "import math\n",
    "import cv2\n",
    "import matplotlib.pyplot as plt\n",
    "from matplotlib import colors\n",
    "from PIL import Image\n",
    "from skimage import exposure\n",
    "from timeit import default_timer as timer\n",
    "\n",
    "# Adding the src folder in the current directory as it contains the script\n",
    "# with the Thymio class and all the files with the group generated functions and classes\n",
    "sys.path.insert(0, os.path.join(os.getcwd(), 'src'))\n",
    "from Thymio import Thymio\n",
    "#import functions made by group\n",
    "from pathPlanning import pathPlaning\n",
    "import ANN\n",
    "import robot_control\n",
    "import Vision\n",
    "import sys\n",
    "\n",
    "from kalman_filter import kalman_filt"
   ]
  },
  {
   "cell_type": "markdown",
   "metadata": {},
   "source": [
    "### Define the state machine\n",
    "In this section the state machine shown earlier is realized in code. To achieve that, 2 data structures are needed, one that holds the names of the states and one that holds all the data needed to make the decisions and afterwards the state functions are defined."
   ]
  },
  {
   "cell_type": "markdown",
   "metadata": {},
   "source": [
    "#### Define the data structures\n",
    "The first data structure holds the state names used in the state machine. This is basically what in other languages is an enumeration or static variables. The second class is used to store data from the sensors and then only needing to hand over the object of this class, containing all the data needed to make decisions."
   ]
  },
  {
   "cell_type": "code",
   "execution_count": 2,
   "metadata": {},
   "outputs": [],
   "source": [
    "#class used to store the names of the states to be able to retrive the state functions from the dictionary \n",
    "#that serves as state machine\n",
    "class stateNames_t:\n",
    "    def __init__(self):\n",
    "        self.planAcquired='planAcquired'\n",
    "        self.newPath='newpath'\n",
    "        self.checkingPath='checkingPath'\n",
    "        self.underWay='underWay'\n",
    "        self.obstacleAvoidance='obstalceAvoidance'\n",
    "        self.goalReached='goalReached'\n",
    "#this class is used as data transfer between the data acqusition part, the decision making part and the control part.\n",
    "class FSMHelper:\n",
    "    def __init__(self,thymio,equalTolerance,wayPointDistance,pathplanner):\n",
    "        self.wasKidnapped=False\n",
    "        self.tolerance=equalTolerance\n",
    "        self.currentPosition=np.zeros((2,1))\n",
    "        self.pathPlanner=pathplanner\n",
    "        self.newPositionEstimate=0    \n",
    "        self.thymio=thymio      \n",
    "        self.obstacleDetected=False\n",
    "        self.doStop=False\n",
    "        self.goalReached=False\n",
    "        self.goal=np.zeros((2,1))\n",
    "        self.pathToFollow=np.array([[0],[0]])\n",
    "        self.FSMStates=stateNames_t()\n",
    "        self.straightenedImage=0\n",
    "        self.wayPointReachedDistance=wayPointDistance\n",
    "        self.followPath=False\n",
    "        "
   ]
  },
  {
   "cell_type": "markdown",
   "metadata": {},
   "source": [
    "#### Define the state functions and the state machine itself\n",
    "In this sections all the state functions are defined. Each function is called when the state it represents is entered. Each state function then returns the name of the next state, that should be entered. This makes it possible that the state machine is a dictionary with the state names as keys and the state functions as items. To make the state machine to its job, the item with the current state name has to be retrieved, the state function, and executed. The name given by the executed state function is then the next state and the same can be done again."
   ]
  },
  {
   "cell_type": "code",
   "execution_count": 3,
   "metadata": {},
   "outputs": [],
   "source": [
    "def planAcquired(robot):     #starting state, the map is generated and preprocessed to enable path generation\n",
    "    return robot.FSMStates.checkingPath      #go to check if a new path needs to be generated\n",
    "    \n",
    "def newPath(robot):#\n",
    "    robot.pathToFollow=robot.pathPlanner.getOptimizedPath()\n",
    "    print(\"path after Planner\",robot.pathToFollow)\n",
    "    return robot.FSMStates.checkingPath\n",
    "    \n",
    "def checkingPath(robot):\n",
    "    if(np.size(robot.pathToFollow)!=0):\n",
    "        robot.followPath=True\n",
    "        return robot.FSMStates.underWay\n",
    "    else:\n",
    "        robot.followPath=False\n",
    "        robot.doStop=True\n",
    "        return robot.FSMStates.goalReached\n",
    "    \n",
    "def underWay(robot):\n",
    "    if(robot.obstacleDetected==True):\n",
    "        robot.followPath=False\n",
    "        return robot.FSMStates.obstacleAvoidance\n",
    "    else:\n",
    "        return robot.FSMStates.planAcquired\n",
    "    \n",
    "def avoidObstacle(robot):     \n",
    "    ANN.run_ann_without_memory(robot.thymio)\n",
    "    return robot.FSMStates.checkingPath \n",
    "\n",
    "def goalReached(robot):\n",
    "    robot.goalReached=True\n",
    "    \n",
    "    \n",
    "#define the concrete stateName object to make the dictionary for the actual state machine\n",
    "stateName=stateNames_t()\n",
    "switch = {\n",
    "    stateName.planAcquired     : planAcquired,\n",
    "    stateName.newPath          : newPath,\n",
    "    stateName.checkingPath     : checkingPath,\n",
    "    stateName.underWay         : underWay,\n",
    "    stateName.obstacleAvoidance: avoidObstacle,\n",
    "    stateName.goalReached      : goalReached,\n",
    "}\n",
    "currentState=stateName.planAcquired\n",
    "futureState=stateName.planAcquired"
   ]
  },
  {
   "cell_type": "markdown",
   "metadata": {},
   "source": [
    "### Program execution"
   ]
  },
  {
   "cell_type": "markdown",
   "metadata": {},
   "source": [
    "Now that the data structures needed to run the state machine and the state machine itself is defined in code, the program can be executed."
   ]
  },
  {
   "cell_type": "markdown",
   "metadata": {},
   "source": [
    "#### Adjusting camera position\n",
    "<img src=\"documentation/\"\n",
    "     alt=\"Example Picture of camera view\"\n",
    "     style=\"float: left; margin-right: 5px;width: 700px;\" />\n",
    "The camera should see an image similar to the one shown here. All 4 red corner markers should be visible, the map should also fill out most of the image of the camera. It is also necessary that the colors are well visible and that the picture is not too bright. To help with this adjustment execute the code in the next cell"
   ]
  },
  {
   "cell_type": "code",
   "execution_count": null,
   "metadata": {},
   "outputs": [],
   "source": [
    "cameraIndex=1             #index 1 is the index of the specific machine used. it is highly likly that it is on other machines aswell\n",
    "cv2.namedWindow(\"preview\")\n",
    "videoCapture = cv2.VideoCapture(cameraIndex)\n",
    "if not(videoCapture.isOpened()):\n",
    "    raise Exception('could not connect to camera')\n",
    "videoCapture = cv2.VideoCapture(cameraIndex)\n",
    "exposureOfCamera=-2.1          #initial exposure\n",
    "videoCapture.set(cv2.CAP_PROP_EXPOSURE,exposureOfCamera)\n",
    "videoCapture.set(cv2.CAP_PROP_SATURATION ,120)\n",
    "\n",
    "if not(videoCapture.isOpened()):\n",
    "    raise Exception('could not connect to camera')\n",
    "\n",
    "if videoCapture.isOpened(): # try to get the first frame\n",
    "    rval, frame = videoCapture.read()\n",
    "else:\n",
    "    rval = False\n",
    "    raise Exception('could not connect to camera')\n",
    "while rval:\n",
    "    cv2.imshow(\"preview\", frame)\n",
    "    rval, frame = videoCapture.read()\n",
    "    key = cv2.waitKey(20)\n",
    "    if key == 27: # exit on ESC\n",
    "        break\n",
    "    elif(key== ord('w')):\n",
    "        exposureOfCamera=exposureOfCamera+0.1\n",
    "        print (videoCapture.set(cv2.CAP_PROP_EXPOSURE,exposureOfCamera),exposureOfCamera)\n",
    "    elif(key== ord('s')):    \n",
    "        exposureOfCamera=exposureOfCamera-0.1\n",
    "        print (videoCapture.set(cv2.CAP_PROP_EXPOSURE,exposureOfCamera),exposureOfCamera)\n",
    "cv2.destroyWindow(\"preview\")\n",
    "cv2.destroyAllWindows()\n",
    "cv2.VideoCapture(cameraIndex).release()"
   ]
  },
  {
   "cell_type": "code",
   "execution_count": 4,
   "metadata": {
    "scrolled": true
   },
   "outputs": [
    {
     "ename": "SyntaxError",
     "evalue": "invalid syntax (<ipython-input-4-aee9d1ee6312>, line 1)",
     "output_type": "error",
     "traceback": [
      "\u001b[1;36m  File \u001b[1;32m\"<ipython-input-4-aee9d1ee6312>\"\u001b[1;36m, line \u001b[1;32m1\u001b[0m\n\u001b[1;33m    ToDO: integrate kalman filter properly!_> keep giving it information even when the camera is not properlyviding any.\u001b[0m\n\u001b[1;37m                    ^\u001b[0m\n\u001b[1;31mSyntaxError\u001b[0m\u001b[1;31m:\u001b[0m invalid syntax\n"
     ]
    }
   ],
   "source": [
    "ToDO: \n",
    "    wirte a separate chapter about the outlier elimination.\n",
    "    "
   ]
  },
  {
   "cell_type": "markdown",
   "metadata": {},
   "source": [
    "#### Execute Program\n",
    "In this section the main control loop and the initialization can be executed. Connecting to the thymio should only be executed once."
   ]
  },
  {
   "cell_type": "code",
   "execution_count": null,
   "metadata": {},
   "outputs": [],
   "source": [
    "th=Thymio.serial(port=\"COM6\", refreshing_rate=0.1)"
   ]
  },
  {
   "cell_type": "markdown",
   "metadata": {},
   "source": [
    "If the next cell is executed the thymio will begin moving after a certain amount of time. This waiting time is because of the map generation"
   ]
  },
  {
   "cell_type": "code",
   "execution_count": 30,
   "metadata": {},
   "outputs": [
    {
     "ename": "SerialException",
     "evalue": "WriteFile failed (PermissionError(13, 'Das Gerät erkennt den Befehl nicht.', None, 22))",
     "output_type": "error",
     "traceback": [
      "\u001b[1;31m---------------------------------------------------------------------------\u001b[0m",
      "\u001b[1;31mSerialException\u001b[0m                           Traceback (most recent call last)",
      "\u001b[1;32m<ipython-input-30-20377951f743>\u001b[0m in \u001b[0;36m<module>\u001b[1;34m\u001b[0m\n\u001b[1;32m----> 1\u001b[1;33m \u001b[0mth\u001b[0m\u001b[1;33m.\u001b[0m\u001b[0mset_var_array\u001b[0m\u001b[1;33m(\u001b[0m\u001b[1;34m\"leds.top\"\u001b[0m\u001b[1;33m,\u001b[0m \u001b[1;33m[\u001b[0m\u001b[1;36m0\u001b[0m\u001b[1;33m,\u001b[0m \u001b[1;36m0\u001b[0m\u001b[1;33m,\u001b[0m \u001b[1;36m0\u001b[0m\u001b[1;33m]\u001b[0m\u001b[1;33m)\u001b[0m\u001b[1;33m\u001b[0m\u001b[1;33m\u001b[0m\u001b[0m\n\u001b[0m\u001b[0;32m      2\u001b[0m \u001b[0mth\u001b[0m\u001b[1;33m.\u001b[0m\u001b[0mset_var_array\u001b[0m\u001b[1;33m(\u001b[0m\u001b[1;34m\"leds.bottom.right\"\u001b[0m\u001b[1;33m,\u001b[0m \u001b[1;33m[\u001b[0m\u001b[1;36m0\u001b[0m\u001b[1;33m,\u001b[0m \u001b[1;36m0\u001b[0m\u001b[1;33m,\u001b[0m \u001b[1;36m0\u001b[0m\u001b[1;33m]\u001b[0m\u001b[1;33m)\u001b[0m\u001b[1;33m\u001b[0m\u001b[1;33m\u001b[0m\u001b[0m\n\u001b[0;32m      3\u001b[0m \u001b[0mth\u001b[0m\u001b[1;33m.\u001b[0m\u001b[0mset_var_array\u001b[0m\u001b[1;33m(\u001b[0m\u001b[1;34m\"leds.bottom.left\"\u001b[0m\u001b[1;33m,\u001b[0m \u001b[1;33m[\u001b[0m\u001b[1;36m0\u001b[0m\u001b[1;33m,\u001b[0m \u001b[1;36m0\u001b[0m\u001b[1;33m,\u001b[0m \u001b[1;36m0\u001b[0m\u001b[1;33m]\u001b[0m\u001b[1;33m)\u001b[0m\u001b[1;33m\u001b[0m\u001b[1;33m\u001b[0m\u001b[0m\n",
      "\u001b[1;32m~\\Documents\\EPFL_Documents\\Mobile_Robotics_Master\\Mobile_Robotics\\Robotic_Project\\GithubRepo\\Mondadaa\\src\\Thymio.py\u001b[0m in \u001b[0;36mset_var_array\u001b[1;34m(self, name, val)\u001b[0m\n\u001b[0;32m    546\u001b[0m         \u001b[1;32mwith\u001b[0m \u001b[0mself\u001b[0m\u001b[1;33m.\u001b[0m\u001b[0minput_lock\u001b[0m\u001b[1;33m:\u001b[0m\u001b[1;33m\u001b[0m\u001b[1;33m\u001b[0m\u001b[0m\n\u001b[0;32m    547\u001b[0m             \u001b[0mself\u001b[0m\u001b[1;33m.\u001b[0m\u001b[0mremote_node\u001b[0m\u001b[1;33m.\u001b[0m\u001b[0mset_var_array\u001b[0m\u001b[1;33m(\u001b[0m\u001b[0mname\u001b[0m\u001b[1;33m,\u001b[0m \u001b[0mval\u001b[0m\u001b[1;33m)\u001b[0m\u001b[1;33m\u001b[0m\u001b[1;33m\u001b[0m\u001b[0m\n\u001b[1;32m--> 548\u001b[1;33m         \u001b[0mself\u001b[0m\u001b[1;33m.\u001b[0m\u001b[0mset_variables\u001b[0m\u001b[1;33m(\u001b[0m\u001b[0mself\u001b[0m\u001b[1;33m.\u001b[0m\u001b[0mremote_node\u001b[0m\u001b[1;33m.\u001b[0m\u001b[0mvar_offset\u001b[0m\u001b[1;33m[\u001b[0m\u001b[0mname\u001b[0m\u001b[1;33m]\u001b[0m\u001b[1;33m,\u001b[0m \u001b[0mval\u001b[0m\u001b[1;33m)\u001b[0m\u001b[1;33m\u001b[0m\u001b[1;33m\u001b[0m\u001b[0m\n\u001b[0m\u001b[0;32m    549\u001b[0m \u001b[1;33m\u001b[0m\u001b[0m\n\u001b[0;32m    550\u001b[0m     \u001b[1;32mdef\u001b[0m \u001b[0m__getitem__\u001b[0m\u001b[1;33m(\u001b[0m\u001b[0mself\u001b[0m\u001b[1;33m,\u001b[0m \u001b[0mkey\u001b[0m\u001b[1;33m)\u001b[0m\u001b[1;33m:\u001b[0m\u001b[1;33m\u001b[0m\u001b[1;33m\u001b[0m\u001b[0m\n",
      "\u001b[1;32m~\\Documents\\EPFL_Documents\\Mobile_Robotics_Master\\Mobile_Robotics\\Robotic_Project\\GithubRepo\\Mondadaa\\src\\Thymio.py\u001b[0m in \u001b[0;36mset_variables\u001b[1;34m(self, chunk_offset, chunk, target_node_id)\u001b[0m\n\u001b[0;32m    507\u001b[0m         ] + chunk)\n\u001b[0;32m    508\u001b[0m         \u001b[0mmsg\u001b[0m \u001b[1;33m=\u001b[0m \u001b[0mMessage\u001b[0m\u001b[1;33m(\u001b[0m\u001b[0mMessage\u001b[0m\u001b[1;33m.\u001b[0m\u001b[0mID_SET_VARIABLES\u001b[0m\u001b[1;33m,\u001b[0m \u001b[0mself\u001b[0m\u001b[1;33m.\u001b[0m\u001b[0mnode_id\u001b[0m\u001b[1;33m,\u001b[0m \u001b[0mpayload\u001b[0m\u001b[1;33m)\u001b[0m\u001b[1;33m\u001b[0m\u001b[1;33m\u001b[0m\u001b[0m\n\u001b[1;32m--> 509\u001b[1;33m         \u001b[0mself\u001b[0m\u001b[1;33m.\u001b[0m\u001b[0msend\u001b[0m\u001b[1;33m(\u001b[0m\u001b[0mmsg\u001b[0m\u001b[1;33m)\u001b[0m\u001b[1;33m\u001b[0m\u001b[1;33m\u001b[0m\u001b[0m\n\u001b[0m\u001b[0;32m    510\u001b[0m \u001b[1;33m\u001b[0m\u001b[0m\n\u001b[0;32m    511\u001b[0m     \u001b[1;32mdef\u001b[0m \u001b[0mvariable_description\u001b[0m\u001b[1;33m(\u001b[0m\u001b[0mself\u001b[0m\u001b[1;33m)\u001b[0m\u001b[1;33m:\u001b[0m\u001b[1;33m\u001b[0m\u001b[1;33m\u001b[0m\u001b[0m\n",
      "\u001b[1;32m~\\Documents\\EPFL_Documents\\Mobile_Robotics_Master\\Mobile_Robotics\\Robotic_Project\\GithubRepo\\Mondadaa\\src\\Thymio.py\u001b[0m in \u001b[0;36msend\u001b[1;34m(self, msg)\u001b[0m\n\u001b[0;32m    454\u001b[0m         \"\"\"\n\u001b[0;32m    455\u001b[0m         \u001b[1;32mwith\u001b[0m \u001b[0mself\u001b[0m\u001b[1;33m.\u001b[0m\u001b[0moutput_lock\u001b[0m\u001b[1;33m:\u001b[0m\u001b[1;33m\u001b[0m\u001b[1;33m\u001b[0m\u001b[0m\n\u001b[1;32m--> 456\u001b[1;33m             \u001b[0mself\u001b[0m\u001b[1;33m.\u001b[0m\u001b[0mio\u001b[0m\u001b[1;33m.\u001b[0m\u001b[0mwrite\u001b[0m\u001b[1;33m(\u001b[0m\u001b[0mmsg\u001b[0m\u001b[1;33m.\u001b[0m\u001b[0mserialize\u001b[0m\u001b[1;33m(\u001b[0m\u001b[1;33m)\u001b[0m\u001b[1;33m)\u001b[0m\u001b[1;33m\u001b[0m\u001b[1;33m\u001b[0m\u001b[0m\n\u001b[0m\u001b[0;32m    457\u001b[0m \u001b[1;33m\u001b[0m\u001b[0m\n\u001b[0;32m    458\u001b[0m     \u001b[1;32mdef\u001b[0m \u001b[0mget_target_node_id\u001b[0m\u001b[1;33m(\u001b[0m\u001b[0mself\u001b[0m\u001b[1;33m)\u001b[0m\u001b[1;33m:\u001b[0m\u001b[1;33m\u001b[0m\u001b[1;33m\u001b[0m\u001b[0m\n",
      "\u001b[1;32mC:\\ProgramData\\Anaconda3\\lib\\site-packages\\serial\\serialwin32.py\u001b[0m in \u001b[0;36mwrite\u001b[1;34m(self, data)\u001b[0m\n\u001b[0;32m    313\u001b[0m             \u001b[1;32mif\u001b[0m \u001b[0mself\u001b[0m\u001b[1;33m.\u001b[0m\u001b[0m_write_timeout\u001b[0m \u001b[1;33m!=\u001b[0m \u001b[1;36m0\u001b[0m\u001b[1;33m:\u001b[0m  \u001b[1;31m# if blocking (None) or w/ write timeout (>0)\u001b[0m\u001b[1;33m\u001b[0m\u001b[1;33m\u001b[0m\u001b[0m\n\u001b[0;32m    314\u001b[0m                 \u001b[1;32mif\u001b[0m \u001b[1;32mnot\u001b[0m \u001b[0msuccess\u001b[0m \u001b[1;32mand\u001b[0m \u001b[0mwin32\u001b[0m\u001b[1;33m.\u001b[0m\u001b[0mGetLastError\u001b[0m\u001b[1;33m(\u001b[0m\u001b[1;33m)\u001b[0m \u001b[1;32mnot\u001b[0m \u001b[1;32min\u001b[0m \u001b[1;33m(\u001b[0m\u001b[0mwin32\u001b[0m\u001b[1;33m.\u001b[0m\u001b[0mERROR_SUCCESS\u001b[0m\u001b[1;33m,\u001b[0m \u001b[0mwin32\u001b[0m\u001b[1;33m.\u001b[0m\u001b[0mERROR_IO_PENDING\u001b[0m\u001b[1;33m)\u001b[0m\u001b[1;33m:\u001b[0m\u001b[1;33m\u001b[0m\u001b[1;33m\u001b[0m\u001b[0m\n\u001b[1;32m--> 315\u001b[1;33m                     \u001b[1;32mraise\u001b[0m \u001b[0mSerialException\u001b[0m\u001b[1;33m(\u001b[0m\u001b[1;34m\"WriteFile failed ({!r})\"\u001b[0m\u001b[1;33m.\u001b[0m\u001b[0mformat\u001b[0m\u001b[1;33m(\u001b[0m\u001b[0mctypes\u001b[0m\u001b[1;33m.\u001b[0m\u001b[0mWinError\u001b[0m\u001b[1;33m(\u001b[0m\u001b[1;33m)\u001b[0m\u001b[1;33m)\u001b[0m\u001b[1;33m)\u001b[0m\u001b[1;33m\u001b[0m\u001b[1;33m\u001b[0m\u001b[0m\n\u001b[0m\u001b[0;32m    316\u001b[0m \u001b[1;33m\u001b[0m\u001b[0m\n\u001b[0;32m    317\u001b[0m                 \u001b[1;31m# Wait for the write to complete.\u001b[0m\u001b[1;33m\u001b[0m\u001b[1;33m\u001b[0m\u001b[1;33m\u001b[0m\u001b[0m\n",
      "\u001b[1;31mSerialException\u001b[0m: WriteFile failed (PermissionError(13, 'Das Gerät erkennt den Befehl nicht.', None, 22))"
     ]
    }
   ],
   "source": [
    "#------- turn off all leds that can be controlled\n",
    "th.set_var_array(\"leds.top\", [0, 0, 0])\n",
    "th.set_var_array(\"leds.bottom.right\", [0, 0, 0])\n",
    "th.set_var_array(\"leds.bottom.left\", [0, 0, 0])\n",
    "\n",
    "#------ start camera\n",
    "cameraIndex=1             #index 1 is the index of the specific machine used. it is highly likly that it is on other machines aswell\n",
    "videoCapture = cv2.VideoCapture(cameraIndex)\n",
    "#-------set exposure to have a bright enough picture\n",
    "videoCapture.set(cv2.CAP_PROP_EXPOSURE,-2.1)\n",
    "if videoCapture.isOpened(): # try to get the first frame\n",
    "    rval, frame = videoCapture.read()\n",
    "else:\n",
    "    rval = False\n",
    "    raise Exception('could not read image!')\n",
    "\n",
    "mask= cv2.imread('Images/Mondamask.JPG')           #read corner mask\n",
    "if mask.size==0:\n",
    "    raise Exception('Could not open Mask')\n",
    "    \n",
    "dimension_paper = [118.9,84.1] #cm A0\n",
    "dim = (int(dimension_paper[1]),int(dimension_paper[0]))\n",
    "# Switching red and blue channels\n",
    "frame[:, :, [0, 2]] = frame[:, :, [2, 0]]\n",
    "mask[:, :, [0, 2]] = mask[:, :, [2, 0]]\n",
    "\n",
    "#preprocess image data to facilitate map generation and thymio position accusition\n",
    "p2_1, p98_1 = np.percentile(frame, (2, 98))\n",
    "img_res1 = exposure.rescale_intensity(frame, in_range=(p2_1,p98_1))\n",
    "img1_gray = cv2.cvtColor(img_res1, cv2.COLOR_BGR2GRAY)\n",
    "threshold_bg=130\n",
    "#------generate map from camera\n",
    "percent = 0.9\n",
    "while True:\n",
    "        output = Vision.bg_clustering(img1_gray, (50,50),threshold_bg)\n",
    "        corner_location = Vision.corner_detection(output,mask) # Get the location of the 4 corners\n",
    "        img_straighten, M = Vision.four_point_transform(frame, corner_location) # Get the transformation matrix and the straighten img\n",
    "        if(img_straighten.shape[0] > output.shape[0]*percent and img_straighten.shape[1] > output.shape[1]*percent):\n",
    "            break\n",
    "        else:\n",
    "            rval, frame = videoCapture.read()\n",
    "            frame[:, :, [0, 2]] = frame[:, :, [2, 0]]\n",
    "            \n",
    "\n",
    "im_dim = img_straighten.shape\n",
    "obstacles = Vision.get_obstacles(img_straighten) \n",
    "thymio_coord = Vision.get_thymio_info(frame,M,dim,im_dim) \n",
    "endpoint_coord = Vision.get_endpoint_info(frame,M,dim,im_dim)\n",
    "low_res_img = cv2.resize(img_straighten, dsize=((dim[1], dim[0])))\n",
    "\n",
    "#---------make occupancy grid from map\n",
    "occupancyGrid=occupancyGrid>200\n",
    "occupancyGrid=occupancyGrid.astype(float)\n",
    "kernel2 = np.ones((7,7), np.uint8)\n",
    "occupancyGrid = cv2.dilate(occupancyGrid, kernel2, iterations=2)\n",
    "\n",
    "pathPlanner=pathPlaning(occupancyGrid.copy(),1,1)\n",
    "\n",
    "#give over the thymio connection and the tolerance for equality to 1e-6, the distance when it is considered way point reached\n",
    "#and the path planner to use\n",
    "robotStatus=FSMHelper(th,1e-6,0.5,pathPlanner)\n",
    "robot_control.th=th      #give pathfollower the connection to the thymio\n",
    "#---------start planning\n",
    "robotStatus.pathPlanner.setGoal(np.asarray(endpoint_coord))\n",
    "robotStatus.currentPosition=np.array([(thymio_coord[0][0]),(thymio_coord[0][1]),(thymio_coord[1])/180*np.pi])\n",
    "robotStatus.pathPlanner.setStart(robotStatus.currentPosition[0:2])\n",
    "robotStatus.pathToFollow=robotStatus.pathPlanner.getOptimizedPath()\n",
    "estimatedRobotPose=robotStatus.currentPosition\n",
    "\n",
    "#show path on image\n",
    "originalPath=robotStatus.pathToFollow.copy() \n",
    "plt.imshow(low_res_img)\n",
    "plt.scatter(thymio_coord[0][0],thymio_coord[0][1])\n",
    "plt.plot(originalPath[0],originalPath[1])\n",
    "plt.show()\n",
    "#-------------path planning and map generation complete\n",
    "%matplotlib qt\n",
    "\n",
    "#constant kalman matrixes\n",
    "A = np.array([[1,0,0],[0,1,0],[0,0,1]])\n",
    "C = np.array([[1,0,0],[0,1,0],[0,0,1]])\n",
    "Q = np.array([[0.1, 0, 0],[0, 0.1, 0],[0,0,0.1]]) # Dependent on the error (can be linked to stated as velocity, but velocity is not taken as state. )\n",
    "R = np.array([[0.1, 0, 0],[0, 0.1, 0],[0,0,0.1]])\n",
    "Q_ini = Q\n",
    "X = np.array([[estimatedRobotPose[0]],[estimatedRobotPose[1]],[estimatedRobotPose[2]]], dtype = \"float32\")\n",
    "L = []\n",
    "\n",
    "timeElapsed=np.array([0,0], dtype = 'float64')\n",
    "\n",
    "robotPositionUncertainty=np.zeros((3,3))         #variable to store the accuracy estimate from odmotry\n",
    "\n",
    "currentState=stateName.planAcquired              #initialize state event\n",
    "futureState=stateName.planAcquired\n",
    "originalPath=robotStatus.pathToFollow.copy()    #store path before loop, loop removes waypoint from non original path\n",
    "doPlotCounter=0                               #variable used to show the image taken of the camera after 10 loop executions\n",
    "deltaT=0.0                                   # variable used to store the time needed to execute the loop once\n",
    "tbefore=time.time()                          #deltaT helpers\n",
    "tnow=0                                       #deltaT helpers\n",
    "\n",
    "#lists to record data to be able to plot that later on\n",
    "unfilteredCameraCoordinates=list()\n",
    "unfilteredOdometrieCoordinates=list()\n",
    "afterKalmanCoordinates=list()\n",
    "\n",
    "cutOfDistance=5                 #distance in where successive camera measurments have to be to the last one to be considered stable\n",
    "cameraDataStableCounter=0       #counter to count how many camera measurments where stable in a row\n",
    "cameraEstimate=robotStatus.currentPosition    #used to store current camera position estimate\n",
    "newPositionEstimate=robotStatus.currentPosition\n",
    "cameraData=True             #flag used to store whether the camera can see the position of the thymio\n",
    "numberOfStableMeasurments=10    # minimum of measurments after one measument was unstable to be considered stable again\n",
    "while(True):         #main execution loop\n",
    "    ##---------------------------------------------read sensors  \n",
    "    \n",
    "    #----get robot position from camera\n",
    "    [frameCaptureSuccesfull,newPicture]=videoCapture.read()\n",
    "    if(frameCaptureSuccesfull==False):\n",
    "        raise Exception('could not read from camera')\n",
    "    newPicture[:, :, [0, 2]] = newPicture[:, :, [2, 0]]\n",
    "    thymio_coord = Vision.get_thymio_info(newPicture,M,dim,im_dim) # Do these online, and feed info to kalman filter\n",
    "    \n",
    "    if(thymio_coord[0][0]<0 or thymio_coord[0][1]<0 ):\n",
    "        cameraData=False\n",
    "    else:\n",
    "        cameraData=True\n",
    "\n",
    "    if(cameraData==True):       #if camera communicates it sees the thymio check if position is stable\n",
    "        newCameraEstimate=np.array([thymio_coord[0][0],thymio_coord[0][1],thymio_coord[1]/180.0*np.pi])\n",
    "        unfilteredCameraCoordinates.append((cameraEstimate[0],cameraEstimate[1]))\n",
    "        \n",
    "        if(LNG.norm(newCameraEstimate[0:2]-cameraEstimate[0:2])<cutOfDistance):\n",
    "            cameraDataStableCounter=cameraDataStableCounter+1\n",
    "                       \n",
    "        else:\n",
    "            cameraDataStableCounter=0\n",
    "        cameraEstimate=newCameraEstimate\n",
    "   \n",
    "    #---------get odometrie data\n",
    "    estimatedRobotPose,robotPositionUncertainty,timeElapsed=robot_control.odometry(robotStatus.currentPosition,robotPositionUncertainty,timeElapsed, robot_control.MAX_SPEED)\n",
    "    unfilteredOdometrieCoordinates.append((estimatedRobotPose[0],estimatedRobotPose[1]))\n",
    "    \n",
    "    \n",
    "    if(cameraData==True and (LNG.norm(estimatedRobotPose[0:2]-cameraEstimate[0:2])<cutOfDistance or cameraDataStableCounter>numberOfStableMeasurments)):\n",
    "        newPositionEstimate=cameraEstimate\n",
    "    else:\n",
    "        newPositionEstimate=estimatedRobotPose\n",
    "\n",
    "   \n",
    "    #------------filtering\n",
    "    V_left=th[\"motor.left.speed\"]*0.0135\n",
    "    V_right=th[\"motor.right.speed\"]*0.0135\n",
    "    v_avg = (V_left + V_right)/2\n",
    "    v_delta = V_right-V_left\n",
    "\n",
    "    tnow=time.time()\n",
    "    deltaT=tnow-tbefore\n",
    "    tbefore=tnow\n",
    "\n",
    "    #kalman matrixes\n",
    "    B = np.array([[(math.cos(newPositionEstimate[2])),0.], [(math.sin(newPositionEstimate[2])), 0.], [0.,math.atan(v_delta*deltaT/9.5)]])\n",
    "    Z = np.array([[newPositionEstimate[0]],[newPositionEstimate[1]],[newPositionEstimate[2]]], dtype = \"float32\")\n",
    "    u = np.array([[v_avg*deltaT],[1]])  \n",
    "    X=np.array([[robotStatus.currentPosition[0]],[robotStatus.currentPosition[1]],[robotStatus.currentPosition[2]]])\n",
    "    thymio_position,cov = kalman_filt(X,u,Q_ini,Z,A,B,C,Q,R)\n",
    "    Q_ini = cov\n",
    "    robotStatus.currentPosition=newPositionEstimate\n",
    "    afterKalmanCoordinates.append((robotStatus.currentPosition[0],robotStatus.currentPosition[1]))\n",
    "                                       \n",
    "                                       \n",
    "    #------------check if unexcpected obstacle is present\n",
    "    robotStatus.obstacleDetected=not(all(sensorValues==0 for sensorValues in robotStatus.thymio[\"prox.horizontal\"]))\n",
    "   \n",
    "    #------------------------------make desicions and work with the collected data \n",
    "    \n",
    "    \n",
    "    \n",
    "    stateToExecute=switch.get(currentState)\n",
    "\n",
    "    futureState=stateToExecute(robotStatus)\n",
    "    \n",
    "    #--------------------------------controll the robot\n",
    "    \n",
    "    #stopping robot if goal reached end programm\n",
    "    if(robotStatus.followPath==True and np.size(robotStatus.pathToFollow)!=0):\n",
    "        _,robotStatus.pathToFollow=robot_control.path_following(robotStatus.currentPosition,robotStatus.pathToFollow)\n",
    "    if(robotStatus.doStop==True):\n",
    "        robotStatus.thymio.set_var(\"motor.left.target\", 0)\n",
    "        robotStatus.thymio.set_var(\"motor.right.target\", 0)\n",
    "    if(robotStatus.goalReached==True):\n",
    "        robotStatus.thymio.set_var(\"motor.left.target\", 0)\n",
    "        robotStatus.thymio.set_var(\"motor.right.target\", 0)\n",
    "        break\n",
    "    currentState=futureState\n",
    "    doPlotCounter=doPlotCounter+1\n",
    "    \n",
    "    \n",
    "    \n",
    "    #----------------------------------do live plotting\n",
    "    if(doPlotCounter>10 or robotStatus.goalReached==True):\n",
    "        doPlotCounter=0\n",
    "        low_res_img = cv2.resize(newPicture, dsize=((dim[1], dim[0])))\n",
    "        low_res_img[:, :, [0, 2]] = low_res_img[:, :, [2, 0]]\n",
    "        low_res_img = cv2.circle(low_res_img, (int(robotStatus.currentPosition[0]),int(robotStatus.currentPosition[1])), radius=2, color=(0, 0, 255), thickness=-1)\n",
    "        cv2.circle(low_res_img, (int(cameraEstimate[0]),int(cameraEstimate[1])), radius=10, color=(0, 255, 0), thickness=2)\n",
    "        cv2.circle(low_res_img, (int(estimatedRobotPose[0]),int(estimatedRobotPose[1])), radius=8, color=(255, 0, 0), thickness=2)\n",
    "        cv2.circle(low_res_img, (int(robotStatus.currentPosition[0]),int(robotStatus.currentPosition[1])), radius=16, color=(255, 0, 0), thickness=2)\n",
    "        cv2.imshow(\"Display window\",low_res_img)\n",
    "        cv2.waitKey(1)\n",
    "            \n",
    "\n",
    "#-----------------------------------plot collected data\n",
    "unfilteredOdometrieCoordinates=np.array(unfilteredOdometrieCoordinates).reshape(-1, 2).transpose()\n",
    "afterKalmanCoordinates=np.array(afterKalmanCoordinates).reshape(-1, 2).transpose()\n",
    "unfilteredCameraCoordinates=np.array(unfilteredCameraCoordinates).reshape(-1, 2).transpose()\n",
    "plt.scatter(unfilteredCameraCoordinates[0],unfilteredCameraCoordinates[1],label=\"unfiltered camera\")\n",
    "plt.scatter(unfilteredOdometrieCoordinates[0],unfilteredOdometrieCoordinates[1],label=\"unfiltered odometrie\")                                   \n",
    "plt.plot(afterKalmanCoordinates[0],afterKalmanCoordinates[1],label=\"after Filtring\")\n",
    "plt.imshow(low_res_img)\n",
    "plt.legend()\n",
    "plt.show()\n",
    "cv2.waitKey(0)\n",
    "cv2.destroyAllWindows() \n",
    "cv2.VideoCapture(cameraIndex).release()"
   ]
  },
  {
   "cell_type": "code",
   "execution_count": 29,
   "metadata": {},
   "outputs": [
    {
     "data": {
      "image/png": "[encoded data removed]",
      "text/plain": [
       "<Figure size 432x284 with 1 Axes>"
      ]
     },
     "metadata": {
      "needs_background": "light"
     },
     "output_type": "display_data"
    }
   ],
   "source": []
  },
  {
   "cell_type": "code",
   "execution_count": null,
   "metadata": {},
   "outputs": [],
   "source": []
  },
  {
   "cell_type": "code",
   "execution_count": null,
   "metadata": {
    "scrolled": true
   },
   "outputs": [],
   "source": [
    "\n"
   ]
  },
  {
   "cell_type": "markdown",
   "metadata": {},
   "source": [
    "# ........\n",
    "\n"
   ]
  },
  {
   "cell_type": "markdown",
   "metadata": {},
   "source": [
    "# Path planning"
   ]
  },
  {
   "cell_type": "markdown",
   "metadata": {},
   "source": [
    "After having generated the map inside the computer with vision pathplanning is needed to create a path from the starting point to the goal. This is made possible by the pathplanning class.\n",
    "This class is used to create a pathplanning object, which is linked to a specific map, on which then all pathplanning is done."
   ]
  },
  {
   "cell_type": "markdown",
   "metadata": {},
   "source": [
    "## Initialise path planner\n",
    "To create the object the constructor of the class needs 3 things, The occupancy grid in form of a numpy array, with which number the occupied cells are marked and many CM represents one pixel(cell)"
   ]
  },
  {
   "cell_type": "code",
   "execution_count": null,
   "metadata": {
    "ExecuteTime": {
     "end_time": "2020-08-29T12:52:51.473548Z",
     "start_time": "2020-08-29T12:52:51.462661Z"
    },
    "scrolled": false
   },
   "outputs": [],
   "source": [
    "#imports needed to run pathplanning\n",
    "import os\n",
    "import numpy as np\n",
    "import matplotlib.pyplot as plt\n",
    "from matplotlib import colors\n",
    "from PIL import Image\n",
    "import sys\n",
    "import time\n",
    "from timeit import default_timer as timer\n",
    "\n",
    "#import pathplanning class\n",
    "sys.path.insert(0, os.path.join(os.getcwd(), 'src'))\n",
    "from pathPlanning import pathPlaning\n",
    "\n",
    "#load a testing map from image and convert it into a numpy array \n",
    "#(based on: https://www.pluralsight.com/guides/importing-image-data-into-numpy-arrays)\n",
    "pil_imgray = Image.open('Images/obstaclesTestMap.jpg').convert('LA')\n",
    "img = np.array(list(pil_imgray.getdata(band=0)), float)\n",
    "img.shape = (pil_imgray.size[1], pil_imgray.size[0])\n",
    "img=img<200\n",
    "occupancyGrid=img.astype(int)\n",
    "plt.imshow(occupancyGrid)\n",
    "##generate pathplanning object for the occupancy grid generated by the testmap\n",
    "pathPlanner=pathPlaning(occupancyGrid.copy(),1,1)#occipied cells are marked with a 1 and 1 cm per pixel"
   ]
  },
  {
   "cell_type": "markdown",
   "metadata": {},
   "source": [
    "## Planning phase\n",
    "Now that the pathplanning object has a map on which it should plan paths, the goal needs to be set by calling the \"setGoal\" method of the object and hand over a numpy array with the x,y coordinates of the goal.\\[x,y\\]. These coordinates are in cm."
   ]
  },
  {
   "cell_type": "code",
   "execution_count": null,
   "metadata": {},
   "outputs": [],
   "source": [
    "startTimer=timer()    #execution time when goal is set once\n",
    "#set goal\n",
    "goal=np.array([90,15])\n",
    "pathPlanner.setGoal(goal)\n",
    "\n",
    "endTimer=timer()\n",
    "print(\"Time needed for planning goal:\",endTimer-startTimer)\n",
    "\n",
    "startTimer=timer()    #execution time when goal is set again\n",
    "#set goal\n",
    "goal=np.array([90,15])\n",
    "pathPlanner.setGoal(goal)\n",
    "\n",
    "endTimer=timer()\n",
    "print(\"Time needed for planning for the same goal again:\",endTimer-startTimer)"
   ]
  },
  {
   "cell_type": "markdown",
   "metadata": {},
   "source": [
    "When the \"setGoal\" method is called it simultaneously starts the planning phase. This does not mean that a path is planned but that the map is prepared to do fast pathplanning for each starting point one can come up with. This means that if the goal is often changed it will be a lot slower than a A*-pathplanner. If the goal stays the same and just the starting point changes often, it will be quite a bit faster. This is because in this planning phase, which is encapsulated in the private method \\_\\_generateGradient. In it a map is created, where for each grid cell its distance to the goal is calculated. This distance is a path distance, so the value saved means from the current cell you the robot has to move so many cells to reach the goal. This calculation is started from the goal and is made for every cell that is not marked occupied. The result is saved in the private distanceMap attribute, which can be accessed by a getter method \"getDistanceMap\". The occupied cells are left at the starting value of 0. This means during path generation the map needs to be checked whether the cell is occupied or not. But it also means that to make a path the path generator just has to \"roll\" down hill."
   ]
  },
  {
   "cell_type": "code",
   "execution_count": null,
   "metadata": {},
   "outputs": [],
   "source": [
    "#make the distance map visible\n",
    "distanceGrid=pathPlanner.getDistanceMap()\n",
    "fillUp=np.zeros_like(occupancyGrid)#helper to make picture 3 colors\n",
    "maxValue=np.amax(distanceGrid.transpose())   # normalize values to fit into picture\n",
    "#create picture to show  map and distance map\n",
    "pic=np.dstack((occupancyGrid,np.divide(distanceGrid,maxValue),fillUp))\n",
    "plt.imshow(pic)\n",
    "plt.scatter(goal[0],goal[1],marker=\"o\", color = 'yellow',s=200)\n",
    "plt.xlabel('X-direction')\n",
    "plt.ylabel('Y-direction')\n",
    "plt.show()"
   ]
  },
  {
   "cell_type": "markdown",
   "metadata": {},
   "source": [
    "In this picture,in red are the obstacles, in yellow the goal and in green the distance of the pixel to the goal in terms of how much movement would be needed to get to the goal.\n",
    "As can be seen surrounding the goal(the yellow point) are dark areas. This means those cells are very close to the goal. The greener the pixel is the longer the movement required to get to the goal from this pixel(cell). As can be seen if the goal is (90,15)(x,y) in the corner bottom left. There you can see a darker diagonal. This means if the robot is on those cells he needs to move less than if he is positioned at (80,20) "
   ]
  },
  {
   "cell_type": "markdown",
   "metadata": {},
   "source": [
    "## Query Phase\n",
    "Now that the planning phase is over, the pathplanner is ready to provide paths to the goal from every free cell. To start the query phase and actually plan a path the start point needs to be provided. When the start point is provided, the class calls the private method \"\\_\\_generatePath\" to generate the path from the defined start point to the defined goal. For this the method begins at the starting point and looks for the cell, which has the smallest distance to goal of all its neighbors and puts the coordinates of that cell into the path. Of course only cells which are marked as free in the occupancy grid are checked. This goes on until th goal is reached. It is a bi comparable to rolling down a hill, since the cell from where the longest path to the goal exists is at the top of the hill.\n",
    "But this is only possible if \"setGoal\" was called atleast once before! Otherwise it can not find a path."
   ]
  },
  {
   "cell_type": "code",
   "execution_count": null,
   "metadata": {
    "ExecuteTime": {
     "end_time": "2020-08-29T12:36:31.127153Z",
     "start_time": "2020-08-29T12:36:25.042891Z"
    },
    "scrolled": false
   },
   "outputs": [],
   "source": [
    "startTimer=timer()\n",
    "start=np.array([10,75])\n",
    "pathPlanner.setStart(start)\n",
    "endTimer=timer()\n",
    "print(\"Time needed for the query for a new path:\",endTimer-startTimer)"
   ]
  },
  {
   "cell_type": "markdown",
   "metadata": {},
   "source": [
    "As may have been noticeable the query phase of the pathplanning is very fast."
   ]
  },
  {
   "cell_type": "markdown",
   "metadata": {},
   "source": [
    "## Getting the path\n",
    "Now that both planning and query phases are complete, the path can be extracted by calling the method \"getPath\" or \"getOptimizedPath\" The \"getPath\" method returns the path as a numpy array with the first line representing the x-coordinates and the second line representing the y coordinates."
   ]
  },
  {
   "cell_type": "code",
   "execution_count": null,
   "metadata": {},
   "outputs": [],
   "source": [
    "unoptimizedPath=pathPlanner.getPath()\n",
    "print(unoptimizedPath)"
   ]
  },
  {
   "cell_type": "markdown",
   "metadata": {},
   "source": [
    "The \"getoptimizedPath\" method returns a path where only the points, where the robot needs to turn, are retained. The path is output in the same format as the path from \"getPath\""
   ]
  },
  {
   "cell_type": "code",
   "execution_count": null,
   "metadata": {},
   "outputs": [],
   "source": [
    "optimizedPath=pathPlanner.getOptimizedPath()\n",
    "print(optimizedPath)"
   ]
  },
  {
   "cell_type": "markdown",
   "metadata": {},
   "source": [
    "And now the 2 paths drawn onto the map"
   ]
  },
  {
   "cell_type": "code",
   "execution_count": null,
   "metadata": {},
   "outputs": [],
   "source": [
    "plt.imshow(occupancyGrid)\n",
    "plt.plot(unoptimizedPath[0], unoptimizedPath[1], marker=\"o\", color = 'blue');\n",
    "plt.scatter(optimizedPath[0],optimizedPath[1], marker=\"o\", color = 'cyan',s=150)\n",
    "plt.xlabel('X-direction')\n",
    "plt.ylabel('Y-direction')\n",
    "plt.show()"
   ]
  },
  {
   "cell_type": "markdown",
   "metadata": {},
   "source": [
    "The cyan dots represent the optimized path and the blue dots represent the unoptimized path. As can be seen for the optimized path only the waypoints where the robot needs to change its orientation, are retained."
   ]
  },
  {
   "cell_type": "markdown",
   "metadata": {},
   "source": [
    "## complete pathplanning demonstration\n",
    "To see the complete Pathplanning on the testing map inaction this section can be run. To get a explanation of each part, see in the previous chapters"
   ]
  },
  {
   "cell_type": "code",
   "execution_count": null,
   "metadata": {},
   "outputs": [],
   "source": [
    "#imports needed to run pathplanning\n",
    "import os\n",
    "import numpy as np\n",
    "import matplotlib.pyplot as plt\n",
    "from matplotlib import colors\n",
    "from PIL import Image\n",
    "import sys\n",
    "import time\n",
    "from timeit import default_timer as timer\n",
    "\n",
    "#import pathplanning class\n",
    "sys.path.insert(0, os.path.join(os.getcwd(), 'src'))\n",
    "from pathPlanning import pathPlaning\n",
    "\n",
    "#load a testing map from image and convert it into a numpy array \n",
    "#(based on: https://www.pluralsight.com/guides/importing-image-data-into-numpy-arrays)\n",
    "pil_imgray = Image.open('Images/obstaclesTestMap.jpg').convert('LA')\n",
    "img = np.array(list(pil_imgray.getdata(band=0)), float)\n",
    "img.shape = (pil_imgray.size[1], pil_imgray.size[0])\n",
    "img=img<200\n",
    "occupancyGrid=img.astype(int)\n",
    "plt.imshow(occupancyGrid)\n",
    "##generate pathplanning object for the occupancy grid generated by the testmap\n",
    "pathPlanner=pathPlaning(occupancyGrid.copy(),1,1)#occipied cells are marked with a 1 and 1 cm per pixel\n",
    "\n",
    "#--set goal\n",
    "startTimer=timer()    #execution time when goal is set once\n",
    "#set goal\n",
    "goal=np.array([90,15])\n",
    "pathPlanner.setGoal(goal)\n",
    "\n",
    "endTimer=timer()\n",
    "print(\"Time needed for planning goal:\",endTimer-startTimer)\n",
    "#---set path\n",
    "startTimer=timer()\n",
    "start=np.array([10,75])\n",
    "pathPlanner.setStart(start)\n",
    "endTimer=timer()\n",
    "print(\"Time needed for the query for a new path:\",endTimer-startTimer)\n",
    "\n",
    "#--- get unoptimized path\n",
    "unoptimizedPath=pathPlanner.getPath()\n",
    "#-- get optimized Path\n",
    "optimizedPath=pathPlanner.getOptimizedPath()\n",
    "#--- draw all the components onto the same picture\n",
    "\n",
    "#make the distance map visible\n",
    "distanceGrid=pathPlanner.getDistanceMap()\n",
    "fillUp=np.zeros_like(occupancyGrid)#helper to make picture 3 colors\n",
    "maxValue=np.amax(distanceGrid.transpose())   # normalize values to fit into picture\n",
    "#create picture to show  map and distance map\n",
    "pic=np.dstack((occupancyGrid,np.divide(distanceGrid,maxValue),fillUp))\n",
    "plt.imshow(pic)\n",
    "plt.scatter(goal[0],goal[1],marker=\"o\", color = 'yellow',s=200)\n",
    "plt.xlabel('X-direction')\n",
    "plt.ylabel('Y-direction')\n",
    "plt.plot(unoptimizedPath[0], unoptimizedPath[1], marker=\"o\", color = 'blue');\n",
    "plt.scatter(optimizedPath[0],optimizedPath[1], marker=\"o\", color = 'cyan',s=150)\n",
    "plt.show()"
   ]
  },
  {
   "cell_type": "markdown",
   "metadata": {},
   "source": [
    "The blue points represent the unoptimized path, the cyan points are the optimized paths waypoint and red are the occupied cells. The green shade represents the distance of that pixel(cell) to the goal. The greener the longer is the path to the goal from that pixel(cell)\n",
    "As can be seen the path follows closely the obstacle. To prevent the robot from colliding with the obstacles, they need to be enlarged in the occupancy grid before the occupancy grid is given to the constructor. To see different behaviors the goal and start can be changed freely."
   ]
  },
  {
   "cell_type": "code",
   "execution_count": null,
   "metadata": {},
   "outputs": [],
   "source": []
  },
  {
   "cell_type": "code",
   "execution_count": null,
   "metadata": {
    "scrolled": false
   },
   "outputs": [],
   "source": []
  },
  {
   "cell_type": "code",
   "execution_count": null,
   "metadata": {},
   "outputs": [],
   "source": [
    "\n",
    "lower = np.array([20,50,90])\n",
    "        upper = np.array([100,100,255])"
   ]
  },
  {
   "cell_type": "code",
   "execution_count": null,
   "metadata": {},
   "outputs": [],
   "source": []
  },
  {
   "cell_type": "code",
   "execution_count": null,
   "metadata": {},
   "outputs": [],
   "source": [
    "\n",
    "\n",
    "import cv2\n",
    "\n",
    "cv2.namedWindow(\"preview\")\n",
    "cameraIndex=1             #TODO: change it to the correct camera. currently uses webcam\n",
    "sat=10\n",
    "exp=-6\n",
    "videoCapture = cv2.VideoCapture(cameraIndex)\n",
    "videoCapture.set(cv2.CAP_PROP_EXPOSURE,-6)\n",
    "videoCapture.set(cv2.CAP_PROP_SATURATION ,10)\n",
    "if not(videoCapture.isOpened()):\n",
    "    raise Exception('could not connect to camera')\n",
    "\n",
    "if videoCapture.isOpened(): # try to get the first frame\n",
    "    rval, frame = videoCapture.read()\n",
    "else:\n",
    "    rval = False\n",
    "    print(\"no image\")\n",
    "\n",
    "while rval:\n",
    "    cv2.imshow(\"preview\", frame)\n",
    "    rval, frame = videoCapture.read()\n",
    "    key = cv2.waitKey(20)\n",
    "    if key == 27: # exit on ESC\n",
    "        break\n",
    "    elif(key== ord('w')):\n",
    "        exp=exp+0.1\n",
    "        print (videoCapture.set(cv2.CAP_PROP_EXPOSURE,exp),exp)\n",
    "    elif(key== ord('s')):    \n",
    "        exp=exp-0.1\n",
    "        print (videoCapture.set(cv2.CAP_PROP_EXPOSURE,exp),exp)\n",
    "cv2.destroyWindow(\"preview\")\n",
    "cv2.destroyAllWindows() \n",
    "cv2.VideoCapture(cameraIndex).release()"
   ]
  }
 ],
 "metadata": {
  "hide_input": false,
  "kernelspec": {
   "display_name": "Python 3",
   "language": "python",
   "name": "python3"
  },
  "language_info": {
   "codemirror_mode": {
    "name": "ipython",
    "version": 3
   },
   "file_extension": ".py",
   "mimetype": "text/x-python",
   "name": "python",
   "nbconvert_exporter": "python",
   "pygments_lexer": "ipython3",
   "version": "3.8.3"
  },
  "toc": {
   "base_numbering": 1,
   "nav_menu": {},
   "number_sections": true,
   "sideBar": true,
   "skip_h1_title": false,
   "title_cell": "Table of Contents",
   "title_sidebar": "Contents",
   "toc_cell": true,
   "toc_position": {},
   "toc_section_display": true,
   "toc_window_display": true
  },
  "varInspector": {
   "cols": {
    "lenName": 16,
    "lenType": 16,
    "lenVar": 40
   },
   "kernels_config": {
    "python": {
     "delete_cmd_postfix": "",
     "delete_cmd_prefix": "del ",
     "library": "var_list.py",
     "varRefreshCmd": "print(var_dic_list())"
    },
    "r": {
     "delete_cmd_postfix": ") ",
     "delete_cmd_prefix": "rm(",
     "library": "var_list.r",
     "varRefreshCmd": "cat(var_dic_list()) "
    }
   },
   "position": {
    "height": "497.208px",
    "left": "281.667px",
    "right": "20px",
    "top": "62px",
    "width": "749px"
   },
   "types_to_exclude": [
    "module",
    "function",
    "builtin_function_or_method",
    "instance",
    "_Feature"
   ],
   "window_display": false
  }
 },
 "nbformat": 4,
 "nbformat_minor": 2
}
